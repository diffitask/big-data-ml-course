{
 "cells": [
  {
   "cell_type": "markdown",
   "id": "532b7e38-6779-41e7-bad3-5828bb1d504b",
   "metadata": {},
   "source": [
    "# Блок 1: Spark appliction\n",
    "## Запуск Spark application"
   ]
  },
  {
   "cell_type": "code",
   "execution_count": 1,
   "id": "initial_id",
   "metadata": {},
   "outputs": [],
   "source": [
    "import pyspark"
   ]
  },
  {
   "cell_type": "code",
   "execution_count": 2,
   "id": "433bf0b6-24b5-4da0-b2cb-fc235aa43678",
   "metadata": {},
   "outputs": [],
   "source": [
    "from pyspark import SparkContext, SparkConf"
   ]
  },
  {
   "cell_type": "code",
   "execution_count": 3,
   "id": "73b72d07-d1be-45ae-9827-b847dc91012a",
   "metadata": {},
   "outputs": [
    {
     "name": "stdout",
     "output_type": "stream",
     "text": [
      "2023-12-15 12:05:29 WARN  NativeCodeLoader:60 - Unable to load native-hadoop library for your platform... using builtin-java classes where applicable\n",
      "Safe mode is OFF\n"
     ]
    }
   ],
   "source": [
    "!hdfs dfsadmin -safemode leave"
   ]
  },
  {
   "cell_type": "code",
   "execution_count": 10,
   "id": "638bb168-8535-404c-9026-c3c58892ff8e",
   "metadata": {},
   "outputs": [],
   "source": [
    "conf = SparkConf()\\\n",
    "    .set(\"spark.executor.instances\", \"2\")\\\n",
    "    .set(\"spark.executor.cores\", \"1\")\\\n",
    "    .set(\"spark.executor.memory\", \"1g\")"
   ]
  },
  {
   "cell_type": "code",
   "execution_count": 5,
   "id": "1ce87606-3af8-4042-8faa-d934e710593a",
   "metadata": {},
   "outputs": [
    {
     "name": "stderr",
     "output_type": "stream",
     "text": [
      "Setting default log level to \"WARN\".\n",
      "To adjust logging level use sc.setLogLevel(newLevel). For SparkR, use setLogLevel(newLevel).\n",
      "23/12/15 12:05:36 WARN NativeCodeLoader: Unable to load native-hadoop library for your platform... using builtin-java classes where applicable\n",
      "23/12/15 12:05:37 WARN Client: Neither spark.yarn.jars nor spark.yarn.archive is set, falling back to uploading libraries under SPARK_HOME.\n"
     ]
    }
   ],
   "source": [
    "sc = SparkContext(appName=\"fedotova_spark\", master=\"yarn\")"
   ]
  },
  {
   "cell_type": "markdown",
   "id": "b0b0fabe-de76-4a11-8941-da54a11d4b5a",
   "metadata": {},
   "source": [
    "## Работа с movielens датасететом\n",
    "### Загрузка датасета"
   ]
  },
  {
   "cell_type": "code",
   "execution_count": 6,
   "id": "6fe7a5a3-aefa-48f7-b8a3-35569a71d56c",
   "metadata": {},
   "outputs": [
    {
     "name": "stdout",
     "output_type": "stream",
     "text": [
      "2023-12-15 12:05:49 WARN  NativeCodeLoader:60 - Unable to load native-hadoop library for your platform... using builtin-java classes where applicable\n",
      "rm: `ml-latest-small': No such file or directory\n"
     ]
    }
   ],
   "source": [
    "!hdfs dfs -rm -r ml-latest-small"
   ]
  },
  {
   "cell_type": "code",
   "execution_count": 7,
   "id": "03dbd651-5652-4678-8f92-ee9b512cf1df",
   "metadata": {},
   "outputs": [
    {
     "name": "stdout",
     "output_type": "stream",
     "text": [
      "2023-12-15 12:05:50 WARN  NativeCodeLoader:60 - Unable to load native-hadoop library for your platform... using builtin-java classes where applicable\n"
     ]
    }
   ],
   "source": [
    "!hdfs dfs -put ml-latest-small ."
   ]
  },
  {
   "cell_type": "markdown",
   "id": "23b23632-a182-4ec4-8eed-a1fe486cad01",
   "metadata": {},
   "source": [
    "### Чтение датасета"
   ]
  },
  {
   "cell_type": "code",
   "execution_count": 8,
   "id": "f14d9f95-a288-4629-b9e8-e63da2b9aa69",
   "metadata": {},
   "outputs": [],
   "source": [
    "rdd_ratings = sc.textFile(\"ml-latest-small/ratings.csv\")"
   ]
  },
  {
   "cell_type": "code",
   "execution_count": 9,
   "id": "bf6d7a66-e182-4b44-afe3-634175988ea2",
   "metadata": {},
   "outputs": [],
   "source": [
    "rdd_tags = sc.textFile(\"ml-latest-small/tags.csv\")"
   ]
  },
  {
   "cell_type": "markdown",
   "id": "25ecd397-22c1-4f4f-a705-897f2bd28710",
   "metadata": {},
   "source": [
    "### Подсчет количества строк"
   ]
  },
  {
   "cell_type": "code",
   "execution_count": 10,
   "id": "a891e79c-c865-4786-b1be-d6fd5a5e2846",
   "metadata": {},
   "outputs": [
    {
     "name": "stderr",
     "output_type": "stream",
     "text": [
      "                                                                                \r"
     ]
    },
    {
     "data": {
      "text/plain": [
       "100837"
      ]
     },
     "execution_count": 10,
     "metadata": {},
     "output_type": "execute_result"
    }
   ],
   "source": [
    "rdd_ratings.count()"
   ]
  },
  {
   "cell_type": "code",
   "execution_count": 12,
   "id": "198e8ee6-41ed-4eee-8cdf-5715351e54a1",
   "metadata": {},
   "outputs": [
    {
     "data": {
      "text/plain": [
       "3684"
      ]
     },
     "execution_count": 12,
     "metadata": {},
     "output_type": "execute_result"
    }
   ],
   "source": [
    "rdd_tags.count()"
   ]
  },
  {
   "cell_type": "markdown",
   "id": "43f3d00b-ee0a-4139-9bbd-f827112d8d35",
   "metadata": {},
   "source": [
    "Посмотрим на содержимое файлов"
   ]
  },
  {
   "cell_type": "code",
   "execution_count": 14,
   "id": "d966d941-efbe-4dff-ae29-edcbbf2d275b",
   "metadata": {},
   "outputs": [
    {
     "data": {
      "text/plain": [
       "['userId,movieId,rating,timestamp',\n",
       " '1,1,4.0,964982703',\n",
       " '1,3,4.0,964981247',\n",
       " '1,6,4.0,964982224',\n",
       " '1,47,5.0,964983815']"
      ]
     },
     "execution_count": 14,
     "metadata": {},
     "output_type": "execute_result"
    }
   ],
   "source": [
    "rdd_ratings.take(5)"
   ]
  },
  {
   "cell_type": "code",
   "execution_count": 15,
   "id": "15c4adcc-a681-4f2e-ab6f-9af7419dd6b2",
   "metadata": {},
   "outputs": [
    {
     "data": {
      "text/plain": [
       "['userId,movieId,tag,timestamp',\n",
       " '2,60756,funny,1445714994',\n",
       " '2,60756,Highly quotable,1445714996',\n",
       " '2,60756,will ferrell,1445714992',\n",
       " '2,89774,Boxing story,1445715207']"
      ]
     },
     "execution_count": 15,
     "metadata": {},
     "output_type": "execute_result"
    }
   ],
   "source": [
    "rdd_tags.take(5)"
   ]
  },
  {
   "cell_type": "markdown",
   "id": "4f4a0205-b0f6-4d23-945d-d61079d294b0",
   "metadata": {},
   "source": [
    "В каждом из файлов на первой строке расположены названия колонок таблицы, поэтому, чтобы найти число строк с контентом, нужно вычесть единицу из полученных значений: 100836 и 3683 строки (само удаление первых строк из таблиц будет ниже)."
   ]
  },
  {
   "cell_type": "markdown",
   "id": "e746faf7-bd56-48a5-b6f1-fa93964435c9",
   "metadata": {},
   "source": [
    "# Блок 2: Работа с данными"
   ]
  },
  {
   "cell_type": "markdown",
   "id": "aa027bbc-867b-461b-99db-cd3c30dc5bbb",
   "metadata": {},
   "source": [
    "## Обработка данных\n",
    "Удалим первую строку с названием колонок и посплитим данные для удобного обращения к каждому элементу строки"
   ]
  },
  {
   "cell_type": "code",
   "execution_count": 18,
   "id": "35a5e63d-6531-4b59-afaa-e9bda5f39a94",
   "metadata": {},
   "outputs": [],
   "source": [
    "ratings_parsed = rdd_ratings\\\n",
    "    .filter(lambda row: 'userId' not in row)\\\n",
    "    .map(lambda row: row.split(','))"
   ]
  },
  {
   "cell_type": "code",
   "execution_count": 20,
   "id": "805ef739-8bcf-46f7-8325-b6b2fb91bd86",
   "metadata": {},
   "outputs": [
    {
     "data": {
      "text/plain": [
       "[['1', '1', '4.0', '964982703'],\n",
       " ['1', '3', '4.0', '964981247'],\n",
       " ['1', '6', '4.0', '964982224'],\n",
       " ['1', '47', '5.0', '964983815'],\n",
       " ['1', '50', '5.0', '964982931']]"
      ]
     },
     "execution_count": 20,
     "metadata": {},
     "output_type": "execute_result"
    }
   ],
   "source": [
    "ratings_parsed.take(5)"
   ]
  },
  {
   "cell_type": "code",
   "execution_count": 21,
   "id": "9e0dec17-451b-4c7b-ac0c-c19442986f22",
   "metadata": {},
   "outputs": [],
   "source": [
    "tags_parsed = rdd_tags\\\n",
    "    .filter(lambda row: 'userId' not in row)\\\n",
    "    .map(lambda row: row.split(','))"
   ]
  },
  {
   "cell_type": "code",
   "execution_count": 22,
   "id": "97bf7ad9-d1ea-4669-91c3-8b189654b643",
   "metadata": {},
   "outputs": [
    {
     "data": {
      "text/plain": [
       "[['2', '60756', 'funny', '1445714994'],\n",
       " ['2', '60756', 'Highly quotable', '1445714996'],\n",
       " ['2', '60756', 'will ferrell', '1445714992'],\n",
       " ['2', '89774', 'Boxing story', '1445715207'],\n",
       " ['2', '89774', 'MMA', '1445715200']]"
      ]
     },
     "execution_count": 22,
     "metadata": {},
     "output_type": "execute_result"
    }
   ],
   "source": [
    "tags_parsed.take(5)"
   ]
  },
  {
   "cell_type": "markdown",
   "id": "8d974958-5956-48d4-ad89-591d6a88d486",
   "metadata": {},
   "source": [
    "## Задачи"
   ]
  },
  {
   "cell_type": "markdown",
   "id": "1bb49aea-4c1f-48b5-b1dd-aa09a7cff1d4",
   "metadata": {},
   "source": [
    "### 1. Количество уникальных фильмов и уникальных юзеров в таблице “ratings”\n",
    "Для нахождения числа уникальных фильмов выделим значения колонки *movieId*, сгруппируем по ключу и посчитаем количество получившихся групп. Аналогично для нахождения числа пользователей, только там будем использовать ключ *userId*."
   ]
  },
  {
   "cell_type": "markdown",
   "id": "4d7c4fd0-38a3-4d3f-9e04-a765a99518da",
   "metadata": {},
   "source": [
    "#### Фильмы"
   ]
  },
  {
   "cell_type": "code",
   "execution_count": 25,
   "id": "cc583584-4d3c-43c8-8571-16e3f455a39c",
   "metadata": {},
   "outputs": [],
   "source": [
    "movie_ids = ratings_parsed.map(lambda row: row[1])"
   ]
  },
  {
   "cell_type": "code",
   "execution_count": 26,
   "id": "51b38974-adbc-4ca0-b4ca-63bf26ab9e20",
   "metadata": {},
   "outputs": [
    {
     "data": {
      "text/plain": [
       "['1', '3', '6', '47', '50']"
      ]
     },
     "execution_count": 26,
     "metadata": {},
     "output_type": "execute_result"
    }
   ],
   "source": [
    "movie_idsuser_ids"
   ]
  },
  {
   "cell_type": "code",
   "execution_count": 28,
   "id": "eb4fa9c3-ec28-4eff-a398-444bdf041506",
   "metadata": {},
   "outputs": [],
   "source": [
    "grouped_by_movie_ids = movie_ids.groupBy(lambda movie_id: movie_id)"
   ]
  },
  {
   "cell_type": "code",
   "execution_count": 29,
   "id": "71151c4a-38a9-4a1e-8021-45272a15b2c6",
   "metadata": {},
   "outputs": [
    {
     "data": {
      "text/plain": [
       "[('4973', <pyspark.resultiterable.ResultIterable at 0xffff6beb7970>),\n",
       " ('5060', <pyspark.resultiterable.ResultIterable at 0xffff6beb79a0>),\n",
       " ('5218', <pyspark.resultiterable.ResultIterable at 0xffff6beb7a00>),\n",
       " ('5299', <pyspark.resultiterable.ResultIterable at 0xffff6beb7a60>),\n",
       " ('5349', <pyspark.resultiterable.ResultIterable at 0xffff6beb7ac0>)]"
      ]
     },
     "execution_count": 29,
     "metadata": {},
     "output_type": "execute_result"
    }
   ],
   "source": [
    "grouped_by_movie_ids.take(5)"
   ]
  },
  {
   "cell_type": "markdown",
   "id": "ec9f2e77-3026-4c2d-a40e-f1fe7f2f7950",
   "metadata": {},
   "source": [
    "Ответ"
   ]
  },
  {
   "cell_type": "code",
   "execution_count": 32,
   "id": "9bd24d3c-6847-43ad-9229-7d812a84ef26",
   "metadata": {},
   "outputs": [
    {
     "name": "stdout",
     "output_type": "stream",
     "text": [
      "Unique movies count: 9724\n"
     ]
    }
   ],
   "source": [
    "print(f'Unique movies count: {grouped_by_movie_ids.count()}')"
   ]
  },
  {
   "cell_type": "markdown",
   "id": "d2f0e812-c301-488c-8c44-96052226f694",
   "metadata": {},
   "source": [
    "#### Пользователи"
   ]
  },
  {
   "cell_type": "code",
   "execution_count": 33,
   "id": "7a25a219-520f-4e1d-8ddd-8fc267c87286",
   "metadata": {},
   "outputs": [],
   "source": [
    "user_ids = ratings_parsed.map(lambda row: row[0])"
   ]
  },
  {
   "cell_type": "code",
   "execution_count": 34,
   "id": "a26583d3-f7fb-4f3e-80a7-7198a6481c7e",
   "metadata": {},
   "outputs": [
    {
     "data": {
      "text/plain": [
       "['1', '1', '1', '1', '1']"
      ]
     },
     "execution_count": 34,
     "metadata": {},
     "output_type": "execute_result"
    }
   ],
   "source": [
    "user_ids.take(5)"
   ]
  },
  {
   "cell_type": "code",
   "execution_count": 35,
   "id": "ac5253ca-894d-47c7-8141-fd099e400001",
   "metadata": {},
   "outputs": [],
   "source": [
    "grouped_by_user_id = user_ids.groupBy(lambda user_id: user_id)"
   ]
  },
  {
   "cell_type": "code",
   "execution_count": 36,
   "id": "51e43d20-9e0e-4695-b252-c3c6f407f477",
   "metadata": {},
   "outputs": [
    {
     "data": {
      "text/plain": [
       "[('328', <pyspark.resultiterable.ResultIterable at 0xffff6bcbbbb0>),\n",
       " ('330', <pyspark.resultiterable.ResultIterable at 0xffff6bc79e10>),\n",
       " ('331', <pyspark.resultiterable.ResultIterable at 0xffff6bc7ae90>),\n",
       " ('333', <pyspark.resultiterable.ResultIterable at 0xffff6bc61840>),\n",
       " ('334', <pyspark.resultiterable.ResultIterable at 0xffff6bc4a050>)]"
      ]
     },
     "execution_count": 36,
     "metadata": {},
     "output_type": "execute_result"
    }
   ],
   "source": [
    "grouped_by_user_id.take(5)"
   ]
  },
  {
   "cell_type": "markdown",
   "id": "f6a0ad5a-6ade-4024-b515-0af3e1e73204",
   "metadata": {},
   "source": [
    "Ответ"
   ]
  },
  {
   "cell_type": "code",
   "execution_count": 37,
   "id": "40d12102-c03f-41bf-b1de-ab56f7cb11fd",
   "metadata": {},
   "outputs": [
    {
     "name": "stdout",
     "output_type": "stream",
     "text": [
      "Unique users count: 610\n"
     ]
    }
   ],
   "source": [
    "print(f'Unique users count: {grouped_by_user_id.count()}')"
   ]
  },
  {
   "cell_type": "markdown",
   "id": "8391d045-050c-46b1-9dad-974784a678f9",
   "metadata": {},
   "source": [
    "### 2. Сколько было поставлено оценок >= 4.0\n",
    "Тк числовой рейтинг фильмов присутствует только в таблице 'ratings', опять будем работать с ней. Отфлильтруем строки, оставив только те, в которых рейтинг >= 4.0, и посчитаем число оставшихся строк."
   ]
  },
  {
   "cell_type": "code",
   "execution_count": 43,
   "id": "2ec45d1c-5b28-4333-98e6-46ef587ad7d1",
   "metadata": {},
   "outputs": [],
   "source": [
    "filtered_ratings = ratings_parsed.filter(lambda row: float(row[2]) >= 4.0)"
   ]
  },
  {
   "cell_type": "markdown",
   "id": "a22b765e-5b00-4670-8c35-e7a8d08c67dd",
   "metadata": {},
   "source": [
    "Ради проверки посмотрим на оставшиеся значения поля ratings"
   ]
  },
  {
   "cell_type": "code",
   "execution_count": 44,
   "id": "b3c05052-4035-44eb-829c-71e82b2c8ee1",
   "metadata": {},
   "outputs": [],
   "source": [
    "filtered_ragins_values = filtered_ratings.map(lambda row: row[2])"
   ]
  },
  {
   "cell_type": "code",
   "execution_count": 45,
   "id": "039d5229-84fe-494b-aa65-a59aeca98b3e",
   "metadata": {},
   "outputs": [
    {
     "data": {
      "text/plain": [
       "['4.0', '4.0', '4.0', '5.0', '5.0']"
      ]
     },
     "execution_count": 45,
     "metadata": {},
     "output_type": "execute_result"
    }
   ],
   "source": [
    "filtered_ragins_values.take(5)"
   ]
  },
  {
   "cell_type": "markdown",
   "id": "82c44566-a19b-4ceb-a947-abe0f4be2386",
   "metadata": {},
   "source": [
    "Ответ"
   ]
  },
  {
   "cell_type": "code",
   "execution_count": 46,
   "id": "3dfc57d1-19a2-479a-88b1-cb7a5edadbba",
   "metadata": {},
   "outputs": [
    {
     "name": "stdout",
     "output_type": "stream",
     "text": [
      "High ratings (>= 4.0) count: 48580\n"
     ]
    }
   ],
   "source": [
    "print(f'High ratings (>= 4.0) count: {filtered_ratings.count()}')"
   ]
  },
  {
   "cell_type": "markdown",
   "id": "9cac8a30-f7b7-40bd-9b88-6fa5df1049e0",
   "metadata": {},
   "source": [
    "### 3. Топ-100 фильмов с самым высоким рейтингом\n",
    "Тк числовой рейтинг фильмов присутствует только в таблице 'ratings', опять будем работать с ней. Посчитаем средний рейтинг для каждого фильма и выведем топ-100 фильмов. Если в задании предполагалось для каждого фильма посмотреть только самую высокую оценку, которую ему когда-либо ставили, такое решение отличается от текущего одной строчкой map'а и написано в комментарии в одной из ячеек решения.\n",
    "\n",
    "Итого: нам потребуются только колонки *movieId* и *rating*, оставим только их и заодно приведем колонку *ratings* к формату float. Сгруппируем строки по *movieId*, посчитаем средний рейтинг для каждого фильма и отсортируем их в порядке убывания этой оценки. Возьмем первые 100 значений."
   ]
  },
  {
   "cell_type": "markdown",
   "id": "ffee1548-41b1-4f72-931b-c1fb5f35f161",
   "metadata": {},
   "source": [
    "Все это можно записать в одну строку через точки, но для наглядности будем делать take и смотреть на промежуточные результаты."
   ]
  },
  {
   "cell_type": "markdown",
   "id": "45f54272-7bd4-4825-8da3-d1d98a5d26ab",
   "metadata": {},
   "source": [
    "Оставляем: (movieId, rating)"
   ]
  },
  {
   "cell_type": "code",
   "execution_count": 97,
   "id": "c52c3db0-3634-4060-a8c1-83a44f6a4097",
   "metadata": {},
   "outputs": [
    {
     "data": {
      "text/plain": [
       "[['1', 4.0], ['3', 4.0], ['6', 4.0], ['47', 5.0], ['50', 5.0]]"
      ]
     },
     "execution_count": 97,
     "metadata": {},
     "output_type": "execute_result"
    }
   ],
   "source": [
    "movie_rating = ratings_parsed.map(lambda row: [row[1], float(row[2])])\n",
    "movie_rating.take(5)"
   ]
  },
  {
   "cell_type": "markdown",
   "id": "911dcdcf-64e7-48a9-ba48-d3a3c0dd0e1d",
   "metadata": {},
   "source": [
    "Группируем по userId, кастуем результат groupBy: из pyspark.resultiterable.ResultIterable в list"
   ]
  },
  {
   "cell_type": "code",
   "execution_count": 98,
   "id": "a18b3fdc-302d-4e11-be53-4dd6e8f140a3",
   "metadata": {},
   "outputs": [
    {
     "data": {
      "text/plain": [
       "[('1',\n",
       "  [['1', 4.0],\n",
       "   ['1', 4.0],\n",
       "   ['1', 4.5],\n",
       "   ['1', 2.5],\n",
       "   ['1', 4.5],\n",
       "   ['1', 3.5],\n",
       "   ['1', 4.0],\n",
       "   ['1', 3.5],\n",
       "   ['1', 3.0],\n",
       "   ['1', 5.0],\n",
       "   ['1', 3.0],\n",
       "   ['1', 3.0],\n",
       "   ['1', 5.0],\n",
       "   ['1', 5.0],\n",
       "   ['1', 3.0],\n",
       "   ['1', 4.0],\n",
       "   ['1', 5.0],\n",
       "   ['1', 3.0],\n",
       "   ['1', 3.0],\n",
       "   ['1', 5.0],\n",
       "   ['1', 5.0],\n",
       "   ['1', 4.0],\n",
       "   ['1', 4.0],\n",
       "   ['1', 2.5],\n",
       "   ['1', 5.0],\n",
       "   ['1', 4.5],\n",
       "   ['1', 0.5],\n",
       "   ['1', 4.0],\n",
       "   ['1', 2.5],\n",
       "   ['1', 4.0],\n",
       "   ['1', 3.0],\n",
       "   ['1', 3.0],\n",
       "   ['1', 4.0],\n",
       "   ['1', 3.0],\n",
       "   ['1', 5.0],\n",
       "   ['1', 4.5],\n",
       "   ['1', 4.0],\n",
       "   ['1', 4.0],\n",
       "   ['1', 3.0],\n",
       "   ['1', 3.5],\n",
       "   ['1', 4.0],\n",
       "   ['1', 4.0],\n",
       "   ['1', 3.0],\n",
       "   ['1', 2.0],\n",
       "   ['1', 3.0],\n",
       "   ['1', 4.0],\n",
       "   ['1', 4.0],\n",
       "   ['1', 3.0],\n",
       "   ['1', 4.0],\n",
       "   ['1', 3.5],\n",
       "   ['1', 5.0],\n",
       "   ['1', 5.0],\n",
       "   ['1', 2.0],\n",
       "   ['1', 3.0],\n",
       "   ['1', 4.0],\n",
       "   ['1', 4.5],\n",
       "   ['1', 4.0],\n",
       "   ['1', 4.0],\n",
       "   ['1', 5.0],\n",
       "   ['1', 3.5],\n",
       "   ['1', 4.5],\n",
       "   ['1', 5.0],\n",
       "   ['1', 5.0],\n",
       "   ['1', 4.0],\n",
       "   ['1', 4.0],\n",
       "   ['1', 4.0],\n",
       "   ['1', 4.0],\n",
       "   ['1', 4.0],\n",
       "   ['1', 4.0],\n",
       "   ['1', 2.0],\n",
       "   ['1', 3.5],\n",
       "   ['1', 5.0],\n",
       "   ['1', 4.0],\n",
       "   ['1', 5.0],\n",
       "   ['1', 3.5],\n",
       "   ['1', 3.0],\n",
       "   ['1', 3.0],\n",
       "   ['1', 4.0],\n",
       "   ['1', 3.5],\n",
       "   ['1', 5.0],\n",
       "   ['1', 3.5],\n",
       "   ['1', 3.5],\n",
       "   ['1', 5.0],\n",
       "   ['1', 3.5],\n",
       "   ['1', 3.0],\n",
       "   ['1', 5.0],\n",
       "   ['1', 4.0],\n",
       "   ['1', 5.0],\n",
       "   ['1', 5.0],\n",
       "   ['1', 4.0],\n",
       "   ['1', 4.5],\n",
       "   ['1', 4.5],\n",
       "   ['1', 4.0],\n",
       "   ['1', 4.0],\n",
       "   ['1', 2.0],\n",
       "   ['1', 5.0],\n",
       "   ['1', 5.0],\n",
       "   ['1', 5.0],\n",
       "   ['1', 4.0],\n",
       "   ['1', 5.0],\n",
       "   ['1', 4.0],\n",
       "   ['1', 4.0],\n",
       "   ['1', 3.0],\n",
       "   ['1', 4.5],\n",
       "   ['1', 4.5],\n",
       "   ['1', 3.0],\n",
       "   ['1', 4.5],\n",
       "   ['1', 4.0],\n",
       "   ['1', 4.0],\n",
       "   ['1', 4.0],\n",
       "   ['1', 3.0],\n",
       "   ['1', 2.0],\n",
       "   ['1', 5.0],\n",
       "   ['1', 4.0],\n",
       "   ['1', 3.0],\n",
       "   ['1', 3.5],\n",
       "   ['1', 3.5],\n",
       "   ['1', 5.0],\n",
       "   ['1', 4.0],\n",
       "   ['1', 4.0],\n",
       "   ['1', 3.5],\n",
       "   ['1', 4.0],\n",
       "   ['1', 4.0],\n",
       "   ['1', 4.0],\n",
       "   ['1', 5.0],\n",
       "   ['1', 5.0],\n",
       "   ['1', 4.0],\n",
       "   ['1', 5.0],\n",
       "   ['1', 5.0],\n",
       "   ['1', 4.0],\n",
       "   ['1', 5.0],\n",
       "   ['1', 5.0],\n",
       "   ['1', 3.0],\n",
       "   ['1', 3.0],\n",
       "   ['1', 4.5],\n",
       "   ['1', 5.0],\n",
       "   ['1', 3.5],\n",
       "   ['1', 4.5],\n",
       "   ['1', 4.0],\n",
       "   ['1', 5.0],\n",
       "   ['1', 3.0],\n",
       "   ['1', 5.0],\n",
       "   ['1', 4.0],\n",
       "   ['1', 3.5],\n",
       "   ['1', 5.0],\n",
       "   ['1', 2.0],\n",
       "   ['1', 4.0],\n",
       "   ['1', 4.0],\n",
       "   ['1', 4.0],\n",
       "   ['1', 2.5],\n",
       "   ['1', 4.0],\n",
       "   ['1', 4.0],\n",
       "   ['1', 4.5],\n",
       "   ['1', 4.0],\n",
       "   ['1', 5.0],\n",
       "   ['1', 5.0],\n",
       "   ['1', 5.0],\n",
       "   ['1', 5.0],\n",
       "   ['1', 4.5],\n",
       "   ['1', 1.5],\n",
       "   ['1', 4.0],\n",
       "   ['1', 4.0],\n",
       "   ['1', 4.0],\n",
       "   ['1', 5.0],\n",
       "   ['1', 4.0],\n",
       "   ['1', 4.0],\n",
       "   ['1', 4.0],\n",
       "   ['1', 3.0],\n",
       "   ['1', 4.0],\n",
       "   ['1', 4.5],\n",
       "   ['1', 4.5],\n",
       "   ['1', 3.5],\n",
       "   ['1', 4.0],\n",
       "   ['1', 4.0],\n",
       "   ['1', 4.0],\n",
       "   ['1', 4.0],\n",
       "   ['1', 4.0],\n",
       "   ['1', 4.0],\n",
       "   ['1', 3.0],\n",
       "   ['1', 4.0],\n",
       "   ['1', 4.0],\n",
       "   ['1', 2.5],\n",
       "   ['1', 3.0],\n",
       "   ['1', 5.0],\n",
       "   ['1', 4.0],\n",
       "   ['1', 3.0],\n",
       "   ['1', 3.0],\n",
       "   ['1', 4.0],\n",
       "   ['1', 4.0],\n",
       "   ['1', 5.0],\n",
       "   ['1', 3.0],\n",
       "   ['1', 4.0],\n",
       "   ['1', 4.5],\n",
       "   ['1', 3.5],\n",
       "   ['1', 4.0],\n",
       "   ['1', 4.0],\n",
       "   ['1', 5.0],\n",
       "   ['1', 4.0],\n",
       "   ['1', 3.0],\n",
       "   ['1', 5.0],\n",
       "   ['1', 5.0],\n",
       "   ['1', 4.0],\n",
       "   ['1', 4.0],\n",
       "   ['1', 4.0],\n",
       "   ['1', 3.0],\n",
       "   ['1', 2.5],\n",
       "   ['1', 4.0],\n",
       "   ['1', 4.0],\n",
       "   ['1', 3.0],\n",
       "   ['1', 4.0],\n",
       "   ['1', 2.5],\n",
       "   ['1', 4.0],\n",
       "   ['1', 2.5],\n",
       "   ['1', 3.0],\n",
       "   ['1', 5.0]]),\n",
       " ('50',\n",
       "  [['50', 5.0],\n",
       "   ['50', 4.0],\n",
       "   ['50', 1.0],\n",
       "   ['50', 4.5],\n",
       "   ['50', 5.0],\n",
       "   ['50', 4.0],\n",
       "   ['50', 4.5],\n",
       "   ['50', 5.0],\n",
       "   ['50', 4.0],\n",
       "   ['50', 4.0],\n",
       "   ['50', 3.5],\n",
       "   ['50', 3.5],\n",
       "   ['50', 5.0],\n",
       "   ['50', 5.0],\n",
       "   ['50', 5.0],\n",
       "   ['50', 5.0],\n",
       "   ['50', 5.0],\n",
       "   ['50', 3.0],\n",
       "   ['50', 5.0],\n",
       "   ['50', 5.0],\n",
       "   ['50', 5.0],\n",
       "   ['50', 3.0],\n",
       "   ['50', 5.0],\n",
       "   ['50', 5.0],\n",
       "   ['50', 3.0],\n",
       "   ['50', 4.5],\n",
       "   ['50', 5.0],\n",
       "   ['50', 3.0],\n",
       "   ['50', 4.0],\n",
       "   ['50', 3.0],\n",
       "   ['50', 5.0],\n",
       "   ['50', 4.5],\n",
       "   ['50', 4.5],\n",
       "   ['50', 4.0],\n",
       "   ['50', 5.0],\n",
       "   ['50', 4.5],\n",
       "   ['50', 5.0],\n",
       "   ['50', 4.0],\n",
       "   ['50', 5.0],\n",
       "   ['50', 4.0],\n",
       "   ['50', 5.0],\n",
       "   ['50', 4.0],\n",
       "   ['50', 5.0],\n",
       "   ['50', 4.5],\n",
       "   ['50', 4.0],\n",
       "   ['50', 4.0],\n",
       "   ['50', 3.0],\n",
       "   ['50', 3.0],\n",
       "   ['50', 5.0],\n",
       "   ['50', 5.0],\n",
       "   ['50', 4.5],\n",
       "   ['50', 4.0],\n",
       "   ['50', 4.0],\n",
       "   ['50', 4.0],\n",
       "   ['50', 5.0],\n",
       "   ['50', 3.0],\n",
       "   ['50', 4.0],\n",
       "   ['50', 4.5],\n",
       "   ['50', 4.5],\n",
       "   ['50', 4.5],\n",
       "   ['50', 5.0],\n",
       "   ['50', 5.0],\n",
       "   ['50', 3.0],\n",
       "   ['50', 5.0],\n",
       "   ['50', 4.0],\n",
       "   ['50', 4.0],\n",
       "   ['50', 4.0],\n",
       "   ['50', 5.0],\n",
       "   ['50', 3.0],\n",
       "   ['50', 5.0],\n",
       "   ['50', 5.0],\n",
       "   ['50', 4.5],\n",
       "   ['50', 3.0],\n",
       "   ['50', 4.5],\n",
       "   ['50', 4.0],\n",
       "   ['50', 2.5],\n",
       "   ['50', 4.5],\n",
       "   ['50', 4.0],\n",
       "   ['50', 4.5],\n",
       "   ['50', 5.0],\n",
       "   ['50', 4.0],\n",
       "   ['50', 4.5],\n",
       "   ['50', 5.0],\n",
       "   ['50', 4.0],\n",
       "   ['50', 3.0],\n",
       "   ['50', 4.0],\n",
       "   ['50', 5.0],\n",
       "   ['50', 4.0],\n",
       "   ['50', 4.0],\n",
       "   ['50', 5.0],\n",
       "   ['50', 3.5],\n",
       "   ['50', 4.5],\n",
       "   ['50', 4.5],\n",
       "   ['50', 3.5],\n",
       "   ['50', 4.0],\n",
       "   ['50', 3.0],\n",
       "   ['50', 5.0],\n",
       "   ['50', 5.0],\n",
       "   ['50', 5.0],\n",
       "   ['50', 3.5],\n",
       "   ['50', 4.5],\n",
       "   ['50', 5.0],\n",
       "   ['50', 4.5],\n",
       "   ['50', 2.5],\n",
       "   ['50', 4.5],\n",
       "   ['50', 5.0],\n",
       "   ['50', 4.0],\n",
       "   ['50', 5.0],\n",
       "   ['50', 4.0],\n",
       "   ['50', 4.5],\n",
       "   ['50', 2.0],\n",
       "   ['50', 4.5],\n",
       "   ['50', 4.0],\n",
       "   ['50', 2.0],\n",
       "   ['50', 5.0],\n",
       "   ['50', 5.0],\n",
       "   ['50', 4.0],\n",
       "   ['50', 5.0],\n",
       "   ['50', 5.0],\n",
       "   ['50', 3.0],\n",
       "   ['50', 4.5],\n",
       "   ['50', 4.5],\n",
       "   ['50', 4.0],\n",
       "   ['50', 5.0],\n",
       "   ['50', 5.0],\n",
       "   ['50', 4.5],\n",
       "   ['50', 3.5],\n",
       "   ['50', 5.0],\n",
       "   ['50', 3.5],\n",
       "   ['50', 4.0],\n",
       "   ['50', 4.0],\n",
       "   ['50', 4.5],\n",
       "   ['50', 5.0],\n",
       "   ['50', 5.0],\n",
       "   ['50', 4.0],\n",
       "   ['50', 4.5],\n",
       "   ['50', 5.0],\n",
       "   ['50', 3.0],\n",
       "   ['50', 3.0],\n",
       "   ['50', 4.5],\n",
       "   ['50', 4.0],\n",
       "   ['50', 5.0],\n",
       "   ['50', 4.0],\n",
       "   ['50', 5.0],\n",
       "   ['50', 3.0],\n",
       "   ['50', 5.0],\n",
       "   ['50', 4.5],\n",
       "   ['50', 4.5],\n",
       "   ['50', 4.0],\n",
       "   ['50', 5.0],\n",
       "   ['50', 4.5],\n",
       "   ['50', 3.0],\n",
       "   ['50', 5.0],\n",
       "   ['50', 4.0],\n",
       "   ['50', 4.0],\n",
       "   ['50', 5.0],\n",
       "   ['50', 4.0],\n",
       "   ['50', 4.0],\n",
       "   ['50', 4.5],\n",
       "   ['50', 5.0],\n",
       "   ['50', 3.0],\n",
       "   ['50', 3.5],\n",
       "   ['50', 4.0],\n",
       "   ['50', 3.0],\n",
       "   ['50', 5.0],\n",
       "   ['50', 4.0],\n",
       "   ['50', 3.5],\n",
       "   ['50', 4.0],\n",
       "   ['50', 4.5],\n",
       "   ['50', 4.0],\n",
       "   ['50', 3.0],\n",
       "   ['50', 3.0],\n",
       "   ['50', 4.0],\n",
       "   ['50', 5.0],\n",
       "   ['50', 4.5],\n",
       "   ['50', 4.5],\n",
       "   ['50', 2.0],\n",
       "   ['50', 4.5],\n",
       "   ['50', 5.0],\n",
       "   ['50', 4.0],\n",
       "   ['50', 5.0],\n",
       "   ['50', 4.0],\n",
       "   ['50', 4.5],\n",
       "   ['50', 4.0],\n",
       "   ['50', 5.0],\n",
       "   ['50', 5.0],\n",
       "   ['50', 1.0],\n",
       "   ['50', 5.0],\n",
       "   ['50', 3.0],\n",
       "   ['50', 5.0],\n",
       "   ['50', 5.0],\n",
       "   ['50', 5.0],\n",
       "   ['50', 5.0],\n",
       "   ['50', 4.5],\n",
       "   ['50', 4.5],\n",
       "   ['50', 5.0],\n",
       "   ['50', 3.5],\n",
       "   ['50', 5.0],\n",
       "   ['50', 3.5],\n",
       "   ['50', 5.0],\n",
       "   ['50', 5.0],\n",
       "   ['50', 4.5],\n",
       "   ['50', 4.5],\n",
       "   ['50', 4.0]])]"
      ]
     },
     "execution_count": 98,
     "metadata": {},
     "output_type": "execute_result"
    }
   ],
   "source": [
    "# grouping by 'movieId'\n",
    "# casting grouped elements from pyspark.resultiterable.ResultIterable to the list\n",
    "\n",
    "grouped_movie_rating = movie_rating\\\n",
    "    .groupBy(lambda row: row[0])\\\n",
    "    .mapValues(list)\n",
    "\n",
    "grouped_movie_rating.take(2)"
   ]
  },
  {
   "cell_type": "code",
   "execution_count": 99,
   "id": "84b38c1c-f9dc-49ee-90d1-9163bfc06542",
   "metadata": {},
   "outputs": [
    {
     "data": {
      "text/plain": [
       "[('4973',\n",
       "  [4.5,\n",
       "   4.0,\n",
       "   4.0,\n",
       "   4.0,\n",
       "   5.0,\n",
       "   5.0,\n",
       "   4.0,\n",
       "   3.0,\n",
       "   5.0,\n",
       "   3.0,\n",
       "   4.5,\n",
       "   5.0,\n",
       "   1.0,\n",
       "   4.5,\n",
       "   4.5,\n",
       "   5.0,\n",
       "   4.0,\n",
       "   5.0,\n",
       "   5.0,\n",
       "   5.0,\n",
       "   5.0,\n",
       "   4.0,\n",
       "   3.5,\n",
       "   4.0,\n",
       "   4.0,\n",
       "   3.5,\n",
       "   5.0,\n",
       "   4.0,\n",
       "   5.0,\n",
       "   1.5,\n",
       "   4.0,\n",
       "   5.0,\n",
       "   4.5,\n",
       "   4.5,\n",
       "   5.0,\n",
       "   3.0,\n",
       "   5.0,\n",
       "   5.0,\n",
       "   4.0,\n",
       "   3.0,\n",
       "   4.0,\n",
       "   4.0,\n",
       "   3.0,\n",
       "   5.0,\n",
       "   5.0,\n",
       "   4.5,\n",
       "   4.5,\n",
       "   5.0,\n",
       "   3.5,\n",
       "   4.0,\n",
       "   4.5,\n",
       "   3.5,\n",
       "   3.5,\n",
       "   4.0,\n",
       "   5.0,\n",
       "   4.0,\n",
       "   4.5,\n",
       "   4.0,\n",
       "   4.0,\n",
       "   4.0,\n",
       "   3.0,\n",
       "   3.5,\n",
       "   3.5,\n",
       "   4.0,\n",
       "   4.0,\n",
       "   4.5,\n",
       "   5.0,\n",
       "   2.0,\n",
       "   5.0,\n",
       "   5.0,\n",
       "   2.5,\n",
       "   5.0,\n",
       "   5.0,\n",
       "   2.0,\n",
       "   5.0,\n",
       "   5.0,\n",
       "   5.0,\n",
       "   4.0,\n",
       "   5.0,\n",
       "   5.0,\n",
       "   0.5,\n",
       "   4.0,\n",
       "   3.5,\n",
       "   4.0,\n",
       "   5.0,\n",
       "   4.0,\n",
       "   5.0,\n",
       "   3.5,\n",
       "   5.0,\n",
       "   4.5,\n",
       "   5.0,\n",
       "   4.0,\n",
       "   2.5,\n",
       "   5.0,\n",
       "   4.0,\n",
       "   4.5,\n",
       "   5.0,\n",
       "   3.0,\n",
       "   5.0,\n",
       "   4.0,\n",
       "   5.0,\n",
       "   4.0,\n",
       "   5.0,\n",
       "   4.5,\n",
       "   4.0,\n",
       "   3.5,\n",
       "   4.0,\n",
       "   5.0,\n",
       "   4.0,\n",
       "   5.0,\n",
       "   5.0,\n",
       "   4.5,\n",
       "   3.0,\n",
       "   4.0,\n",
       "   4.0,\n",
       "   5.0,\n",
       "   5.0,\n",
       "   4.0,\n",
       "   4.5,\n",
       "   4.0]),\n",
       " ('5060',\n",
       "  [4.0,\n",
       "   4.0,\n",
       "   2.0,\n",
       "   3.0,\n",
       "   4.0,\n",
       "   4.0,\n",
       "   4.0,\n",
       "   4.0,\n",
       "   5.0,\n",
       "   4.0,\n",
       "   3.0,\n",
       "   5.0,\n",
       "   4.0,\n",
       "   4.5,\n",
       "   3.0,\n",
       "   4.0,\n",
       "   5.0,\n",
       "   4.0,\n",
       "   5.0,\n",
       "   5.0,\n",
       "   3.0,\n",
       "   3.0,\n",
       "   5.0,\n",
       "   2.0,\n",
       "   5.0,\n",
       "   4.5,\n",
       "   4.0,\n",
       "   4.0,\n",
       "   4.0,\n",
       "   2.0,\n",
       "   5.0,\n",
       "   3.5,\n",
       "   4.0,\n",
       "   4.0,\n",
       "   4.0,\n",
       "   5.0,\n",
       "   4.0,\n",
       "   5.0,\n",
       "   4.0,\n",
       "   3.0,\n",
       "   4.5,\n",
       "   1.0,\n",
       "   4.0,\n",
       "   5.0,\n",
       "   4.0,\n",
       "   4.0])]"
      ]
     },
     "execution_count": 99,
     "metadata": {},
     "output_type": "execute_result"
    }
   ],
   "source": [
    "movie_ratings = grouped_movie_rating\\\n",
    "    .mapValues(lambda movie_rating_group: [movie_rating_pair[1] for movie_rating_pair in movie_rating_group])\n",
    "\n",
    "# если требуется сортировать фильмы по максимальной оценке, которую дал им какой-либо из пользователей, \n",
    "# достаточно будет использовать такой map:\n",
    "# .map(lambda movie_group: (movie_group[0], max(movie_group[1])[1]))\\\n",
    "# -- выбираем пару с максимальной оценкой для данного фильма, оставляем только оценку, убирая номер movieId\n",
    "\n",
    "movie_ratings.take(2)"
   ]
  },
  {
   "cell_type": "code",
   "execution_count": 143,
   "id": "babac4a0-6c1c-41b8-9f9d-b3418bcec29d",
   "metadata": {},
   "outputs": [
    {
     "data": {
      "text/plain": [
       "[('4973', 4.183333333333334),\n",
       " ('5060', 3.9347826086956523),\n",
       " ('5218', 3.6882352941176473),\n",
       " ('5299', 3.2666666666666666),\n",
       " ('5349', 3.540983606557377)]"
      ]
     },
     "execution_count": 143,
     "metadata": {},
     "output_type": "execute_result"
    }
   ],
   "source": [
    "movie_top_rating = movie_ratings\\\n",
    "    .mapValues(lambda movie_ratings_list: sum(movie_ratings_list) / len(movie_ratings_list))\n",
    "\n",
    "movie_top_rating.take(5)"
   ]
  },
  {
   "cell_type": "markdown",
   "id": "b8dcdcf8-0050-4833-a9ec-66dfcb18174e",
   "metadata": {},
   "source": [
    "Отсортируем сперва по оценке, затем по *movieId* (сортировка по убыванию обоих параметров)"
   ]
  },
  {
   "cell_type": "code",
   "execution_count": 150,
   "id": "43649256-1a1c-4d13-8243-15a6f33f09ac",
   "metadata": {},
   "outputs": [],
   "source": [
    "top_rated_movies = movie_top_rating\\\n",
    "    .sortBy(lambda row: [row[1], row[0]], ascending=False)"
   ]
  },
  {
   "cell_type": "code",
   "execution_count": 151,
   "id": "e8ae7cb0-27a4-4069-a7f8-5fdd10373155",
   "metadata": {},
   "outputs": [
    {
     "data": {
      "text/plain": [
       "[('99636', 5.0),\n",
       " ('99', 5.0),\n",
       " ('96935', 5.0),\n",
       " ('96832', 5.0),\n",
       " ('96608', 5.0),\n",
       " ('96430', 5.0),\n",
       " ('95843', 5.0),\n",
       " ('95311', 5.0),\n",
       " ('95175', 5.0),\n",
       " ('95149', 5.0),\n",
       " ('94810', 5.0),\n",
       " ('93320', 5.0),\n",
       " ('93022', 5.0),\n",
       " ('93008', 5.0),\n",
       " ('92494', 5.0),\n",
       " ('91386', 5.0),\n",
       " ('91355', 5.0),\n",
       " ('90943', 5.0),\n",
       " ('8911', 5.0),\n",
       " ('88448', 5.0),\n",
       " ('8804', 5.0),\n",
       " ('87834', 5.0),\n",
       " ('876', 5.0),\n",
       " ('8738', 5.0),\n",
       " ('86721', 5.0),\n",
       " ('86668', 5.0),\n",
       " ('86237', 5.0),\n",
       " ('8580', 5.0),\n",
       " ('85295', 5.0),\n",
       " ('84512', 5.0),\n",
       " ('84273', 5.0),\n",
       " ('83969', 5.0),\n",
       " ('82744', 5.0),\n",
       " ('8238', 5.0),\n",
       " ('80124', 5.0),\n",
       " ('79897', 5.0),\n",
       " ('78836', 5.0),\n",
       " ('7815', 5.0),\n",
       " ('77846', 5.0),\n",
       " ('76091', 5.0),\n",
       " ('74226', 5.0),\n",
       " ('73822', 5.0),\n",
       " ('72692', 5.0),\n",
       " ('72142', 5.0),\n",
       " ('71268', 5.0),\n",
       " ('7122', 5.0),\n",
       " ('7096', 5.0),\n",
       " ('7071', 5.0),\n",
       " ('70451', 5.0),\n",
       " ('69860', 5.0),\n",
       " ('6983', 5.0),\n",
       " ('69469', 5.0),\n",
       " ('69211', 5.0),\n",
       " ('6835', 5.0),\n",
       " ('6818', 5.0),\n",
       " ('67618', 5.0),\n",
       " ('6611', 5.0),\n",
       " ('64501', 5.0),\n",
       " ('64499', 5.0),\n",
       " ('6442', 5.0),\n",
       " ('6408', 5.0),\n",
       " ('6402', 5.0),\n",
       " ('633', 5.0),\n",
       " ('626', 5.0),\n",
       " ('6201', 5.0),\n",
       " ('6192', 5.0),\n",
       " ('6086', 5.0),\n",
       " ('60737', 5.0),\n",
       " ('6021', 5.0),\n",
       " ('59814', 5.0),\n",
       " ('5889', 5.0),\n",
       " ('5888', 5.0),\n",
       " ('5746', 5.0),\n",
       " ('5745', 5.0),\n",
       " ('5723', 5.0),\n",
       " ('5607', 5.0),\n",
       " ('5537', 5.0),\n",
       " ('5513', 5.0),\n",
       " ('5490', 5.0),\n",
       " ('5468', 5.0),\n",
       " ('5416', 5.0),\n",
       " ('53578', 5.0),\n",
       " ('53355', 5.0),\n",
       " ('53280', 5.0),\n",
       " ('5328', 5.0),\n",
       " ('53', 5.0),\n",
       " ('5244', 5.0),\n",
       " ('5241', 5.0),\n",
       " ('50999', 5.0),\n",
       " ('5088', 5.0),\n",
       " ('5059', 5.0),\n",
       " ('496', 5.0),\n",
       " ('495', 5.0),\n",
       " ('4813', 5.0),\n",
       " ('4788', 5.0),\n",
       " ('47736', 5.0),\n",
       " ('467', 5.0),\n",
       " ('45503', 5.0),\n",
       " ('4495', 5.0),\n",
       " ('44943', 5.0)]"
      ]
     },
     "execution_count": 151,
     "metadata": {},
     "output_type": "execute_result"
    }
   ],
   "source": [
    "TOP_N = 100\n",
    "top_rated_movies.take(TOP_N)"
   ]
  },
  {
   "cell_type": "markdown",
   "id": "57a279f8-90f1-4bdf-b5b4-1e46b75c2e96",
   "metadata": {},
   "source": [
    "Чтобы проверить, что не все фильмы имеют рейтинг 5.0, посмотрим топ-500:"
   ]
  },
  {
   "cell_type": "code",
   "execution_count": 152,
   "id": "fea6b35b-4d43-4863-babe-37e9370a316b",
   "metadata": {},
   "outputs": [
    {
     "data": {
      "text/plain": [
       "[('99636', 5.0),\n",
       " ('99', 5.0),\n",
       " ('96935', 5.0),\n",
       " ('96832', 5.0),\n",
       " ('96608', 5.0),\n",
       " ('96430', 5.0),\n",
       " ('95843', 5.0),\n",
       " ('95311', 5.0),\n",
       " ('95175', 5.0),\n",
       " ('95149', 5.0),\n",
       " ('94810', 5.0),\n",
       " ('93320', 5.0),\n",
       " ('93022', 5.0),\n",
       " ('93008', 5.0),\n",
       " ('92494', 5.0),\n",
       " ('91386', 5.0),\n",
       " ('91355', 5.0),\n",
       " ('90943', 5.0),\n",
       " ('8911', 5.0),\n",
       " ('88448', 5.0),\n",
       " ('8804', 5.0),\n",
       " ('87834', 5.0),\n",
       " ('876', 5.0),\n",
       " ('8738', 5.0),\n",
       " ('86721', 5.0),\n",
       " ('86668', 5.0),\n",
       " ('86237', 5.0),\n",
       " ('8580', 5.0),\n",
       " ('85295', 5.0),\n",
       " ('84512', 5.0),\n",
       " ('84273', 5.0),\n",
       " ('83969', 5.0),\n",
       " ('82744', 5.0),\n",
       " ('8238', 5.0),\n",
       " ('80124', 5.0),\n",
       " ('79897', 5.0),\n",
       " ('78836', 5.0),\n",
       " ('7815', 5.0),\n",
       " ('77846', 5.0),\n",
       " ('76091', 5.0),\n",
       " ('74226', 5.0),\n",
       " ('73822', 5.0),\n",
       " ('72692', 5.0),\n",
       " ('72142', 5.0),\n",
       " ('71268', 5.0),\n",
       " ('7122', 5.0),\n",
       " ('7096', 5.0),\n",
       " ('7071', 5.0),\n",
       " ('70451', 5.0),\n",
       " ('69860', 5.0),\n",
       " ('6983', 5.0),\n",
       " ('69469', 5.0),\n",
       " ('69211', 5.0),\n",
       " ('6835', 5.0),\n",
       " ('6818', 5.0),\n",
       " ('67618', 5.0),\n",
       " ('6611', 5.0),\n",
       " ('64501', 5.0),\n",
       " ('64499', 5.0),\n",
       " ('6442', 5.0),\n",
       " ('6408', 5.0),\n",
       " ('6402', 5.0),\n",
       " ('633', 5.0),\n",
       " ('626', 5.0),\n",
       " ('6201', 5.0),\n",
       " ('6192', 5.0),\n",
       " ('6086', 5.0),\n",
       " ('60737', 5.0),\n",
       " ('6021', 5.0),\n",
       " ('59814', 5.0),\n",
       " ('5889', 5.0),\n",
       " ('5888', 5.0),\n",
       " ('5746', 5.0),\n",
       " ('5745', 5.0),\n",
       " ('5723', 5.0),\n",
       " ('5607', 5.0),\n",
       " ('5537', 5.0),\n",
       " ('5513', 5.0),\n",
       " ('5490', 5.0),\n",
       " ('5468', 5.0),\n",
       " ('5416', 5.0),\n",
       " ('53578', 5.0),\n",
       " ('53355', 5.0),\n",
       " ('53280', 5.0),\n",
       " ('5328', 5.0),\n",
       " ('53', 5.0),\n",
       " ('5244', 5.0),\n",
       " ('5241', 5.0),\n",
       " ('50999', 5.0),\n",
       " ('5088', 5.0),\n",
       " ('5059', 5.0),\n",
       " ('496', 5.0),\n",
       " ('495', 5.0),\n",
       " ('4813', 5.0),\n",
       " ('4788', 5.0),\n",
       " ('47736', 5.0),\n",
       " ('467', 5.0),\n",
       " ('45503', 5.0),\n",
       " ('4495', 5.0),\n",
       " ('44943', 5.0),\n",
       " ('44851', 5.0),\n",
       " ('4454', 5.0),\n",
       " ('4402', 5.0),\n",
       " ('42556', 5.0),\n",
       " ('4180', 5.0),\n",
       " ('4135', 5.0),\n",
       " ('4116', 5.0),\n",
       " ('40491', 5.0),\n",
       " ('3951', 5.0),\n",
       " ('3942', 5.0),\n",
       " ('3941', 5.0),\n",
       " ('3940', 5.0),\n",
       " ('3939', 5.0),\n",
       " ('3851', 5.0),\n",
       " ('3795', 5.0),\n",
       " ('3792', 5.0),\n",
       " ('3687', 5.0),\n",
       " ('3678', 5.0),\n",
       " ('3637', 5.0),\n",
       " ('3567', 5.0),\n",
       " ('3531', 5.0),\n",
       " ('3496', 5.0),\n",
       " ('3473', 5.0),\n",
       " ('34312', 5.0),\n",
       " ('33649', 5.0),\n",
       " ('33138', 5.0),\n",
       " ('3303', 5.0),\n",
       " ('31522', 5.0),\n",
       " ('3096', 5.0),\n",
       " ('3086', 5.0),\n",
       " ('3073', 5.0),\n",
       " ('2972', 5.0),\n",
       " ('2969', 5.0),\n",
       " ('2824', 5.0),\n",
       " ('27751', 5.0),\n",
       " ('27704', 5.0),\n",
       " ('27523', 5.0),\n",
       " ('27373', 5.0),\n",
       " ('27320', 5.0),\n",
       " ('26928', 5.0),\n",
       " ('26849', 5.0),\n",
       " ('26840', 5.0),\n",
       " ('26587', 5.0),\n",
       " ('26401', 5.0),\n",
       " ('26366', 5.0),\n",
       " ('26350', 5.0),\n",
       " ('26169', 5.0),\n",
       " ('26147', 5.0),\n",
       " ('26078', 5.0),\n",
       " ('26073', 5.0),\n",
       " ('25947', 5.0),\n",
       " ('25906', 5.0),\n",
       " ('25887', 5.0),\n",
       " ('2512', 5.0),\n",
       " ('2196', 5.0),\n",
       " ('2075', 5.0),\n",
       " ('187717', 5.0),\n",
       " ('184245', 5.0),\n",
       " ('179135', 5.0),\n",
       " ('179133', 5.0),\n",
       " ('176601', 5.0),\n",
       " ('1759', 5.0),\n",
       " ('175431', 5.0),\n",
       " ('175397', 5.0),\n",
       " ('175387', 5.0),\n",
       " ('175293', 5.0),\n",
       " ('174551', 5.0),\n",
       " ('173963', 5.0),\n",
       " ('173619', 5.0),\n",
       " ('173355', 5.0),\n",
       " ('173351', 5.0),\n",
       " ('172909', 5.0),\n",
       " ('172875', 5.0),\n",
       " ('172793', 5.0),\n",
       " ('172705', 5.0),\n",
       " ('172637', 5.0),\n",
       " ('172589', 5.0),\n",
       " ('172587', 5.0),\n",
       " ('172585', 5.0),\n",
       " ('172583', 5.0),\n",
       " ('172577', 5.0),\n",
       " ('171749', 5.0),\n",
       " ('170777', 5.0),\n",
       " ('170597', 5.0),\n",
       " ('167064', 5.0),\n",
       " ('166183', 5.0),\n",
       " ('165959', 5.0),\n",
       " ('164367', 5.0),\n",
       " ('163925', 5.0),\n",
       " ('163386', 5.0),\n",
       " ('163112', 5.0),\n",
       " ('1631', 5.0),\n",
       " ('163072', 5.0),\n",
       " ('162414', 5.0),\n",
       " ('162344', 5.0),\n",
       " ('160644', 5.0),\n",
       " ('159811', 5.0),\n",
       " ('158882', 5.0),\n",
       " ('158398', 5.0),\n",
       " ('158027', 5.0),\n",
       " ('157775', 5.0),\n",
       " ('156025', 5.0),\n",
       " ('152711', 5.0),\n",
       " ('151769', 5.0),\n",
       " ('150554', 5.0),\n",
       " ('149566', 5.0),\n",
       " ('149508', 5.0),\n",
       " ('149350', 5.0),\n",
       " ('148', 5.0),\n",
       " ('147410', 5.0),\n",
       " ('147330', 5.0),\n",
       " ('147328', 5.0),\n",
       " ('147326', 5.0),\n",
       " ('147300', 5.0),\n",
       " ('147286', 5.0),\n",
       " ('147250', 5.0),\n",
       " ('147196', 5.0),\n",
       " ('146684', 5.0),\n",
       " ('146662', 5.0),\n",
       " ('145994', 5.0),\n",
       " ('143559', 5.0),\n",
       " ('143511', 5.0),\n",
       " ('143031', 5.0),\n",
       " ('142444', 5.0),\n",
       " ('142020', 5.0),\n",
       " ('141928', 5.0),\n",
       " ('141816', 5.0),\n",
       " ('141718', 5.0),\n",
       " ('140627', 5.0),\n",
       " ('140265', 5.0),\n",
       " ('140133', 5.0),\n",
       " ('139640', 5.0),\n",
       " ('138966', 5.0),\n",
       " ('138835', 5.0),\n",
       " ('138632', 5.0),\n",
       " ('136850', 5.0),\n",
       " ('136834', 5.0),\n",
       " ('136556', 5.0),\n",
       " ('136503', 5.0),\n",
       " ('136469', 5.0),\n",
       " ('136447', 5.0),\n",
       " ('136445', 5.0),\n",
       " ('136359', 5.0),\n",
       " ('136355', 5.0),\n",
       " ('136353', 5.0),\n",
       " ('136341', 5.0),\n",
       " ('1349', 5.0),\n",
       " ('134847', 5.0),\n",
       " ('134796', 5.0),\n",
       " ('134109', 5.0),\n",
       " ('134095', 5.0),\n",
       " ('134004', 5.0),\n",
       " ('132333', 5.0),\n",
       " ('132153', 5.0),\n",
       " ('131724', 5.0),\n",
       " ('131610', 5.0),\n",
       " ('131237', 5.0),\n",
       " ('131130', 5.0),\n",
       " ('131098', 5.0),\n",
       " ('1310', 5.0),\n",
       " ('130978', 5.0),\n",
       " ('130970', 5.0),\n",
       " ('129514', 5.0),\n",
       " ('128914', 5.0),\n",
       " ('128087', 5.0),\n",
       " ('126921', 5.0),\n",
       " ('126088', 5.0),\n",
       " ('124851', 5.0),\n",
       " ('124404', 5.0),\n",
       " ('122092', 5.0),\n",
       " ('121781', 5.0),\n",
       " ('120138', 5.0),\n",
       " ('120130', 5.0),\n",
       " ('118894', 5.0),\n",
       " ('118834', 5.0),\n",
       " ('118270', 5.0),\n",
       " ('117531', 5.0),\n",
       " ('115727', 5.0),\n",
       " ('1151', 5.0),\n",
       " ('114265', 5.0),\n",
       " ('1140', 5.0),\n",
       " ('113829', 5.0),\n",
       " ('112512', 5.0),\n",
       " ('109687', 5.0),\n",
       " ('109633', 5.0),\n",
       " ('109241', 5.0),\n",
       " ('108795', 5.0),\n",
       " ('108078', 5.0),\n",
       " ('107951', 5.0),\n",
       " ('107771', 5.0),\n",
       " ('104780', 5.0),\n",
       " ('103602', 5.0),\n",
       " ('102217', 5.0),\n",
       " ('102084', 5.0),\n",
       " ('100906', 5.0),\n",
       " ('100556', 5.0),\n",
       " ('6460', 4.9),\n",
       " ('26810', 4.833333333333333),\n",
       " ('115122', 4.833333333333333),\n",
       " ('97866', 4.75),\n",
       " ('7767', 4.75),\n",
       " ('7486', 4.75),\n",
       " ('74727', 4.75),\n",
       " ('74282', 4.75),\n",
       " ('73881', 4.75),\n",
       " ('7121', 4.75),\n",
       " ('670', 4.75),\n",
       " ('64197', 4.75),\n",
       " ('6254', 4.75),\n",
       " ('5915', 4.75),\n",
       " ('5772', 4.75),\n",
       " ('44889', 4.75),\n",
       " ('4298', 4.75),\n",
       " ('40412', 4.75),\n",
       " ('3855', 4.75),\n",
       " ('3302', 4.75),\n",
       " ('32582', 4.75),\n",
       " ('3224', 4.75),\n",
       " ('30745', 4.75),\n",
       " ('185135', 4.75),\n",
       " ('177593', 4.75),\n",
       " ('174053', 4.75),\n",
       " ('172591', 4.75),\n",
       " ('166024', 4.75),\n",
       " ('147376', 4.75),\n",
       " ('142115', 4.75),\n",
       " ('126430', 4.75),\n",
       " ('100882', 4.75),\n",
       " ('31364', 4.7),\n",
       " ('6345', 4.666666666666667),\n",
       " ('59141', 4.666666666666667),\n",
       " ('5833', 4.666666666666667),\n",
       " ('2511', 4.666666666666667),\n",
       " ('2239', 4.666666666666667),\n",
       " ('1105', 4.666666666666667),\n",
       " ('55167', 4.625),\n",
       " ('43376', 4.625),\n",
       " ('38304', 4.625),\n",
       " ('2131', 4.625),\n",
       " ('4334', 4.6),\n",
       " ('1041', 4.590909090909091),\n",
       " ('106642', 4.571428571428571),\n",
       " ('3451', 4.545454545454546),\n",
       " ('1178', 4.541666666666667),\n",
       " ('98607', 4.5),\n",
       " ('98604', 4.5),\n",
       " ('98154', 4.5),\n",
       " ('96373', 4.5),\n",
       " ('96084', 4.5),\n",
       " ('95761', 4.5),\n",
       " ('95690', 4.5),\n",
       " ('95633', 4.5),\n",
       " ('95313', 4.5),\n",
       " ('93988', 4.5),\n",
       " ('93855', 4.5),\n",
       " ('92643', 4.5),\n",
       " ('92243', 4.5),\n",
       " ('91947', 4.5),\n",
       " ('91784', 4.5),\n",
       " ('90576', 4.5),\n",
       " ('89837', 4.5),\n",
       " ('89582', 4.5),\n",
       " ('89090', 4.5),\n",
       " ('89039', 4.5),\n",
       " ('88932', 4.5),\n",
       " ('8800', 4.5),\n",
       " ('8795', 4.5),\n",
       " ('87660', 4.5),\n",
       " ('86892', 4.5),\n",
       " ('86487', 4.5),\n",
       " ('85736', 4.5),\n",
       " ('8511', 4.5),\n",
       " ('84844', 4.5),\n",
       " ('8484', 4.5),\n",
       " ('84799', 4.5),\n",
       " ('8477', 4.5),\n",
       " ('84246', 4.5),\n",
       " ('84156', 4.5),\n",
       " ('8405', 4.5),\n",
       " ('82857', 4.5),\n",
       " ('82366', 4.5),\n",
       " ('81535', 4.5),\n",
       " ('81087', 4.5),\n",
       " ('8025', 4.5),\n",
       " ('7976', 4.5),\n",
       " ('7940', 4.5),\n",
       " ('7939', 4.5),\n",
       " ('79006', 4.5),\n",
       " ('7899', 4.5),\n",
       " ('78620', 4.5),\n",
       " ('7843', 4.5),\n",
       " ('78142', 4.5),\n",
       " ('77688', 4.5),\n",
       " ('76301', 4.5),\n",
       " ('7615', 4.5),\n",
       " ('76143', 4.5),\n",
       " ('7614', 4.5),\n",
       " ('7572', 4.5),\n",
       " ('7459', 4.5),\n",
       " ('74342', 4.5),\n",
       " ('72554', 4.5),\n",
       " ('7218', 4.5),\n",
       " ('72178', 4.5),\n",
       " ('72104', 4.5),\n",
       " ('71999', 4.5),\n",
       " ('7184', 4.5),\n",
       " ('71302', 4.5),\n",
       " ('71131', 4.5),\n",
       " ('71108', 4.5),\n",
       " ('70708', 4.5),\n",
       " ('7037', 4.5),\n",
       " ('7023', 4.5),\n",
       " ('7008', 4.5),\n",
       " ('69720', 4.5),\n",
       " ('6969', 4.5),\n",
       " ('69529', 4.5),\n",
       " ('69394', 4.5),\n",
       " ('67888', 4.5),\n",
       " ('6665', 4.5),\n",
       " ('6545', 4.5),\n",
       " ('6533', 4.5),\n",
       " ('65225', 4.5),\n",
       " ('6515', 4.5),\n",
       " ('6300', 4.5),\n",
       " ('62208', 4.5),\n",
       " ('6163', 4.5),\n",
       " ('60943', 4.5),\n",
       " ('60408', 4.5),\n",
       " ('60333', 4.5),\n",
       " ('60030', 4.5),\n",
       " ('5938', 4.5),\n",
       " ('5919', 4.5),\n",
       " ('5912', 4.5),\n",
       " ('59018', 4.5),\n",
       " ('5901', 4.5),\n",
       " ('5890', 4.5),\n",
       " ('58842', 4.5),\n",
       " ('5867', 4.5),\n",
       " ('5849', 4.5),\n",
       " ('58309', 4.5),\n",
       " ('58291', 4.5),\n",
       " ('5818', 4.5),\n",
       " ('5817', 4.5),\n",
       " ('5786', 4.5),\n",
       " ('57843', 4.5),\n",
       " ('5764', 4.5),\n",
       " ('57183', 4.5),\n",
       " ('5657', 4.5),\n",
       " ('5637', 4.5),\n",
       " ('5614', 4.5),\n",
       " ('56060', 4.5),\n",
       " ('5603', 4.5),\n",
       " ('55687', 4.5),\n",
       " ('55391', 4.5),\n",
       " ('55020', 4.5),\n",
       " ('5498', 4.5),\n",
       " ('549', 4.5),\n",
       " ('5404', 4.5),\n",
       " ('53883', 4.5),\n",
       " ('5385', 4.5),\n",
       " ('5288', 4.5),\n",
       " ('5181', 4.5),\n",
       " ('5155', 4.5),\n",
       " ('51314', 4.5),\n",
       " ('51167', 4.5),\n",
       " ('5095', 4.5),\n",
       " ('50851', 4.5),\n",
       " ('50842', 4.5),\n",
       " ('50613', 4.5),\n",
       " ('506', 4.5),\n",
       " ('4956', 4.5),\n",
       " ('4942', 4.5),\n",
       " ('48872', 4.5),\n",
       " ('48698', 4.5),\n",
       " ('48649', 4.5),\n",
       " ('4708', 4.5),\n",
       " ('46855', 4.5),\n",
       " ('4645', 4.5),\n",
       " ('4612', 4.5),\n",
       " ('46105', 4.5),\n",
       " ('44931', 4.5),\n",
       " ('44777', 4.5),\n",
       " ('44633', 4.5),\n",
       " ('4429', 4.5),\n",
       " ('4407', 4.5),\n",
       " ('4393', 4.5),\n",
       " ('4374', 4.5),\n",
       " ('43684', 4.5),\n",
       " ('4357', 4.5),\n",
       " ('4342', 4.5),\n",
       " ('4338', 4.5),\n",
       " ('4307', 4.5),\n",
       " ('42761', 4.5),\n",
       " ('4273', 4.5),\n",
       " ('42422', 4.5),\n",
       " ('41828', 4.5),\n",
       " ('41724', 4.5),\n",
       " ('4157', 4.5),\n",
       " ('4077', 4.5),\n",
       " ('39516', 4.5)]"
      ]
     },
     "execution_count": 152,
     "metadata": {},
     "output_type": "execute_result"
    }
   ],
   "source": [
    "TOP_N = 500\n",
    "top_rated_movies.take(TOP_N)"
   ]
  },
  {
   "cell_type": "markdown",
   "id": "60310d8e-0ef1-4079-acd5-b9b6e75a2ca1",
   "metadata": {},
   "source": [
    "### 4. Разница во времени в секундах между временем тегирования пользователя данного фильма и временем, когда пользователь поставил оценку фильму\n",
    "Тк временные метки, когда пользователь поставил тег данного фильма и когда он поставил оценку фильму, лежат в разных таблицах *ratings* и *tags*, сделаем их join по ключу (*userId*, *movieId*): нам важен и пользователь, и конкретный фильм, который он оценивал. Перед этим можем удалить из таблиц все остальные данные, оставив только *userId*, *movieId* и *timestamp*. Посчитаем разницу временных меток для каждой пары (*userId*, *movieId*). В качестве ответа выведем среднюю дельту по времени."
   ]
  },
  {
   "cell_type": "markdown",
   "id": "133fcda0-7ab3-4256-ac54-009439cbe688",
   "metadata": {},
   "source": [
    "Вспомним, как в каком порядке идут колонки в исходных таблицах:"
   ]
  },
  {
   "cell_type": "code",
   "execution_count": 104,
   "id": "56689f76-9d56-4ddf-8de1-00629f5c4f01",
   "metadata": {},
   "outputs": [
    {
     "data": {
      "text/plain": [
       "['userId,movieId,rating,timestamp',\n",
       " '1,1,4.0,964982703',\n",
       " '1,3,4.0,964981247',\n",
       " '1,6,4.0,964982224',\n",
       " '1,47,5.0,964983815']"
      ]
     },
     "execution_count": 104,
     "metadata": {},
     "output_type": "execute_result"
    }
   ],
   "source": [
    "rdd_ratings.take(5)"
   ]
  },
  {
   "cell_type": "code",
   "execution_count": 105,
   "id": "2a9fee7a-c751-4220-b3f1-cf3e40658ba8",
   "metadata": {},
   "outputs": [
    {
     "data": {
      "text/plain": [
       "['userId,movieId,tag,timestamp',\n",
       " '2,60756,funny,1445714994',\n",
       " '2,60756,Highly quotable,1445714996',\n",
       " '2,60756,will ferrell,1445714992',\n",
       " '2,89774,Boxing story,1445715207']"
      ]
     },
     "execution_count": 105,
     "metadata": {},
     "output_type": "execute_result"
    }
   ],
   "source": [
    "rdd_tags.take(5)"
   ]
  },
  {
   "cell_type": "markdown",
   "id": "ef4d815d-ac5b-441d-acea-771ff3bab5a7",
   "metadata": {},
   "source": [
    "Приводим обе таблицы к виду: ((userId, movieId), timestamp). Timestamp'ы скастуем из str ко float."
   ]
  },
  {
   "cell_type": "code",
   "execution_count": 113,
   "id": "63428570-e7bb-4192-8a08-4de2e7edeb3e",
   "metadata": {},
   "outputs": [
    {
     "data": {
      "text/plain": [
       "[(('1', '1'), 964982703.0),\n",
       " (('1', '3'), 964981247.0),\n",
       " (('1', '6'), 964982224.0),\n",
       " (('1', '47'), 964983815.0),\n",
       " (('1', '50'), 964982931.0)]"
      ]
     },
     "execution_count": 113,
     "metadata": {},
     "output_type": "execute_result"
    }
   ],
   "source": [
    "rating_timestamps = ratings_parsed\\\n",
    "    .map(lambda row: ((row[0], row[1]), float(row[3])))\n",
    "\n",
    "rating_timestamps.take(5)"
   ]
  },
  {
   "cell_type": "code",
   "execution_count": 114,
   "id": "a1d24bd0-51c1-439e-bfac-eae1016dafab",
   "metadata": {},
   "outputs": [
    {
     "data": {
      "text/plain": [
       "[(('2', '60756'), 1445714994.0),\n",
       " (('2', '60756'), 1445714996.0),\n",
       " (('2', '60756'), 1445714992.0),\n",
       " (('2', '89774'), 1445715207.0),\n",
       " (('2', '89774'), 1445715200.0)]"
      ]
     },
     "execution_count": 114,
     "metadata": {},
     "output_type": "execute_result"
    }
   ],
   "source": [
    "tag_timestamps = tags_parsed\\\n",
    "    .map(lambda row: ((row[0], row[1]), float(row[3])))\n",
    "\n",
    "tag_timestamps.take(5)"
   ]
  },
  {
   "cell_type": "markdown",
   "id": "c043adf5-c054-4319-83ab-ab1d4d83453c",
   "metadata": {},
   "source": [
    "Джоиним полученные таблицы"
   ]
  },
  {
   "cell_type": "code",
   "execution_count": 115,
   "id": "602b23a1-e6f5-435f-9198-5b28eebeb4bf",
   "metadata": {},
   "outputs": [
    {
     "data": {
      "text/plain": [
       "[(('336', '1'), (1122227329.0, 1139045764.0)),\n",
       " (('336', '37729'), (1139047287.0, 1139047294.0)),\n",
       " (('356', '2146'), (1229142976.0, 1229142995.0)),\n",
       " (('356', '37384'), (1229142463.0, 1229142458.0)),\n",
       " (('356', '61323'), (1228073421.0, 1228073481.0))]"
      ]
     },
     "execution_count": 115,
     "metadata": {},
     "output_type": "execute_result"
    }
   ],
   "source": [
    "joined_rating_tag_timestamps = rating_timestamps.join(tag_timestamps)\n",
    "\n",
    "joined_rating_tag_timestamps.take(5)"
   ]
  },
  {
   "cell_type": "markdown",
   "id": "f9e1fbbf-9cbb-4c06-924f-0be988646e82",
   "metadata": {},
   "source": [
    "Считаем разницу между временными метками"
   ]
  },
  {
   "cell_type": "code",
   "execution_count": 129,
   "id": "ba8a6228-407f-4f2d-9f45-783b624b2ea1",
   "metadata": {},
   "outputs": [
    {
     "data": {
      "text/plain": [
       "[(('2', '106782'), 88.0),\n",
       " (('2', '106782'), 85.0),\n",
       " (('2', '106782'), 90.0),\n",
       " (('18', '44665'), 1898413.0),\n",
       " (('18', '52604'), 47.0)]"
      ]
     },
     "execution_count": 129,
     "metadata": {},
     "output_type": "execute_result"
    }
   ],
   "source": [
    "delta_rating_tag_timestamps = joined_rating_tag_timestamps\\\n",
    "    .mapValues(lambda timestamps_pair: abs(timestamps_pair[1] - timestamps_pair[0]))\n",
    "\n",
    "delta_rating_tag_timestamps.take(5)"
   ]
  },
  {
   "cell_type": "markdown",
   "id": "09ee3f68-13f1-4d34-836c-2ddba70d2c96",
   "metadata": {},
   "source": [
    "Создаем список только из временных меток"
   ]
  },
  {
   "cell_type": "code",
   "execution_count": 123,
   "id": "b747e027-d66b-4f67-b189-af3ec0e3f2ac",
   "metadata": {},
   "outputs": [
    {
     "data": {
      "text/plain": [
       "[16818435.0, 7.0, 19.0, 5.0, 60.0]"
      ]
     },
     "execution_count": 123,
     "metadata": {},
     "output_type": "execute_result"
    }
   ],
   "source": [
    "timestamps_deltas = delta_rating_tag_timestamps.values()\n",
    "\n",
    "timestamps_deltas.take(5)"
   ]
  },
  {
   "cell_type": "markdown",
   "id": "13b33e0e-11bf-4cf7-867b-7a8267c58edf",
   "metadata": {},
   "source": [
    "Считаем среднюю дельту по всем временным меткам. Ответ:"
   ]
  },
  {
   "cell_type": "code",
   "execution_count": 126,
   "id": "3a451884-5228-47bb-8ea4-fd526a638d7b",
   "metadata": {},
   "outputs": [
    {
     "name": "stdout",
     "output_type": "stream",
     "text": [
      "Average delta rating and taging timestamps: 29203715.56846949\n"
     ]
    }
   ],
   "source": [
    "avg_timestamps_delta = timestamps_deltas.mean()\n",
    "print(f'Average delta rating and taging timestamps: {avg_timestamps_delta}')"
   ]
  },
  {
   "cell_type": "markdown",
   "id": "4d8899eb-d34b-4009-8fbc-3cbefcbe108f",
   "metadata": {},
   "source": [
    "### 5. Средняя оценка от каждого пользователя"
   ]
  },
  {
   "cell_type": "markdown",
   "id": "a1d5fae7-fb68-4bfc-aff0-5dcccce63ccc",
   "metadata": {},
   "source": [
    "Тк числовой рейтинг фильмов присутствует только в таблице 'ratings', опять будем работать с ней. Делаем те же шаги, что и в задаче 3, где считали среднюю оценку для каждого фильма, только теперь считаем для каждого пользователя.\n",
    "\n",
    "Шаги: нам потребуются колонки *userId* и *rating*, оставим только их и заодно приведем колонку *ratings* к формату float. Сгруппируем строки по *userId*, посчитаем средний рейтинг для каждого пользователя. В качестве ответа выведем среднее от всех усредненных оценок всех пользователей."
   ]
  },
  {
   "cell_type": "markdown",
   "id": "50892555-b8d0-48f9-ac12-2f2aec7c1755",
   "metadata": {},
   "source": [
    "Вспоминаем порядок столбцов"
   ]
  },
  {
   "cell_type": "code",
   "execution_count": 132,
   "id": "2794429f-e650-47d0-803f-778593f29250",
   "metadata": {},
   "outputs": [
    {
     "data": {
      "text/plain": [
       "['userId,movieId,rating,timestamp',\n",
       " '1,1,4.0,964982703',\n",
       " '1,3,4.0,964981247',\n",
       " '1,6,4.0,964982224',\n",
       " '1,47,5.0,964983815']"
      ]
     },
     "execution_count": 132,
     "metadata": {},
     "output_type": "execute_result"
    }
   ],
   "source": [
    "rdd_ratings.take(5)"
   ]
  },
  {
   "cell_type": "markdown",
   "id": "70ea8f67-33a5-4872-bbec-b445df826bcb",
   "metadata": {},
   "source": [
    "Оставляем: (userId, rating)"
   ]
  },
  {
   "cell_type": "code",
   "execution_count": 130,
   "id": "8fa04eb7-94e7-4a5c-b386-18487a113030",
   "metadata": {},
   "outputs": [
    {
     "data": {
      "text/plain": [
       "[['1', 4.0], ['1', 4.0], ['1', 4.0], ['1', 5.0], ['1', 5.0]]"
      ]
     },
     "execution_count": 130,
     "metadata": {},
     "output_type": "execute_result"
    }
   ],
   "source": [
    "user_rating = ratings_parsed.map(lambda row: [row[0], float(row[2])])\n",
    "user_rating.take(5)"
   ]
  },
  {
   "cell_type": "markdown",
   "id": "766da0ea-7373-485d-a178-18acf6fdda54",
   "metadata": {},
   "source": [
    "Группируем по userId, кастуем результат groupBy: из pyspark.resultiterable.ResultIterable в list"
   ]
  },
  {
   "cell_type": "code",
   "execution_count": 138,
   "id": "cccafb11-17fb-4fef-a3dc-e921df399b72",
   "metadata": {},
   "outputs": [
    {
     "data": {
      "text/plain": [
       "[('1',\n",
       "  [['1', 4.0],\n",
       "   ['1', 4.0],\n",
       "   ['1', 4.0],\n",
       "   ['1', 5.0],\n",
       "   ['1', 5.0],\n",
       "   ['1', 3.0],\n",
       "   ['1', 5.0],\n",
       "   ['1', 4.0],\n",
       "   ['1', 5.0],\n",
       "   ['1', 5.0],\n",
       "   ['1', 5.0],\n",
       "   ['1', 5.0],\n",
       "   ['1', 3.0],\n",
       "   ['1', 5.0],\n",
       "   ['1', 4.0],\n",
       "   ['1', 5.0],\n",
       "   ['1', 3.0],\n",
       "   ['1', 3.0],\n",
       "   ['1', 5.0],\n",
       "   ['1', 4.0],\n",
       "   ['1', 4.0],\n",
       "   ['1', 5.0],\n",
       "   ['1', 4.0],\n",
       "   ['1', 3.0],\n",
       "   ['1', 4.0],\n",
       "   ['1', 5.0],\n",
       "   ['1', 4.0],\n",
       "   ['1', 3.0],\n",
       "   ['1', 5.0],\n",
       "   ['1', 4.0],\n",
       "   ['1', 4.0],\n",
       "   ['1', 5.0],\n",
       "   ['1', 4.0],\n",
       "   ['1', 4.0],\n",
       "   ['1', 4.0],\n",
       "   ['1', 5.0],\n",
       "   ['1', 5.0],\n",
       "   ['1', 3.0],\n",
       "   ['1', 5.0],\n",
       "   ['1', 3.0],\n",
       "   ['1', 4.0],\n",
       "   ['1', 3.0],\n",
       "   ['1', 3.0],\n",
       "   ['1', 4.0],\n",
       "   ['1', 5.0],\n",
       "   ['1', 5.0],\n",
       "   ['1', 5.0],\n",
       "   ['1', 4.0],\n",
       "   ['1', 5.0],\n",
       "   ['1', 3.0],\n",
       "   ['1', 5.0],\n",
       "   ['1', 5.0],\n",
       "   ['1', 5.0],\n",
       "   ['1', 5.0],\n",
       "   ['1', 3.0],\n",
       "   ['1', 5.0],\n",
       "   ['1', 5.0],\n",
       "   ['1', 4.0],\n",
       "   ['1', 5.0],\n",
       "   ['1', 4.0],\n",
       "   ['1', 5.0],\n",
       "   ['1', 5.0],\n",
       "   ['1', 5.0],\n",
       "   ['1', 4.0],\n",
       "   ['1', 5.0],\n",
       "   ['1', 5.0],\n",
       "   ['1', 4.0],\n",
       "   ['1', 5.0],\n",
       "   ['1', 5.0],\n",
       "   ['1', 5.0],\n",
       "   ['1', 5.0],\n",
       "   ['1', 5.0],\n",
       "   ['1', 4.0],\n",
       "   ['1', 5.0],\n",
       "   ['1', 5.0],\n",
       "   ['1', 4.0],\n",
       "   ['1', 2.0],\n",
       "   ['1', 5.0],\n",
       "   ['1', 5.0],\n",
       "   ['1', 5.0],\n",
       "   ['1', 5.0],\n",
       "   ['1', 5.0],\n",
       "   ['1', 5.0],\n",
       "   ['1', 3.0],\n",
       "   ['1', 4.0],\n",
       "   ['1', 5.0],\n",
       "   ['1', 5.0],\n",
       "   ['1', 5.0],\n",
       "   ['1', 5.0],\n",
       "   ['1', 5.0],\n",
       "   ['1', 5.0],\n",
       "   ['1', 4.0],\n",
       "   ['1', 3.0],\n",
       "   ['1', 3.0],\n",
       "   ['1', 3.0],\n",
       "   ['1', 3.0],\n",
       "   ['1', 4.0],\n",
       "   ['1', 4.0],\n",
       "   ['1', 5.0],\n",
       "   ['1', 4.0],\n",
       "   ['1', 5.0],\n",
       "   ['1', 3.0],\n",
       "   ['1', 5.0],\n",
       "   ['1', 5.0],\n",
       "   ['1', 4.0],\n",
       "   ['1', 5.0],\n",
       "   ['1', 3.0],\n",
       "   ['1', 3.0],\n",
       "   ['1', 5.0],\n",
       "   ['1', 4.0],\n",
       "   ['1', 4.0],\n",
       "   ['1', 5.0],\n",
       "   ['1', 4.0],\n",
       "   ['1', 4.0],\n",
       "   ['1', 5.0],\n",
       "   ['1', 5.0],\n",
       "   ['1', 4.0],\n",
       "   ['1', 4.0],\n",
       "   ['1', 5.0],\n",
       "   ['1', 4.0],\n",
       "   ['1', 5.0],\n",
       "   ['1', 4.0],\n",
       "   ['1', 5.0],\n",
       "   ['1', 4.0],\n",
       "   ['1', 5.0],\n",
       "   ['1', 4.0],\n",
       "   ['1', 5.0],\n",
       "   ['1', 5.0],\n",
       "   ['1', 5.0],\n",
       "   ['1', 3.0],\n",
       "   ['1', 5.0],\n",
       "   ['1', 4.0],\n",
       "   ['1', 4.0],\n",
       "   ['1', 4.0],\n",
       "   ['1', 5.0],\n",
       "   ['1', 5.0],\n",
       "   ['1', 5.0],\n",
       "   ['1', 5.0],\n",
       "   ['1', 5.0],\n",
       "   ['1', 4.0],\n",
       "   ['1', 5.0],\n",
       "   ['1', 4.0],\n",
       "   ['1', 4.0],\n",
       "   ['1', 2.0],\n",
       "   ['1', 4.0],\n",
       "   ['1', 4.0],\n",
       "   ['1', 5.0],\n",
       "   ['1', 5.0],\n",
       "   ['1', 2.0],\n",
       "   ['1', 5.0],\n",
       "   ['1', 4.0],\n",
       "   ['1', 5.0],\n",
       "   ['1', 2.0],\n",
       "   ['1', 5.0],\n",
       "   ['1', 4.0],\n",
       "   ['1', 3.0],\n",
       "   ['1', 5.0],\n",
       "   ['1', 4.0],\n",
       "   ['1', 5.0],\n",
       "   ['1', 5.0],\n",
       "   ['1', 4.0],\n",
       "   ['1', 4.0],\n",
       "   ['1', 5.0],\n",
       "   ['1', 3.0],\n",
       "   ['1', 5.0],\n",
       "   ['1', 5.0],\n",
       "   ['1', 5.0],\n",
       "   ['1', 5.0],\n",
       "   ['1', 5.0],\n",
       "   ['1', 4.0],\n",
       "   ['1', 2.0],\n",
       "   ['1', 4.0],\n",
       "   ['1', 4.0],\n",
       "   ['1', 5.0],\n",
       "   ['1', 4.0],\n",
       "   ['1', 4.0],\n",
       "   ['1', 5.0],\n",
       "   ['1', 3.0],\n",
       "   ['1', 5.0],\n",
       "   ['1', 5.0],\n",
       "   ['1', 5.0],\n",
       "   ['1', 5.0],\n",
       "   ['1', 4.0],\n",
       "   ['1', 4.0],\n",
       "   ['1', 5.0],\n",
       "   ['1', 5.0],\n",
       "   ['1', 5.0],\n",
       "   ['1', 4.0],\n",
       "   ['1', 5.0],\n",
       "   ['1', 5.0],\n",
       "   ['1', 5.0],\n",
       "   ['1', 5.0],\n",
       "   ['1', 5.0],\n",
       "   ['1', 4.0],\n",
       "   ['1', 5.0],\n",
       "   ['1', 5.0],\n",
       "   ['1', 5.0],\n",
       "   ['1', 4.0],\n",
       "   ['1', 5.0],\n",
       "   ['1', 5.0],\n",
       "   ['1', 5.0],\n",
       "   ['1', 5.0],\n",
       "   ['1', 4.0],\n",
       "   ['1', 5.0],\n",
       "   ['1', 4.0],\n",
       "   ['1', 1.0],\n",
       "   ['1', 3.0],\n",
       "   ['1', 3.0],\n",
       "   ['1', 5.0],\n",
       "   ['1', 5.0],\n",
       "   ['1', 5.0],\n",
       "   ['1', 4.0],\n",
       "   ['1', 4.0],\n",
       "   ['1', 5.0],\n",
       "   ['1', 5.0],\n",
       "   ['1', 5.0],\n",
       "   ['1', 4.0],\n",
       "   ['1', 4.0],\n",
       "   ['1', 4.0],\n",
       "   ['1', 5.0],\n",
       "   ['1', 4.0],\n",
       "   ['1', 4.0],\n",
       "   ['1', 5.0],\n",
       "   ['1', 5.0],\n",
       "   ['1', 5.0],\n",
       "   ['1', 5.0],\n",
       "   ['1', 4.0],\n",
       "   ['1', 4.0],\n",
       "   ['1', 5.0],\n",
       "   ['1', 4.0],\n",
       "   ['1', 4.0],\n",
       "   ['1', 5.0]]),\n",
       " ('4',\n",
       "  [['4', 3.0],\n",
       "   ['4', 2.0],\n",
       "   ['4', 3.0],\n",
       "   ['4', 2.0],\n",
       "   ['4', 3.0],\n",
       "   ['4', 3.0],\n",
       "   ['4', 4.0],\n",
       "   ['4', 5.0],\n",
       "   ['4', 1.0],\n",
       "   ['4', 5.0],\n",
       "   ['4', 3.0],\n",
       "   ['4', 5.0],\n",
       "   ['4', 2.0],\n",
       "   ['4', 5.0],\n",
       "   ['4', 1.0],\n",
       "   ['4', 5.0],\n",
       "   ['4', 2.0],\n",
       "   ['4', 3.0],\n",
       "   ['4', 5.0],\n",
       "   ['4', 5.0],\n",
       "   ['4', 1.0],\n",
       "   ['4', 5.0],\n",
       "   ['4', 5.0],\n",
       "   ['4', 4.0],\n",
       "   ['4', 4.0],\n",
       "   ['4', 3.0],\n",
       "   ['4', 3.0],\n",
       "   ['4', 4.0],\n",
       "   ['4', 2.0],\n",
       "   ['4', 1.0],\n",
       "   ['4', 2.0],\n",
       "   ['4', 5.0],\n",
       "   ['4', 5.0],\n",
       "   ['4', 5.0],\n",
       "   ['4', 1.0],\n",
       "   ['4', 5.0],\n",
       "   ['4', 1.0],\n",
       "   ['4', 2.0],\n",
       "   ['4', 4.0],\n",
       "   ['4', 5.0],\n",
       "   ['4', 3.0],\n",
       "   ['4', 2.0],\n",
       "   ['4', 5.0],\n",
       "   ['4', 3.0],\n",
       "   ['4', 4.0],\n",
       "   ['4', 3.0],\n",
       "   ['4', 4.0],\n",
       "   ['4', 4.0],\n",
       "   ['4', 5.0],\n",
       "   ['4', 4.0],\n",
       "   ['4', 4.0],\n",
       "   ['4', 4.0],\n",
       "   ['4', 5.0],\n",
       "   ['4', 5.0],\n",
       "   ['4', 5.0],\n",
       "   ['4', 5.0],\n",
       "   ['4', 5.0],\n",
       "   ['4', 5.0],\n",
       "   ['4', 5.0],\n",
       "   ['4', 3.0],\n",
       "   ['4', 4.0],\n",
       "   ['4', 5.0],\n",
       "   ['4', 3.0],\n",
       "   ['4', 2.0],\n",
       "   ['4', 4.0],\n",
       "   ['4', 5.0],\n",
       "   ['4', 2.0],\n",
       "   ['4', 5.0],\n",
       "   ['4', 5.0],\n",
       "   ['4', 5.0],\n",
       "   ['4', 3.0],\n",
       "   ['4', 5.0],\n",
       "   ['4', 5.0],\n",
       "   ['4', 4.0],\n",
       "   ['4', 1.0],\n",
       "   ['4', 5.0],\n",
       "   ['4', 5.0],\n",
       "   ['4', 5.0],\n",
       "   ['4', 3.0],\n",
       "   ['4', 2.0],\n",
       "   ['4', 5.0],\n",
       "   ['4', 1.0],\n",
       "   ['4', 4.0],\n",
       "   ['4', 4.0],\n",
       "   ['4', 4.0],\n",
       "   ['4', 5.0],\n",
       "   ['4', 4.0],\n",
       "   ['4', 4.0],\n",
       "   ['4', 4.0],\n",
       "   ['4', 2.0],\n",
       "   ['4', 5.0],\n",
       "   ['4', 5.0],\n",
       "   ['4', 4.0],\n",
       "   ['4', 4.0],\n",
       "   ['4', 3.0],\n",
       "   ['4', 1.0],\n",
       "   ['4', 5.0],\n",
       "   ['4', 4.0],\n",
       "   ['4', 4.0],\n",
       "   ['4', 4.0],\n",
       "   ['4', 3.0],\n",
       "   ['4', 1.0],\n",
       "   ['4', 2.0],\n",
       "   ['4', 4.0],\n",
       "   ['4', 1.0],\n",
       "   ['4', 4.0],\n",
       "   ['4', 4.0],\n",
       "   ['4', 5.0],\n",
       "   ['4', 3.0],\n",
       "   ['4', 5.0],\n",
       "   ['4', 2.0],\n",
       "   ['4', 4.0],\n",
       "   ['4', 3.0],\n",
       "   ['4', 2.0],\n",
       "   ['4', 4.0],\n",
       "   ['4', 3.0],\n",
       "   ['4', 4.0],\n",
       "   ['4', 1.0],\n",
       "   ['4', 3.0],\n",
       "   ['4', 5.0],\n",
       "   ['4', 2.0],\n",
       "   ['4', 5.0],\n",
       "   ['4', 4.0],\n",
       "   ['4', 2.0],\n",
       "   ['4', 4.0],\n",
       "   ['4', 5.0],\n",
       "   ['4', 4.0],\n",
       "   ['4', 3.0],\n",
       "   ['4', 5.0],\n",
       "   ['4', 5.0],\n",
       "   ['4', 5.0],\n",
       "   ['4', 4.0],\n",
       "   ['4', 5.0],\n",
       "   ['4', 1.0],\n",
       "   ['4', 1.0],\n",
       "   ['4', 2.0],\n",
       "   ['4', 4.0],\n",
       "   ['4', 4.0],\n",
       "   ['4', 5.0],\n",
       "   ['4', 3.0],\n",
       "   ['4', 4.0],\n",
       "   ['4', 4.0],\n",
       "   ['4', 1.0],\n",
       "   ['4', 5.0],\n",
       "   ['4', 5.0],\n",
       "   ['4', 1.0],\n",
       "   ['4', 4.0],\n",
       "   ['4', 5.0],\n",
       "   ['4', 2.0],\n",
       "   ['4', 4.0],\n",
       "   ['4', 1.0],\n",
       "   ['4', 2.0],\n",
       "   ['4', 5.0],\n",
       "   ['4', 5.0],\n",
       "   ['4', 5.0],\n",
       "   ['4', 4.0],\n",
       "   ['4', 4.0],\n",
       "   ['4', 5.0],\n",
       "   ['4', 2.0],\n",
       "   ['4', 2.0],\n",
       "   ['4', 4.0],\n",
       "   ['4', 4.0],\n",
       "   ['4', 5.0],\n",
       "   ['4', 4.0],\n",
       "   ['4', 3.0],\n",
       "   ['4', 5.0],\n",
       "   ['4', 4.0],\n",
       "   ['4', 1.0],\n",
       "   ['4', 4.0],\n",
       "   ['4', 4.0],\n",
       "   ['4', 4.0],\n",
       "   ['4', 4.0],\n",
       "   ['4', 3.0],\n",
       "   ['4', 5.0],\n",
       "   ['4', 4.0],\n",
       "   ['4', 4.0],\n",
       "   ['4', 2.0],\n",
       "   ['4', 1.0],\n",
       "   ['4', 5.0],\n",
       "   ['4', 2.0],\n",
       "   ['4', 1.0],\n",
       "   ['4', 3.0],\n",
       "   ['4', 3.0],\n",
       "   ['4', 5.0],\n",
       "   ['4', 4.0],\n",
       "   ['4', 3.0],\n",
       "   ['4', 4.0],\n",
       "   ['4', 4.0],\n",
       "   ['4', 3.0],\n",
       "   ['4', 1.0],\n",
       "   ['4', 3.0],\n",
       "   ['4', 4.0],\n",
       "   ['4', 3.0],\n",
       "   ['4', 3.0],\n",
       "   ['4', 4.0],\n",
       "   ['4', 5.0],\n",
       "   ['4', 3.0],\n",
       "   ['4', 4.0],\n",
       "   ['4', 3.0],\n",
       "   ['4', 3.0],\n",
       "   ['4', 2.0],\n",
       "   ['4', 5.0],\n",
       "   ['4', 4.0],\n",
       "   ['4', 3.0],\n",
       "   ['4', 2.0],\n",
       "   ['4', 4.0],\n",
       "   ['4', 1.0],\n",
       "   ['4', 4.0],\n",
       "   ['4', 3.0],\n",
       "   ['4', 1.0],\n",
       "   ['4', 3.0],\n",
       "   ['4', 5.0],\n",
       "   ['4', 3.0],\n",
       "   ['4', 4.0],\n",
       "   ['4', 4.0],\n",
       "   ['4', 5.0]])]"
      ]
     },
     "execution_count": 138,
     "metadata": {},
     "output_type": "execute_result"
    }
   ],
   "source": [
    "grouped_user_rating = user_rating\\\n",
    "    .groupBy(lambda row: row[0])\\\n",
    "    .mapValues(list)\n",
    "\n",
    "grouped_user_rating.take(2)"
   ]
  },
  {
   "cell_type": "markdown",
   "id": "c649523f-81d0-4ef6-8f4e-c7c2dfc17a02",
   "metadata": {},
   "source": [
    "Каждое value у нас сейчас является списком пар: (userId, rating). Уберем из них userId, оставив только список рейтингов."
   ]
  },
  {
   "cell_type": "code",
   "execution_count": 141,
   "id": "d173470b-741f-4907-8227-beed58ed01a8",
   "metadata": {},
   "outputs": [
    {
     "data": {
      "text/plain": [
       "[('1',\n",
       "  [4.0,\n",
       "   4.0,\n",
       "   4.0,\n",
       "   5.0,\n",
       "   5.0,\n",
       "   3.0,\n",
       "   5.0,\n",
       "   4.0,\n",
       "   5.0,\n",
       "   5.0,\n",
       "   5.0,\n",
       "   5.0,\n",
       "   3.0,\n",
       "   5.0,\n",
       "   4.0,\n",
       "   5.0,\n",
       "   3.0,\n",
       "   3.0,\n",
       "   5.0,\n",
       "   4.0,\n",
       "   4.0,\n",
       "   5.0,\n",
       "   4.0,\n",
       "   3.0,\n",
       "   4.0,\n",
       "   5.0,\n",
       "   4.0,\n",
       "   3.0,\n",
       "   5.0,\n",
       "   4.0,\n",
       "   4.0,\n",
       "   5.0,\n",
       "   4.0,\n",
       "   4.0,\n",
       "   4.0,\n",
       "   5.0,\n",
       "   5.0,\n",
       "   3.0,\n",
       "   5.0,\n",
       "   3.0,\n",
       "   4.0,\n",
       "   3.0,\n",
       "   3.0,\n",
       "   4.0,\n",
       "   5.0,\n",
       "   5.0,\n",
       "   5.0,\n",
       "   4.0,\n",
       "   5.0,\n",
       "   3.0,\n",
       "   5.0,\n",
       "   5.0,\n",
       "   5.0,\n",
       "   5.0,\n",
       "   3.0,\n",
       "   5.0,\n",
       "   5.0,\n",
       "   4.0,\n",
       "   5.0,\n",
       "   4.0,\n",
       "   5.0,\n",
       "   5.0,\n",
       "   5.0,\n",
       "   4.0,\n",
       "   5.0,\n",
       "   5.0,\n",
       "   4.0,\n",
       "   5.0,\n",
       "   5.0,\n",
       "   5.0,\n",
       "   5.0,\n",
       "   5.0,\n",
       "   4.0,\n",
       "   5.0,\n",
       "   5.0,\n",
       "   4.0,\n",
       "   2.0,\n",
       "   5.0,\n",
       "   5.0,\n",
       "   5.0,\n",
       "   5.0,\n",
       "   5.0,\n",
       "   5.0,\n",
       "   3.0,\n",
       "   4.0,\n",
       "   5.0,\n",
       "   5.0,\n",
       "   5.0,\n",
       "   5.0,\n",
       "   5.0,\n",
       "   5.0,\n",
       "   4.0,\n",
       "   3.0,\n",
       "   3.0,\n",
       "   3.0,\n",
       "   3.0,\n",
       "   4.0,\n",
       "   4.0,\n",
       "   5.0,\n",
       "   4.0,\n",
       "   5.0,\n",
       "   3.0,\n",
       "   5.0,\n",
       "   5.0,\n",
       "   4.0,\n",
       "   5.0,\n",
       "   3.0,\n",
       "   3.0,\n",
       "   5.0,\n",
       "   4.0,\n",
       "   4.0,\n",
       "   5.0,\n",
       "   4.0,\n",
       "   4.0,\n",
       "   5.0,\n",
       "   5.0,\n",
       "   4.0,\n",
       "   4.0,\n",
       "   5.0,\n",
       "   4.0,\n",
       "   5.0,\n",
       "   4.0,\n",
       "   5.0,\n",
       "   4.0,\n",
       "   5.0,\n",
       "   4.0,\n",
       "   5.0,\n",
       "   5.0,\n",
       "   5.0,\n",
       "   3.0,\n",
       "   5.0,\n",
       "   4.0,\n",
       "   4.0,\n",
       "   4.0,\n",
       "   5.0,\n",
       "   5.0,\n",
       "   5.0,\n",
       "   5.0,\n",
       "   5.0,\n",
       "   4.0,\n",
       "   5.0,\n",
       "   4.0,\n",
       "   4.0,\n",
       "   2.0,\n",
       "   4.0,\n",
       "   4.0,\n",
       "   5.0,\n",
       "   5.0,\n",
       "   2.0,\n",
       "   5.0,\n",
       "   4.0,\n",
       "   5.0,\n",
       "   2.0,\n",
       "   5.0,\n",
       "   4.0,\n",
       "   3.0,\n",
       "   5.0,\n",
       "   4.0,\n",
       "   5.0,\n",
       "   5.0,\n",
       "   4.0,\n",
       "   4.0,\n",
       "   5.0,\n",
       "   3.0,\n",
       "   5.0,\n",
       "   5.0,\n",
       "   5.0,\n",
       "   5.0,\n",
       "   5.0,\n",
       "   4.0,\n",
       "   2.0,\n",
       "   4.0,\n",
       "   4.0,\n",
       "   5.0,\n",
       "   4.0,\n",
       "   4.0,\n",
       "   5.0,\n",
       "   3.0,\n",
       "   5.0,\n",
       "   5.0,\n",
       "   5.0,\n",
       "   5.0,\n",
       "   4.0,\n",
       "   4.0,\n",
       "   5.0,\n",
       "   5.0,\n",
       "   5.0,\n",
       "   4.0,\n",
       "   5.0,\n",
       "   5.0,\n",
       "   5.0,\n",
       "   5.0,\n",
       "   5.0,\n",
       "   4.0,\n",
       "   5.0,\n",
       "   5.0,\n",
       "   5.0,\n",
       "   4.0,\n",
       "   5.0,\n",
       "   5.0,\n",
       "   5.0,\n",
       "   5.0,\n",
       "   4.0,\n",
       "   5.0,\n",
       "   4.0,\n",
       "   1.0,\n",
       "   3.0,\n",
       "   3.0,\n",
       "   5.0,\n",
       "   5.0,\n",
       "   5.0,\n",
       "   4.0,\n",
       "   4.0,\n",
       "   5.0,\n",
       "   5.0,\n",
       "   5.0,\n",
       "   4.0,\n",
       "   4.0,\n",
       "   4.0,\n",
       "   5.0,\n",
       "   4.0,\n",
       "   4.0,\n",
       "   5.0,\n",
       "   5.0,\n",
       "   5.0,\n",
       "   5.0,\n",
       "   4.0,\n",
       "   4.0,\n",
       "   5.0,\n",
       "   4.0,\n",
       "   4.0,\n",
       "   5.0])]"
      ]
     },
     "execution_count": 141,
     "metadata": {},
     "output_type": "execute_result"
    }
   ],
   "source": [
    "user_ratings = grouped_user_rating\\\n",
    "    .mapValues(lambda user_rating_group: [user_rating_pair[1] for user_rating_pair in user_rating_group])\n",
    "\n",
    "user_ratings.take(1)"
   ]
  },
  {
   "cell_type": "markdown",
   "id": "ba358bf0-5778-48a6-a380-a56a845636f8",
   "metadata": {},
   "source": [
    "Посчитаем средний рейтинг для каждого пользователя"
   ]
  },
  {
   "cell_type": "code",
   "execution_count": 142,
   "id": "6a0ddaba-d4fd-4d30-8293-d8513688b6b3",
   "metadata": {},
   "outputs": [
    {
     "data": {
      "text/plain": [
       "[('1', 4.366379310344827),\n",
       " ('4', 3.5555555555555554),\n",
       " ('8', 3.574468085106383),\n",
       " ('9', 3.260869565217391),\n",
       " ('10', 3.2785714285714285)]"
      ]
     },
     "execution_count": 142,
     "metadata": {},
     "output_type": "execute_result"
    }
   ],
   "source": [
    "avg_user_ratings = user_ratings\\\n",
    "    .mapValues(lambda user_ratings_list: sum(user_ratings_list) / len(user_ratings_list))\n",
    "\n",
    "avg_user_ratings.take(5)"
   ]
  },
  {
   "cell_type": "markdown",
   "id": "52b3c7ae-1032-4b7e-acd0-3696df33a1de",
   "metadata": {},
   "source": [
    "Выведем среднее значение оценки по всем пользователям:"
   ]
  },
  {
   "cell_type": "code",
   "execution_count": 154,
   "id": "e256f3e8-ead7-4c7b-b33a-9ac165f1d341",
   "metadata": {},
   "outputs": [
    {
     "name": "stdout",
     "output_type": "stream",
     "text": [
      "Average user rating: 3.6572223377474\n"
     ]
    }
   ],
   "source": [
    "avg_total_user_rating = avg_user_ratings.values().mean()\n",
    "print(f'Average user rating: {avg_total_user_rating}')"
   ]
  },
  {
   "cell_type": "markdown",
   "id": "6984ebb9-c3f4-4284-b30c-dc75ea75ae03",
   "metadata": {},
   "source": [
    "# Блок 3. UDF\n",
    "Хотим обучить модель, которая по тегам предсказывала бы рейтинг фильма."
   ]
  },
  {
   "cell_type": "markdown",
   "id": "e47daf0f-81c1-4d36-9f44-f6ea9787bb19",
   "metadata": {},
   "source": [
    "### Настройка Spark сессии"
   ]
  },
  {
   "cell_type": "code",
   "execution_count": 131,
   "id": "3a1514b6-5a34-44da-86cb-95dff5857e9a",
   "metadata": {},
   "outputs": [],
   "source": [
    "from pyspark.sql import SparkSession\n",
    "from pyspark.sql import functions as f\n",
    "from pyspark.sql.types import *"
   ]
  },
  {
   "cell_type": "code",
   "execution_count": 132,
   "id": "a65b8904-ed81-4736-a6eb-3f767bf4fef7",
   "metadata": {},
   "outputs": [],
   "source": [
    "spark = SparkSession.builder\\\n",
    "    .appName('fedotova_spark')\\\n",
    "    .config(conf=conf)\\\n",
    "    .master(master=\"yarn\").getOrCreate()"
   ]
  },
  {
   "cell_type": "markdown",
   "id": "267b0d15-98a5-4703-be31-25c34bc261c8",
   "metadata": {},
   "source": [
    "### Обработка данных\n",
    "Создадим DataFrame'ы с данными.\n",
    "Datframe рейтингов:"
   ]
  },
  {
   "cell_type": "code",
   "execution_count": 133,
   "id": "dfbb7199-359f-4030-a1ce-5384d60997eb",
   "metadata": {},
   "outputs": [],
   "source": [
    "ratings_schema = StructType(fields=[\n",
    "    StructField(\"userId\", IntegerType()),\n",
    "    StructField(\"movieId\", IntegerType()),\n",
    "    StructField(\"rating\", DoubleType()),\n",
    "    StructField(\"timestamp\", LongType()),\n",
    "])"
   ]
  },
  {
   "cell_type": "code",
   "execution_count": 134,
   "id": "b467bb4c-5519-49a2-af88-260c996a9771",
   "metadata": {},
   "outputs": [
    {
     "name": "stdout",
     "output_type": "stream",
     "text": [
      "CPU times: user 3.48 ms, sys: 2.24 ms, total: 5.72 ms\n",
      "Wall time: 33.7 ms\n"
     ]
    }
   ],
   "source": [
    "%%time\n",
    "ratings_df = spark\\\n",
    "    .read\\\n",
    "    .format(\"csv\")\\\n",
    "    .option(\"header\", \"True\")\\\n",
    "    .schema(ratings_schema)\\\n",
    "    .load(\"ml-latest-small/ratings.csv\")"
   ]
  },
  {
   "cell_type": "code",
   "execution_count": 135,
   "id": "96ce3a24-0988-4c39-8ace-9e158e8512c8",
   "metadata": {},
   "outputs": [
    {
     "name": "stdout",
     "output_type": "stream",
     "text": [
      "+------+-------+------+---------+\n",
      "|userId|movieId|rating|timestamp|\n",
      "+------+-------+------+---------+\n",
      "|     1|      1|   4.0|964982703|\n",
      "|     1|      3|   4.0|964981247|\n",
      "|     1|      6|   4.0|964982224|\n",
      "|     1|     47|   5.0|964983815|\n",
      "|     1|     50|   5.0|964982931|\n",
      "+------+-------+------+---------+\n",
      "only showing top 5 rows\n",
      "\n"
     ]
    },
    {
     "name": "stderr",
     "output_type": "stream",
     "text": [
      "                                                                                \r"
     ]
    }
   ],
   "source": [
    "ratings_df.show(5)"
   ]
  },
  {
   "cell_type": "markdown",
   "id": "a9847bb3-8ea5-43db-afa0-ebc8b47557c5",
   "metadata": {},
   "source": [
    "DataFrame тегов:"
   ]
  },
  {
   "cell_type": "code",
   "execution_count": 136,
   "id": "89122066-0c86-4760-b2e3-fa80dfb90e38",
   "metadata": {},
   "outputs": [],
   "source": [
    "tags_schema = StructType(fields=[\n",
    "    StructField(\"userId\", IntegerType()),\n",
    "    StructField(\"movieId\", IntegerType()),\n",
    "    StructField(\"tag\", StringType()),\n",
    "    StructField(\"timestamp\", LongType()),\n",
    "])"
   ]
  },
  {
   "cell_type": "code",
   "execution_count": 137,
   "id": "3a22ce3b-7d43-484c-8936-1598564e7b27",
   "metadata": {},
   "outputs": [
    {
     "name": "stdout",
     "output_type": "stream",
     "text": [
      "CPU times: user 2.48 ms, sys: 3.36 ms, total: 5.84 ms\n",
      "Wall time: 29.3 ms\n"
     ]
    }
   ],
   "source": [
    "%%time\n",
    "tags_df = spark\\\n",
    "    .read\\\n",
    "    .format(\"csv\")\\\n",
    "    .option(\"header\", \"True\")\\\n",
    "    .schema(tags_schema)\\\n",
    "    .load(\"ml-latest-small/tags.csv\")"
   ]
  },
  {
   "cell_type": "code",
   "execution_count": 138,
   "id": "f4bb27eb-49e9-49da-9013-3e28834d8a1b",
   "metadata": {},
   "outputs": [
    {
     "name": "stdout",
     "output_type": "stream",
     "text": [
      "+------+-------+---------------+----------+\n",
      "|userId|movieId|            tag| timestamp|\n",
      "+------+-------+---------------+----------+\n",
      "|     2|  60756|          funny|1445714994|\n",
      "|     2|  60756|Highly quotable|1445714996|\n",
      "|     2|  60756|   will ferrell|1445714992|\n",
      "|     2|  89774|   Boxing story|1445715207|\n",
      "|     2|  89774|            MMA|1445715200|\n",
      "+------+-------+---------------+----------+\n",
      "only showing top 5 rows\n",
      "\n"
     ]
    }
   ],
   "source": [
    "tags_df.show(5)"
   ]
  },
  {
   "cell_type": "markdown",
   "id": "37f7e04e-8ccd-4e24-9eb7-8ca8cb16bfc0",
   "metadata": {},
   "source": [
    "Join'им таблицы:"
   ]
  },
  {
   "cell_type": "code",
   "execution_count": 176,
   "id": "02539176-ffae-43cc-8df1-7776a2a1d236",
   "metadata": {},
   "outputs": [],
   "source": [
    "tags_with_ratings = tags_df.alias(\"r\").join(ratings_df.alias(\"t\"), on=[\"userId\", \"movieId\"], how=\"inner\")"
   ]
  },
  {
   "cell_type": "code",
   "execution_count": 177,
   "id": "bd4effcf-2760-466d-9564-c745c9a83050",
   "metadata": {},
   "outputs": [
    {
     "name": "stdout",
     "output_type": "stream",
     "text": [
      "+------+-------+---------------+----------+------+----------+\n",
      "|userId|movieId|            tag| timestamp|rating| timestamp|\n",
      "+------+-------+---------------+----------+------+----------+\n",
      "|     2|  60756|   will ferrell|1445714992|   5.0|1445714980|\n",
      "|     2|  60756|Highly quotable|1445714996|   5.0|1445714980|\n",
      "|     2|  60756|          funny|1445714994|   5.0|1445714980|\n",
      "|     2|  89774|      Tom Hardy|1445715205|   5.0|1445715189|\n",
      "|     2|  89774|            MMA|1445715200|   5.0|1445715189|\n",
      "+------+-------+---------------+----------+------+----------+\n",
      "only showing top 5 rows\n",
      "\n"
     ]
    }
   ],
   "source": [
    "tags_with_ratings.show(5)"
   ]
  },
  {
   "cell_type": "markdown",
   "id": "e4e310f3-4b32-4443-84c7-3930cd740b4a",
   "metadata": {},
   "source": [
    "Оставляем только нужные колонки 'tags' и 'ratings':"
   ]
  },
  {
   "cell_type": "code",
   "execution_count": 182,
   "id": "45756a26-bde5-440a-b720-71c9ec8fb018",
   "metadata": {},
   "outputs": [],
   "source": [
    "tags_ratings_df = tags_with_ratings.select('tag', 'rating')"
   ]
  },
  {
   "cell_type": "code",
   "execution_count": 183,
   "id": "dd566257-1cd0-47b9-b1b5-eff1855ca89c",
   "metadata": {},
   "outputs": [
    {
     "name": "stdout",
     "output_type": "stream",
     "text": [
      "+---------------+------+\n",
      "|            tag|rating|\n",
      "+---------------+------+\n",
      "|   will ferrell|   5.0|\n",
      "|Highly quotable|   5.0|\n",
      "|          funny|   5.0|\n",
      "|      Tom Hardy|   5.0|\n",
      "|            MMA|   5.0|\n",
      "+---------------+------+\n",
      "only showing top 5 rows\n",
      "\n"
     ]
    }
   ],
   "source": [
    "tags_ratings_df.show(5)"
   ]
  },
  {
   "cell_type": "markdown",
   "id": "59a9f98b-fe8c-4d8e-b438-92c56e932dce",
   "metadata": {},
   "source": [
    "Сконвертируем датасеты в pandas"
   ]
  },
  {
   "cell_type": "code",
   "execution_count": 180,
   "id": "fc0107c1-3ebb-4233-afa4-e967064969fe",
   "metadata": {},
   "outputs": [],
   "source": [
    "tags_ratings_pdf = tags_ratings_df.toPandas()"
   ]
  },
  {
   "cell_type": "code",
   "execution_count": 181,
   "id": "6003f8e9-8256-45a2-9e3a-5a7502a53499",
   "metadata": {},
   "outputs": [
    {
     "data": {
      "text/html": [
       "<div>\n",
       "<style scoped>\n",
       "    .dataframe tbody tr th:only-of-type {\n",
       "        vertical-align: middle;\n",
       "    }\n",
       "\n",
       "    .dataframe tbody tr th {\n",
       "        vertical-align: top;\n",
       "    }\n",
       "\n",
       "    .dataframe thead th {\n",
       "        text-align: right;\n",
       "    }\n",
       "</style>\n",
       "<table border=\"1\" class=\"dataframe\">\n",
       "  <thead>\n",
       "    <tr style=\"text-align: right;\">\n",
       "      <th></th>\n",
       "      <th>rating</th>\n",
       "      <th>tag</th>\n",
       "    </tr>\n",
       "  </thead>\n",
       "  <tbody>\n",
       "    <tr>\n",
       "      <th>0</th>\n",
       "      <td>5.0</td>\n",
       "      <td>will ferrell</td>\n",
       "    </tr>\n",
       "    <tr>\n",
       "      <th>1</th>\n",
       "      <td>5.0</td>\n",
       "      <td>Highly quotable</td>\n",
       "    </tr>\n",
       "    <tr>\n",
       "      <th>2</th>\n",
       "      <td>5.0</td>\n",
       "      <td>funny</td>\n",
       "    </tr>\n",
       "    <tr>\n",
       "      <th>3</th>\n",
       "      <td>5.0</td>\n",
       "      <td>Tom Hardy</td>\n",
       "    </tr>\n",
       "    <tr>\n",
       "      <th>4</th>\n",
       "      <td>5.0</td>\n",
       "      <td>MMA</td>\n",
       "    </tr>\n",
       "  </tbody>\n",
       "</table>\n",
       "</div>"
      ],
      "text/plain": [
       "   rating              tag\n",
       "0     5.0     will ferrell\n",
       "1     5.0  Highly quotable\n",
       "2     5.0            funny\n",
       "3     5.0        Tom Hardy\n",
       "4     5.0              MMA"
      ]
     },
     "execution_count": 181,
     "metadata": {},
     "output_type": "execute_result"
    }
   ],
   "source": [
    "tags_ratings_pdf.head(5)"
   ]
  },
  {
   "cell_type": "markdown",
   "id": "49357886-3783-4d7a-99a8-542908b704a4",
   "metadata": {},
   "source": [
    "### Обучение модели\n",
    "Обучим TfidfVectorizer на колонке “tag”:"
   ]
  },
  {
   "cell_type": "code",
   "execution_count": 145,
   "id": "e670dbcf-6f6c-4564-b213-e14b1b9fad2f",
   "metadata": {},
   "outputs": [],
   "source": [
    "from sklearn.feature_extraction.text import TfidfVectorizer"
   ]
  },
  {
   "cell_type": "code",
   "execution_count": 146,
   "id": "ce346751-8175-4e05-850a-270361dc2969",
   "metadata": {},
   "outputs": [
    {
     "data": {
      "text/html": [
       "<style>#sk-container-id-8 {color: black;}#sk-container-id-8 pre{padding: 0;}#sk-container-id-8 div.sk-toggleable {background-color: white;}#sk-container-id-8 label.sk-toggleable__label {cursor: pointer;display: block;width: 100%;margin-bottom: 0;padding: 0.3em;box-sizing: border-box;text-align: center;}#sk-container-id-8 label.sk-toggleable__label-arrow:before {content: \"▸\";float: left;margin-right: 0.25em;color: #696969;}#sk-container-id-8 label.sk-toggleable__label-arrow:hover:before {color: black;}#sk-container-id-8 div.sk-estimator:hover label.sk-toggleable__label-arrow:before {color: black;}#sk-container-id-8 div.sk-toggleable__content {max-height: 0;max-width: 0;overflow: hidden;text-align: left;background-color: #f0f8ff;}#sk-container-id-8 div.sk-toggleable__content pre {margin: 0.2em;color: black;border-radius: 0.25em;background-color: #f0f8ff;}#sk-container-id-8 input.sk-toggleable__control:checked~div.sk-toggleable__content {max-height: 200px;max-width: 100%;overflow: auto;}#sk-container-id-8 input.sk-toggleable__control:checked~label.sk-toggleable__label-arrow:before {content: \"▾\";}#sk-container-id-8 div.sk-estimator input.sk-toggleable__control:checked~label.sk-toggleable__label {background-color: #d4ebff;}#sk-container-id-8 div.sk-label input.sk-toggleable__control:checked~label.sk-toggleable__label {background-color: #d4ebff;}#sk-container-id-8 input.sk-hidden--visually {border: 0;clip: rect(1px 1px 1px 1px);clip: rect(1px, 1px, 1px, 1px);height: 1px;margin: -1px;overflow: hidden;padding: 0;position: absolute;width: 1px;}#sk-container-id-8 div.sk-estimator {font-family: monospace;background-color: #f0f8ff;border: 1px dotted black;border-radius: 0.25em;box-sizing: border-box;margin-bottom: 0.5em;}#sk-container-id-8 div.sk-estimator:hover {background-color: #d4ebff;}#sk-container-id-8 div.sk-parallel-item::after {content: \"\";width: 100%;border-bottom: 1px solid gray;flex-grow: 1;}#sk-container-id-8 div.sk-label:hover label.sk-toggleable__label {background-color: #d4ebff;}#sk-container-id-8 div.sk-serial::before {content: \"\";position: absolute;border-left: 1px solid gray;box-sizing: border-box;top: 0;bottom: 0;left: 50%;z-index: 0;}#sk-container-id-8 div.sk-serial {display: flex;flex-direction: column;align-items: center;background-color: white;padding-right: 0.2em;padding-left: 0.2em;position: relative;}#sk-container-id-8 div.sk-item {position: relative;z-index: 1;}#sk-container-id-8 div.sk-parallel {display: flex;align-items: stretch;justify-content: center;background-color: white;position: relative;}#sk-container-id-8 div.sk-item::before, #sk-container-id-8 div.sk-parallel-item::before {content: \"\";position: absolute;border-left: 1px solid gray;box-sizing: border-box;top: 0;bottom: 0;left: 50%;z-index: -1;}#sk-container-id-8 div.sk-parallel-item {display: flex;flex-direction: column;z-index: 1;position: relative;background-color: white;}#sk-container-id-8 div.sk-parallel-item:first-child::after {align-self: flex-end;width: 50%;}#sk-container-id-8 div.sk-parallel-item:last-child::after {align-self: flex-start;width: 50%;}#sk-container-id-8 div.sk-parallel-item:only-child::after {width: 0;}#sk-container-id-8 div.sk-dashed-wrapped {border: 1px dashed gray;margin: 0 0.4em 0.5em 0.4em;box-sizing: border-box;padding-bottom: 0.4em;background-color: white;}#sk-container-id-8 div.sk-label label {font-family: monospace;font-weight: bold;display: inline-block;line-height: 1.2em;}#sk-container-id-8 div.sk-label-container {text-align: center;}#sk-container-id-8 div.sk-container {/* jupyter's `normalize.less` sets `[hidden] { display: none; }` but bootstrap.min.css set `[hidden] { display: none !important; }` so we also need the `!important` here to be able to override the default hidden behavior on the sphinx rendered scikit-learn.org. See: https://github.com/scikit-learn/scikit-learn/issues/21755 */display: inline-block !important;position: relative;}#sk-container-id-8 div.sk-text-repr-fallback {display: none;}</style><div id=\"sk-container-id-8\" class=\"sk-top-container\"><div class=\"sk-text-repr-fallback\"><pre>TfidfVectorizer()</pre><b>In a Jupyter environment, please rerun this cell to show the HTML representation or trust the notebook. <br />On GitHub, the HTML representation is unable to render, please try loading this page with nbviewer.org.</b></div><div class=\"sk-container\" hidden><div class=\"sk-item\"><div class=\"sk-estimator sk-toggleable\"><input class=\"sk-toggleable__control sk-hidden--visually\" id=\"sk-estimator-id-8\" type=\"checkbox\" checked><label for=\"sk-estimator-id-8\" class=\"sk-toggleable__label sk-toggleable__label-arrow\">TfidfVectorizer</label><div class=\"sk-toggleable__content\"><pre>TfidfVectorizer()</pre></div></div></div></div></div>"
      ],
      "text/plain": [
       "TfidfVectorizer()"
      ]
     },
     "execution_count": 146,
     "metadata": {},
     "output_type": "execute_result"
    }
   ],
   "source": [
    "tfidf_vectorizer = TfidfVectorizer()\n",
    "tfidf_vectorizer.fit(tags_ratings_pdf['tag'])"
   ]
  },
  {
   "cell_type": "markdown",
   "id": "2b254ea9-355b-43a6-8761-e2b39cf70651",
   "metadata": {},
   "source": [
    "Получим численные признаки transform-ом от tfidf на той же колонке “tag”:"
   ]
  },
  {
   "cell_type": "code",
   "execution_count": 147,
   "id": "9fe3d258-b7fe-40eb-8afb-40c22c13ac9d",
   "metadata": {},
   "outputs": [],
   "source": [
    "tags_features = tfidf_vectorizer.transform(tags_ratings_pdf['tag'])"
   ]
  },
  {
   "cell_type": "code",
   "execution_count": 148,
   "id": "87803add-9c2a-4673-83e5-065b3ed396bb",
   "metadata": {},
   "outputs": [
    {
     "name": "stdout",
     "output_type": "stream",
     "text": [
      "['06' '1900s' '1920s' ... 'zombie' 'zombies' 'zooey']\n",
      "(3476, 1708)\n"
     ]
    }
   ],
   "source": [
    "print(tfidf_vectorizer.get_feature_names_out())\n",
    "print(tag_features.shape)"
   ]
  },
  {
   "cell_type": "markdown",
   "id": "3a2a95ef-acec-4de7-ae35-aca873ad013e",
   "metadata": {},
   "source": [
    "Обучим SGDRegressor на новых численных признаках от TfidfVectorizer-а с лейблом “rating”:"
   ]
  },
  {
   "cell_type": "code",
   "execution_count": 149,
   "id": "4b5692aa-ce60-4697-8b55-c683c989dd9a",
   "metadata": {},
   "outputs": [],
   "source": [
    "from sklearn.linear_model import SGDRegressor"
   ]
  },
  {
   "cell_type": "code",
   "execution_count": 150,
   "id": "2994d5ce-b5fb-43da-89df-968f31098429",
   "metadata": {},
   "outputs": [],
   "source": [
    "sgd = SGDRegressor()"
   ]
  },
  {
   "cell_type": "code",
   "execution_count": 151,
   "id": "3c5d365c-0075-4ff0-8e9c-4e93375a888e",
   "metadata": {},
   "outputs": [
    {
     "data": {
      "text/html": [
       "<style>#sk-container-id-9 {color: black;}#sk-container-id-9 pre{padding: 0;}#sk-container-id-9 div.sk-toggleable {background-color: white;}#sk-container-id-9 label.sk-toggleable__label {cursor: pointer;display: block;width: 100%;margin-bottom: 0;padding: 0.3em;box-sizing: border-box;text-align: center;}#sk-container-id-9 label.sk-toggleable__label-arrow:before {content: \"▸\";float: left;margin-right: 0.25em;color: #696969;}#sk-container-id-9 label.sk-toggleable__label-arrow:hover:before {color: black;}#sk-container-id-9 div.sk-estimator:hover label.sk-toggleable__label-arrow:before {color: black;}#sk-container-id-9 div.sk-toggleable__content {max-height: 0;max-width: 0;overflow: hidden;text-align: left;background-color: #f0f8ff;}#sk-container-id-9 div.sk-toggleable__content pre {margin: 0.2em;color: black;border-radius: 0.25em;background-color: #f0f8ff;}#sk-container-id-9 input.sk-toggleable__control:checked~div.sk-toggleable__content {max-height: 200px;max-width: 100%;overflow: auto;}#sk-container-id-9 input.sk-toggleable__control:checked~label.sk-toggleable__label-arrow:before {content: \"▾\";}#sk-container-id-9 div.sk-estimator input.sk-toggleable__control:checked~label.sk-toggleable__label {background-color: #d4ebff;}#sk-container-id-9 div.sk-label input.sk-toggleable__control:checked~label.sk-toggleable__label {background-color: #d4ebff;}#sk-container-id-9 input.sk-hidden--visually {border: 0;clip: rect(1px 1px 1px 1px);clip: rect(1px, 1px, 1px, 1px);height: 1px;margin: -1px;overflow: hidden;padding: 0;position: absolute;width: 1px;}#sk-container-id-9 div.sk-estimator {font-family: monospace;background-color: #f0f8ff;border: 1px dotted black;border-radius: 0.25em;box-sizing: border-box;margin-bottom: 0.5em;}#sk-container-id-9 div.sk-estimator:hover {background-color: #d4ebff;}#sk-container-id-9 div.sk-parallel-item::after {content: \"\";width: 100%;border-bottom: 1px solid gray;flex-grow: 1;}#sk-container-id-9 div.sk-label:hover label.sk-toggleable__label {background-color: #d4ebff;}#sk-container-id-9 div.sk-serial::before {content: \"\";position: absolute;border-left: 1px solid gray;box-sizing: border-box;top: 0;bottom: 0;left: 50%;z-index: 0;}#sk-container-id-9 div.sk-serial {display: flex;flex-direction: column;align-items: center;background-color: white;padding-right: 0.2em;padding-left: 0.2em;position: relative;}#sk-container-id-9 div.sk-item {position: relative;z-index: 1;}#sk-container-id-9 div.sk-parallel {display: flex;align-items: stretch;justify-content: center;background-color: white;position: relative;}#sk-container-id-9 div.sk-item::before, #sk-container-id-9 div.sk-parallel-item::before {content: \"\";position: absolute;border-left: 1px solid gray;box-sizing: border-box;top: 0;bottom: 0;left: 50%;z-index: -1;}#sk-container-id-9 div.sk-parallel-item {display: flex;flex-direction: column;z-index: 1;position: relative;background-color: white;}#sk-container-id-9 div.sk-parallel-item:first-child::after {align-self: flex-end;width: 50%;}#sk-container-id-9 div.sk-parallel-item:last-child::after {align-self: flex-start;width: 50%;}#sk-container-id-9 div.sk-parallel-item:only-child::after {width: 0;}#sk-container-id-9 div.sk-dashed-wrapped {border: 1px dashed gray;margin: 0 0.4em 0.5em 0.4em;box-sizing: border-box;padding-bottom: 0.4em;background-color: white;}#sk-container-id-9 div.sk-label label {font-family: monospace;font-weight: bold;display: inline-block;line-height: 1.2em;}#sk-container-id-9 div.sk-label-container {text-align: center;}#sk-container-id-9 div.sk-container {/* jupyter's `normalize.less` sets `[hidden] { display: none; }` but bootstrap.min.css set `[hidden] { display: none !important; }` so we also need the `!important` here to be able to override the default hidden behavior on the sphinx rendered scikit-learn.org. See: https://github.com/scikit-learn/scikit-learn/issues/21755 */display: inline-block !important;position: relative;}#sk-container-id-9 div.sk-text-repr-fallback {display: none;}</style><div id=\"sk-container-id-9\" class=\"sk-top-container\"><div class=\"sk-text-repr-fallback\"><pre>SGDRegressor()</pre><b>In a Jupyter environment, please rerun this cell to show the HTML representation or trust the notebook. <br />On GitHub, the HTML representation is unable to render, please try loading this page with nbviewer.org.</b></div><div class=\"sk-container\" hidden><div class=\"sk-item\"><div class=\"sk-estimator sk-toggleable\"><input class=\"sk-toggleable__control sk-hidden--visually\" id=\"sk-estimator-id-9\" type=\"checkbox\" checked><label for=\"sk-estimator-id-9\" class=\"sk-toggleable__label sk-toggleable__label-arrow\">SGDRegressor</label><div class=\"sk-toggleable__content\"><pre>SGDRegressor()</pre></div></div></div></div></div>"
      ],
      "text/plain": [
       "SGDRegressor()"
      ]
     },
     "execution_count": 151,
     "metadata": {},
     "output_type": "execute_result"
    }
   ],
   "source": [
    "sgd.fit(X=tags_features, y=tags_ratings_pdf['rating'])"
   ]
  },
  {
   "cell_type": "markdown",
   "id": "81274c62-b872-45c4-8ec6-08b1cea88698",
   "metadata": {},
   "source": [
    "### UDF: предсказание рейтинга по столбцу “tag”\n",
    "Сначала делаем transform от TfidfVectorizer, затем predict от SGDRegressor на полученных признаках из 1-го этапа"
   ]
  },
  {
   "cell_type": "code",
   "execution_count": 173,
   "id": "5a8da6bc-d7f8-4484-84a4-0f790ffab7c5",
   "metadata": {},
   "outputs": [],
   "source": [
    "@f.udf(DoubleType())\n",
    "def predict_rating_from_tag(tags):\n",
    "    tags_features = tfidf_vectorizer.transform([tags])\n",
    "    predicted_ratings = sgd.predict(tags_features)\n",
    "    # преобразуем numpy ndarray в стандартный python scalar\n",
    "    return predicted_ratings.item()"
   ]
  },
  {
   "cell_type": "markdown",
   "id": "b2bfb41b-393d-4773-9c4f-82a7fecb2aca",
   "metadata": {},
   "source": [
    "Применим UDF к spark dataframe-у и убедимся, что udf работает, вызвав action show(50)):"
   ]
  },
  {
   "cell_type": "code",
   "execution_count": 174,
   "id": "cde449d0-86a0-4a6e-8f3e-0f2869738a17",
   "metadata": {},
   "outputs": [],
   "source": [
    "tags_ratings_with_preds = tags_ratings_df\\\n",
    "    .withColumn('predicted_rating', predict_rating_from_tag(f.col('tag')))"
   ]
  },
  {
   "cell_type": "code",
   "execution_count": 175,
   "id": "2bea8b47-b50b-4cc2-993a-2c6a58f7255a",
   "metadata": {},
   "outputs": [
    {
     "name": "stderr",
     "output_type": "stream",
     "text": [
      "                                                                                \r"
     ]
    },
    {
     "name": "stdout",
     "output_type": "stream",
     "text": [
      "+------+--------------------+------------------+\n",
      "|rating|                 tag|  predicted_rating|\n",
      "+------+--------------------+------------------+\n",
      "|   5.0|        will ferrell|4.0338854132540805|\n",
      "|   5.0|     Highly quotable| 3.945725021929871|\n",
      "|   5.0|               funny| 4.367294947333176|\n",
      "|   5.0|           Tom Hardy|3.8414958875151717|\n",
      "|   5.0|                 MMA| 3.419073066217332|\n",
      "|   5.0|        Boxing story|3.9249024610120773|\n",
      "|   5.0|     Martin Scorsese|3.8479621567156994|\n",
      "|   5.0|   Leonardo DiCaprio| 4.234165809560408|\n",
      "|   5.0|               drugs| 4.283169097967513|\n",
      "|   1.0|        way too long| 3.427078467741662|\n",
      "|   4.0|               mafia| 4.159233805653512|\n",
      "|   4.0|            gangster| 3.620002030163171|\n",
      "|   4.0|           Al Pacino|3.8543008558504526|\n",
      "|   5.0|               Mafia| 4.159233805653512|\n",
      "|   5.0|           Al Pacino|3.8543008558504526|\n",
      "|   4.5|          true story|3.8507721191734943|\n",
      "|   4.5|           holocaust|3.9732221163643957|\n",
      "|   4.5|        twist ending|4.8381276752280336|\n",
      "|   4.5|        twist ending|4.8381276752280336|\n",
      "|   4.5|     courtroom drama|3.8420338867126604|\n",
      "|   4.5|     Anthony Hopkins|3.3814237257456994|\n",
      "|   3.0|               music| 4.290275203792476|\n",
      "|   3.0|  indie record label| 3.268825331589581|\n",
      "|   3.0|             britpop|3.2679726678250067|\n",
      "|   4.0|      Sustainability| 3.343638727596899|\n",
      "|   4.0|     dumpster diving| 3.344608295799076|\n",
      "|   0.5|              bloody| 3.526547991822458|\n",
      "|   4.5|         time-travel| 4.230807166800258|\n",
      "|   4.5|              sci-fi| 4.291398203868077|\n",
      "|   4.5|          black hole| 3.856843498352044|\n",
      "|   4.0|      Robin Williams| 3.696112773342428|\n",
      "|   4.0|    magic board game| 3.749456033025661|\n",
      "|   4.0|             fantasy| 3.930494409133294|\n",
      "|   4.5|         sword fight| 3.384002927963537|\n",
      "|   4.5|             revenge| 4.178392560878764|\n",
      "|   4.5|Oscar (Best Cinem...| 4.345063246475352|\n",
      "|   4.5|          mel gibson| 3.418558919548384|\n",
      "|   4.5|            Medieval|  3.38245334621756|\n",
      "|   4.5|       inspirational| 3.804563968495837|\n",
      "|   4.5|          historical|3.3811224883866897|\n",
      "|   4.5|                epic| 3.965196707734881|\n",
      "|   4.5|   beautiful scenery| 4.002266127156842|\n",
      "|   4.5|              gothic|3.8546793819118115|\n",
      "|   4.5|              family| 4.115572940339395|\n",
      "|   4.5|         dark comedy| 4.897931377152119|\n",
      "|   4.5|   Christopher Lloyd| 3.743048418140769|\n",
      "|   4.5|     Christina Ricci| 3.562637541620597|\n",
      "|   4.5|        black comedy| 4.641389731317491|\n",
      "|   5.0|               mafia| 4.159233805653512|\n",
      "|   5.0|Francis Ford Coppola|3.5379402895116083|\n",
      "+------+--------------------+------------------+\n",
      "only showing top 50 rows\n",
      "\n"
     ]
    }
   ],
   "source": [
    "tags_ratings_with_preds.show(50)"
   ]
  },
  {
   "cell_type": "markdown",
   "id": "9605c5de-bbb1-4b15-8e57-ff9b0d30909f",
   "metadata": {},
   "source": [
    "### RMSE между предсказанным и истинным значением рейтинга\n",
    "Формула RMSE (корень средней суммы квадратов разностей между предсказанным и истинным значением рейтинга): \n",
    "$$ RMSE = \\sqrt{\\frac{\\sum_{i=1}^{n} (y\\_pred_{i} - y\\_true_{i})^2}{n}} $$\n",
    "Будем использовать pyspark.sql"
   ]
  },
  {
   "cell_type": "code",
   "execution_count": 163,
   "id": "798b14c6-e694-476d-a699-55b53a688a6b",
   "metadata": {},
   "outputs": [
    {
     "name": "stderr",
     "output_type": "stream",
     "text": [
      "[Stage 77:>                                                         (0 + 1) / 1]\r"
     ]
    },
    {
     "name": "stdout",
     "output_type": "stream",
     "text": [
      "+----------------+\n",
      "|            RMSE|\n",
      "+----------------+\n",
      "|0.87426504306081|\n",
      "+----------------+\n",
      "\n"
     ]
    },
    {
     "name": "stderr",
     "output_type": "stream",
     "text": [
      "                                                                                \r"
     ]
    }
   ],
   "source": [
    "tags_ratings_with_preds\\\n",
    ".select((f.col('rating') - f.col('predicted_rating')).alias('delta_y'))\\\n",
    ".select(f.pow(f.col('delta_y'), 2).alias('delta_y_square'))\\\n",
    ".select(f.avg(f.col('delta_y_square')).alias('avg_squares'))\\\n",
    ".select(f.sqrt(f.col('avg_squares')).alias('RMSE'))\\\n",
    ".show()"
   ]
  }
 ],
 "metadata": {
  "kernelspec": {
   "display_name": "Python 3 (ipykernel)",
   "language": "python",
   "name": "python3"
  },
  "language_info": {
   "codemirror_mode": {
    "name": "ipython",
    "version": 3
   },
   "file_extension": ".py",
   "mimetype": "text/x-python",
   "name": "python",
   "nbconvert_exporter": "python",
   "pygments_lexer": "ipython3",
   "version": "3.10.12"
  }
 },
 "nbformat": 4,
 "nbformat_minor": 5
}
