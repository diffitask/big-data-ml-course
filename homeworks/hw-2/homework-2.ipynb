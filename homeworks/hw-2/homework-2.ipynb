{
 "cells": [
  {
   "cell_type": "markdown",
   "id": "532b7e38-6779-41e7-bad3-5828bb1d504b",
   "metadata": {},
   "source": [
    "# Блок 1\n",
    "## Запуск Spark application"
   ]
  },
  {
   "cell_type": "code",
   "execution_count": 1,
   "id": "initial_id",
   "metadata": {},
   "outputs": [],
   "source": [
    "import pyspark"
   ]
  },
  {
   "cell_type": "code",
   "execution_count": 2,
   "id": "433bf0b6-24b5-4da0-b2cb-fc235aa43678",
   "metadata": {},
   "outputs": [],
   "source": [
    "from pyspark import SparkContext, SparkConf"
   ]
  },
  {
   "cell_type": "code",
   "execution_count": 3,
   "id": "73b72d07-d1be-45ae-9827-b847dc91012a",
   "metadata": {},
   "outputs": [
    {
     "name": "stdout",
     "output_type": "stream",
     "text": [
      "2023-12-10 14:33:53 WARN  NativeCodeLoader:60 - Unable to load native-hadoop library for your platform... using builtin-java classes where applicable\n",
      "Safe mode is OFF\n"
     ]
    }
   ],
   "source": [
    "!hdfs dfsadmin -safemode leave"
   ]
  },
  {
   "cell_type": "code",
   "execution_count": 4,
   "id": "638bb168-8535-404c-9026-c3c58892ff8e",
   "metadata": {},
   "outputs": [],
   "source": [
    "conf = SparkConf().set(\"spark.executor.instances\", \"2\").set(\"spark.executor.cores\", \"1\").set(\"spark.executor.memory\", \"1g\")"
   ]
  },
  {
   "cell_type": "code",
   "execution_count": 5,
   "id": "1ce87606-3af8-4042-8faa-d934e710593a",
   "metadata": {},
   "outputs": [
    {
     "name": "stderr",
     "output_type": "stream",
     "text": [
      "Setting default log level to \"WARN\".\n",
      "To adjust logging level use sc.setLogLevel(newLevel). For SparkR, use setLogLevel(newLevel).\n",
      "23/12/10 14:33:58 WARN NativeCodeLoader: Unable to load native-hadoop library for your platform... using builtin-java classes where applicable\n",
      "23/12/10 14:34:00 WARN Client: Neither spark.yarn.jars nor spark.yarn.archive is set, falling back to uploading libraries under SPARK_HOME.\n"
     ]
    }
   ],
   "source": [
    "sc = SparkContext(appName=\"fedotova_spark\", master=\"yarn\")"
   ]
  },
  {
   "cell_type": "markdown",
   "id": "b0b0fabe-de76-4a11-8941-da54a11d4b5a",
   "metadata": {},
   "source": [
    "## Работа с movielens датасететом\n",
    "### Загрузка датасета"
   ]
  },
  {
   "cell_type": "code",
   "execution_count": 6,
   "id": "6fe7a5a3-aefa-48f7-b8a3-35569a71d56c",
   "metadata": {},
   "outputs": [
    {
     "name": "stdout",
     "output_type": "stream",
     "text": [
      "2023-12-10 16:30:32 WARN  NativeCodeLoader:60 - Unable to load native-hadoop library for your platform... using builtin-java classes where applicable\n",
      "rm: `ml-latest-small': No such file or directory\n"
     ]
    }
   ],
   "source": [
    "!hdfs dfs -rm -r ml-latest-small"
   ]
  },
  {
   "cell_type": "code",
   "execution_count": 7,
   "id": "03dbd651-5652-4678-8f92-ee9b512cf1df",
   "metadata": {},
   "outputs": [
    {
     "name": "stdout",
     "output_type": "stream",
     "text": [
      "2023-12-10 16:30:42 WARN  NativeCodeLoader:60 - Unable to load native-hadoop library for your platform... using builtin-java classes where applicable\n"
     ]
    }
   ],
   "source": [
    "!hdfs dfs -put ml-latest-small ."
   ]
  },
  {
   "cell_type": "markdown",
   "id": "23b23632-a182-4ec4-8eed-a1fe486cad01",
   "metadata": {},
   "source": [
    "### Чтение датасета"
   ]
  },
  {
   "cell_type": "code",
   "execution_count": 8,
   "id": "f14d9f95-a288-4629-b9e8-e63da2b9aa69",
   "metadata": {},
   "outputs": [],
   "source": [
    "rdd_ratings = sc.textFile(\"ml-latest-small/ratings.csv\")"
   ]
  },
  {
   "cell_type": "code",
   "execution_count": 9,
   "id": "bf6d7a66-e182-4b44-afe3-634175988ea2",
   "metadata": {},
   "outputs": [],
   "source": [
    "rdd_tags = sc.textFile(\"ml-latest-small/tags.csv\")"
   ]
  },
  {
   "cell_type": "markdown",
   "id": "25ecd397-22c1-4f4f-a705-897f2bd28710",
   "metadata": {},
   "source": [
    "### Подсчет количества строк"
   ]
  },
  {
   "cell_type": "code",
   "execution_count": 10,
   "id": "a891e79c-c865-4786-b1be-d6fd5a5e2846",
   "metadata": {},
   "outputs": [
    {
     "name": "stderr",
     "output_type": "stream",
     "text": [
      "                                                                                \r"
     ]
    },
    {
     "data": {
      "text/plain": [
       "100837"
      ]
     },
     "execution_count": 10,
     "metadata": {},
     "output_type": "execute_result"
    }
   ],
   "source": [
    "rdd_ratings.count()"
   ]
  },
  {
   "cell_type": "code",
   "execution_count": 12,
   "id": "198e8ee6-41ed-4eee-8cdf-5715351e54a1",
   "metadata": {},
   "outputs": [
    {
     "data": {
      "text/plain": [
       "3684"
      ]
     },
     "execution_count": 12,
     "metadata": {},
     "output_type": "execute_result"
    }
   ],
   "source": [
    "rdd_tags.count()"
   ]
  },
  {
   "cell_type": "code",
   "execution_count": null,
   "id": "222a9839-d742-4d1f-8661-140bd20381a1",
   "metadata": {},
   "outputs": [],
   "source": []
  }
 ],
 "metadata": {
  "kernelspec": {
   "display_name": "Python 3 (ipykernel)",
   "language": "python",
   "name": "python3"
  },
  "language_info": {
   "codemirror_mode": {
    "name": "ipython",
    "version": 3
   },
   "file_extension": ".py",
   "mimetype": "text/x-python",
   "name": "python",
   "nbconvert_exporter": "python",
   "pygments_lexer": "ipython3",
   "version": "3.10.12"
  }
 },
 "nbformat": 4,
 "nbformat_minor": 5
}
