{
 "cells": [
  {
   "cell_type": "markdown",
   "id": "7d9c0de3-97d2-4ecf-93ba-e5c6eef8c0b8",
   "metadata": {},
   "source": [
    "## Установка библиотек"
   ]
  },
  {
   "cell_type": "code",
   "execution_count": 1,
   "id": "0406a3a1-369a-4094-84ee-1545674fcad1",
   "metadata": {},
   "outputs": [
    {
     "name": "stdout",
     "output_type": "stream",
     "text": [
      "Collecting mrjob\n",
      "  Downloading mrjob-0.7.4-py2.py3-none-any.whl (439 kB)\n",
      "\u001b[2K     \u001b[90m━━━━━━━━━━━━━━━━━━━━━━━━━━━━━━━━━━━━━━━\u001b[0m \u001b[32m439.6/439.6 KB\u001b[0m \u001b[31m1.1 MB/s\u001b[0m eta \u001b[36m0:00:00\u001b[0m00:01\u001b[0m00:01\u001b[0m\n",
      "\u001b[?25hRequirement already satisfied: PyYAML>=3.10 in /usr/local/lib/python3.10/dist-packages (from mrjob) (6.0.1)\n",
      "Installing collected packages: mrjob\n",
      "Successfully installed mrjob-0.7.4\n",
      "\u001b[33mWARNING: Running pip as the 'root' user can result in broken permissions and conflicting behaviour with the system package manager. It is recommended to use a virtual environment instead: https://pip.pypa.io/warnings/venv\u001b[0m\u001b[33m\n",
      "\u001b[0mCollecting pyarrow\n",
      "  Downloading pyarrow-14.0.1-cp310-cp310-manylinux_2_28_aarch64.whl (35.4 MB)\n",
      "\u001b[2K     \u001b[90m━━━━━━━━━━━━━━━━━━━━━━━━━━━━━━━━━━━━━━━━\u001b[0m \u001b[32m35.4/35.4 MB\u001b[0m \u001b[31m1.2 MB/s\u001b[0m eta \u001b[36m0:00:00\u001b[0m00:01\u001b[0m00:01\u001b[0m\n",
      "\u001b[?25hCollecting numpy>=1.16.6\n",
      "  Downloading numpy-1.26.2-cp310-cp310-manylinux_2_17_aarch64.manylinux2014_aarch64.whl (14.2 MB)\n",
      "\u001b[2K     \u001b[90m━━━━━━━━━━━━━━━━━━━━━━━━━━━━━━━━━━━━━━━━\u001b[0m \u001b[32m14.2/14.2 MB\u001b[0m \u001b[31m1.2 MB/s\u001b[0m eta \u001b[36m0:00:00\u001b[0m00:01\u001b[0m00:01\u001b[0m\n",
      "\u001b[?25hInstalling collected packages: numpy, pyarrow\n",
      "Successfully installed numpy-1.26.2 pyarrow-14.0.1\n",
      "\u001b[33mWARNING: Running pip as the 'root' user can result in broken permissions and conflicting behaviour with the system package manager. It is recommended to use a virtual environment instead: https://pip.pypa.io/warnings/venv\u001b[0m\u001b[33m\n",
      "\u001b[0m"
     ]
    }
   ],
   "source": [
    "!pip install mrjob\n",
    "!pip install pyarrow"
   ]
  },
  {
   "cell_type": "markdown",
   "id": "5d0081f0-0256-4573-83be-db3c3ee3282f",
   "metadata": {},
   "source": [
    "## Загрузка данных\n",
    "\n",
    "Создаем папку для будущих данных"
   ]
  },
  {
   "cell_type": "code",
   "execution_count": 156,
   "id": "d533afab-fbd0-46ed-a1ac-bef240208a1c",
   "metadata": {},
   "outputs": [
    {
     "name": "stdout",
     "output_type": "stream",
     "text": [
      "2023-11-29 21:30:50 WARN  NativeCodeLoader:60 - Unable to load native-hadoop library for your platform... using builtin-java classes where applicable\n"
     ]
    }
   ],
   "source": [
    "!hadoop fs -mkdir /starwars"
   ]
  },
  {
   "cell_type": "code",
   "execution_count": 157,
   "id": "4f96e088-2a31-4b5a-81ca-911f5fedde90",
   "metadata": {},
   "outputs": [
    {
     "name": "stdout",
     "output_type": "stream",
     "text": [
      "2023-11-29 21:30:54 WARN  NativeCodeLoader:60 - Unable to load native-hadoop library for your platform... using builtin-java classes where applicable\n",
      "Found 3 items\n",
      "drwxr-xr-x   - root supergroup          0 2023-11-29 21:30 /starwars\n",
      "drwx-wx-wx   - root supergroup          0 2023-11-29 18:57 /tmp\n",
      "drwxr-xr-x   - root supergroup          0 2023-11-29 18:57 /user\n"
     ]
    }
   ],
   "source": [
    "!hadoop fs -ls /"
   ]
  },
  {
   "cell_type": "markdown",
   "id": "9d62679c-b102-40c7-a916-bdb7a06dc2e4",
   "metadata": {},
   "source": [
    "Загружаем файлы с данными из локальной файловой системы на hdfs"
   ]
  },
  {
   "cell_type": "code",
   "execution_count": 158,
   "id": "226c832f-9bdf-45a6-860f-c0237317f6e2",
   "metadata": {},
   "outputs": [
    {
     "name": "stdout",
     "output_type": "stream",
     "text": [
      "2023-11-29 21:31:28 WARN  NativeCodeLoader:60 - Unable to load native-hadoop library for your platform... using builtin-java classes where applicable\n",
      "2023-11-29 21:31:29 WARN  NativeCodeLoader:60 - Unable to load native-hadoop library for your platform... using builtin-java classes where applicable\n",
      "2023-11-29 21:31:30 WARN  NativeCodeLoader:60 - Unable to load native-hadoop library for your platform... using builtin-java classes where applicable\n"
     ]
    }
   ],
   "source": [
    "!hadoop fs -put ./archive/SW_EpisodeIV.txt /starwars\n",
    "!hadoop fs -put ./archive/SW_EpisodeV.txt /starwars\n",
    "!hadoop fs -put ./archive/SW_EpisodeVI.txt /starwars"
   ]
  },
  {
   "cell_type": "markdown",
   "id": "5ec43a40-78ad-453c-b216-9578cb60a89b",
   "metadata": {},
   "source": [
    "Проверим, что файлики действительно появились в hdfs"
   ]
  },
  {
   "cell_type": "code",
   "execution_count": 159,
   "id": "ff1f3401-a066-4351-bfef-a8a6be0f7c14",
   "metadata": {},
   "outputs": [
    {
     "name": "stdout",
     "output_type": "stream",
     "text": [
      "2023-11-29 21:31:41 WARN  NativeCodeLoader:60 - Unable to load native-hadoop library for your platform... using builtin-java classes where applicable\n",
      "Found 3 items\n",
      "-rw-r--r--   3 root supergroup      78255 2023-11-29 21:31 /starwars/SW_EpisodeIV.txt\n",
      "-rw-r--r--   3 root supergroup      55464 2023-11-29 21:31 /starwars/SW_EpisodeV.txt\n",
      "-rw-r--r--   3 root supergroup      48153 2023-11-29 21:31 /starwars/SW_EpisodeVI.txt\n"
     ]
    }
   ],
   "source": [
    "!hadoop fs -ls /starwars"
   ]
  },
  {
   "cell_type": "markdown",
   "id": "2e55d158-b397-4b46-9415-2db0669016c8",
   "metadata": {},
   "source": [
    "### Пути до файлов"
   ]
  },
  {
   "cell_type": "markdown",
   "id": "8f71e869-80dc-4030-b8a2-6cc0dfae95f1",
   "metadata": {},
   "source": [
    "Для удобства вынесем пути до файлов в переменные"
   ]
  },
  {
   "cell_type": "code",
   "execution_count": 160,
   "id": "afa0abb2-5771-4a76-8316-7a0f42c6ad54",
   "metadata": {},
   "outputs": [],
   "source": [
    "# original data files\n",
    "original_e4 = './archive/SW_EpisodeIV.txt'\n",
    "original_e5 = './archive/SW_EpisodeV.txt'\n",
    "original_e6 = './archive/SW_EpisodeVI.txt'\n",
    "\n",
    "# hdfs data files\n",
    "hdfs_e4 = 'hdfs://namenode:8020/starwars/SW_EpisodeIV.txt'\n",
    "hdfs_e5 = 'hdfs://namenode:8020/starwars/SW_EpisodeV.txt'\n",
    "hdfs_e6 = 'hdfs://namenode:8020/starwars/SW_EpisodeVI.txt'"
   ]
  },
  {
   "cell_type": "markdown",
   "id": "18ca2e18-b3a7-4c1f-84d4-0b15be5b3317",
   "metadata": {},
   "source": [
    "## Задание 1"
   ]
  },
  {
   "cell_type": "markdown",
   "id": "37bb5d8f-2a63-4dc2-8903-821e22bb238b",
   "metadata": {},
   "source": [
    "## Скрипт-решение: топ самых говорливых персонажей"
   ]
  },
  {
   "cell_type": "code",
   "execution_count": 161,
   "id": "50fd6e46-4df8-46b7-bc2c-02d696b5b963",
   "metadata": {},
   "outputs": [
    {
     "name": "stdout",
     "output_type": "stream",
     "text": [
      "Overwriting most_talkative_characters.py\n"
     ]
    }
   ],
   "source": [
    "%%file most_talkative_characters.py\n",
    "# %%file is an Ipython magic function that saves the code cell as a file\n",
    "\n",
    "from mrjob.job import MRJob\n",
    "from mrjob.step import MRStep\n",
    "\n",
    "TOP_N = 20\n",
    "\n",
    "class MRMostTalkativeCharacters(MRJob):\n",
    "    def steps(self):\n",
    "        return [\n",
    "            MRStep(mapper=self.mapper_get_characters,\n",
    "                   combiner=self.combiner_count_phrases,\n",
    "                   reducer=self.reducer_count_phrases),\n",
    "            MRStep(reducer=self.reducer_top_talkative_characters)\n",
    "        ]\n",
    "\n",
    "    def mapper_get_characters(self, _, line):\n",
    "        line_words = line.replace('\"', '').split()\n",
    "        character = line_words[1]\n",
    "        yield (character, 1)\n",
    "\n",
    "    def combiner_count_phrases(self, character, phrases_counts):\n",
    "        # optimization: sum the characters we've seen so far\n",
    "        yield (character, sum(phrases_counts))\n",
    "\n",
    "    def reducer_count_phrases(self, character, phrases_counts):\n",
    "        # send all (character, phrases_counts) pairs to the same reducer.\n",
    "        yield None, (character, sum(phrases_counts))\n",
    "\n",
    "    # discard the key; it is just None\n",
    "    def reducer_top_talkative_characters(self, _, character_phrases_count_pairs):\n",
    "        # each item of character_phrases_count_pairs is (character, total_phrases_count)\n",
    "        # convert to list bc 'generator' object is not subscriptable\n",
    "        character_phrases_count_pairs = list(character_phrases_count_pairs)\n",
    "        \n",
    "        # sort by total phrases count\n",
    "        character_phrases_count_pairs.sort(\n",
    "            key=lambda pair: pair[1],\n",
    "            reverse=True\n",
    "        )\n",
    "\n",
    "        # get top N talkative characters\n",
    "        top_talkative_characters = character_phrases_count_pairs[:TOP_N]\n",
    "        \n",
    "        # return the result\n",
    "        for character_count_pair in top_talkative_characters:\n",
    "            yield character_count_pair\n",
    "\n",
    "\n",
    "if __name__ == '__main__':\n",
    "    MRMostTalkativeCharacters.run()"
   ]
  },
  {
   "cell_type": "markdown",
   "id": "9a22f2d7-e9cb-43fe-b5a7-70834a6c4751",
   "metadata": {},
   "source": [
    "## Локальное тестирование"
   ]
  },
  {
   "cell_type": "markdown",
   "id": "bfaf810c-75e6-4369-a0c9-751fa52fc429",
   "metadata": {},
   "source": [
    "### Запуск скриптов"
   ]
  },
  {
   "cell_type": "code",
   "execution_count": 162,
   "id": "2acf48c4-8cb4-4a5f-92ac-985f5f9e2430",
   "metadata": {},
   "outputs": [],
   "source": [
    "# task-1 local results paths\n",
    "t1_local_res_e4 = './results/task-1/local/SW_EpisodeIV_res.txt'\n",
    "t1_local_res_e5 = './results/task-1/local/SW_EpisodeV_res.txt'\n",
    "t1_local_res_e6 = './results/task-1/local/SW_EpisodeVI_res.txt'\n",
    "t1_local_res_all = './results/task-1/local/SW_All_Episodes_res.txt'"
   ]
  },
  {
   "cell_type": "markdown",
   "id": "0515df96-f33c-4d89-a814-9b65cf1716f5",
   "metadata": {},
   "source": [
    "По каждому эпизоду"
   ]
  },
  {
   "cell_type": "code",
   "execution_count": 163,
   "id": "9d12c798-718e-4dda-8798-3aeb44b529ba",
   "metadata": {},
   "outputs": [
    {
     "name": "stdout",
     "output_type": "stream",
     "text": [
      "No configs found; falling back on auto-configuration\n",
      "No configs specified for inline runner\n",
      "Creating temp directory /tmp/most_talkative_characters.root.20231129.183201.187088\n",
      "Running step 1 of 2...\n",
      "Running step 2 of 2...\n",
      "job output is in /tmp/most_talkative_characters.root.20231129.183201.187088/output\n",
      "Streaming final output from /tmp/most_talkative_characters.root.20231129.183201.187088/output...\n",
      "Removing temp directory /tmp/most_talkative_characters.root.20231129.183201.187088...\n"
     ]
    }
   ],
   "source": [
    "!python3 most_talkative_characters.py $original_e4 > $t1_local_res_e4"
   ]
  },
  {
   "cell_type": "code",
   "execution_count": 164,
   "id": "b77e7674-5871-4611-a0fc-72993ee72aa0",
   "metadata": {},
   "outputs": [
    {
     "name": "stdout",
     "output_type": "stream",
     "text": [
      "No configs found; falling back on auto-configuration\n",
      "No configs specified for inline runner\n",
      "Creating temp directory /tmp/most_talkative_characters.root.20231129.183203.499432\n",
      "Running step 1 of 2...\n",
      "Running step 2 of 2...\n",
      "job output is in /tmp/most_talkative_characters.root.20231129.183203.499432/output\n",
      "Streaming final output from /tmp/most_talkative_characters.root.20231129.183203.499432/output...\n",
      "Removing temp directory /tmp/most_talkative_characters.root.20231129.183203.499432...\n"
     ]
    }
   ],
   "source": [
    "!python3 most_talkative_characters.py $original_e5 > $t1_local_res_e5"
   ]
  },
  {
   "cell_type": "code",
   "execution_count": 165,
   "id": "d913828b-4d58-4b0e-b656-f82c1063c04b",
   "metadata": {},
   "outputs": [
    {
     "name": "stdout",
     "output_type": "stream",
     "text": [
      "No configs found; falling back on auto-configuration\n",
      "No configs specified for inline runner\n",
      "Creating temp directory /tmp/most_talkative_characters.root.20231129.183205.471834\n",
      "Running step 1 of 2...\n",
      "Running step 2 of 2...\n",
      "job output is in /tmp/most_talkative_characters.root.20231129.183205.471834/output\n",
      "Streaming final output from /tmp/most_talkative_characters.root.20231129.183205.471834/output...\n",
      "Removing temp directory /tmp/most_talkative_characters.root.20231129.183205.471834...\n"
     ]
    }
   ],
   "source": [
    "!python3 most_talkative_characters.py $original_e6 > $t1_local_res_e6"
   ]
  },
  {
   "cell_type": "markdown",
   "id": "7047bca2-3602-4517-8f92-7be5a7e9b9e0",
   "metadata": {},
   "source": [
    "По всем трем эпизодам"
   ]
  },
  {
   "cell_type": "code",
   "execution_count": 166,
   "id": "b7c77895-e89c-4ba2-8791-b452ee23fb53",
   "metadata": {},
   "outputs": [
    {
     "name": "stdout",
     "output_type": "stream",
     "text": [
      "No configs found; falling back on auto-configuration\n",
      "No configs specified for inline runner\n",
      "Creating temp directory /tmp/most_talkative_characters.root.20231129.183211.226420\n",
      "Running step 1 of 2...\n",
      "Running step 2 of 2...\n",
      "job output is in /tmp/most_talkative_characters.root.20231129.183211.226420/output\n",
      "Streaming final output from /tmp/most_talkative_characters.root.20231129.183211.226420/output...\n",
      "Removing temp directory /tmp/most_talkative_characters.root.20231129.183211.226420...\n"
     ]
    }
   ],
   "source": [
    "!python3 most_talkative_characters.py $original_e4 $original_e5 $original_e6 > $t1_local_res_all"
   ]
  },
  {
   "cell_type": "markdown",
   "id": "6920b34d-bb6d-4bf0-8933-37af81c2a055",
   "metadata": {},
   "source": [
    "## Тестирование на кластере"
   ]
  },
  {
   "cell_type": "markdown",
   "id": "c4197ef7-0ae2-48c4-a5d7-135238f643c0",
   "metadata": {},
   "source": [
    "### Изменение конфигурации"
   ]
  },
  {
   "cell_type": "markdown",
   "id": "92571d53-deea-4f37-acb9-982a30e28c97",
   "metadata": {},
   "source": [
    "Увеличим число mapper'ов и reducer'ов, изменив конфигурацию"
   ]
  },
  {
   "cell_type": "code",
   "execution_count": 167,
   "id": "4e0aff09-7efb-41b2-ac9f-4e1990da6717",
   "metadata": {},
   "outputs": [
    {
     "name": "stdout",
     "output_type": "stream",
     "text": [
      "Overwriting config-t1.conf\n"
     ]
    }
   ],
   "source": [
    "%%file config-t1.conf\n",
    "\n",
    "runners:\n",
    "  hadoop: # also works for emr runner\n",
    "    jobconf:\n",
    "      mapreduce.job.maps: 2\n",
    "      mapreduce.job.reduces: 2"
   ]
  },
  {
   "cell_type": "markdown",
   "id": "0a8b9b62-2707-49ea-b96c-d5280b0b2440",
   "metadata": {},
   "source": [
    "### Запуск скриптов"
   ]
  },
  {
   "cell_type": "code",
   "execution_count": 168,
   "id": "23db90a0-c167-4997-b0aa-0377b47da3e3",
   "metadata": {},
   "outputs": [],
   "source": [
    "# task-1 hdfs results paths\n",
    "t1_hdfs_res_e4 = '/starwars/results/task-1/SW_EpisodeIV_res.txt'\n",
    "t1_hdfs_res_e5 = '/starwars/results/task-1/SW_EpisodeV_res.txt'\n",
    "t1_hdfs_res_e6 = '/starwars/results/task-1/SW_EpisodeVI_res.txt'\n",
    "t1_hdfs_res_all = '/starwars/results/task-1/SW_All_Episodes_res.txt'"
   ]
  },
  {
   "cell_type": "markdown",
   "id": "094a0a16-7f7d-448f-9a57-5ca262305876",
   "metadata": {},
   "source": [
    "По каждому эпизоду. Результаты сохраняем в файловую систему hdfs."
   ]
  },
  {
   "cell_type": "code",
   "execution_count": 169,
   "id": "4c1228e2-9ea3-437e-8228-56eb8c203038",
   "metadata": {},
   "outputs": [
    {
     "name": "stdout",
     "output_type": "stream",
     "text": [
      "Looking for hadoop binary in /opt/hadoop/bin...\n",
      "Found hadoop binary: /opt/hadoop/bin/hadoop\n",
      "Using Hadoop version 3.3.6\n",
      "Looking for Hadoop streaming jar in /opt/hadoop...\n",
      "Found Hadoop streaming jar: /opt/hadoop/share/hadoop/tools/lib/hadoop-streaming-3.3.6.jar\n",
      "Creating temp directory /tmp/most_talkative_characters.root.20231129.183239.618428\n",
      "uploading working dir files to hdfs:///user/root/tmp/mrjob/most_talkative_characters.root.20231129.183239.618428/files/wd...\n",
      "Copying other local files to hdfs:///user/root/tmp/mrjob/most_talkative_characters.root.20231129.183239.618428/files/\n",
      "Running step 1 of 2...\n",
      "  Unable to load native-hadoop library for your platform... using builtin-java classes where applicable\n",
      "  packageJobJar: [/tmp/hadoop-unjar71133078064757154/] [] /tmp/streamjob5788522788479100486.jar tmpDir=null\n",
      "  Connecting to ResourceManager at resourcemanager/172.18.0.3:8032\n",
      "  Connecting to ResourceManager at resourcemanager/172.18.0.3:8032\n",
      "  Disabling Erasure Coding for path: /tmp/hadoop-yarn/staging/root/.staging/job_1701257956340_0028\n",
      "  Total input files to process : 1\n",
      "  number of splits:2\n",
      "  Submitting tokens for job: job_1701257956340_0028\n",
      "  Executing with tokens: []\n",
      "  resource-types.xml not found\n",
      "  Unable to find 'resource-types.xml'.\n",
      "  Submitted application application_1701257956340_0028\n",
      "  The url to track the job: http://resourcemanager:8088/proxy/application_1701257956340_0028/\n",
      "  Running job: job_1701257956340_0028\n",
      "  Job job_1701257956340_0028 running in uber mode : false\n",
      "   map 0% reduce 0%\n",
      "   map 50% reduce 0%\n",
      "   map 100% reduce 0%\n",
      "   map 100% reduce 50%\n",
      "   map 100% reduce 100%\n",
      "  Job job_1701257956340_0028 completed successfully\n",
      "  Output directory: hdfs:///user/root/tmp/mrjob/most_talkative_characters.root.20231129.183239.618428/step-output/0000\n",
      "Counters: 54\n",
      "\tFile Input Format Counters \n",
      "\t\tBytes Read=82351\n",
      "\tFile Output Format Counters \n",
      "\t\tBytes Written=921\n",
      "\tFile System Counters\n",
      "\t\tFILE: Number of bytes read=808\n",
      "\t\tFILE: Number of bytes written=1135342\n",
      "\t\tFILE: Number of large read operations=0\n",
      "\t\tFILE: Number of read operations=0\n",
      "\t\tFILE: Number of write operations=0\n",
      "\t\tHDFS: Number of bytes read=82547\n",
      "\t\tHDFS: Number of bytes read erasure-coded=0\n",
      "\t\tHDFS: Number of bytes written=921\n",
      "\t\tHDFS: Number of large read operations=0\n",
      "\t\tHDFS: Number of read operations=16\n",
      "\t\tHDFS: Number of write operations=4\n",
      "\tJob Counters \n",
      "\t\tLaunched map tasks=2\n",
      "\t\tLaunched reduce tasks=2\n",
      "\t\tRack-local map tasks=2\n",
      "\t\tTotal megabyte-milliseconds taken by all map tasks=3366912\n",
      "\t\tTotal megabyte-milliseconds taken by all reduce tasks=2681856\n",
      "\t\tTotal time spent by all map tasks (ms)=3288\n",
      "\t\tTotal time spent by all maps in occupied slots (ms)=6576\n",
      "\t\tTotal time spent by all reduce tasks (ms)=2619\n",
      "\t\tTotal time spent by all reduces in occupied slots (ms)=5238\n",
      "\t\tTotal vcore-milliseconds taken by all map tasks=3288\n",
      "\t\tTotal vcore-milliseconds taken by all reduce tasks=2619\n",
      "\tMap-Reduce Framework\n",
      "\t\tCPU time spent (ms)=1330\n",
      "\t\tCombine input records=1010\n",
      "\t\tCombine output records=61\n",
      "\t\tFailed Shuffles=0\n",
      "\t\tGC time elapsed (ms)=120\n",
      "\t\tInput split bytes=196\n",
      "\t\tMap input records=1010\n",
      "\t\tMap output bytes=9722\n",
      "\t\tMap output materialized bytes=820\n",
      "\t\tMap output records=1010\n",
      "\t\tMerged Map outputs=4\n",
      "\t\tPeak Map Physical memory (bytes)=281432064\n",
      "\t\tPeak Map Virtual memory (bytes)=2478047232\n",
      "\t\tPeak Reduce Physical memory (bytes)=240373760\n",
      "\t\tPeak Reduce Virtual memory (bytes)=2487189504\n",
      "\t\tPhysical memory (bytes) snapshot=1013895168\n",
      "\t\tReduce input groups=48\n",
      "\t\tReduce input records=61\n",
      "\t\tReduce output records=48\n",
      "\t\tReduce shuffle bytes=820\n",
      "\t\tShuffled Maps =4\n",
      "\t\tSpilled Records=122\n",
      "\t\tTotal committed heap usage (bytes)=870842368\n",
      "\t\tVirtual memory (bytes) snapshot=9927532544\n",
      "\tShuffle Errors\n",
      "\t\tBAD_ID=0\n",
      "\t\tCONNECTION=0\n",
      "\t\tIO_ERROR=0\n",
      "\t\tWRONG_LENGTH=0\n",
      "\t\tWRONG_MAP=0\n",
      "\t\tWRONG_REDUCE=0\n",
      "Running step 2 of 2...\n",
      "  Unable to load native-hadoop library for your platform... using builtin-java classes where applicable\n",
      "  packageJobJar: [/tmp/hadoop-unjar1802826204434045755/] [] /tmp/streamjob7109106547044684201.jar tmpDir=null\n",
      "  Connecting to ResourceManager at resourcemanager/172.18.0.3:8032\n",
      "  Connecting to ResourceManager at resourcemanager/172.18.0.3:8032\n",
      "  Disabling Erasure Coding for path: /tmp/hadoop-yarn/staging/root/.staging/job_1701257956340_0029\n",
      "  Total input files to process : 2\n",
      "  number of splits:2\n",
      "  Submitting tokens for job: job_1701257956340_0029\n",
      "  Executing with tokens: []\n",
      "  resource-types.xml not found\n",
      "  Unable to find 'resource-types.xml'.\n",
      "  Submitted application application_1701257956340_0029\n",
      "  The url to track the job: http://resourcemanager:8088/proxy/application_1701257956340_0029/\n",
      "  Running job: job_1701257956340_0029\n",
      "  Job job_1701257956340_0029 running in uber mode : false\n",
      "   map 0% reduce 0%\n",
      "   map 50% reduce 0%\n",
      "   map 100% reduce 0%\n",
      "   map 100% reduce 50%\n",
      "   map 100% reduce 100%\n",
      "  Job job_1701257956340_0029 completed successfully\n",
      "  Output directory: hdfs:///starwars/results/task-1/SW_EpisodeIV_res.txt\n",
      "Counters: 54\n",
      "\tFile Input Format Counters \n",
      "\t\tBytes Read=921\n",
      "\tFile Output Format Counters \n",
      "\t\tBytes Written=221\n",
      "\tFile System Counters\n",
      "\t\tFILE: Number of bytes read=1029\n",
      "\t\tFILE: Number of bytes written=1133664\n",
      "\t\tFILE: Number of large read operations=0\n",
      "\t\tFILE: Number of read operations=0\n",
      "\t\tFILE: Number of write operations=0\n",
      "\t\tHDFS: Number of bytes read=1259\n",
      "\t\tHDFS: Number of bytes read erasure-coded=0\n",
      "\t\tHDFS: Number of bytes written=221\n",
      "\t\tHDFS: Number of large read operations=0\n",
      "\t\tHDFS: Number of read operations=16\n",
      "\t\tHDFS: Number of write operations=4\n",
      "\tJob Counters \n",
      "\t\tLaunched map tasks=2\n",
      "\t\tLaunched reduce tasks=2\n",
      "\t\tRack-local map tasks=2\n",
      "\t\tTotal megabyte-milliseconds taken by all map tasks=2676736\n",
      "\t\tTotal megabyte-milliseconds taken by all reduce tasks=2641920\n",
      "\t\tTotal time spent by all map tasks (ms)=2614\n",
      "\t\tTotal time spent by all maps in occupied slots (ms)=5228\n",
      "\t\tTotal time spent by all reduce tasks (ms)=2580\n",
      "\t\tTotal time spent by all reduces in occupied slots (ms)=5160\n",
      "\t\tTotal vcore-milliseconds taken by all map tasks=2614\n",
      "\t\tTotal vcore-milliseconds taken by all reduce tasks=2580\n",
      "\tMap-Reduce Framework\n",
      "\t\tCPU time spent (ms)=990\n",
      "\t\tCombine input records=0\n",
      "\t\tCombine output records=0\n",
      "\t\tFailed Shuffles=0\n",
      "\t\tGC time elapsed (ms)=111\n",
      "\t\tInput split bytes=338\n",
      "\t\tMap input records=48\n",
      "\t\tMap output bytes=921\n",
      "\t\tMap output materialized bytes=1041\n",
      "\t\tMap output records=48\n",
      "\t\tMerged Map outputs=4\n",
      "\t\tPeak Map Physical memory (bytes)=310886400\n",
      "\t\tPeak Map Virtual memory (bytes)=2482188288\n",
      "\t\tPeak Reduce Physical memory (bytes)=235220992\n",
      "\t\tPeak Reduce Virtual memory (bytes)=2485567488\n",
      "\t\tPhysical memory (bytes) snapshot=1016459264\n",
      "\t\tReduce input groups=1\n",
      "\t\tReduce input records=48\n",
      "\t\tReduce output records=20\n",
      "\t\tReduce shuffle bytes=1041\n",
      "\t\tShuffled Maps =4\n",
      "\t\tSpilled Records=96\n",
      "\t\tTotal committed heap usage (bytes)=816840704\n",
      "\t\tVirtual memory (bytes) snapshot=9929093120\n",
      "\tShuffle Errors\n",
      "\t\tBAD_ID=0\n",
      "\t\tCONNECTION=0\n",
      "\t\tIO_ERROR=0\n",
      "\t\tWRONG_LENGTH=0\n",
      "\t\tWRONG_MAP=0\n",
      "\t\tWRONG_REDUCE=0\n",
      "job output is in hdfs:///starwars/results/task-1/SW_EpisodeIV_res.txt\n",
      "Removing HDFS temp directory hdfs:///user/root/tmp/mrjob/most_talkative_characters.root.20231129.183239.618428...\n",
      "Removing temp directory /tmp/most_talkative_characters.root.20231129.183239.618428...\n"
     ]
    }
   ],
   "source": [
    "!python3 most_talkative_characters.py -r hadoop $hdfs_e4 --conf-path config-t1.conf --output $t1_hdfs_res_e4"
   ]
  },
  {
   "cell_type": "code",
   "execution_count": 170,
   "id": "52dd26d1-8ead-43bb-9fe0-6cb54eb158a9",
   "metadata": {},
   "outputs": [
    {
     "name": "stdout",
     "output_type": "stream",
     "text": [
      "Looking for hadoop binary in /opt/hadoop/bin...\n",
      "Found hadoop binary: /opt/hadoop/bin/hadoop\n",
      "Using Hadoop version 3.3.6\n",
      "Looking for Hadoop streaming jar in /opt/hadoop...\n",
      "Found Hadoop streaming jar: /opt/hadoop/share/hadoop/tools/lib/hadoop-streaming-3.3.6.jar\n",
      "Creating temp directory /tmp/most_talkative_characters.root.20231129.183352.087034\n",
      "uploading working dir files to hdfs:///user/root/tmp/mrjob/most_talkative_characters.root.20231129.183352.087034/files/wd...\n",
      "Copying other local files to hdfs:///user/root/tmp/mrjob/most_talkative_characters.root.20231129.183352.087034/files/\n",
      "Running step 1 of 2...\n",
      "  Unable to load native-hadoop library for your platform... using builtin-java classes where applicable\n",
      "  packageJobJar: [/tmp/hadoop-unjar8581318806081350310/] [] /tmp/streamjob5830183056996958284.jar tmpDir=null\n",
      "  Connecting to ResourceManager at resourcemanager/172.18.0.3:8032\n",
      "  Connecting to ResourceManager at resourcemanager/172.18.0.3:8032\n",
      "  Disabling Erasure Coding for path: /tmp/hadoop-yarn/staging/root/.staging/job_1701257956340_0030\n",
      "  Total input files to process : 1\n",
      "  number of splits:2\n",
      "  Submitting tokens for job: job_1701257956340_0030\n",
      "  Executing with tokens: []\n",
      "  resource-types.xml not found\n",
      "  Unable to find 'resource-types.xml'.\n",
      "  Submitted application application_1701257956340_0030\n",
      "  The url to track the job: http://resourcemanager:8088/proxy/application_1701257956340_0030/\n",
      "  Running job: job_1701257956340_0030\n",
      "  Job job_1701257956340_0030 running in uber mode : false\n",
      "   map 0% reduce 0%\n",
      "   map 50% reduce 0%\n",
      "   map 100% reduce 0%\n",
      "   map 100% reduce 50%\n",
      "   map 100% reduce 100%\n",
      "  Job job_1701257956340_0030 completed successfully\n",
      "  Output directory: hdfs:///user/root/tmp/mrjob/most_talkative_characters.root.20231129.183352.087034/step-output/0000\n",
      "Counters: 54\n",
      "\tFile Input Format Counters \n",
      "\t\tBytes Read=59560\n",
      "\tFile Output Format Counters \n",
      "\t\tBytes Written=870\n",
      "\tFile System Counters\n",
      "\t\tFILE: Number of bytes read=752\n",
      "\t\tFILE: Number of bytes written=1135226\n",
      "\t\tFILE: Number of large read operations=0\n",
      "\t\tFILE: Number of read operations=0\n",
      "\t\tFILE: Number of write operations=0\n",
      "\t\tHDFS: Number of bytes read=59754\n",
      "\t\tHDFS: Number of bytes read erasure-coded=0\n",
      "\t\tHDFS: Number of bytes written=870\n",
      "\t\tHDFS: Number of large read operations=0\n",
      "\t\tHDFS: Number of read operations=16\n",
      "\t\tHDFS: Number of write operations=4\n",
      "\tJob Counters \n",
      "\t\tLaunched map tasks=2\n",
      "\t\tLaunched reduce tasks=2\n",
      "\t\tRack-local map tasks=2\n",
      "\t\tTotal megabyte-milliseconds taken by all map tasks=3460096\n",
      "\t\tTotal megabyte-milliseconds taken by all reduce tasks=2683904\n",
      "\t\tTotal time spent by all map tasks (ms)=3379\n",
      "\t\tTotal time spent by all maps in occupied slots (ms)=6758\n",
      "\t\tTotal time spent by all reduce tasks (ms)=2621\n",
      "\t\tTotal time spent by all reduces in occupied slots (ms)=5242\n",
      "\t\tTotal vcore-milliseconds taken by all map tasks=3379\n",
      "\t\tTotal vcore-milliseconds taken by all reduce tasks=2621\n",
      "\tMap-Reduce Framework\n",
      "\t\tCPU time spent (ms)=1240\n",
      "\t\tCombine input records=839\n",
      "\t\tCombine output records=56\n",
      "\t\tFailed Shuffles=0\n",
      "\t\tGC time elapsed (ms)=122\n",
      "\t\tInput split bytes=194\n",
      "\t\tMap input records=839\n",
      "\t\tMap output bytes=8170\n",
      "\t\tMap output materialized bytes=764\n",
      "\t\tMap output records=839\n",
      "\t\tMerged Map outputs=4\n",
      "\t\tPeak Map Physical memory (bytes)=333312000\n",
      "\t\tPeak Map Virtual memory (bytes)=2478821376\n",
      "\t\tPeak Reduce Physical memory (bytes)=256196608\n",
      "\t\tPeak Reduce Virtual memory (bytes)=2486054912\n",
      "\t\tPhysical memory (bytes) snapshot=1138434048\n",
      "\t\tReduce input groups=45\n",
      "\t\tReduce input records=56\n",
      "\t\tReduce output records=45\n",
      "\t\tReduce shuffle bytes=764\n",
      "\t\tShuffled Maps =4\n",
      "\t\tSpilled Records=112\n",
      "\t\tTotal committed heap usage (bytes)=924319744\n",
      "\t\tVirtual memory (bytes) snapshot=9928237056\n",
      "\tShuffle Errors\n",
      "\t\tBAD_ID=0\n",
      "\t\tCONNECTION=0\n",
      "\t\tIO_ERROR=0\n",
      "\t\tWRONG_LENGTH=0\n",
      "\t\tWRONG_MAP=0\n",
      "\t\tWRONG_REDUCE=0\n",
      "Running step 2 of 2...\n",
      "  Unable to load native-hadoop library for your platform... using builtin-java classes where applicable\n",
      "  packageJobJar: [/tmp/hadoop-unjar117001054513359167/] [] /tmp/streamjob2356096404570462980.jar tmpDir=null\n",
      "  Connecting to ResourceManager at resourcemanager/172.18.0.3:8032\n",
      "  Connecting to ResourceManager at resourcemanager/172.18.0.3:8032\n",
      "  Disabling Erasure Coding for path: /tmp/hadoop-yarn/staging/root/.staging/job_1701257956340_0031\n",
      "  Total input files to process : 2\n",
      "  number of splits:2\n",
      "  Submitting tokens for job: job_1701257956340_0031\n",
      "  Executing with tokens: []\n",
      "  resource-types.xml not found\n",
      "  Unable to find 'resource-types.xml'.\n",
      "  Submitted application application_1701257956340_0031\n",
      "  The url to track the job: http://resourcemanager:8088/proxy/application_1701257956340_0031/\n",
      "  Running job: job_1701257956340_0031\n",
      "  Job job_1701257956340_0031 running in uber mode : false\n",
      "   map 0% reduce 0%\n",
      "   map 100% reduce 0%\n",
      "   map 100% reduce 100%\n",
      "  Job job_1701257956340_0031 completed successfully\n",
      "  Output directory: hdfs:///starwars/results/task-1/SW_EpisodeV_res.txt\n",
      "Counters: 54\n",
      "\tFile Input Format Counters \n",
      "\t\tBytes Read=870\n",
      "\tFile Output Format Counters \n",
      "\t\tBytes Written=214\n",
      "\tFile System Counters\n",
      "\t\tFILE: Number of bytes read=972\n",
      "\t\tFILE: Number of bytes written=1133546\n",
      "\t\tFILE: Number of large read operations=0\n",
      "\t\tFILE: Number of read operations=0\n",
      "\t\tFILE: Number of write operations=0\n",
      "\t\tHDFS: Number of bytes read=1208\n",
      "\t\tHDFS: Number of bytes read erasure-coded=0\n",
      "\t\tHDFS: Number of bytes written=214\n",
      "\t\tHDFS: Number of large read operations=0\n",
      "\t\tHDFS: Number of read operations=16\n",
      "\t\tHDFS: Number of write operations=4\n",
      "\tJob Counters \n",
      "\t\tLaunched map tasks=2\n",
      "\t\tLaunched reduce tasks=2\n",
      "\t\tRack-local map tasks=2\n",
      "\t\tTotal megabyte-milliseconds taken by all map tasks=2608128\n",
      "\t\tTotal megabyte-milliseconds taken by all reduce tasks=2565120\n",
      "\t\tTotal time spent by all map tasks (ms)=2547\n",
      "\t\tTotal time spent by all maps in occupied slots (ms)=5094\n",
      "\t\tTotal time spent by all reduce tasks (ms)=2505\n",
      "\t\tTotal time spent by all reduces in occupied slots (ms)=5010\n",
      "\t\tTotal vcore-milliseconds taken by all map tasks=2547\n",
      "\t\tTotal vcore-milliseconds taken by all reduce tasks=2505\n",
      "\tMap-Reduce Framework\n",
      "\t\tCPU time spent (ms)=1030\n",
      "\t\tCombine input records=0\n",
      "\t\tCombine output records=0\n",
      "\t\tFailed Shuffles=0\n",
      "\t\tGC time elapsed (ms)=117\n",
      "\t\tInput split bytes=338\n",
      "\t\tMap input records=45\n",
      "\t\tMap output bytes=870\n",
      "\t\tMap output materialized bytes=984\n",
      "\t\tMap output records=45\n",
      "\t\tMerged Map outputs=4\n",
      "\t\tPeak Map Physical memory (bytes)=270213120\n",
      "\t\tPeak Map Virtual memory (bytes)=2477600768\n",
      "\t\tPeak Reduce Physical memory (bytes)=267345920\n",
      "\t\tPeak Reduce Virtual memory (bytes)=2486136832\n",
      "\t\tPhysical memory (bytes) snapshot=1057214464\n",
      "\t\tReduce input groups=1\n",
      "\t\tReduce input records=45\n",
      "\t\tReduce output records=20\n",
      "\t\tReduce shuffle bytes=984\n",
      "\t\tShuffled Maps =4\n",
      "\t\tSpilled Records=90\n",
      "\t\tTotal committed heap usage (bytes)=773324800\n",
      "\t\tVirtual memory (bytes) snapshot=9922969600\n",
      "\tShuffle Errors\n",
      "\t\tBAD_ID=0\n",
      "\t\tCONNECTION=0\n",
      "\t\tIO_ERROR=0\n",
      "\t\tWRONG_LENGTH=0\n",
      "\t\tWRONG_MAP=0\n",
      "\t\tWRONG_REDUCE=0\n",
      "job output is in hdfs:///starwars/results/task-1/SW_EpisodeV_res.txt\n",
      "Removing HDFS temp directory hdfs:///user/root/tmp/mrjob/most_talkative_characters.root.20231129.183352.087034...\n",
      "Removing temp directory /tmp/most_talkative_characters.root.20231129.183352.087034...\n"
     ]
    }
   ],
   "source": [
    "!python3 most_talkative_characters.py -r hadoop $hdfs_e5 --conf-path config-t1.conf --output $t1_hdfs_res_e5"
   ]
  },
  {
   "cell_type": "code",
   "execution_count": 171,
   "id": "b0bf7acc-1166-498c-ae48-46f60ceb004a",
   "metadata": {},
   "outputs": [
    {
     "name": "stdout",
     "output_type": "stream",
     "text": [
      "Looking for hadoop binary in /opt/hadoop/bin...\n",
      "Found hadoop binary: /opt/hadoop/bin/hadoop\n",
      "Using Hadoop version 3.3.6\n",
      "Looking for Hadoop streaming jar in /opt/hadoop...\n",
      "Found Hadoop streaming jar: /opt/hadoop/share/hadoop/tools/lib/hadoop-streaming-3.3.6.jar\n",
      "Creating temp directory /tmp/most_talkative_characters.root.20231129.183434.162679\n",
      "uploading working dir files to hdfs:///user/root/tmp/mrjob/most_talkative_characters.root.20231129.183434.162679/files/wd...\n",
      "Copying other local files to hdfs:///user/root/tmp/mrjob/most_talkative_characters.root.20231129.183434.162679/files/\n",
      "Running step 1 of 2...\n",
      "  Unable to load native-hadoop library for your platform... using builtin-java classes where applicable\n",
      "  packageJobJar: [/tmp/hadoop-unjar8301660513370636041/] [] /tmp/streamjob936642036607338949.jar tmpDir=null\n",
      "  Connecting to ResourceManager at resourcemanager/172.18.0.3:8032\n",
      "  Connecting to ResourceManager at resourcemanager/172.18.0.3:8032\n",
      "  Disabling Erasure Coding for path: /tmp/hadoop-yarn/staging/root/.staging/job_1701257956340_0032\n",
      "  Total input files to process : 1\n",
      "  number of splits:2\n",
      "  Submitting tokens for job: job_1701257956340_0032\n",
      "  Executing with tokens: []\n",
      "  resource-types.xml not found\n",
      "  Unable to find 'resource-types.xml'.\n",
      "  Submitted application application_1701257956340_0032\n",
      "  The url to track the job: http://resourcemanager:8088/proxy/application_1701257956340_0032/\n",
      "  Running job: job_1701257956340_0032\n",
      "  Job job_1701257956340_0032 running in uber mode : false\n",
      "   map 0% reduce 0%\n",
      "   map 50% reduce 0%\n",
      "   map 100% reduce 0%\n",
      "   map 100% reduce 50%\n",
      "   map 100% reduce 100%\n",
      "  Job job_1701257956340_0032 completed successfully\n",
      "  Output directory: hdfs:///user/root/tmp/mrjob/most_talkative_characters.root.20231129.183434.162679/step-output/0000\n",
      "Counters: 54\n",
      "\tFile Input Format Counters \n",
      "\t\tBytes Read=52249\n",
      "\tFile Output Format Counters \n",
      "\t\tBytes Written=866\n",
      "\tFile System Counters\n",
      "\t\tFILE: Number of bytes read=726\n",
      "\t\tFILE: Number of bytes written=1135174\n",
      "\t\tFILE: Number of large read operations=0\n",
      "\t\tFILE: Number of read operations=0\n",
      "\t\tFILE: Number of write operations=0\n",
      "\t\tHDFS: Number of bytes read=52445\n",
      "\t\tHDFS: Number of bytes read erasure-coded=0\n",
      "\t\tHDFS: Number of bytes written=866\n",
      "\t\tHDFS: Number of large read operations=0\n",
      "\t\tHDFS: Number of read operations=16\n",
      "\t\tHDFS: Number of write operations=4\n",
      "\tJob Counters \n",
      "\t\tLaunched map tasks=2\n",
      "\t\tLaunched reduce tasks=2\n",
      "\t\tRack-local map tasks=2\n",
      "\t\tTotal megabyte-milliseconds taken by all map tasks=3204096\n",
      "\t\tTotal megabyte-milliseconds taken by all reduce tasks=2691072\n",
      "\t\tTotal time spent by all map tasks (ms)=3129\n",
      "\t\tTotal time spent by all maps in occupied slots (ms)=6258\n",
      "\t\tTotal time spent by all reduce tasks (ms)=2628\n",
      "\t\tTotal time spent by all reduces in occupied slots (ms)=5256\n",
      "\t\tTotal vcore-milliseconds taken by all map tasks=3129\n",
      "\t\tTotal vcore-milliseconds taken by all reduce tasks=2628\n",
      "\tMap-Reduce Framework\n",
      "\t\tCPU time spent (ms)=1290\n",
      "\t\tCombine input records=674\n",
      "\t\tCombine output records=54\n",
      "\t\tFailed Shuffles=0\n",
      "\t\tGC time elapsed (ms)=117\n",
      "\t\tInput split bytes=196\n",
      "\t\tMap input records=674\n",
      "\t\tMap output bytes=6799\n",
      "\t\tMap output materialized bytes=738\n",
      "\t\tMap output records=674\n",
      "\t\tMerged Map outputs=4\n",
      "\t\tPeak Map Physical memory (bytes)=269807616\n",
      "\t\tPeak Map Virtual memory (bytes)=2478305280\n",
      "\t\tPeak Reduce Physical memory (bytes)=259592192\n",
      "\t\tPeak Reduce Virtual memory (bytes)=2485559296\n",
      "\t\tPhysical memory (bytes) snapshot=1054900224\n",
      "\t\tReduce input groups=45\n",
      "\t\tReduce input records=54\n",
      "\t\tReduce output records=45\n",
      "\t\tReduce shuffle bytes=738\n",
      "\t\tShuffled Maps =4\n",
      "\t\tSpilled Records=108\n",
      "\t\tTotal committed heap usage (bytes)=830996480\n",
      "\t\tVirtual memory (bytes) snapshot=9927176192\n",
      "\tShuffle Errors\n",
      "\t\tBAD_ID=0\n",
      "\t\tCONNECTION=0\n",
      "\t\tIO_ERROR=0\n",
      "\t\tWRONG_LENGTH=0\n",
      "\t\tWRONG_MAP=0\n",
      "\t\tWRONG_REDUCE=0\n",
      "Running step 2 of 2...\n",
      "  Unable to load native-hadoop library for your platform... using builtin-java classes where applicable\n",
      "  packageJobJar: [/tmp/hadoop-unjar8245469670465428386/] [] /tmp/streamjob5940221868703747165.jar tmpDir=null\n",
      "  Connecting to ResourceManager at resourcemanager/172.18.0.3:8032\n",
      "  Connecting to ResourceManager at resourcemanager/172.18.0.3:8032\n",
      "  Disabling Erasure Coding for path: /tmp/hadoop-yarn/staging/root/.staging/job_1701257956340_0033\n",
      "  Total input files to process : 2\n",
      "  number of splits:3\n",
      "  Submitting tokens for job: job_1701257956340_0033\n",
      "  Executing with tokens: []\n",
      "  resource-types.xml not found\n",
      "  Unable to find 'resource-types.xml'.\n",
      "  Submitted application application_1701257956340_0033\n",
      "  The url to track the job: http://resourcemanager:8088/proxy/application_1701257956340_0033/\n",
      "  Running job: job_1701257956340_0033\n",
      "  Job job_1701257956340_0033 running in uber mode : false\n",
      "   map 0% reduce 0%\n",
      "   map 33% reduce 0%\n",
      "   map 67% reduce 0%\n",
      "   map 100% reduce 0%\n",
      "   map 100% reduce 50%\n",
      "   map 100% reduce 100%\n",
      "  Job job_1701257956340_0033 completed successfully\n",
      "  Output directory: hdfs:///starwars/results/task-1/SW_EpisodeVI_res.txt\n",
      "Counters: 54\n",
      "\tFile Input Format Counters \n",
      "\t\tBytes Read=943\n",
      "\tFile Output Format Counters \n",
      "\t\tBytes Written=232\n",
      "\tFile System Counters\n",
      "\t\tFILE: Number of bytes read=968\n",
      "\t\tFILE: Number of bytes written=1416492\n",
      "\t\tFILE: Number of large read operations=0\n",
      "\t\tFILE: Number of read operations=0\n",
      "\t\tFILE: Number of write operations=0\n",
      "\t\tHDFS: Number of bytes read=1450\n",
      "\t\tHDFS: Number of bytes read erasure-coded=0\n",
      "\t\tHDFS: Number of bytes written=232\n",
      "\t\tHDFS: Number of large read operations=0\n",
      "\t\tHDFS: Number of read operations=19\n",
      "\t\tHDFS: Number of write operations=4\n",
      "\tJob Counters \n",
      "\t\tLaunched map tasks=3\n",
      "\t\tLaunched reduce tasks=2\n",
      "\t\tRack-local map tasks=3\n",
      "\t\tTotal megabyte-milliseconds taken by all map tasks=4248576\n",
      "\t\tTotal megabyte-milliseconds taken by all reduce tasks=2770944\n",
      "\t\tTotal time spent by all map tasks (ms)=4149\n",
      "\t\tTotal time spent by all maps in occupied slots (ms)=8298\n",
      "\t\tTotal time spent by all reduce tasks (ms)=2706\n",
      "\t\tTotal time spent by all reduces in occupied slots (ms)=5412\n",
      "\t\tTotal vcore-milliseconds taken by all map tasks=4149\n",
      "\t\tTotal vcore-milliseconds taken by all reduce tasks=2706\n",
      "\tMap-Reduce Framework\n",
      "\t\tCPU time spent (ms)=1250\n",
      "\t\tCombine input records=0\n",
      "\t\tCombine output records=0\n",
      "\t\tFailed Shuffles=0\n",
      "\t\tGC time elapsed (ms)=157\n",
      "\t\tInput split bytes=507\n",
      "\t\tMap input records=45\n",
      "\t\tMap output bytes=866\n",
      "\t\tMap output materialized bytes=992\n",
      "\t\tMap output records=45\n",
      "\t\tMerged Map outputs=6\n",
      "\t\tPeak Map Physical memory (bytes)=310456320\n",
      "\t\tPeak Map Virtual memory (bytes)=2478919680\n",
      "\t\tPeak Reduce Physical memory (bytes)=265834496\n",
      "\t\tPeak Reduce Virtual memory (bytes)=2487279616\n",
      "\t\tPhysical memory (bytes) snapshot=1356124160\n",
      "\t\tReduce input groups=1\n",
      "\t\tReduce input records=45\n",
      "\t\tReduce output records=20\n",
      "\t\tReduce shuffle bytes=992\n",
      "\t\tShuffled Maps =6\n",
      "\t\tSpilled Records=90\n",
      "\t\tTotal committed heap usage (bytes)=1045954560\n",
      "\t\tVirtual memory (bytes) snapshot=12405559296\n",
      "\tShuffle Errors\n",
      "\t\tBAD_ID=0\n",
      "\t\tCONNECTION=0\n",
      "\t\tIO_ERROR=0\n",
      "\t\tWRONG_LENGTH=0\n",
      "\t\tWRONG_MAP=0\n",
      "\t\tWRONG_REDUCE=0\n",
      "job output is in hdfs:///starwars/results/task-1/SW_EpisodeVI_res.txt\n",
      "Removing HDFS temp directory hdfs:///user/root/tmp/mrjob/most_talkative_characters.root.20231129.183434.162679...\n",
      "Removing temp directory /tmp/most_talkative_characters.root.20231129.183434.162679...\n"
     ]
    }
   ],
   "source": [
    "!python3 most_talkative_characters.py -r hadoop $hdfs_e6 --conf-path config-t1.conf --output $t1_hdfs_res_e6"
   ]
  },
  {
   "cell_type": "markdown",
   "id": "59320201-ad91-4a07-a6e6-6306af113f43",
   "metadata": {},
   "source": [
    "По всем эпизодам"
   ]
  },
  {
   "cell_type": "code",
   "execution_count": 174,
   "id": "5207d282-8aaa-48ab-9821-97192b7bb6f2",
   "metadata": {},
   "outputs": [
    {
     "name": "stdout",
     "output_type": "stream",
     "text": [
      "Looking for hadoop binary in /opt/hadoop/bin...\n",
      "Found hadoop binary: /opt/hadoop/bin/hadoop\n",
      "Using Hadoop version 3.3.6\n",
      "Looking for Hadoop streaming jar in /opt/hadoop...\n",
      "Found Hadoop streaming jar: /opt/hadoop/share/hadoop/tools/lib/hadoop-streaming-3.3.6.jar\n",
      "Creating temp directory /tmp/most_talkative_characters.root.20231129.183550.946613\n",
      "uploading working dir files to hdfs:///user/root/tmp/mrjob/most_talkative_characters.root.20231129.183550.946613/files/wd...\n",
      "Copying other local files to hdfs:///user/root/tmp/mrjob/most_talkative_characters.root.20231129.183550.946613/files/\n",
      "Running step 1 of 2...\n",
      "  Unable to load native-hadoop library for your platform... using builtin-java classes where applicable\n",
      "  packageJobJar: [/tmp/hadoop-unjar4449862089091554044/] [] /tmp/streamjob9055322147879468631.jar tmpDir=null\n",
      "  Connecting to ResourceManager at resourcemanager/172.18.0.3:8032\n",
      "  Connecting to ResourceManager at resourcemanager/172.18.0.3:8032\n",
      "  Disabling Erasure Coding for path: /tmp/hadoop-yarn/staging/root/.staging/job_1701257956340_0034\n",
      "  Total input files to process : 3\n",
      "  number of splits:3\n",
      "  Submitting tokens for job: job_1701257956340_0034\n",
      "  Executing with tokens: []\n",
      "  resource-types.xml not found\n",
      "  Unable to find 'resource-types.xml'.\n",
      "  Submitted application application_1701257956340_0034\n",
      "  The url to track the job: http://resourcemanager:8088/proxy/application_1701257956340_0034/\n",
      "  Running job: job_1701257956340_0034\n",
      "  Job job_1701257956340_0034 running in uber mode : false\n",
      "   map 0% reduce 0%\n",
      "   map 33% reduce 0%\n",
      "   map 67% reduce 0%\n",
      "   map 100% reduce 0%\n",
      "   map 100% reduce 100%\n",
      "  Job job_1701257956340_0034 completed successfully\n",
      "  Output directory: hdfs:///user/root/tmp/mrjob/most_talkative_characters.root.20231129.183550.946613/step-output/0000\n",
      "Counters: 54\n",
      "\tFile Input Format Counters \n",
      "\t\tBytes Read=181872\n",
      "\tFile Output Format Counters \n",
      "\t\tBytes Written=1901\n",
      "\tFile System Counters\n",
      "\t\tFILE: Number of bytes read=1841\n",
      "\t\tFILE: Number of bytes written=1421353\n",
      "\t\tFILE: Number of large read operations=0\n",
      "\t\tFILE: Number of read operations=0\n",
      "\t\tFILE: Number of write operations=0\n",
      "\t\tHDFS: Number of bytes read=182165\n",
      "\t\tHDFS: Number of bytes read erasure-coded=0\n",
      "\t\tHDFS: Number of bytes written=1901\n",
      "\t\tHDFS: Number of large read operations=0\n",
      "\t\tHDFS: Number of read operations=19\n",
      "\t\tHDFS: Number of write operations=4\n",
      "\tJob Counters \n",
      "\t\tLaunched map tasks=3\n",
      "\t\tLaunched reduce tasks=2\n",
      "\t\tRack-local map tasks=3\n",
      "\t\tTotal megabyte-milliseconds taken by all map tasks=4792320\n",
      "\t\tTotal megabyte-milliseconds taken by all reduce tasks=2740224\n",
      "\t\tTotal time spent by all map tasks (ms)=4680\n",
      "\t\tTotal time spent by all maps in occupied slots (ms)=9360\n",
      "\t\tTotal time spent by all reduce tasks (ms)=2676\n",
      "\t\tTotal time spent by all reduces in occupied slots (ms)=5352\n",
      "\t\tTotal vcore-milliseconds taken by all map tasks=4680\n",
      "\t\tTotal vcore-milliseconds taken by all reduce tasks=2676\n",
      "\tMap-Reduce Framework\n",
      "\t\tCPU time spent (ms)=1650\n",
      "\t\tCombine input records=2523\n",
      "\t\tCombine output records=138\n",
      "\t\tFailed Shuffles=0\n",
      "\t\tGC time elapsed (ms)=143\n",
      "\t\tInput split bytes=293\n",
      "\t\tMap input records=2523\n",
      "\t\tMap output bytes=24691\n",
      "\t\tMap output materialized bytes=1865\n",
      "\t\tMap output records=2523\n",
      "\t\tMerged Map outputs=6\n",
      "\t\tPeak Map Physical memory (bytes)=318377984\n",
      "\t\tPeak Map Virtual memory (bytes)=2478481408\n",
      "\t\tPeak Reduce Physical memory (bytes)=267190272\n",
      "\t\tPeak Reduce Virtual memory (bytes)=2487705600\n",
      "\t\tPhysical memory (bytes) snapshot=1349709824\n",
      "\t\tReduce input groups=98\n",
      "\t\tReduce input records=138\n",
      "\t\tReduce output records=98\n",
      "\t\tReduce shuffle bytes=1865\n",
      "\t\tShuffled Maps =6\n",
      "\t\tSpilled Records=276\n",
      "\t\tTotal committed heap usage (bytes)=1103101952\n",
      "\t\tVirtual memory (bytes) snapshot=12407115776\n",
      "\tShuffle Errors\n",
      "\t\tBAD_ID=0\n",
      "\t\tCONNECTION=0\n",
      "\t\tIO_ERROR=0\n",
      "\t\tWRONG_LENGTH=0\n",
      "\t\tWRONG_MAP=0\n",
      "\t\tWRONG_REDUCE=0\n",
      "Running step 2 of 2...\n",
      "  Unable to load native-hadoop library for your platform... using builtin-java classes where applicable\n",
      "  packageJobJar: [/tmp/hadoop-unjar1513278973701834643/] [] /tmp/streamjob885400391690363832.jar tmpDir=null\n",
      "  Connecting to ResourceManager at resourcemanager/172.18.0.3:8032\n",
      "  Connecting to ResourceManager at resourcemanager/172.18.0.3:8032\n",
      "  Disabling Erasure Coding for path: /tmp/hadoop-yarn/staging/root/.staging/job_1701257956340_0035\n",
      "  Total input files to process : 2\n",
      "  number of splits:2\n",
      "  Submitting tokens for job: job_1701257956340_0035\n",
      "  Executing with tokens: []\n",
      "  resource-types.xml not found\n",
      "  Unable to find 'resource-types.xml'.\n",
      "  Submitted application application_1701257956340_0035\n",
      "  The url to track the job: http://resourcemanager:8088/proxy/application_1701257956340_0035/\n",
      "  Running job: job_1701257956340_0035\n",
      "  Job job_1701257956340_0035 running in uber mode : false\n",
      "   map 0% reduce 0%\n",
      "   map 50% reduce 0%\n",
      "   map 100% reduce 0%\n",
      "   map 100% reduce 50%\n",
      "   map 100% reduce 100%\n",
      "  Job job_1701257956340_0035 completed successfully\n",
      "  Output directory: hdfs:///starwars/results/task-1/SW_All_Episodes_res.txt\n",
      "Counters: 54\n",
      "\tFile Input Format Counters \n",
      "\t\tBytes Read=1901\n",
      "\tFile Output Format Counters \n",
      "\t\tBytes Written=229\n",
      "\tFile System Counters\n",
      "\t\tFILE: Number of bytes read=2109\n",
      "\t\tFILE: Number of bytes written=1135832\n",
      "\t\tFILE: Number of large read operations=0\n",
      "\t\tFILE: Number of read operations=0\n",
      "\t\tFILE: Number of write operations=0\n",
      "\t\tHDFS: Number of bytes read=2239\n",
      "\t\tHDFS: Number of bytes read erasure-coded=0\n",
      "\t\tHDFS: Number of bytes written=229\n",
      "\t\tHDFS: Number of large read operations=0\n",
      "\t\tHDFS: Number of read operations=16\n",
      "\t\tHDFS: Number of write operations=4\n",
      "\tJob Counters \n",
      "\t\tLaunched map tasks=2\n",
      "\t\tLaunched reduce tasks=2\n",
      "\t\tRack-local map tasks=2\n",
      "\t\tTotal megabyte-milliseconds taken by all map tasks=2625536\n",
      "\t\tTotal megabyte-milliseconds taken by all reduce tasks=2613248\n",
      "\t\tTotal time spent by all map tasks (ms)=2564\n",
      "\t\tTotal time spent by all maps in occupied slots (ms)=5128\n",
      "\t\tTotal time spent by all reduce tasks (ms)=2552\n",
      "\t\tTotal time spent by all reduces in occupied slots (ms)=5104\n",
      "\t\tTotal vcore-milliseconds taken by all map tasks=2564\n",
      "\t\tTotal vcore-milliseconds taken by all reduce tasks=2552\n",
      "\tMap-Reduce Framework\n",
      "\t\tCPU time spent (ms)=1010\n",
      "\t\tCombine input records=0\n",
      "\t\tCombine output records=0\n",
      "\t\tFailed Shuffles=0\n",
      "\t\tGC time elapsed (ms)=114\n",
      "\t\tInput split bytes=338\n",
      "\t\tMap input records=98\n",
      "\t\tMap output bytes=1901\n",
      "\t\tMap output materialized bytes=2121\n",
      "\t\tMap output records=98\n",
      "\t\tMerged Map outputs=4\n",
      "\t\tPeak Map Physical memory (bytes)=256585728\n",
      "\t\tPeak Map Virtual memory (bytes)=2477998080\n",
      "\t\tPeak Reduce Physical memory (bytes)=257556480\n",
      "\t\tPeak Reduce Virtual memory (bytes)=2486235136\n",
      "\t\tPhysical memory (bytes) snapshot=978513920\n",
      "\t\tReduce input groups=1\n",
      "\t\tReduce input records=98\n",
      "\t\tReduce output records=20\n",
      "\t\tReduce shuffle bytes=2121\n",
      "\t\tShuffled Maps =4\n",
      "\t\tSpilled Records=196\n",
      "\t\tTotal committed heap usage (bytes)=740818944\n",
      "\t\tVirtual memory (bytes) snapshot=9926725632\n",
      "\tShuffle Errors\n",
      "\t\tBAD_ID=0\n",
      "\t\tCONNECTION=0\n",
      "\t\tIO_ERROR=0\n",
      "\t\tWRONG_LENGTH=0\n",
      "\t\tWRONG_MAP=0\n",
      "\t\tWRONG_REDUCE=0\n",
      "job output is in hdfs:///starwars/results/task-1/SW_All_Episodes_res.txt\n",
      "Removing HDFS temp directory hdfs:///user/root/tmp/mrjob/most_talkative_characters.root.20231129.183550.946613...\n",
      "Removing temp directory /tmp/most_talkative_characters.root.20231129.183550.946613...\n"
     ]
    }
   ],
   "source": [
    "!python3 most_talkative_characters.py -r hadoop $hdfs_e4 $hdfs_e5 $hdfs_e6 --conf-path config-t1.conf --output $t1_hdfs_res_all"
   ]
  },
  {
   "cell_type": "markdown",
   "id": "ca6c19c1-a325-400e-87df-5d6e88cfa49c",
   "metadata": {},
   "source": [
    "### Просмотр результатов выполнения"
   ]
  },
  {
   "cell_type": "code",
   "execution_count": 175,
   "id": "c21765ae-4874-43a3-b617-be0df5a64d09",
   "metadata": {},
   "outputs": [
    {
     "name": "stdout",
     "output_type": "stream",
     "text": [
      "2023-11-29 21:37:01 WARN  NativeCodeLoader:60 - Unable to load native-hadoop library for your platform... using builtin-java classes where applicable\n",
      "\"LUKE\"\t494\n",
      "\"HAN\"\t460\n",
      "\"THREEPIO\"\t301\n",
      "\"LEIA\"\t227\n",
      "\"VADER\"\t140\n",
      "\"BEN\"\t115\n",
      "\"LANDO\"\t101\n",
      "\"RED\"\t52\n",
      "\"YODA\"\t49\n",
      "\"EMPEROR\"\t44\n",
      "\"BIGGS\"\t34\n",
      "\"WEDGE\"\t33\n",
      "\"PIETT\"\t31\n",
      "\"TARKIN\"\t28\n",
      "\"JABBA\"\t26\n",
      "\"OWEN\"\t25\n",
      "\"GOLD\"\t23\n",
      "\"CREATURE\"\t22\n",
      "\"TROOPER\"\t20\n",
      "\"OFFICER\"\t14\n"
     ]
    }
   ],
   "source": [
    "!hadoop fs -cat /starwars/results/task-1/SW_All_Episodes_res.txt/part-00000"
   ]
  },
  {
   "cell_type": "code",
   "execution_count": 176,
   "id": "06b72568-e174-4d43-ae0e-03fda15e17d4",
   "metadata": {},
   "outputs": [
    {
     "name": "stdout",
     "output_type": "stream",
     "text": [
      "2023-11-29 21:37:11 WARN  NativeCodeLoader:60 - Unable to load native-hadoop library for your platform... using builtin-java classes where applicable\n"
     ]
    }
   ],
   "source": [
    "!hadoop fs -cat /starwars/results/task-1/SW_All_Episodes_res.txt/part-00001"
   ]
  },
  {
   "cell_type": "markdown",
   "id": "f1b04504-9a36-421b-a089-c718c91b23cc",
   "metadata": {},
   "source": [
    "Все успешно. Результаты попали в одну часть."
   ]
  },
  {
   "cell_type": "markdown",
   "id": "a5cc9e22-8480-4b04-9d50-87e12ee4f789",
   "metadata": {},
   "source": [
    "### Скачивание файлов"
   ]
  },
  {
   "cell_type": "markdown",
   "id": "c5d3829c-7784-4f14-96a1-783c38fdbc83",
   "metadata": {},
   "source": [
    "Скачаем полученные в результате тестирования файлы локально на компьютер"
   ]
  },
  {
   "cell_type": "code",
   "execution_count": 179,
   "id": "a8d07593-314b-45b5-882d-72c92319017a",
   "metadata": {},
   "outputs": [
    {
     "name": "stdout",
     "output_type": "stream",
     "text": [
      "2023-11-29 21:39:58 WARN  NativeCodeLoader:60 - Unable to load native-hadoop library for your platform... using builtin-java classes where applicable\n",
      "2023-11-29 21:40:00 WARN  NativeCodeLoader:60 - Unable to load native-hadoop library for your platform... using builtin-java classes where applicable\n",
      "2023-11-29 21:40:01 WARN  NativeCodeLoader:60 - Unable to load native-hadoop library for your platform... using builtin-java classes where applicable\n",
      "2023-11-29 21:40:02 WARN  NativeCodeLoader:60 - Unable to load native-hadoop library for your platform... using builtin-java classes where applicable\n"
     ]
    }
   ],
   "source": [
    "!hadoop fs -get hdfs://namenode:8020/starwars/results/task-1/SW_EpisodeIV_res.txt ./results/task-1/hdfs/SW_EpisodeIV_res\n",
    "!hadoop fs -get hdfs://namenode:8020/starwars/results/task-1/SW_EpisodeV_res.txt ./results/task-1/hdfs/SW_EpisodeV_res\n",
    "!hadoop fs -get hdfs://namenode:8020/starwars/results/task-1/SW_EpisodeVI_res.txt ./results/task-1/hdfs/SW_EpisodeVI_res\n",
    "!hadoop fs -get hdfs://namenode:8020/starwars/results/task-1/SW_All_Episodes_res.txt ./results/task-1/hdfs/SW_All_Episodes_res"
   ]
  },
  {
   "cell_type": "markdown",
   "id": "738dc711-e23a-444d-8203-c2605c038189",
   "metadata": {},
   "source": [
    "## Построение графиков"
   ]
  },
  {
   "cell_type": "code",
   "execution_count": 180,
   "id": "47c64207-0347-406e-a7e9-3fcb55c801ac",
   "metadata": {},
   "outputs": [],
   "source": [
    "from typing import Tuple, List"
   ]
  },
  {
   "cell_type": "code",
   "execution_count": 181,
   "id": "03c0fc96-04e7-4694-bab2-99f67eba54c1",
   "metadata": {},
   "outputs": [],
   "source": [
    "def results_parsing(res_file_path: str) -> Tuple[List, List]:\n",
    "    characters = []\n",
    "    phrases_counts = []\n",
    "\n",
    "    with open(res_file_path) as res_file:\n",
    "        for line in res_file:\n",
    "            line_words = line.split('\\t')\n",
    "\n",
    "            character = line_words[0].replace('\"', '')\n",
    "            characters.append(character)\n",
    "            \n",
    "            phrases_count = int(line_words[1].replace('\\n', ''))\n",
    "            phrases_counts.append(phrases_count)\n",
    "    return characters, phrases_counts"
   ]
  },
  {
   "cell_type": "code",
   "execution_count": 32,
   "id": "c539cbf9-b5fc-4b64-af4c-11039adee15d",
   "metadata": {},
   "outputs": [
    {
     "name": "stdout",
     "output_type": "stream",
     "text": [
      "Collecting matplotlib\n",
      "  Downloading matplotlib-3.8.2-cp310-cp310-manylinux_2_17_aarch64.manylinux2014_aarch64.whl (11.4 MB)\n",
      "\u001b[2K     \u001b[90m━━━━━━━━━━━━━━━━━━━━━━━━━━━━━━━━━━━━━━━━\u001b[0m \u001b[32m11.4/11.4 MB\u001b[0m \u001b[31m1.2 MB/s\u001b[0m eta \u001b[36m0:00:00\u001b[0m00:01\u001b[0m00:01\u001b[0m\n",
      "\u001b[?25hCollecting pyparsing>=2.3.1\n",
      "  Downloading pyparsing-3.1.1-py3-none-any.whl (103 kB)\n",
      "\u001b[2K     \u001b[90m━━━━━━━━━━━━━━━━━━━━━━━━━━━━━━━━━━━━━━━\u001b[0m \u001b[32m103.1/103.1 KB\u001b[0m \u001b[31m1.2 MB/s\u001b[0m eta \u001b[36m0:00:00\u001b[0ma \u001b[36m0:00:01\u001b[0m\n",
      "\u001b[?25hRequirement already satisfied: python-dateutil>=2.7 in /usr/local/lib/python3.10/dist-packages (from matplotlib) (2.8.2)\n",
      "Collecting fonttools>=4.22.0\n",
      "  Downloading fonttools-4.45.1-cp310-cp310-manylinux_2_17_aarch64.manylinux2014_aarch64.whl (4.5 MB)\n",
      "\u001b[2K     \u001b[90m━━━━━━━━━━━━━━━━━━━━━━━━━━━━━━━━━━━━━━━━\u001b[0m \u001b[32m4.5/4.5 MB\u001b[0m \u001b[31m876.6 kB/s\u001b[0m eta \u001b[36m0:00:00\u001b[0m00:01\u001b[0m00:01\u001b[0m\n",
      "\u001b[?25hCollecting contourpy>=1.0.1\n",
      "  Downloading contourpy-1.2.0-cp310-cp310-manylinux_2_17_aarch64.manylinux2014_aarch64.whl (293 kB)\n",
      "\u001b[2K     \u001b[90m━━━━━━━━━━━━━━━━━━━━━━━━━━━━━━━━━━━━━━━\u001b[0m \u001b[32m293.2/293.2 KB\u001b[0m \u001b[31m1.1 MB/s\u001b[0m eta \u001b[36m0:00:00\u001b[0ma \u001b[36m0:00:01\u001b[0m\n",
      "\u001b[?25hRequirement already satisfied: numpy<2,>=1.21 in /usr/local/lib/python3.10/dist-packages (from matplotlib) (1.26.2)\n",
      "Requirement already satisfied: packaging>=20.0 in /usr/local/lib/python3.10/dist-packages (from matplotlib) (23.2)\n",
      "Collecting kiwisolver>=1.3.1\n",
      "  Downloading kiwisolver-1.4.5-cp310-cp310-manylinux_2_17_aarch64.manylinux2014_aarch64.whl (1.4 MB)\n",
      "\u001b[2K     \u001b[90m━━━━━━━━━━━━━━━━━━━━━━━━━━━━━━━━━━━━━━━━\u001b[0m \u001b[32m1.4/1.4 MB\u001b[0m \u001b[31m1.2 MB/s\u001b[0m eta \u001b[36m0:00:00\u001b[0m00:01\u001b[0m00:01\u001b[0m\n",
      "\u001b[?25hCollecting cycler>=0.10\n",
      "  Downloading cycler-0.12.1-py3-none-any.whl (8.3 kB)\n",
      "Collecting pillow>=8\n",
      "  Downloading Pillow-10.1.0-cp310-cp310-manylinux_2_28_aarch64.whl (3.5 MB)\n",
      "\u001b[2K     \u001b[90m━━━━━━━━━━━━━━━━━━━━━━━━━━━━━━━━━━━━━━━━\u001b[0m \u001b[32m3.5/3.5 MB\u001b[0m \u001b[31m1.2 MB/s\u001b[0m eta \u001b[36m0:00:00\u001b[0m00:01\u001b[0m00:01\u001b[0m\n",
      "\u001b[?25hRequirement already satisfied: six>=1.5 in /usr/local/lib/python3.10/dist-packages (from python-dateutil>=2.7->matplotlib) (1.16.0)\n",
      "Installing collected packages: pyparsing, pillow, kiwisolver, fonttools, cycler, contourpy, matplotlib\n",
      "Successfully installed contourpy-1.2.0 cycler-0.12.1 fonttools-4.45.1 kiwisolver-1.4.5 matplotlib-3.8.2 pillow-10.1.0 pyparsing-3.1.1\n",
      "\u001b[33mWARNING: Running pip as the 'root' user can result in broken permissions and conflicting behaviour with the system package manager. It is recommended to use a virtual environment instead: https://pip.pypa.io/warnings/venv\u001b[0m\u001b[33m\n",
      "\u001b[0m"
     ]
    }
   ],
   "source": [
    "!pip install matplotlib"
   ]
  },
  {
   "cell_type": "code",
   "execution_count": 266,
   "id": "f88ea049-fbce-45a3-9434-a2fd53974a44",
   "metadata": {},
   "outputs": [],
   "source": [
    "from matplotlib import pyplot as plt\n",
    "\n",
    "def build_graphic(characters: List, phrases_counts: List):\n",
    "    plt.figure(figsize=(20,5))\n",
    "    plt.bar(characters, phrases_counts, width=0.6)\n",
    "    plt.xlabel('Character')\n",
    "    plt. xticks(fontsize=8)\n",
    "    plt.ylabel('Number of phrases')\n",
    "    plt.title('Characters phrases counts')\n",
    "    plt.grid()\n",
    "    plt.show()"
   ]
  },
  {
   "cell_type": "code",
   "execution_count": 267,
   "id": "b6b14397-50e1-4b85-b5ad-6e988bc6c5db",
   "metadata": {},
   "outputs": [],
   "source": [
    "def results_graphic(res_file_path: str):\n",
    "    characters, phrases_counts = results_parsing(res_file_path)\n",
    "    build_graphic(characters, phrases_counts)"
   ]
  },
  {
   "cell_type": "markdown",
   "id": "86f7dcfd-4657-43d7-ace8-cfa54cf6507c",
   "metadata": {},
   "source": [
    "Построим графики для файлов с результатами"
   ]
  },
  {
   "cell_type": "code",
   "execution_count": 268,
   "id": "6dfb329a-0897-48ef-9191-4019d6409ba1",
   "metadata": {},
   "outputs": [
    {
     "data": {
      "image/png": "[encoded data removed]",
      "text/plain": [
       "<Figure size 2000x500 with 1 Axes>"
      ]
     },
     "metadata": {},
     "output_type": "display_data"
    }
   ],
   "source": [
    "results_graphic(t1_local_res_e4)"
   ]
  },
  {
   "cell_type": "code",
   "execution_count": 269,
   "id": "2e538101-0b63-46ee-89ad-28365fa98a99",
   "metadata": {},
   "outputs": [
    {
     "data": {
      "image/png": "[encoded data removed]",
      "text/plain": [
       "<Figure size 2000x500 with 1 Axes>"
      ]
     },
     "metadata": {},
     "output_type": "display_data"
    }
   ],
   "source": [
    "results_graphic(t1_local_res_e5)"
   ]
  },
  {
   "cell_type": "code",
   "execution_count": 270,
   "id": "568b2689-9c46-49d0-9a06-122569b640d8",
   "metadata": {},
   "outputs": [
    {
     "data": {
      "image/png": "[encoded data removed]",
      "text/plain": [
       "<Figure size 2000x500 with 1 Axes>"
      ]
     },
     "metadata": {},
     "output_type": "display_data"
    }
   ],
   "source": [
    "results_graphic(t1_local_res_e6)"
   ]
  },
  {
   "cell_type": "code",
   "execution_count": 271,
   "id": "eca7aba6-a3f8-4d20-b390-38a1c73bc0ef",
   "metadata": {},
   "outputs": [
    {
     "data": {
      "image/png": "[encoded data removed]",
      "text/plain": [
       "<Figure size 2000x500 with 1 Axes>"
      ]
     },
     "metadata": {},
     "output_type": "display_data"
    }
   ],
   "source": [
    "results_graphic(t1_local_res_all)"
   ]
  },
  {
   "cell_type": "markdown",
   "id": "5564670f-d5df-4d99-a4e1-a2f0a595e08f",
   "metadata": {},
   "source": [
    "## Задание 2"
   ]
  },
  {
   "cell_type": "markdown",
   "id": "51203cc2-3f35-4e0e-a322-2640af91d91c",
   "metadata": {},
   "source": [
    "## Скрипт-решение: самая длинная фраза каждого персонажа"
   ]
  },
  {
   "cell_type": "code",
   "execution_count": 207,
   "id": "b31d0a1b-3a8c-4d15-9e28-6772680cb08c",
   "metadata": {},
   "outputs": [
    {
     "name": "stdout",
     "output_type": "stream",
     "text": [
      "Overwriting longest_character_phrase.py\n"
     ]
    }
   ],
   "source": [
    "%%file longest_character_phrase.py\n",
    "# %%file is an Ipython magic function that saves the code cell as a file\n",
    "\n",
    "from mrjob.job import MRJob\n",
    "from mrjob.step import MRStep\n",
    "\n",
    "class MRLongestCharacterPhrase(MRJob):\n",
    "    def steps(self):\n",
    "        return [\n",
    "            MRStep(mapper=self.mapper_get_character_phrase,\n",
    "                   combiner=self.combiner_longest_phrase,\n",
    "                   reducer=self.reducer_longest_phrase),\n",
    "            MRStep(reducer=self.reducer_sort_characters_by_phrase_len)\n",
    "        ]\n",
    "\n",
    "    def mapper_get_character_phrase(self, _, line):\n",
    "        line_words = line.replace('\"', '').split()\n",
    "        character = line_words[1]\n",
    "        phrase = ' '.join(line_words[2:])\n",
    "        yield (character, phrase)\n",
    "\n",
    "    def combiner_longest_phrase(self, character, phrases):\n",
    "        # optimization: longest character phrase we've seen so far\n",
    "        longest_character_phrase = max(phrases, key=len)\n",
    "        yield (character, longest_character_phrase)\n",
    "\n",
    "    def reducer_longest_phrase(self, character, longest_phrases):\n",
    "        # the longest character phrase among all data\n",
    "        longest_character_phrase = max(longest_phrases, key=len)\n",
    "        yield None, (character, longest_character_phrase)\n",
    "\n",
    "    # discard the key; it is just None\n",
    "    def reducer_sort_characters_by_phrase_len(self, _, character_longest_phrase_pairs):\n",
    "        # each item of character_longest_phrase_pairs is (character, longest_phrase)\n",
    "        # convert to list bc 'generator' object is not subscriptable\n",
    "        character_longest_phrase_pairs = list(character_longest_phrase_pairs)\n",
    "        \n",
    "        # sort by total phrases count\n",
    "        character_longest_phrase_pairs.sort(\n",
    "            key=lambda pair: len(pair[1]),\n",
    "            reverse=True\n",
    "        )\n",
    "\n",
    "        # return the result\n",
    "        for character_phrase_pair in character_longest_phrase_pairs:\n",
    "            yield character_phrase_pair\n",
    "\n",
    "\n",
    "if __name__ == '__main__':\n",
    "    MRLongestCharacterPhrase.run()"
   ]
  },
  {
   "cell_type": "markdown",
   "id": "7f9b47d8-81b7-4ea8-8f1c-d40bd159c777",
   "metadata": {},
   "source": [
    "## Локальное тестирование"
   ]
  },
  {
   "cell_type": "markdown",
   "id": "4e828eba-d9b4-4455-8ffe-85a9f83fbf99",
   "metadata": {},
   "source": [
    "### Запуск скриптов"
   ]
  },
  {
   "cell_type": "code",
   "execution_count": 208,
   "id": "0b2797c8-56ed-455b-a78c-2051f657e896",
   "metadata": {},
   "outputs": [],
   "source": [
    "# task-2 local results paths\n",
    "t2_local_res_e4 = './results/task-2/local/SW_EpisodeIV_res.txt'\n",
    "t2_local_res_e5 = './results/task-2/local/SW_EpisodeV_res.txt'\n",
    "t2_local_res_e6 = './results/task-2/local/SW_EpisodeVI_res.txt'\n",
    "t2_local_res_all = './results/task-2/local/SW_All_Episodes_res.txt'"
   ]
  },
  {
   "cell_type": "markdown",
   "id": "10e6ef0a-edd5-408a-a9ce-e2db252cb970",
   "metadata": {},
   "source": [
    "По каждому эпизоду"
   ]
  },
  {
   "cell_type": "code",
   "execution_count": 209,
   "id": "786a5a42-704f-44a3-bf12-f370c159bd18",
   "metadata": {},
   "outputs": [
    {
     "name": "stdout",
     "output_type": "stream",
     "text": [
      "No configs found; falling back on auto-configuration\n",
      "No configs specified for inline runner\n",
      "Creating temp directory /tmp/longest_character_phrase.root.20231129.184340.118303\n",
      "Running step 1 of 2...\n",
      "Running step 2 of 2...\n",
      "job output is in /tmp/longest_character_phrase.root.20231129.184340.118303/output\n",
      "Streaming final output from /tmp/longest_character_phrase.root.20231129.184340.118303/output...\n",
      "Removing temp directory /tmp/longest_character_phrase.root.20231129.184340.118303...\n"
     ]
    }
   ],
   "source": [
    "!python3 longest_character_phrase.py $original_e4 > $t2_local_res_e4"
   ]
  },
  {
   "cell_type": "code",
   "execution_count": 210,
   "id": "e36fea07-0058-4fcd-a489-f572f8aacd6a",
   "metadata": {},
   "outputs": [
    {
     "name": "stdout",
     "output_type": "stream",
     "text": [
      "No configs found; falling back on auto-configuration\n",
      "No configs specified for inline runner\n",
      "Creating temp directory /tmp/longest_character_phrase.root.20231129.184341.904408\n",
      "Running step 1 of 2...\n",
      "Running step 2 of 2...\n",
      "job output is in /tmp/longest_character_phrase.root.20231129.184341.904408/output\n",
      "Streaming final output from /tmp/longest_character_phrase.root.20231129.184341.904408/output...\n",
      "Removing temp directory /tmp/longest_character_phrase.root.20231129.184341.904408...\n"
     ]
    }
   ],
   "source": [
    "!python3 longest_character_phrase.py $original_e5 > $t2_local_res_e5"
   ]
  },
  {
   "cell_type": "code",
   "execution_count": 211,
   "id": "2fbcc89a-0e9a-4084-9fe4-5f62bc3e7f6d",
   "metadata": {},
   "outputs": [
    {
     "name": "stdout",
     "output_type": "stream",
     "text": [
      "No configs found; falling back on auto-configuration\n",
      "No configs specified for inline runner\n",
      "Creating temp directory /tmp/longest_character_phrase.root.20231129.184343.386716\n",
      "Running step 1 of 2...\n",
      "Running step 2 of 2...\n",
      "job output is in /tmp/longest_character_phrase.root.20231129.184343.386716/output\n",
      "Streaming final output from /tmp/longest_character_phrase.root.20231129.184343.386716/output...\n",
      "Removing temp directory /tmp/longest_character_phrase.root.20231129.184343.386716...\n"
     ]
    }
   ],
   "source": [
    "!python3 longest_character_phrase.py $original_e6 > $t2_local_res_e6"
   ]
  },
  {
   "cell_type": "markdown",
   "id": "db57b7dc-78da-4438-ade8-c83151ffc870",
   "metadata": {},
   "source": [
    "По всем трем эпизодам"
   ]
  },
  {
   "cell_type": "code",
   "execution_count": 212,
   "id": "d3a9639b-5e64-489d-bf32-0635e589ce9a",
   "metadata": {},
   "outputs": [
    {
     "name": "stdout",
     "output_type": "stream",
     "text": [
      "No configs found; falling back on auto-configuration\n",
      "No configs specified for inline runner\n",
      "Creating temp directory /tmp/longest_character_phrase.root.20231129.184347.207483\n",
      "Running step 1 of 2...\n",
      "Running step 2 of 2...\n",
      "job output is in /tmp/longest_character_phrase.root.20231129.184347.207483/output\n",
      "Streaming final output from /tmp/longest_character_phrase.root.20231129.184347.207483/output...\n",
      "Removing temp directory /tmp/longest_character_phrase.root.20231129.184347.207483...\n"
     ]
    }
   ],
   "source": [
    "!python3 longest_character_phrase.py $original_e4 $original_e5 $original_e6 > $t2_local_res_all"
   ]
  },
  {
   "cell_type": "markdown",
   "id": "9eadaf76-bcac-4671-9628-485bed4db9ce",
   "metadata": {},
   "source": [
    "## Тестирование на кластере"
   ]
  },
  {
   "cell_type": "markdown",
   "id": "a6a4c0d2-effe-4724-b207-963f18968139",
   "metadata": {},
   "source": [
    "### Запуск скриптов"
   ]
  },
  {
   "cell_type": "code",
   "execution_count": 213,
   "id": "80fe3638-812d-4291-bea0-f71e5dee04d3",
   "metadata": {},
   "outputs": [],
   "source": [
    "# task-2 hdfs results paths\n",
    "t2_hdfs_res_e4 = '/starwars/results/task-2/SW_EpisodeIV_res.txt'\n",
    "t2_hdfs_res_e5 = '/starwars/results/task-2/SW_EpisodeV_res.txt'\n",
    "t2_hdfs_res_e6 = '/starwars/results/task-2/SW_EpisodeVI_res.txt'\n",
    "t2_hdfs_res_all = '/starwars/results/task-2/SW_All_Episodes_res.txt'"
   ]
  },
  {
   "cell_type": "markdown",
   "id": "7f12d7b7-9ab6-4a6e-ae86-93760d0e4e6d",
   "metadata": {},
   "source": [
    "По каждому эпизоду. Результаты сохраняем в файловую систему hdfs."
   ]
  },
  {
   "cell_type": "code",
   "execution_count": 214,
   "id": "61e6736a-ac2d-47c1-afe9-743af270512b",
   "metadata": {},
   "outputs": [
    {
     "name": "stdout",
     "output_type": "stream",
     "text": [
      "Looking for hadoop binary in /opt/hadoop/bin...\n",
      "Found hadoop binary: /opt/hadoop/bin/hadoop\n",
      "Using Hadoop version 3.3.6\n",
      "Looking for Hadoop streaming jar in /opt/hadoop...\n",
      "Found Hadoop streaming jar: /opt/hadoop/share/hadoop/tools/lib/hadoop-streaming-3.3.6.jar\n",
      "Creating temp directory /tmp/longest_character_phrase.root.20231129.184355.872010\n",
      "uploading working dir files to hdfs:///user/root/tmp/mrjob/longest_character_phrase.root.20231129.184355.872010/files/wd...\n",
      "Copying other local files to hdfs:///user/root/tmp/mrjob/longest_character_phrase.root.20231129.184355.872010/files/\n",
      "Running step 1 of 2...\n",
      "  Unable to load native-hadoop library for your platform... using builtin-java classes where applicable\n",
      "  packageJobJar: [/tmp/hadoop-unjar3308074517190860628/] [] /tmp/streamjob841190316563234693.jar tmpDir=null\n",
      "  Connecting to ResourceManager at resourcemanager/172.18.0.3:8032\n",
      "  Connecting to ResourceManager at resourcemanager/172.18.0.3:8032\n",
      "  Disabling Erasure Coding for path: /tmp/hadoop-yarn/staging/root/.staging/job_1701257956340_0036\n",
      "  Total input files to process : 1\n",
      "  number of splits:2\n",
      "  Submitting tokens for job: job_1701257956340_0036\n",
      "  Executing with tokens: []\n",
      "  resource-types.xml not found\n",
      "  Unable to find 'resource-types.xml'.\n",
      "  Submitted application application_1701257956340_0036\n",
      "  The url to track the job: http://resourcemanager:8088/proxy/application_1701257956340_0036/\n",
      "  Running job: job_1701257956340_0036\n",
      "  Job job_1701257956340_0036 running in uber mode : false\n",
      "   map 0% reduce 0%\n",
      "   map 100% reduce 0%\n",
      "   map 100% reduce 50%\n",
      "   map 100% reduce 100%\n",
      "  Job job_1701257956340_0036 completed successfully\n",
      "  Output directory: hdfs:///user/root/tmp/mrjob/longest_character_phrase.root.20231129.184355.872010/step-output/0000\n",
      "Counters: 54\n",
      "\tFile Input Format Counters \n",
      "\t\tBytes Read=82351\n",
      "\tFile Output Format Counters \n",
      "\t\tBytes Written=8107\n",
      "\tFile System Counters\n",
      "\t\tFILE: Number of bytes read=9672\n",
      "\t\tFILE: Number of bytes written=1153006\n",
      "\t\tFILE: Number of large read operations=0\n",
      "\t\tFILE: Number of read operations=0\n",
      "\t\tFILE: Number of write operations=0\n",
      "\t\tHDFS: Number of bytes read=82547\n",
      "\t\tHDFS: Number of bytes read erasure-coded=0\n",
      "\t\tHDFS: Number of bytes written=8107\n",
      "\t\tHDFS: Number of large read operations=0\n",
      "\t\tHDFS: Number of read operations=16\n",
      "\t\tHDFS: Number of write operations=4\n",
      "\tJob Counters \n",
      "\t\tLaunched map tasks=2\n",
      "\t\tLaunched reduce tasks=2\n",
      "\t\tRack-local map tasks=2\n",
      "\t\tTotal megabyte-milliseconds taken by all map tasks=3238912\n",
      "\t\tTotal megabyte-milliseconds taken by all reduce tasks=2664448\n",
      "\t\tTotal time spent by all map tasks (ms)=3163\n",
      "\t\tTotal time spent by all maps in occupied slots (ms)=6326\n",
      "\t\tTotal time spent by all reduce tasks (ms)=2602\n",
      "\t\tTotal time spent by all reduces in occupied slots (ms)=5204\n",
      "\t\tTotal vcore-milliseconds taken by all map tasks=3163\n",
      "\t\tTotal vcore-milliseconds taken by all reduce tasks=2602\n",
      "\tMap-Reduce Framework\n",
      "\t\tCPU time spent (ms)=1250\n",
      "\t\tCombine input records=1010\n",
      "\t\tCombine output records=61\n",
      "\t\tFailed Shuffles=0\n",
      "\t\tGC time elapsed (ms)=109\n",
      "\t\tInput split bytes=196\n",
      "\t\tMap input records=1010\n",
      "\t\tMap output bytes=71671\n",
      "\t\tMap output materialized bytes=9684\n",
      "\t\tMap output records=1010\n",
      "\t\tMerged Map outputs=4\n",
      "\t\tPeak Map Physical memory (bytes)=332808192\n",
      "\t\tPeak Map Virtual memory (bytes)=2477907968\n",
      "\t\tPeak Reduce Physical memory (bytes)=263839744\n",
      "\t\tPeak Reduce Virtual memory (bytes)=2487414784\n",
      "\t\tPhysical memory (bytes) snapshot=1112584192\n",
      "\t\tReduce input groups=48\n",
      "\t\tReduce input records=61\n",
      "\t\tReduce output records=48\n",
      "\t\tReduce shuffle bytes=9684\n",
      "\t\tShuffled Maps =4\n",
      "\t\tSpilled Records=122\n",
      "\t\tTotal committed heap usage (bytes)=845676544\n",
      "\t\tVirtual memory (bytes) snapshot=9927745536\n",
      "\tShuffle Errors\n",
      "\t\tBAD_ID=0\n",
      "\t\tCONNECTION=0\n",
      "\t\tIO_ERROR=0\n",
      "\t\tWRONG_LENGTH=0\n",
      "\t\tWRONG_MAP=0\n",
      "\t\tWRONG_REDUCE=0\n",
      "Running step 2 of 2...\n",
      "  Unable to load native-hadoop library for your platform... using builtin-java classes where applicable\n",
      "  packageJobJar: [/tmp/hadoop-unjar5233914333166535769/] [] /tmp/streamjob7405992282184731331.jar tmpDir=null\n",
      "  Connecting to ResourceManager at resourcemanager/172.18.0.3:8032\n",
      "  Connecting to ResourceManager at resourcemanager/172.18.0.3:8032\n",
      "  Disabling Erasure Coding for path: /tmp/hadoop-yarn/staging/root/.staging/job_1701257956340_0037\n",
      "  Total input files to process : 2\n",
      "  number of splits:2\n",
      "  Submitting tokens for job: job_1701257956340_0037\n",
      "  Executing with tokens: []\n",
      "  resource-types.xml not found\n",
      "  Unable to find 'resource-types.xml'.\n",
      "  Submitted application application_1701257956340_0037\n",
      "  The url to track the job: http://resourcemanager:8088/proxy/application_1701257956340_0037/\n",
      "  Running job: job_1701257956340_0037\n",
      "  Job job_1701257956340_0037 running in uber mode : false\n",
      "   map 0% reduce 0%\n",
      "   map 100% reduce 0%\n",
      "   map 100% reduce 50%\n",
      "   map 100% reduce 100%\n",
      "  Job job_1701257956340_0037 completed successfully\n",
      "  Output directory: hdfs:///starwars/results/task-2/SW_EpisodeIV_res.txt\n",
      "Counters: 54\n",
      "\tFile Input Format Counters \n",
      "\t\tBytes Read=8107\n",
      "\tFile Output Format Counters \n",
      "\t\tBytes Written=7723\n",
      "\tFile System Counters\n",
      "\t\tFILE: Number of bytes read=8277\n",
      "\t\tFILE: Number of bytes written=1148108\n",
      "\t\tFILE: Number of large read operations=0\n",
      "\t\tFILE: Number of read operations=0\n",
      "\t\tFILE: Number of write operations=0\n",
      "\t\tHDFS: Number of bytes read=8443\n",
      "\t\tHDFS: Number of bytes read erasure-coded=0\n",
      "\t\tHDFS: Number of bytes written=7723\n",
      "\t\tHDFS: Number of large read operations=0\n",
      "\t\tHDFS: Number of read operations=16\n",
      "\t\tHDFS: Number of write operations=4\n",
      "\tJob Counters \n",
      "\t\tLaunched map tasks=2\n",
      "\t\tLaunched reduce tasks=2\n",
      "\t\tRack-local map tasks=2\n",
      "\t\tTotal megabyte-milliseconds taken by all map tasks=2596864\n",
      "\t\tTotal megabyte-milliseconds taken by all reduce tasks=2641920\n",
      "\t\tTotal time spent by all map tasks (ms)=2536\n",
      "\t\tTotal time spent by all maps in occupied slots (ms)=5072\n",
      "\t\tTotal time spent by all reduce tasks (ms)=2580\n",
      "\t\tTotal time spent by all reduces in occupied slots (ms)=5160\n",
      "\t\tTotal vcore-milliseconds taken by all map tasks=2536\n",
      "\t\tTotal vcore-milliseconds taken by all reduce tasks=2580\n",
      "\tMap-Reduce Framework\n",
      "\t\tCPU time spent (ms)=960\n",
      "\t\tCombine input records=0\n",
      "\t\tCombine output records=0\n",
      "\t\tFailed Shuffles=0\n",
      "\t\tGC time elapsed (ms)=122\n",
      "\t\tInput split bytes=336\n",
      "\t\tMap input records=48\n",
      "\t\tMap output bytes=8138\n",
      "\t\tMap output materialized bytes=8289\n",
      "\t\tMap output records=48\n",
      "\t\tMerged Map outputs=4\n",
      "\t\tPeak Map Physical memory (bytes)=311447552\n",
      "\t\tPeak Map Virtual memory (bytes)=2478804992\n",
      "\t\tPeak Reduce Physical memory (bytes)=261996544\n",
      "\t\tPeak Reduce Virtual memory (bytes)=2486149120\n",
      "\t\tPhysical memory (bytes) snapshot=1045143552\n",
      "\t\tReduce input groups=1\n",
      "\t\tReduce input records=48\n",
      "\t\tReduce output records=48\n",
      "\t\tReduce shuffle bytes=8289\n",
      "\t\tShuffled Maps =4\n",
      "\t\tSpilled Records=96\n",
      "\t\tTotal committed heap usage (bytes)=819462144\n",
      "\t\tVirtual memory (bytes) snapshot=9927401472\n",
      "\tShuffle Errors\n",
      "\t\tBAD_ID=0\n",
      "\t\tCONNECTION=0\n",
      "\t\tIO_ERROR=0\n",
      "\t\tWRONG_LENGTH=0\n",
      "\t\tWRONG_MAP=0\n",
      "\t\tWRONG_REDUCE=0\n",
      "job output is in hdfs:///starwars/results/task-2/SW_EpisodeIV_res.txt\n",
      "Removing HDFS temp directory hdfs:///user/root/tmp/mrjob/longest_character_phrase.root.20231129.184355.872010...\n",
      "Removing temp directory /tmp/longest_character_phrase.root.20231129.184355.872010...\n"
     ]
    }
   ],
   "source": [
    "!python3 longest_character_phrase.py -r hadoop $hdfs_e4 --conf-path config-t1.conf --output $t2_hdfs_res_e4"
   ]
  },
  {
   "cell_type": "code",
   "execution_count": 215,
   "id": "17270ad3-4f10-4b93-9577-ffcfb5bb72a9",
   "metadata": {},
   "outputs": [
    {
     "name": "stdout",
     "output_type": "stream",
     "text": [
      "Looking for hadoop binary in /opt/hadoop/bin...\n",
      "Found hadoop binary: /opt/hadoop/bin/hadoop\n",
      "Using Hadoop version 3.3.6\n",
      "Looking for Hadoop streaming jar in /opt/hadoop...\n",
      "Found Hadoop streaming jar: /opt/hadoop/share/hadoop/tools/lib/hadoop-streaming-3.3.6.jar\n",
      "Creating temp directory /tmp/longest_character_phrase.root.20231129.184438.089559\n",
      "uploading working dir files to hdfs:///user/root/tmp/mrjob/longest_character_phrase.root.20231129.184438.089559/files/wd...\n",
      "Copying other local files to hdfs:///user/root/tmp/mrjob/longest_character_phrase.root.20231129.184438.089559/files/\n",
      "Running step 1 of 2...\n",
      "  Unable to load native-hadoop library for your platform... using builtin-java classes where applicable\n",
      "  packageJobJar: [/tmp/hadoop-unjar6944198054283870297/] [] /tmp/streamjob4283107340769929642.jar tmpDir=null\n",
      "  Connecting to ResourceManager at resourcemanager/172.18.0.3:8032\n",
      "  Connecting to ResourceManager at resourcemanager/172.18.0.3:8032\n",
      "  Disabling Erasure Coding for path: /tmp/hadoop-yarn/staging/root/.staging/job_1701257956340_0038\n",
      "  Total input files to process : 1\n",
      "  number of splits:2\n",
      "  Submitting tokens for job: job_1701257956340_0038\n",
      "  Executing with tokens: []\n",
      "  resource-types.xml not found\n",
      "  Unable to find 'resource-types.xml'.\n",
      "  Submitted application application_1701257956340_0038\n",
      "  The url to track the job: http://resourcemanager:8088/proxy/application_1701257956340_0038/\n",
      "  Running job: job_1701257956340_0038\n",
      "  Job job_1701257956340_0038 running in uber mode : false\n",
      "   map 0% reduce 0%\n",
      "   map 100% reduce 0%\n",
      "   map 100% reduce 50%\n",
      "   map 100% reduce 100%\n",
      "  Job job_1701257956340_0038 completed successfully\n",
      "  Output directory: hdfs:///user/root/tmp/mrjob/longest_character_phrase.root.20231129.184438.089559/step-output/0000\n",
      "Counters: 54\n",
      "\tFile Input Format Counters \n",
      "\t\tBytes Read=59560\n",
      "\tFile Output Format Counters \n",
      "\t\tBytes Written=5361\n",
      "\tFile System Counters\n",
      "\t\tFILE: Number of bytes read=6508\n",
      "\t\tFILE: Number of bytes written=1146678\n",
      "\t\tFILE: Number of large read operations=0\n",
      "\t\tFILE: Number of read operations=0\n",
      "\t\tFILE: Number of write operations=0\n",
      "\t\tHDFS: Number of bytes read=59754\n",
      "\t\tHDFS: Number of bytes read erasure-coded=0\n",
      "\t\tHDFS: Number of bytes written=5361\n",
      "\t\tHDFS: Number of large read operations=0\n",
      "\t\tHDFS: Number of read operations=16\n",
      "\t\tHDFS: Number of write operations=4\n",
      "\tJob Counters \n",
      "\t\tLaunched map tasks=2\n",
      "\t\tLaunched reduce tasks=2\n",
      "\t\tRack-local map tasks=2\n",
      "\t\tTotal megabyte-milliseconds taken by all map tasks=3301376\n",
      "\t\tTotal megabyte-milliseconds taken by all reduce tasks=2733056\n",
      "\t\tTotal time spent by all map tasks (ms)=3224\n",
      "\t\tTotal time spent by all maps in occupied slots (ms)=6448\n",
      "\t\tTotal time spent by all reduce tasks (ms)=2669\n",
      "\t\tTotal time spent by all reduces in occupied slots (ms)=5338\n",
      "\t\tTotal vcore-milliseconds taken by all map tasks=3224\n",
      "\t\tTotal vcore-milliseconds taken by all reduce tasks=2669\n",
      "\tMap-Reduce Framework\n",
      "\t\tCPU time spent (ms)=1260\n",
      "\t\tCombine input records=839\n",
      "\t\tCombine output records=56\n",
      "\t\tFailed Shuffles=0\n",
      "\t\tGC time elapsed (ms)=121\n",
      "\t\tInput split bytes=194\n",
      "\t\tMap input records=839\n",
      "\t\tMap output bytes=50327\n",
      "\t\tMap output materialized bytes=6520\n",
      "\t\tMap output records=839\n",
      "\t\tMerged Map outputs=4\n",
      "\t\tPeak Map Physical memory (bytes)=325091328\n",
      "\t\tPeak Map Virtual memory (bytes)=2478944256\n",
      "\t\tPeak Reduce Physical memory (bytes)=244674560\n",
      "\t\tPeak Reduce Virtual memory (bytes)=2487332864\n",
      "\t\tPhysical memory (bytes) snapshot=1068982272\n",
      "\t\tReduce input groups=45\n",
      "\t\tReduce input records=56\n",
      "\t\tReduce output records=45\n",
      "\t\tReduce shuffle bytes=6520\n",
      "\t\tShuffled Maps =4\n",
      "\t\tSpilled Records=112\n",
      "\t\tTotal committed heap usage (bytes)=909639680\n",
      "\t\tVirtual memory (bytes) snapshot=9932197888\n",
      "\tShuffle Errors\n",
      "\t\tBAD_ID=0\n",
      "\t\tCONNECTION=0\n",
      "\t\tIO_ERROR=0\n",
      "\t\tWRONG_LENGTH=0\n",
      "\t\tWRONG_MAP=0\n",
      "\t\tWRONG_REDUCE=0\n",
      "Running step 2 of 2...\n",
      "  Unable to load native-hadoop library for your platform... using builtin-java classes where applicable\n",
      "  packageJobJar: [/tmp/hadoop-unjar7468726024239520418/] [] /tmp/streamjob3160449240562651193.jar tmpDir=null\n",
      "  Connecting to ResourceManager at resourcemanager/172.18.0.3:8032\n",
      "  Connecting to ResourceManager at resourcemanager/172.18.0.3:8032\n",
      "  Disabling Erasure Coding for path: /tmp/hadoop-yarn/staging/root/.staging/job_1701257956340_0039\n",
      "  Total input files to process : 2\n",
      "  number of splits:3\n",
      "  Submitting tokens for job: job_1701257956340_0039\n",
      "  Executing with tokens: []\n",
      "  resource-types.xml not found\n",
      "  Unable to find 'resource-types.xml'.\n",
      "  Submitted application application_1701257956340_0039\n",
      "  The url to track the job: http://resourcemanager:8088/proxy/application_1701257956340_0039/\n",
      "  Running job: job_1701257956340_0039\n",
      "  Job job_1701257956340_0039 running in uber mode : false\n",
      "   map 0% reduce 0%\n",
      "   map 67% reduce 0%\n",
      "   map 100% reduce 0%\n",
      "   map 100% reduce 50%\n",
      "   map 100% reduce 100%\n",
      "  Job job_1701257956340_0039 completed successfully\n",
      "  Output directory: hdfs:///starwars/results/task-2/SW_EpisodeV_res.txt\n",
      "Counters: 54\n",
      "\tFile Input Format Counters \n",
      "\t\tBytes Read=5641\n",
      "\tFile Output Format Counters \n",
      "\t\tBytes Written=5001\n",
      "\tFile System Counters\n",
      "\t\tFILE: Number of bytes read=5496\n",
      "\t\tFILE: Number of bytes written=1425478\n",
      "\t\tFILE: Number of large read operations=0\n",
      "\t\tFILE: Number of read operations=0\n",
      "\t\tFILE: Number of write operations=0\n",
      "\t\tHDFS: Number of bytes read=6145\n",
      "\t\tHDFS: Number of bytes read erasure-coded=0\n",
      "\t\tHDFS: Number of bytes written=5001\n",
      "\t\tHDFS: Number of large read operations=0\n",
      "\t\tHDFS: Number of read operations=19\n",
      "\t\tHDFS: Number of write operations=4\n",
      "\tJob Counters \n",
      "\t\tLaunched map tasks=3\n",
      "\t\tLaunched reduce tasks=2\n",
      "\t\tRack-local map tasks=3\n",
      "\t\tTotal megabyte-milliseconds taken by all map tasks=3821568\n",
      "\t\tTotal megabyte-milliseconds taken by all reduce tasks=2591744\n",
      "\t\tTotal time spent by all map tasks (ms)=3732\n",
      "\t\tTotal time spent by all maps in occupied slots (ms)=7464\n",
      "\t\tTotal time spent by all reduce tasks (ms)=2531\n",
      "\t\tTotal time spent by all reduces in occupied slots (ms)=5062\n",
      "\t\tTotal vcore-milliseconds taken by all map tasks=3732\n",
      "\t\tTotal vcore-milliseconds taken by all reduce tasks=2531\n",
      "\tMap-Reduce Framework\n",
      "\t\tCPU time spent (ms)=1220\n",
      "\t\tCombine input records=0\n",
      "\t\tCombine output records=0\n",
      "\t\tFailed Shuffles=0\n",
      "\t\tGC time elapsed (ms)=146\n",
      "\t\tInput split bytes=504\n",
      "\t\tMap input records=45\n",
      "\t\tMap output bytes=5377\n",
      "\t\tMap output materialized bytes=5520\n",
      "\t\tMap output records=45\n",
      "\t\tMerged Map outputs=6\n",
      "\t\tPeak Map Physical memory (bytes)=311443456\n",
      "\t\tPeak Map Virtual memory (bytes)=2480324608\n",
      "\t\tPeak Reduce Physical memory (bytes)=256397312\n",
      "\t\tPeak Reduce Virtual memory (bytes)=2486669312\n",
      "\t\tPhysical memory (bytes) snapshot=1299845120\n",
      "\t\tReduce input groups=1\n",
      "\t\tReduce input records=45\n",
      "\t\tReduce output records=45\n",
      "\t\tReduce shuffle bytes=5520\n",
      "\t\tShuffled Maps =6\n",
      "\t\tSpilled Records=90\n",
      "\t\tTotal committed heap usage (bytes)=1010827264\n",
      "\t\tVirtual memory (bytes) snapshot=12405903360\n",
      "\tShuffle Errors\n",
      "\t\tBAD_ID=0\n",
      "\t\tCONNECTION=0\n",
      "\t\tIO_ERROR=0\n",
      "\t\tWRONG_LENGTH=0\n",
      "\t\tWRONG_MAP=0\n",
      "\t\tWRONG_REDUCE=0\n",
      "job output is in hdfs:///starwars/results/task-2/SW_EpisodeV_res.txt\n",
      "Removing HDFS temp directory hdfs:///user/root/tmp/mrjob/longest_character_phrase.root.20231129.184438.089559...\n",
      "Removing temp directory /tmp/longest_character_phrase.root.20231129.184438.089559...\n"
     ]
    }
   ],
   "source": [
    "!python3 longest_character_phrase.py -r hadoop $hdfs_e5 --conf-path config-t1.conf --output $t2_hdfs_res_e5"
   ]
  },
  {
   "cell_type": "code",
   "execution_count": 216,
   "id": "a1f65d57-aaf8-4fd4-b14e-420898f863d9",
   "metadata": {},
   "outputs": [
    {
     "name": "stdout",
     "output_type": "stream",
     "text": [
      "Looking for hadoop binary in /opt/hadoop/bin...\n",
      "Found hadoop binary: /opt/hadoop/bin/hadoop\n",
      "Using Hadoop version 3.3.6\n",
      "Looking for Hadoop streaming jar in /opt/hadoop...\n",
      "Found Hadoop streaming jar: /opt/hadoop/share/hadoop/tools/lib/hadoop-streaming-3.3.6.jar\n",
      "Creating temp directory /tmp/longest_character_phrase.root.20231129.184520.309710\n",
      "uploading working dir files to hdfs:///user/root/tmp/mrjob/longest_character_phrase.root.20231129.184520.309710/files/wd...\n",
      "Copying other local files to hdfs:///user/root/tmp/mrjob/longest_character_phrase.root.20231129.184520.309710/files/\n",
      "Running step 1 of 2...\n",
      "  Unable to load native-hadoop library for your platform... using builtin-java classes where applicable\n",
      "  packageJobJar: [/tmp/hadoop-unjar2907872008181697277/] [] /tmp/streamjob3402744933867803267.jar tmpDir=null\n",
      "  Connecting to ResourceManager at resourcemanager/172.18.0.3:8032\n",
      "  Connecting to ResourceManager at resourcemanager/172.18.0.3:8032\n",
      "  Disabling Erasure Coding for path: /tmp/hadoop-yarn/staging/root/.staging/job_1701257956340_0040\n",
      "  Total input files to process : 1\n",
      "  number of splits:2\n",
      "  Submitting tokens for job: job_1701257956340_0040\n",
      "  Executing with tokens: []\n",
      "  resource-types.xml not found\n",
      "  Unable to find 'resource-types.xml'.\n",
      "  Submitted application application_1701257956340_0040\n",
      "  The url to track the job: http://resourcemanager:8088/proxy/application_1701257956340_0040/\n",
      "  Running job: job_1701257956340_0040\n",
      "  Job job_1701257956340_0040 running in uber mode : false\n",
      "   map 0% reduce 0%\n",
      "   map 50% reduce 0%\n",
      "   map 100% reduce 0%\n",
      "   map 100% reduce 50%\n",
      "   map 100% reduce 100%\n",
      "  Job job_1701257956340_0040 completed successfully\n",
      "  Output directory: hdfs:///user/root/tmp/mrjob/longest_character_phrase.root.20231129.184520.309710/step-output/0000\n",
      "Counters: 54\n",
      "\tFile Input Format Counters \n",
      "\t\tBytes Read=52249\n",
      "\tFile Output Format Counters \n",
      "\t\tBytes Written=6667\n",
      "\tFile System Counters\n",
      "\t\tFILE: Number of bytes read=7656\n",
      "\t\tFILE: Number of bytes written=1148978\n",
      "\t\tFILE: Number of large read operations=0\n",
      "\t\tFILE: Number of read operations=0\n",
      "\t\tFILE: Number of write operations=0\n",
      "\t\tHDFS: Number of bytes read=52445\n",
      "\t\tHDFS: Number of bytes read erasure-coded=0\n",
      "\t\tHDFS: Number of bytes written=6667\n",
      "\t\tHDFS: Number of large read operations=0\n",
      "\t\tHDFS: Number of read operations=16\n",
      "\t\tHDFS: Number of write operations=4\n",
      "\tJob Counters \n",
      "\t\tLaunched map tasks=2\n",
      "\t\tLaunched reduce tasks=2\n",
      "\t\tRack-local map tasks=2\n",
      "\t\tTotal megabyte-milliseconds taken by all map tasks=3348480\n",
      "\t\tTotal megabyte-milliseconds taken by all reduce tasks=2714624\n",
      "\t\tTotal time spent by all map tasks (ms)=3270\n",
      "\t\tTotal time spent by all maps in occupied slots (ms)=6540\n",
      "\t\tTotal time spent by all reduce tasks (ms)=2651\n",
      "\t\tTotal time spent by all reduces in occupied slots (ms)=5302\n",
      "\t\tTotal vcore-milliseconds taken by all map tasks=3270\n",
      "\t\tTotal vcore-milliseconds taken by all reduce tasks=2651\n",
      "\tMap-Reduce Framework\n",
      "\t\tCPU time spent (ms)=1240\n",
      "\t\tCombine input records=674\n",
      "\t\tCombine output records=54\n",
      "\t\tFailed Shuffles=0\n",
      "\t\tGC time elapsed (ms)=121\n",
      "\t\tInput split bytes=196\n",
      "\t\tMap input records=674\n",
      "\t\tMap output bytes=44224\n",
      "\t\tMap output materialized bytes=7668\n",
      "\t\tMap output records=674\n",
      "\t\tMerged Map outputs=4\n",
      "\t\tPeak Map Physical memory (bytes)=335069184\n",
      "\t\tPeak Map Virtual memory (bytes)=2478071808\n",
      "\t\tPeak Reduce Physical memory (bytes)=267116544\n",
      "\t\tPeak Reduce Virtual memory (bytes)=2486902784\n",
      "\t\tPhysical memory (bytes) snapshot=1085358080\n",
      "\t\tReduce input groups=45\n",
      "\t\tReduce input records=54\n",
      "\t\tReduce output records=45\n",
      "\t\tReduce shuffle bytes=7668\n",
      "\t\tShuffled Maps =4\n",
      "\t\tSpilled Records=108\n",
      "\t\tTotal committed heap usage (bytes)=884998144\n",
      "\t\tVirtual memory (bytes) snapshot=9928372224\n",
      "\tShuffle Errors\n",
      "\t\tBAD_ID=0\n",
      "\t\tCONNECTION=0\n",
      "\t\tIO_ERROR=0\n",
      "\t\tWRONG_LENGTH=0\n",
      "\t\tWRONG_MAP=0\n",
      "\t\tWRONG_REDUCE=0\n",
      "Running step 2 of 2...\n",
      "  Unable to load native-hadoop library for your platform... using builtin-java classes where applicable\n",
      "  packageJobJar: [/tmp/hadoop-unjar7114537930905990775/] [] /tmp/streamjob9207992800887726009.jar tmpDir=null\n",
      "  Connecting to ResourceManager at resourcemanager/172.18.0.3:8032\n",
      "  Connecting to ResourceManager at resourcemanager/172.18.0.3:8032\n",
      "  Disabling Erasure Coding for path: /tmp/hadoop-yarn/staging/root/.staging/job_1701257956340_0041\n",
      "  Total input files to process : 2\n",
      "  number of splits:3\n",
      "  Submitting tokens for job: job_1701257956340_0041\n",
      "  Executing with tokens: []\n",
      "  resource-types.xml not found\n",
      "  Unable to find 'resource-types.xml'.\n",
      "  Submitted application application_1701257956340_0041\n",
      "  The url to track the job: http://resourcemanager:8088/proxy/application_1701257956340_0041/\n",
      "  Running job: job_1701257956340_0041\n",
      "  Job job_1701257956340_0041 running in uber mode : false\n",
      "   map 0% reduce 0%\n",
      "   map 67% reduce 0%\n",
      "   map 100% reduce 0%\n",
      "   map 100% reduce 100%\n",
      "  Job job_1701257956340_0041 completed successfully\n",
      "  Output directory: hdfs:///starwars/results/task-2/SW_EpisodeVI_res.txt\n",
      "Counters: 54\n",
      "\tFile Input Format Counters \n",
      "\t\tBytes Read=7033\n",
      "\tFile Output Format Counters \n",
      "\t\tBytes Written=6307\n",
      "\tFile System Counters\n",
      "\t\tFILE: Number of bytes read=6813\n",
      "\t\tFILE: Number of bytes written=1428117\n",
      "\t\tFILE: Number of large read operations=0\n",
      "\t\tFILE: Number of read operations=0\n",
      "\t\tFILE: Number of write operations=0\n",
      "\t\tHDFS: Number of bytes read=7537\n",
      "\t\tHDFS: Number of bytes read erasure-coded=0\n",
      "\t\tHDFS: Number of bytes written=6307\n",
      "\t\tHDFS: Number of large read operations=0\n",
      "\t\tHDFS: Number of read operations=19\n",
      "\t\tHDFS: Number of write operations=4\n",
      "\tJob Counters \n",
      "\t\tLaunched map tasks=3\n",
      "\t\tLaunched reduce tasks=2\n",
      "\t\tRack-local map tasks=3\n",
      "\t\tTotal megabyte-milliseconds taken by all map tasks=3826688\n",
      "\t\tTotal megabyte-milliseconds taken by all reduce tasks=2651136\n",
      "\t\tTotal time spent by all map tasks (ms)=3737\n",
      "\t\tTotal time spent by all maps in occupied slots (ms)=7474\n",
      "\t\tTotal time spent by all reduce tasks (ms)=2589\n",
      "\t\tTotal time spent by all reduces in occupied slots (ms)=5178\n",
      "\t\tTotal vcore-milliseconds taken by all map tasks=3737\n",
      "\t\tTotal vcore-milliseconds taken by all reduce tasks=2589\n",
      "\tMap-Reduce Framework\n",
      "\t\tCPU time spent (ms)=1190\n",
      "\t\tCombine input records=0\n",
      "\t\tCombine output records=0\n",
      "\t\tFailed Shuffles=0\n",
      "\t\tGC time elapsed (ms)=135\n",
      "\t\tInput split bytes=504\n",
      "\t\tMap input records=45\n",
      "\t\tMap output bytes=6689\n",
      "\t\tMap output materialized bytes=6837\n",
      "\t\tMap output records=45\n",
      "\t\tMerged Map outputs=6\n",
      "\t\tPeak Map Physical memory (bytes)=316186624\n",
      "\t\tPeak Map Virtual memory (bytes)=2478350336\n",
      "\t\tPeak Reduce Physical memory (bytes)=257683456\n",
      "\t\tPeak Reduce Virtual memory (bytes)=2486661120\n",
      "\t\tPhysical memory (bytes) snapshot=1387991040\n",
      "\t\tReduce input groups=1\n",
      "\t\tReduce input records=45\n",
      "\t\tReduce output records=45\n",
      "\t\tReduce shuffle bytes=6837\n",
      "\t\tShuffled Maps =6\n",
      "\t\tSpilled Records=90\n",
      "\t\tTotal committed heap usage (bytes)=1086324736\n",
      "\t\tVirtual memory (bytes) snapshot=12405108736\n",
      "\tShuffle Errors\n",
      "\t\tBAD_ID=0\n",
      "\t\tCONNECTION=0\n",
      "\t\tIO_ERROR=0\n",
      "\t\tWRONG_LENGTH=0\n",
      "\t\tWRONG_MAP=0\n",
      "\t\tWRONG_REDUCE=0\n",
      "job output is in hdfs:///starwars/results/task-2/SW_EpisodeVI_res.txt\n",
      "Removing HDFS temp directory hdfs:///user/root/tmp/mrjob/longest_character_phrase.root.20231129.184520.309710...\n",
      "Removing temp directory /tmp/longest_character_phrase.root.20231129.184520.309710...\n"
     ]
    }
   ],
   "source": [
    "!python3 longest_character_phrase.py -r hadoop $hdfs_e6 --conf-path config-t1.conf --output $t2_hdfs_res_e6"
   ]
  },
  {
   "cell_type": "markdown",
   "id": "4f61c23e-2a7b-4d43-8dca-857198d08ba2",
   "metadata": {},
   "source": [
    "По всем трем эпизодам"
   ]
  },
  {
   "cell_type": "code",
   "execution_count": 217,
   "id": "98909833-9146-4a6c-8773-41a1a53b5a0c",
   "metadata": {},
   "outputs": [
    {
     "name": "stdout",
     "output_type": "stream",
     "text": [
      "Looking for hadoop binary in /opt/hadoop/bin...\n",
      "Found hadoop binary: /opt/hadoop/bin/hadoop\n",
      "Using Hadoop version 3.3.6\n",
      "Looking for Hadoop streaming jar in /opt/hadoop...\n",
      "Found Hadoop streaming jar: /opt/hadoop/share/hadoop/tools/lib/hadoop-streaming-3.3.6.jar\n",
      "Creating temp directory /tmp/longest_character_phrase.root.20231129.184602.405240\n",
      "uploading working dir files to hdfs:///user/root/tmp/mrjob/longest_character_phrase.root.20231129.184602.405240/files/wd...\n",
      "Copying other local files to hdfs:///user/root/tmp/mrjob/longest_character_phrase.root.20231129.184602.405240/files/\n",
      "Running step 1 of 2...\n",
      "  Unable to load native-hadoop library for your platform... using builtin-java classes where applicable\n",
      "  packageJobJar: [/tmp/hadoop-unjar2933463162784295329/] [] /tmp/streamjob2726657569223105251.jar tmpDir=null\n",
      "  Connecting to ResourceManager at resourcemanager/172.18.0.3:8032\n",
      "  Connecting to ResourceManager at resourcemanager/172.18.0.3:8032\n",
      "  Disabling Erasure Coding for path: /tmp/hadoop-yarn/staging/root/.staging/job_1701257956340_0042\n",
      "  Total input files to process : 3\n",
      "  number of splits:3\n",
      "  Submitting tokens for job: job_1701257956340_0042\n",
      "  Executing with tokens: []\n",
      "  resource-types.xml not found\n",
      "  Unable to find 'resource-types.xml'.\n",
      "  Submitted application application_1701257956340_0042\n",
      "  The url to track the job: http://resourcemanager:8088/proxy/application_1701257956340_0042/\n",
      "  Running job: job_1701257956340_0042\n",
      "  Job job_1701257956340_0042 running in uber mode : false\n",
      "   map 0% reduce 0%\n",
      "   map 33% reduce 0%\n",
      "   map 67% reduce 0%\n",
      "   map 100% reduce 0%\n",
      "   map 100% reduce 50%\n",
      "   map 100% reduce 100%\n",
      "  Job job_1701257956340_0042 completed successfully\n",
      "  Output directory: hdfs:///user/root/tmp/mrjob/longest_character_phrase.root.20231129.184602.405240/step-output/0000\n",
      "Counters: 54\n",
      "\tFile Input Format Counters \n",
      "\t\tBytes Read=181872\n",
      "\tFile Output Format Counters \n",
      "\t\tBytes Written=15007\n",
      "\tFile System Counters\n",
      "\t\tFILE: Number of bytes read=19448\n",
      "\t\tFILE: Number of bytes written=1456492\n",
      "\t\tFILE: Number of large read operations=0\n",
      "\t\tFILE: Number of read operations=0\n",
      "\t\tFILE: Number of write operations=0\n",
      "\t\tHDFS: Number of bytes read=182165\n",
      "\t\tHDFS: Number of bytes read erasure-coded=0\n",
      "\t\tHDFS: Number of bytes written=15007\n",
      "\t\tHDFS: Number of large read operations=0\n",
      "\t\tHDFS: Number of read operations=19\n",
      "\t\tHDFS: Number of write operations=4\n",
      "\tJob Counters \n",
      "\t\tLaunched map tasks=3\n",
      "\t\tLaunched reduce tasks=2\n",
      "\t\tRack-local map tasks=3\n",
      "\t\tTotal megabyte-milliseconds taken by all map tasks=4725760\n",
      "\t\tTotal megabyte-milliseconds taken by all reduce tasks=2705408\n",
      "\t\tTotal time spent by all map tasks (ms)=4615\n",
      "\t\tTotal time spent by all maps in occupied slots (ms)=9230\n",
      "\t\tTotal time spent by all reduce tasks (ms)=2642\n",
      "\t\tTotal time spent by all reduces in occupied slots (ms)=5284\n",
      "\t\tTotal vcore-milliseconds taken by all map tasks=4615\n",
      "\t\tTotal vcore-milliseconds taken by all reduce tasks=2642\n",
      "\tMap-Reduce Framework\n",
      "\t\tCPU time spent (ms)=1660\n",
      "\t\tCombine input records=2523\n",
      "\t\tCombine output records=138\n",
      "\t\tFailed Shuffles=0\n",
      "\t\tGC time elapsed (ms)=152\n",
      "\t\tInput split bytes=293\n",
      "\t\tMap input records=2523\n",
      "\t\tMap output bytes=166222\n",
      "\t\tMap output materialized bytes=19472\n",
      "\t\tMap output records=2523\n",
      "\t\tMerged Map outputs=6\n",
      "\t\tPeak Map Physical memory (bytes)=327757824\n",
      "\t\tPeak Map Virtual memory (bytes)=2478432256\n",
      "\t\tPeak Reduce Physical memory (bytes)=255541248\n",
      "\t\tPeak Reduce Virtual memory (bytes)=2486325248\n",
      "\t\tPhysical memory (bytes) snapshot=1363169280\n",
      "\t\tReduce input groups=98\n",
      "\t\tReduce input records=138\n",
      "\t\tReduce output records=98\n",
      "\t\tReduce shuffle bytes=19472\n",
      "\t\tShuffled Maps =6\n",
      "\t\tSpilled Records=276\n",
      "\t\tTotal committed heap usage (bytes)=1103101952\n",
      "\t\tVirtual memory (bytes) snapshot=12403417088\n",
      "\tShuffle Errors\n",
      "\t\tBAD_ID=0\n",
      "\t\tCONNECTION=0\n",
      "\t\tIO_ERROR=0\n",
      "\t\tWRONG_LENGTH=0\n",
      "\t\tWRONG_MAP=0\n",
      "\t\tWRONG_REDUCE=0\n",
      "Running step 2 of 2...\n",
      "  Unable to load native-hadoop library for your platform... using builtin-java classes where applicable\n",
      "  packageJobJar: [/tmp/hadoop-unjar8259514345514954833/] [] /tmp/streamjob9116167284896913667.jar tmpDir=null\n",
      "  Connecting to ResourceManager at resourcemanager/172.18.0.3:8032\n",
      "  Connecting to ResourceManager at resourcemanager/172.18.0.3:8032\n",
      "  Disabling Erasure Coding for path: /tmp/hadoop-yarn/staging/root/.staging/job_1701257956340_0043\n",
      "  Total input files to process : 2\n",
      "  number of splits:2\n",
      "  Submitting tokens for job: job_1701257956340_0043\n",
      "  Executing with tokens: []\n",
      "  resource-types.xml not found\n",
      "  Unable to find 'resource-types.xml'.\n",
      "  Submitted application application_1701257956340_0043\n",
      "  The url to track the job: http://resourcemanager:8088/proxy/application_1701257956340_0043/\n",
      "  Running job: job_1701257956340_0043\n",
      "  Job job_1701257956340_0043 running in uber mode : false\n",
      "   map 0% reduce 0%\n",
      "   map 50% reduce 0%\n",
      "   map 100% reduce 0%\n",
      "   map 100% reduce 50%\n",
      "   map 100% reduce 100%\n",
      "  Job job_1701257956340_0043 completed successfully\n",
      "  Output directory: hdfs:///starwars/results/task-2/SW_All_Episodes_res.txt\n",
      "Counters: 54\n",
      "\tFile Input Format Counters \n",
      "\t\tBytes Read=15007\n",
      "\tFile Output Format Counters \n",
      "\t\tBytes Written=14223\n",
      "\tFile System Counters\n",
      "\t\tFILE: Number of bytes read=15313\n",
      "\t\tFILE: Number of bytes written=1162192\n",
      "\t\tFILE: Number of large read operations=0\n",
      "\t\tFILE: Number of read operations=0\n",
      "\t\tFILE: Number of write operations=0\n",
      "\t\tHDFS: Number of bytes read=15343\n",
      "\t\tHDFS: Number of bytes read erasure-coded=0\n",
      "\t\tHDFS: Number of bytes written=14223\n",
      "\t\tHDFS: Number of large read operations=0\n",
      "\t\tHDFS: Number of read operations=16\n",
      "\t\tHDFS: Number of write operations=4\n",
      "\tJob Counters \n",
      "\t\tLaunched map tasks=2\n",
      "\t\tLaunched reduce tasks=2\n",
      "\t\tRack-local map tasks=2\n",
      "\t\tTotal megabyte-milliseconds taken by all map tasks=2612224\n",
      "\t\tTotal megabyte-milliseconds taken by all reduce tasks=2601984\n",
      "\t\tTotal time spent by all map tasks (ms)=2551\n",
      "\t\tTotal time spent by all maps in occupied slots (ms)=5102\n",
      "\t\tTotal time spent by all reduce tasks (ms)=2541\n",
      "\t\tTotal time spent by all reduces in occupied slots (ms)=5082\n",
      "\t\tTotal vcore-milliseconds taken by all map tasks=2551\n",
      "\t\tTotal vcore-milliseconds taken by all reduce tasks=2541\n",
      "\tMap-Reduce Framework\n",
      "\t\tCPU time spent (ms)=960\n",
      "\t\tCombine input records=0\n",
      "\t\tCombine output records=0\n",
      "\t\tFailed Shuffles=0\n",
      "\t\tGC time elapsed (ms)=125\n",
      "\t\tInput split bytes=336\n",
      "\t\tMap input records=98\n",
      "\t\tMap output bytes=15056\n",
      "\t\tMap output materialized bytes=15325\n",
      "\t\tMap output records=98\n",
      "\t\tMerged Map outputs=4\n",
      "\t\tPeak Map Physical memory (bytes)=311975936\n",
      "\t\tPeak Map Virtual memory (bytes)=2478145536\n",
      "\t\tPeak Reduce Physical memory (bytes)=257212416\n",
      "\t\tPeak Reduce Virtual memory (bytes)=2487349248\n",
      "\t\tPhysical memory (bytes) snapshot=1033187328\n",
      "\t\tReduce input groups=1\n",
      "\t\tReduce input records=98\n",
      "\t\tReduce output records=98\n",
      "\t\tReduce shuffle bytes=15325\n",
      "\t\tShuffled Maps =4\n",
      "\t\tSpilled Records=196\n",
      "\t\tTotal committed heap usage (bytes)=825753600\n",
      "\t\tVirtual memory (bytes) snapshot=9926647808\n",
      "\tShuffle Errors\n",
      "\t\tBAD_ID=0\n",
      "\t\tCONNECTION=0\n",
      "\t\tIO_ERROR=0\n",
      "\t\tWRONG_LENGTH=0\n",
      "\t\tWRONG_MAP=0\n",
      "\t\tWRONG_REDUCE=0\n",
      "job output is in hdfs:///starwars/results/task-2/SW_All_Episodes_res.txt\n",
      "Removing HDFS temp directory hdfs:///user/root/tmp/mrjob/longest_character_phrase.root.20231129.184602.405240...\n",
      "Removing temp directory /tmp/longest_character_phrase.root.20231129.184602.405240...\n"
     ]
    }
   ],
   "source": [
    "!python3 longest_character_phrase.py -r hadoop $hdfs_e4 $hdfs_e5 $hdfs_e6 --conf-path config-t1.conf --output $t2_hdfs_res_all"
   ]
  },
  {
   "cell_type": "markdown",
   "id": "57182bd0-7595-4920-9cd0-afec43613613",
   "metadata": {},
   "source": [
    "### Просмотр результатов выполнения"
   ]
  },
  {
   "cell_type": "code",
   "execution_count": 218,
   "id": "5bac52d4-b404-4410-aecf-b438ac6be403",
   "metadata": {},
   "outputs": [
    {
     "name": "stdout",
     "output_type": "stream",
     "text": [
      "2023-11-29 21:46:46 WARN  NativeCodeLoader:60 - Unable to load native-hadoop library for your platform... using builtin-java classes where applicable\n",
      "\"BEN\"\t\"The Organa household was high-born and politically quite powerful in that system. Leia became a princess by virtue of lineage... no one knew she'd been adopted, of course. But it was a title without real power, since Alderaan had long been a democracy. Even so, the family continued to be politically powerful, and Leia, following in her foster father's path, became a senator as well. That's not all she became, of course... she became the leader of her cell in the Alliance against the corrupt Empire. And because she had diplomatic immunity, she was a vital link for getting information to the Rebel cause. That's what she was doing when her path crossed yours... for her foster parents had always told her to contact me on Tatooine, if her troubles became desperate.\"\n",
      "\"LEIA\"\t\"General Kenobi, years ago you served my father in the Clone Wars. Now he begs you to help him in his struggle against the Empire. I regret that I am unable to present my father's request to you in person, but my ship has fallen under attack and I'm afraid my mission to bring you to Alderaan has failed. I have placed information vital to the survival of the Rebellion into the memory systems of this R2 unit. My father will know how to retrieve it. You must see this droid safely delivered to him on Alderaan. This is our most desperate hour. Help me, Obi-Wan Kenobi, you're my only hope.\"\n",
      "\"ACKBAR\"\t\"You can see here the Death Star orbiting the forest Moon of Endor. Although the weapon systems on this Death Star are not yet operational, the Death Star does have a strong defense mechanism. It is protected by an energy shield, which is generated from the nearby forest Moon of Endor. The shield must be deactivated if any attack is to be attempted. Once the shield is down, our cruisers will create a perimeter, while the fighters fly into the superstructure and attempt to knock out the main reactor.\"\n",
      "\"LUKE\"\t\"Greetings, Exalted One. Allow me to introduce myself. I am Luke Skywalker, Jedi Knight and friend to Captain Solo. I know that you are powerful, mighty Jabba, and that your anger with Solo must be equally powerful. I seek an audience with Your Greatness to bargain for Solo's life. With your wisdom, I'm sure that we can work out an arrangement which will be mutually beneficial and enable us to avoid any unpleasant confrontation. As a token of my goodwill, I present to you a gift: these two droids.\"\n",
      "\"MON\"\t\"MOTHMA The data brought to us by the Bothan spies pinpoints the exact location of the Emperor's new battle station. We also know that the weapon systems of this Death Star are not yet operational. With the Imperial Fleet spread throughout the galaxy in a vain effort to engage us, it is relatively unprotected. But most important of all, we've learned that the Emperor himself is personally overseeing the final stages of the construction of this Death Star.\"\n",
      "\"YODA\"\t\"Ready, are you? What know you of ready? For eight hundred years have I trained Jedi. My own counsel will I keep on who is to be trained! A Jedi must have the deepest commitment, the most serious mind. This one a long time have I watched. Never his mind on where he was. Hmm? What he was doing. Hmph. Adventure. Heh! Excitement. Heh! A Jedi craves not these things. You are reckless!\"\n",
      "\"BIGGS\"\t\"I feel for you, Luke, you're going to have to learn what seems to be important or what really is important. What good is all your uncle's work if it's taken over by the Empire?... You know they're starting to nationalize commerce in the central systems...it won't be long before your uncle is merely a tenant, slaving for the greater glory of the Empire.\"\n",
      "\"DODONNA\"\t\"The approach will not be easy. You are required to maneuver straight down this trench and skim the surface to this point. The target area is only two meters wide. It's a small thermal exhaust port, right below the main port. The shaft leads directly to the reactor system. A precise hit will start a chain reaction which should destroy the station.\"\n",
      "\"JABBA\"\t\"Put your blasters away. Han, my boy, I'm only doing this because you're the best and I need you. So, for an extra, say... twenty percent I'll give you a little more time... but this is it. If you disappoint me again, I'll put a price on your head so large you won't be able to go near a civilized system for the rest of your short life.\"\n",
      "\"TARKIN\"\t\"Not after we demonstrate the power of this station. In a way, you have determined the choice of the planet that'll be destroyed first. Since you are reluctant to provide us with the location of the Rebel base, I have chosen to test this station's destructive power... on your home planet of Alderaan.\"\n",
      "\"THREEPIO\"\t\"He says he's the property of Obi-Wan Kenobi, a resident of these parts. And it's a private message for him. Quite frankly, sir, I don't know what he's talking about. Our last master was Captain Antilles, but with what we've been through, this little R2 unit has become a bit eccentric.\"\n",
      "\"VADER\"\t\"There is no escape. Don't make me destroy you. You do not yet realize your importance. You have only begun to discover you power. Join me and I will complete your training. With our combined strength, we can end this destructive conflict and bring order to the galaxy.\"\n",
      "\"HAN\"\t\"Kid, I've flown from one side of this galaxy to the other. I've seen a lot of strange stuff, but I've never seen anything to make me believe there's one all-powerful force controlling everything. There's no mystical energy field that controls my destiny.\"\n",
      "\"EMPEROR\"\t\"...are walking into a trap. As is your Rebel fleet! It was I who allowed the Alliance to know the location of the shield generator. It is quite safe from your pitiful little band. An entire legion of my best troops awaits them.\"\n",
      "\"MOTTI\"\t\"Don't try to frighten us with your sorcerer's ways, Lord Vader. Your sad devotion to that ancient religion has not helped you conjure up the stolen data tapes, or given you clairvoyance enough to find the Rebel's hidden fort...\"\n",
      "\"OFFICER\"\t\"CASS Our scout ships have reached Dantooine. They found the remains of a Rebel base, but they estimate that it has been deserted for some time. They are now conducting an extensive search of the surrounding systems.\"\n",
      "\"LANDO\"\t\"That's always been a danger looming like a shadow over everything we've built here. But things have developed that will insure security. I've just made a deal that will keep the Empire out of here forever.\"\n",
      "\"VEERS\"\t\"My lord, the fleet has moves out of light-speed. Com-Scan has detected an energy field protecting an area around the sixth planet of the Hoth system. The field is strong enough to deflect any bombardment.\"\n",
      "\"GREEDO\"\t\"It's too late. You should have paid him when you had the chance. Jabba's put a price on your head, so large that every bounty hunter in the galaxy will be looking for you. I'm lucky I found you first.\"\n",
      "\"OWEN\"\t\"Harvest is when I need you the most. Only one more season. This year we'll make enough on the harvest so I'll be able to hire some more hands. And then you can go to the Academy next year.\"\n",
      "\"SECOND\"\t\"OFFICER Lord Vader, the battle station plans are not aboard this ship! And no transmissions were made. An escape pod was jettisoned during the fighting, but no life forms were aboard.\"\n",
      "\"TAGGE\"\t\"And what of the Rebellion? If the Rebels have obtained a complete technical readout of this station, it is possible, however unlikely, that they might find a weakness and exploit it.\"\n",
      "\"GENERAL\"\t\"MADINE We have stolen a small Imperial shuttle. Disguised as a cargo ship, and using a secret Imperial code, a strike team will land on the moon and deactivate the shield generator.\"\n",
      "\"PIETT\"\t\"Lord Vader, our ships have completed their scan of the area and found nothing. If the Millennium Falcon went into light-speed, it'll be on the other side of the galaxy by now.\"\n",
      "\"FIXER\"\t\"I keep telling you, the Rebellion is a long way from here. I doubt if the Empire would even fight to keep this system. Believe me Luke, this planet is a big hunk of nothing...\"\n",
      "\"RED\"\t\"LEADER I met your father once when I was just a boy. He was a great pilot. You'll do all right. If you've got half of your father's skill, you'll do better than all right.\"\n",
      "\"COMMANDER\"\t\"This is a Rebel that surrendered to us. Although he denies it, I believe there may be more of them, and I request permission to conduct a further search of the area.\"\n",
      "\"REBEL\"\t\"CAPTAIN Groups seven and ten will stay behind to fly the speeders. As soon as each transport is loaded, evacuation control will give clearance for immediate launch.\"\n",
      "\"NEEDA\"\t\"...and that, Lord Vader, was the last time they appeared in any of our scopes. Considering the amount of damage we've sustained, they must have been destroyed.\"\n",
      "\"DEATH\"\t\"STAR CONTROLLER The security deflector shield will be deactivated when we have confirmation of your code transmission. Stand by... You are clear to proceed.\"\n",
      "\"VOICE\"\t\"We've captured a freighter entering the remains of the Alderaan system. It's markings match those of a ship that blasted its way out of Mos Eisley.\"\n",
      "\"NINEDENINE\"\t\"You're a feisty little one, but you'll soon learn some respect. I have need for you on the master's Sail Barge. And I think you'll fit in nicely.\"\n",
      "\"HAN/PILOT\"\t\"It's over, Commander. The Rebels have been routed. They're fleeing into the woods. We need reinforcements to continue the pursuit.\"\n",
      "\"SHUTTLE\"\t\"CAPTAIN Command station, this is ST 321. Code Clearance Blue. We're starting our approach. Deactivate the security shield.\"\n",
      "\"RIEEKAN\"\t\"Reroute all power to the energy shield. We've got to hold them till all transports are away. Prepare for ground assault.\"\n",
      "\"ZEV\"\t\"This is Rouge Two. this is Rouge Two. Captain Solo, so you copy? Commander Skywalker, do you copy? This is Rouge Two.\"\n",
      "\"DECK\"\t\"OFFICER Sir, Commander Skywalker hasn't come in through the south entrance. He might have forgotten to check in.\"\n",
      "\"CREATURE\"\t\"Not far. Yoda not far. Patience. Soon you will be with him. Rootleaf, I cook. Why wish you become Jedi? Hm?\"\n",
      "\"HUMAN\"\t\"Don't insult us. You just watch yourself. We're wanted men. I have the death sentence on twelve systems.\"\n",
      "\"MASSASSI\"\t\"INTERCOM VOICE Stand-by alert. Death Star approaching. Estimated time to firing range, fifteen minutes.\"\n",
      "\"CONTROLLER\"\t\"Shuttle Tydirium, deactivation of the shield will commence immediately. Follow your present course.\"\n",
      "\"TROOPER\"\t\"The ship's all yours. If the scanners pick up anything, report it immediately. All right, let's go.\"\n",
      "\"WEDGE\"\t\"My scope shows the tower, but I can't see the exhaust port! Are you sure the computer can hit it?\"\n",
      "\"ASTRO-OFFICER\"\t\"We count thirty Rebel ships, Lord Vader. But they're so small they're evading our turbo-lasers!\"\n",
      "\"IMPERIAL\"\t\"OFFICER The final check-out is complete. All systems are operational. What course shall we set?\"\n",
      "\"AUNT\"\t\"BERU Owen, he can't stay here forever. Most of his friends have gone. It means so much to him.\"\n",
      "\"CONTROL\"\t\"OFFICER Squad leaders, we've picked up a new group of signals. Enemy fighters coming your way.\"\n",
      "\"GOLD\"\t\"LEADER Pardon me for asking, sir, but what good are snub fighters going to be against that?\"\n",
      "\"WILLARD\"\t\"When we heard about Alderaan, we were afraid that you were... lost along with your father.\"\n",
      "\"OZZEL\"\t\"My lord, there are so many uncharted settlements. It could be smugglers, it could be...\"\n",
      "\"DERLIN\"\t\"Your Highness, there's nothing more we can do tonight. The shield doors must be closed.\"\n",
      "\"BASE\"\t\"VOICE His computer's off. Luke, you switched off your targeting computer. What's wrong?\"\n",
      "\"INTERCOM\"\t\"VOICE Governor Tarkin, we have an emergency alert in detention block AA-twenty-three.\"\n",
      "\"ANAKIN\"\t\"You already have, Luke. You were right about me. Tell your sister...you were right.\"\n",
      "\"GANTRY\"\t\"OFFICER TX-four-one-two. Why aren't you at your post? TX-four-one-two, do you copy?\"\n",
      "\"DACK\"\t\"Luke, we've got a malfunction in fire control. I'll have to cut in the auxiliary.\"\n",
      "\"LIEUTENANT\"\t\"Sir, all the patrols are in. There's still no contact from Skywalker or Solo.\"\n",
      "\"MAN\"\t\"All flight troops, man your stations. All flight troops, man your stations.\"\n",
      "\"CAPTAIN\"\t\"Hold your fire. There are no life forms. It must have been short-circuited.\"\n",
      "\"JERJERROD\"\t\"Lord Vader, this is an unexpected pleasure. We're honored by your presence.\"\n",
      "\"BERU\"\t\"Luke, tell Owen that if he gets a translator to be sure it speaks Bocce.\"\n",
      "\"MEDICAL\"\t\"DROID Sir, it will take quite awhile to evacuate the T-forty- sevens.\"\n",
      "\"FIRST\"\t\"TROOPER Someone was in the pod. The tracks go off in this direction.\"\n",
      "\"ASSISTANT\"\t\"OFFICER I'll cover sector twelve. Have com-control set screen alpha.\"\n",
      "\"BARTENDER\"\t\"Your droids. They'll have to wait outside. We don't want them here.\"\n",
      "\"SENIOR\"\t\"CONTROLLER No. Wait -- there's something very weak coming through.\"\n",
      "\"TRACKING\"\t\"OFFICER Captain Needa, the ship no longer appears on our scopes.\"\n",
      "\"CHIEF\"\t\"This R2 unit of your seems a bit beat up. Do you want a new one?\"\n",
      "\"GUARD\"\t\"Halt! The Emperor does not wish to be disturbed at the moment.\"\n",
      "\"COMMUNICATIONS\"\t\"OFFICER Captain, Lord Vader demands an update on the pursuit.\"\n",
      "\"BOBA\"\t\"FETT What if he doesn't survive? He's worth a lot to me.\"\n",
      "\"BOUSHH\"\t\"Just relax for a moment. You're free of the carbonite.\"\n",
      "\"PILOT\"\t\"VOICE Parts and technical crew for the forest moon.\"\n",
      "\"ANNOUNCER\"\t\"Headquarters personnel, report to command center.\"\n",
      "\"SCOUT\"\t\"#1 Go get your ride and take her back to base.\"\n",
      "\"HEAD\"\t\"CONTROLLER K-one-zero...all troops disengage.\"\n",
      "\"STORMTROOPER\"\t\"All right, move it! I said move it! Go on!\"\n",
      "\"WOMAN\"\t\"CONTROLLER Stand by, ion control....Fire!\"\n",
      "\"TRENCH\"\t\"OFFICER We have spotted Imperial walkers!\"\n",
      "\"BIB\"\t\"Nee Jabba no badda. Me chaade su goodie.\"\n",
      "\"HOBBIE\"\t\"Two fighters against a Star Destroyer?\"\n",
      "\"CAMIE\"\t\"It was just Wormie on another rampage.\"\n",
      "\"OOLA\"\t\"Na Chuba negatorie Na! Na! Natoota...\"\n",
      "\"TECHNICIAN\"\t\"We'll get to work on him right away.\"\n",
      "\"BUNKER\"\t\"COMMANDER Bring those two down here!\"\n",
      "\"GREEN\"\t\"LEADER Green Leader standing by.\"\n",
      "\"GRAY\"\t\"LEADER Gray Leader standing by.\"\n",
      "\"STRANGE\"\t\"VOICE Tee chuta hhat yudd!\"\n",
      "\"JANSON\"\t\"Coming around. Once more.\"\n",
      "\"DEAK\"\t\"Not again! Forget it.\"\n",
      "\"PORKINS\"\t\"Red Six standing by.\"\n",
      "\"NAVIGATOR\"\t\"Pressure's steady.\"\n",
      "\"LURE\"\t\"But you'll die.\"\n",
      "\"WALKER\"\t\"PILOT #1 Look!\"\n",
      "\"Y-WING\"\t\"PILOT I'm hit!\"\n",
      "\"PILOTS\"\t\"Right. Okay.\"\n",
      "\"OPERATOR\"\t\"Yes, sir.\"\n",
      "\"WINGMAN\"\t\"Look out!\"\n"
     ]
    }
   ],
   "source": [
    "!hadoop fs -cat /starwars/results/task-2/SW_All_Episodes_res.txt/part-00000"
   ]
  },
  {
   "cell_type": "markdown",
   "id": "92fa35d9-c316-4d10-bf5a-11813bc5ab63",
   "metadata": {},
   "source": [
    "### Скачивание файлов"
   ]
  },
  {
   "cell_type": "markdown",
   "id": "ab447d58-9b82-4a7d-a32c-790c92c7cddf",
   "metadata": {},
   "source": [
    "Скачаем полученные в результате тестирования файлы локально на компьютер"
   ]
  },
  {
   "cell_type": "code",
   "execution_count": 219,
   "id": "242be570-b931-4477-b9cc-0e1b74fae2f8",
   "metadata": {},
   "outputs": [
    {
     "name": "stdout",
     "output_type": "stream",
     "text": [
      "2023-11-29 21:46:47 WARN  NativeCodeLoader:60 - Unable to load native-hadoop library for your platform... using builtin-java classes where applicable\n",
      "2023-11-29 21:46:48 WARN  NativeCodeLoader:60 - Unable to load native-hadoop library for your platform... using builtin-java classes where applicable\n",
      "2023-11-29 21:46:49 WARN  NativeCodeLoader:60 - Unable to load native-hadoop library for your platform... using builtin-java classes where applicable\n",
      "2023-11-29 21:46:50 WARN  NativeCodeLoader:60 - Unable to load native-hadoop library for your platform... using builtin-java classes where applicable\n"
     ]
    }
   ],
   "source": [
    "!hadoop fs -get hdfs://namenode:8020/starwars/results/task-2/SW_EpisodeIV_res.txt ./results/task-2/hdfs/SW_EpisodeIV_res.txt\n",
    "!hadoop fs -get hdfs://namenode:8020/starwars/results/task-2/SW_EpisodeV_res.txt ./results/task-2/hdfs/SW_EpisodeV_res.txt\n",
    "!hadoop fs -get hdfs://namenode:8020/starwars/results/task-2/SW_EpisodeVI_res.txt ./results/task-2/hdfs/SW_EpisodeVI_res.txt\n",
    "!hadoop fs -get hdfs://namenode:8020/starwars/results/task-2/SW_All_Episodes_res.txt ./results/task-2/hdfs/SW_All_Episodes_res.txt"
   ]
  },
  {
   "cell_type": "markdown",
   "id": "4a8b1c2e-51d1-4248-995c-0ac7d478510e",
   "metadata": {},
   "source": [
    "## Задание 3"
   ]
  },
  {
   "cell_type": "code",
   "execution_count": 220,
   "id": "1aa1eb85-2983-40f4-af1a-6588a8a1d815",
   "metadata": {},
   "outputs": [
    {
     "name": "stdout",
     "output_type": "stream",
     "text": [
      "Collecting nltk\n",
      "  Downloading nltk-3.8.1-py3-none-any.whl (1.5 MB)\n",
      "\u001b[2K     \u001b[90m━━━━━━━━━━━━━━━━━━━━━━━━━━━━━━━━━━━━━━━━\u001b[0m \u001b[32m1.5/1.5 MB\u001b[0m \u001b[31m1.2 MB/s\u001b[0m eta \u001b[36m0:00:00\u001b[0m00:01\u001b[0m00:01\u001b[0m0m\n",
      "\u001b[?25hCollecting click\n",
      "  Downloading click-8.1.7-py3-none-any.whl (97 kB)\n",
      "\u001b[2K     \u001b[90m━━━━━━━━━━━━━━━━━━━━━━━━━━━━━━━━━━━━━━━━\u001b[0m \u001b[32m97.9/97.9 KB\u001b[0m \u001b[31m1.2 MB/s\u001b[0m eta \u001b[36m0:00:00\u001b[0ma \u001b[36m0:00:01\u001b[0m\n",
      "\u001b[?25hCollecting joblib\n",
      "  Downloading joblib-1.3.2-py3-none-any.whl (302 kB)\n",
      "\u001b[2K     \u001b[90m━━━━━━━━━━━━━━━━━━━━━━━━━━━━━━━━━━━━━━━\u001b[0m \u001b[32m302.2/302.2 KB\u001b[0m \u001b[31m1.2 MB/s\u001b[0m eta \u001b[36m0:00:00\u001b[0ma \u001b[36m0:00:01\u001b[0m\n",
      "\u001b[?25hCollecting tqdm\n",
      "  Downloading tqdm-4.66.1-py3-none-any.whl (78 kB)\n",
      "\u001b[2K     \u001b[90m━━━━━━━━━━━━━━━━━━━━━━━━━━━━━━━━━━━━━━━\u001b[0m \u001b[32m78.3/78.3 KB\u001b[0m \u001b[31m548.1 kB/s\u001b[0m eta \u001b[36m0:00:00\u001b[0ma \u001b[36m0:00:01\u001b[0m\n",
      "\u001b[?25hCollecting regex>=2021.8.3\n",
      "  Downloading regex-2023.10.3-cp310-cp310-manylinux_2_17_aarch64.manylinux2014_aarch64.whl (774 kB)\n",
      "\u001b[2K     \u001b[90m━━━━━━━━━━━━━━━━━━━━━━━━━━━━━━━━━━━━━━━\u001b[0m \u001b[32m774.1/774.1 KB\u001b[0m \u001b[31m1.2 MB/s\u001b[0m eta \u001b[36m0:00:00\u001b[0ma \u001b[36m0:00:01\u001b[0m\n",
      "\u001b[?25hInstalling collected packages: tqdm, regex, joblib, click, nltk\n",
      "Successfully installed click-8.1.7 joblib-1.3.2 nltk-3.8.1 regex-2023.10.3 tqdm-4.66.1\n",
      "\u001b[33mWARNING: Running pip as the 'root' user can result in broken permissions and conflicting behaviour with the system package manager. It is recommended to use a virtual environment instead: https://pip.pypa.io/warnings/venv\u001b[0m\u001b[33m\n",
      "\u001b[0m"
     ]
    }
   ],
   "source": [
    "!pip install nltk"
   ]
  },
  {
   "cell_type": "markdown",
   "id": "8150f9bc-1069-4d0a-bff4-e880f71a2a02",
   "metadata": {},
   "source": [
    "### (Игрушечные примеры очистки данных)"
   ]
  },
  {
   "cell_type": "code",
   "execution_count": 225,
   "id": "c3571f15-00ef-47c2-8566-2d59b4038733",
   "metadata": {},
   "outputs": [
    {
     "name": "stdout",
     "output_type": "stream",
     "text": [
      "Gfg is best for  Geeks \n"
     ]
    },
    {
     "data": {
      "text/plain": [
       "['Gfg', 'is', 'best', 'for', 'Geeks']"
      ]
     },
     "execution_count": 225,
     "metadata": {},
     "output_type": "execute_result"
    }
   ],
   "source": [
    "import string\n",
    " \n",
    "test_str = 'Gfg, is best: for ! Geeks ;!()-[]{};:\"\\,<>./?@#$%^&*_~'\n",
    " \n",
    "test_str = test_str.translate(str.maketrans('', '', string.punctuation))\n",
    "print(test_str)\n",
    "\n",
    "words = test_str.split()"
   ]
  },
  {
   "cell_type": "code",
   "execution_count": 228,
   "id": "c267ef21-f4b7-448c-a91b-a1b78307eb1f",
   "metadata": {},
   "outputs": [
    {
     "name": "stderr",
     "output_type": "stream",
     "text": [
      "[nltk_data] Downloading package punkt to /root/nltk_data...\n",
      "[nltk_data]   Unzipping tokenizers/punkt.zip.\n"
     ]
    },
    {
     "data": {
      "text/plain": [
       "True"
      ]
     },
     "execution_count": 228,
     "metadata": {},
     "output_type": "execute_result"
    }
   ],
   "source": [
    "import nltk\n",
    "nltk.download('punkt')"
   ]
  },
  {
   "cell_type": "code",
   "execution_count": 230,
   "id": "50ec07a8-be0b-4a02-943f-169673b3958d",
   "metadata": {},
   "outputs": [
    {
     "name": "stdout",
     "output_type": "stream",
     "text": [
      "[('abc', 'def')]\n"
     ]
    }
   ],
   "source": [
    "from nltk.util import ngrams\n",
    "from nltk.tokenize import word_tokenize\n",
    "\n",
    "line = 'abc def'\n",
    "tokens = word_tokenize(line)\n",
    "bigram = list(ngrams(tokens, 2))\n",
    "print(bigram)"
   ]
  },
  {
   "cell_type": "markdown",
   "id": "097aec42-629f-4a2e-8083-cfeb17934538",
   "metadata": {},
   "source": [
    "## Скрипт-решение: топ часто встречающихся биграм"
   ]
  },
  {
   "cell_type": "code",
   "execution_count": 237,
   "id": "fc80462f-739c-494d-bab2-bda7e6eaa95b",
   "metadata": {},
   "outputs": [
    {
     "name": "stdout",
     "output_type": "stream",
     "text": [
      "Overwriting top_frequent_bigrams.py\n"
     ]
    }
   ],
   "source": [
    "%%file top_frequent_bigrams.py\n",
    "# %%file is an Ipython magic function that saves the code cell as a file\n",
    "\n",
    "from mrjob.job import MRJob\n",
    "from mrjob.step import MRStep\n",
    "import nltk\n",
    "import string\n",
    "from nltk.tokenize import word_tokenize\n",
    "from nltk.corpus import stopwords\n",
    "from nltk.util import ngrams\n",
    "\n",
    "TOP_N = 20\n",
    "\n",
    "class MRTopFrequentBigrams(MRJob):\n",
    "    def steps(self):\n",
    "        return [\n",
    "            MRStep(mapper_init=self.mapper_init,\n",
    "                   mapper=self.mapper_clean_text_and_split_by_bigramms,\n",
    "                   combiner=self.combiner_count_bigrams,\n",
    "                   reducer=self.reducer_count_bigrams),\n",
    "            MRStep(reducer=self.reducer_top_frequent_bigrams)\n",
    "        ]\n",
    "\n",
    "    def mapper_init(self):\n",
    "        nltk.download('punkt')\n",
    "        nltk.download('stopwords')\n",
    "\n",
    "    def mapper_clean_text_and_split_by_bigramms(self, _, line):\n",
    "        # text preprocessing\n",
    "        line = line.lower()\n",
    "        \n",
    "        # cleaning from punctuation\n",
    "        line = line.translate(str.maketrans('', '', string.punctuation))\n",
    "        # splitting into words\n",
    "        line_words = line.split()\n",
    "\n",
    "        phrase = ' '.join(line_words[2:])\n",
    "        # tokenizing\n",
    "        phrase_tokens = word_tokenize(phrase)\n",
    "        # cleaning from the stop words\n",
    "        stop_words = set(stopwords.words('english'))\n",
    "        phrase_tokens = [token for token in phrase_tokens if token not in stop_words]\n",
    "\n",
    "        # splitting to bigrams\n",
    "        phrase_bigrams = list(ngrams(phrase_tokens, 2))\n",
    "\n",
    "        # returning res\n",
    "        for bigram in phrase_bigrams:\n",
    "            yield (bigram, 1)\n",
    "\n",
    "    def combiner_count_bigrams(self, bigram, bigram_counts):\n",
    "        # optimization: sum the characters we've seen so far\n",
    "        yield (bigram, sum(bigram_counts))\n",
    "\n",
    "    def reducer_count_bigrams(self, bigram, bigram_counts):\n",
    "        # send all (character, phrases_counts) pairs to the same reducer.\n",
    "        yield None, (bigram, sum(bigram_counts))\n",
    "\n",
    "    # discard the key; it is just None\n",
    "    def reducer_top_frequent_bigrams(self, _, bigram_count_pairs):\n",
    "        # each item of bigram_count_pairs is (bigram, count)\n",
    "        # convert to list bc 'generator' object is not subscriptable\n",
    "        bigram_count_pairs = list(bigram_count_pairs)\n",
    "        \n",
    "        # sort by bigram count\n",
    "        bigram_count_pairs.sort(\n",
    "            key=lambda pair: pair[1],\n",
    "            reverse=True\n",
    "        )\n",
    "\n",
    "        # get top N frequent bigrams\n",
    "        top_frequent_bigrams = bigram_count_pairs[:TOP_N]\n",
    "\n",
    "        # return the result\n",
    "        for bigram_count_pair in top_frequent_bigrams:\n",
    "            yield bigram_count_pair\n",
    "\n",
    "\n",
    "if __name__ == '__main__':\n",
    "    MRTopFrequentBigrams.run()"
   ]
  },
  {
   "cell_type": "markdown",
   "id": "cee45b16-fee2-4f90-8869-4ce48ed5363c",
   "metadata": {},
   "source": [
    "## Локальное тестирование"
   ]
  },
  {
   "cell_type": "markdown",
   "id": "ba27b201-1a63-4467-8f83-bd85e65847a5",
   "metadata": {},
   "source": [
    "### Запуск скриптов"
   ]
  },
  {
   "cell_type": "code",
   "execution_count": 238,
   "id": "509c89d4-b50a-470f-9100-edef1ed583e2",
   "metadata": {},
   "outputs": [],
   "source": [
    "# task-3 local results paths\n",
    "t3_local_res_e4 = './results/task-3/local/SW_EpisodeIV_res.txt'\n",
    "t3_local_res_e5 = './results/task-3/local/SW_EpisodeV_res.txt'\n",
    "t3_local_res_e6 = './results/task-3/local/SW_EpisodeVI_res.txt'\n",
    "t3_local_res_all = './results/task-3/local/SW_All_Episodes_res.txt'"
   ]
  },
  {
   "cell_type": "markdown",
   "id": "337a99ff-3cba-4d82-aff7-be33cf3a62f7",
   "metadata": {},
   "source": [
    "По каждому эпизоду"
   ]
  },
  {
   "cell_type": "code",
   "execution_count": 239,
   "id": "a6fb7dd0-9472-4a67-8e7d-79e3ebaccb70",
   "metadata": {},
   "outputs": [
    {
     "name": "stdout",
     "output_type": "stream",
     "text": [
      "No configs found; falling back on auto-configuration\n",
      "No configs specified for inline runner\n",
      "Creating temp directory /tmp/top_frequent_bigrams.root.20231129.200108.763004\n",
      "Running step 1 of 2...\n",
      "[nltk_data] Downloading package punkt to /root/nltk_data...\n",
      "[nltk_data]   Package punkt is already up-to-date!\n",
      "[nltk_data] Downloading package stopwords to /root/nltk_data...\n",
      "[nltk_data]   Unzipping corpora/stopwords.zip.\n",
      "[nltk_data] Downloading package punkt to /root/nltk_data...\n",
      "[nltk_data]   Package punkt is already up-to-date!\n",
      "[nltk_data] Downloading package stopwords to /root/nltk_data...\n",
      "[nltk_data]   Package stopwords is already up-to-date!\n",
      "[nltk_data] Downloading package punkt to /root/nltk_data...\n",
      "[nltk_data]   Package punkt is already up-to-date!\n",
      "[nltk_data] Downloading package stopwords to /root/nltk_data...\n",
      "[nltk_data]   Package stopwords is already up-to-date!\n",
      "[nltk_data] Downloading package punkt to /root/nltk_data...\n",
      "[nltk_data]   Package punkt is already up-to-date!\n",
      "[nltk_data] Downloading package stopwords to /root/nltk_data...\n",
      "[nltk_data]   Package stopwords is already up-to-date!\n",
      "[nltk_data] Downloading package punkt to /root/nltk_data...\n",
      "[nltk_data]   Package punkt is already up-to-date!\n",
      "[nltk_data] Downloading package stopwords to /root/nltk_data...\n",
      "[nltk_data]   Package stopwords is already up-to-date!\n",
      "[nltk_data] Downloading package punkt to /root/nltk_data...\n",
      "[nltk_data]   Package punkt is already up-to-date!\n",
      "[nltk_data] Downloading package stopwords to /root/nltk_data...\n",
      "[nltk_data]   Package stopwords is already up-to-date!\n",
      "[nltk_data] Downloading package punkt to /root/nltk_data...\n",
      "[nltk_data]   Package punkt is already up-to-date!\n",
      "[nltk_data] Downloading package stopwords to /root/nltk_data...\n",
      "[nltk_data]   Package stopwords is already up-to-date!\n",
      "[nltk_data] Downloading package punkt to /root/nltk_data...\n",
      "[nltk_data]   Package punkt is already up-to-date!\n",
      "[nltk_data] Downloading package stopwords to /root/nltk_data...\n",
      "[nltk_data]   Package stopwords is already up-to-date!\n",
      "[nltk_data] Downloading package punkt to /root/nltk_data...\n",
      "[nltk_data]   Package punkt is already up-to-date!\n",
      "[nltk_data] Downloading package stopwords to /root/nltk_data...\n",
      "[nltk_data]   Package stopwords is already up-to-date!\n",
      "[nltk_data] Downloading package punkt to /root/nltk_data...\n",
      "[nltk_data]   Package punkt is already up-to-date!\n",
      "[nltk_data] Downloading package stopwords to /root/nltk_data...\n",
      "[nltk_data]   Package stopwords is already up-to-date!\n",
      "[nltk_data] Downloading package punkt to /root/nltk_data...\n",
      "[nltk_data]   Package punkt is already up-to-date!\n",
      "[nltk_data] Downloading package stopwords to /root/nltk_data...\n",
      "[nltk_data]   Package stopwords is already up-to-date!\n",
      "[nltk_data] Downloading package punkt to /root/nltk_data...\n",
      "[nltk_data]   Package punkt is already up-to-date!\n",
      "[nltk_data] Downloading package stopwords to /root/nltk_data...\n",
      "[nltk_data]   Package stopwords is already up-to-date!\n",
      "[nltk_data] Downloading package punkt to /root/nltk_data...\n",
      "[nltk_data]   Package punkt is already up-to-date!\n",
      "[nltk_data] Downloading package stopwords to /root/nltk_data...\n",
      "[nltk_data]   Package stopwords is already up-to-date!\n",
      "[nltk_data] Downloading package punkt to /root/nltk_data...\n",
      "[nltk_data]   Package punkt is already up-to-date!\n",
      "[nltk_data] Downloading package stopwords to /root/nltk_data...\n",
      "[nltk_data]   Package stopwords is already up-to-date!\n",
      "[nltk_data] Downloading package punkt to /root/nltk_data...\n",
      "[nltk_data]   Package punkt is already up-to-date!\n",
      "[nltk_data] Downloading package stopwords to /root/nltk_data...\n",
      "[nltk_data]   Package stopwords is already up-to-date!\n",
      "[nltk_data] Downloading package punkt to /root/nltk_data...\n",
      "[nltk_data]   Package punkt is already up-to-date!\n",
      "[nltk_data] Downloading package stopwords to /root/nltk_data...\n",
      "[nltk_data]   Package stopwords is already up-to-date!\n",
      "[nltk_data] Downloading package punkt to /root/nltk_data...\n",
      "[nltk_data]   Package punkt is already up-to-date!\n",
      "[nltk_data] Downloading package stopwords to /root/nltk_data...\n",
      "[nltk_data]   Package stopwords is already up-to-date!\n",
      "[nltk_data] Downloading package punkt to /root/nltk_data...\n",
      "[nltk_data]   Package punkt is already up-to-date!\n",
      "[nltk_data] Downloading package stopwords to /root/nltk_data...\n",
      "[nltk_data]   Package stopwords is already up-to-date!\n",
      "[nltk_data] Downloading package punkt to /root/nltk_data...\n",
      "[nltk_data]   Package punkt is already up-to-date!\n",
      "[nltk_data] Downloading package stopwords to /root/nltk_data...\n",
      "[nltk_data]   Package stopwords is already up-to-date!\n",
      "[nltk_data] Downloading package punkt to /root/nltk_data...\n",
      "[nltk_data]   Package punkt is already up-to-date!\n",
      "[nltk_data] Downloading package stopwords to /root/nltk_data...\n",
      "[nltk_data]   Package stopwords is already up-to-date!\n",
      "Running step 2 of 2...\n",
      "job output is in /tmp/top_frequent_bigrams.root.20231129.200108.763004/output\n",
      "Streaming final output from /tmp/top_frequent_bigrams.root.20231129.200108.763004/output...\n",
      "Removing temp directory /tmp/top_frequent_bigrams.root.20231129.200108.763004...\n"
     ]
    }
   ],
   "source": [
    "!python3 top_frequent_bigrams.py $original_e4 > $t3_local_res_e4"
   ]
  },
  {
   "cell_type": "code",
   "execution_count": 240,
   "id": "5eeca429-24fa-4db9-9870-7f71d9b5a212",
   "metadata": {},
   "outputs": [
    {
     "name": "stdout",
     "output_type": "stream",
     "text": [
      "No configs found; falling back on auto-configuration\n",
      "No configs specified for inline runner\n",
      "Creating temp directory /tmp/top_frequent_bigrams.root.20231129.200142.012267\n",
      "Running step 1 of 2...\n",
      "[nltk_data] Downloading package punkt to /root/nltk_data...\n",
      "[nltk_data]   Package punkt is already up-to-date!\n",
      "[nltk_data] Downloading package stopwords to /root/nltk_data...\n",
      "[nltk_data]   Package stopwords is already up-to-date!\n",
      "[nltk_data] Downloading package punkt to /root/nltk_data...\n",
      "[nltk_data]   Package punkt is already up-to-date!\n",
      "[nltk_data] Downloading package stopwords to /root/nltk_data...\n",
      "[nltk_data]   Package stopwords is already up-to-date!\n",
      "[nltk_data] Downloading package punkt to /root/nltk_data...\n",
      "[nltk_data]   Package punkt is already up-to-date!\n",
      "[nltk_data] Downloading package stopwords to /root/nltk_data...\n",
      "[nltk_data]   Package stopwords is already up-to-date!\n",
      "[nltk_data] Downloading package punkt to /root/nltk_data...\n",
      "[nltk_data]   Package punkt is already up-to-date!\n",
      "[nltk_data] Downloading package stopwords to /root/nltk_data...\n",
      "[nltk_data]   Package stopwords is already up-to-date!\n",
      "[nltk_data] Downloading package punkt to /root/nltk_data...\n",
      "[nltk_data]   Package punkt is already up-to-date!\n",
      "[nltk_data] Downloading package stopwords to /root/nltk_data...\n",
      "[nltk_data]   Package stopwords is already up-to-date!\n",
      "[nltk_data] Downloading package punkt to /root/nltk_data...\n",
      "[nltk_data]   Package punkt is already up-to-date!\n",
      "[nltk_data] Downloading package stopwords to /root/nltk_data...\n",
      "[nltk_data]   Package stopwords is already up-to-date!\n",
      "[nltk_data] Downloading package punkt to /root/nltk_data...\n",
      "[nltk_data]   Package punkt is already up-to-date!\n",
      "[nltk_data] Downloading package stopwords to /root/nltk_data...\n",
      "[nltk_data]   Package stopwords is already up-to-date!\n",
      "[nltk_data] Downloading package punkt to /root/nltk_data...\n",
      "[nltk_data]   Package punkt is already up-to-date!\n",
      "[nltk_data] Downloading package stopwords to /root/nltk_data...\n",
      "[nltk_data]   Package stopwords is already up-to-date!\n",
      "[nltk_data] Downloading package punkt to /root/nltk_data...\n",
      "[nltk_data]   Package punkt is already up-to-date!\n",
      "[nltk_data] Downloading package stopwords to /root/nltk_data...\n",
      "[nltk_data]   Package stopwords is already up-to-date!\n",
      "[nltk_data] Downloading package punkt to /root/nltk_data...\n",
      "[nltk_data]   Package punkt is already up-to-date!\n",
      "[nltk_data] Downloading package stopwords to /root/nltk_data...\n",
      "[nltk_data]   Package stopwords is already up-to-date!\n",
      "[nltk_data] Downloading package punkt to /root/nltk_data...\n",
      "[nltk_data]   Package punkt is already up-to-date!\n",
      "[nltk_data] Downloading package stopwords to /root/nltk_data...\n",
      "[nltk_data]   Package stopwords is already up-to-date!\n",
      "[nltk_data] Downloading package punkt to /root/nltk_data...\n",
      "[nltk_data]   Package punkt is already up-to-date!\n",
      "[nltk_data] Downloading package stopwords to /root/nltk_data...\n",
      "[nltk_data]   Package stopwords is already up-to-date!\n",
      "[nltk_data] Downloading package punkt to /root/nltk_data...\n",
      "[nltk_data]   Package punkt is already up-to-date!\n",
      "[nltk_data] Downloading package stopwords to /root/nltk_data...\n",
      "[nltk_data]   Package stopwords is already up-to-date!\n",
      "[nltk_data] Downloading package punkt to /root/nltk_data...\n",
      "[nltk_data]   Package punkt is already up-to-date!\n",
      "[nltk_data] Downloading package stopwords to /root/nltk_data...\n",
      "[nltk_data]   Package stopwords is already up-to-date!\n",
      "[nltk_data] Downloading package punkt to /root/nltk_data...\n",
      "[nltk_data]   Package punkt is already up-to-date!\n",
      "[nltk_data] Downloading package stopwords to /root/nltk_data...\n",
      "[nltk_data]   Package stopwords is already up-to-date!\n",
      "[nltk_data] Downloading package punkt to /root/nltk_data...\n",
      "[nltk_data]   Package punkt is already up-to-date!\n",
      "[nltk_data] Downloading package stopwords to /root/nltk_data...\n",
      "[nltk_data]   Package stopwords is already up-to-date!\n",
      "[nltk_data] Downloading package punkt to /root/nltk_data...\n",
      "[nltk_data]   Package punkt is already up-to-date!\n",
      "[nltk_data] Downloading package stopwords to /root/nltk_data...\n",
      "[nltk_data]   Package stopwords is already up-to-date!\n",
      "[nltk_data] Downloading package punkt to /root/nltk_data...\n",
      "[nltk_data]   Package punkt is already up-to-date!\n",
      "[nltk_data] Downloading package stopwords to /root/nltk_data...\n",
      "[nltk_data]   Package stopwords is already up-to-date!\n",
      "[nltk_data] Downloading package punkt to /root/nltk_data...\n",
      "[nltk_data]   Package punkt is already up-to-date!\n",
      "[nltk_data] Downloading package stopwords to /root/nltk_data...\n",
      "[nltk_data]   Package stopwords is already up-to-date!\n",
      "[nltk_data] Downloading package punkt to /root/nltk_data...\n",
      "[nltk_data]   Package punkt is already up-to-date!\n",
      "[nltk_data] Downloading package stopwords to /root/nltk_data...\n",
      "[nltk_data]   Package stopwords is already up-to-date!\n",
      "Running step 2 of 2...\n",
      "job output is in /tmp/top_frequent_bigrams.root.20231129.200142.012267/output\n",
      "Streaming final output from /tmp/top_frequent_bigrams.root.20231129.200142.012267/output...\n",
      "Removing temp directory /tmp/top_frequent_bigrams.root.20231129.200142.012267...\n"
     ]
    }
   ],
   "source": [
    "!python3 top_frequent_bigrams.py $original_e5 > $t3_local_res_e5"
   ]
  },
  {
   "cell_type": "code",
   "execution_count": 241,
   "id": "7f333386-5758-4481-9741-a7b7d8bbb52a",
   "metadata": {},
   "outputs": [
    {
     "name": "stdout",
     "output_type": "stream",
     "text": [
      "No configs found; falling back on auto-configuration\n",
      "No configs specified for inline runner\n",
      "Creating temp directory /tmp/top_frequent_bigrams.root.20231129.200145.598508\n",
      "Running step 1 of 2...\n",
      "[nltk_data] Downloading package punkt to /root/nltk_data...\n",
      "[nltk_data]   Package punkt is already up-to-date!\n",
      "[nltk_data] Downloading package stopwords to /root/nltk_data...\n",
      "[nltk_data]   Package stopwords is already up-to-date!\n",
      "[nltk_data] Downloading package punkt to /root/nltk_data...\n",
      "[nltk_data]   Package punkt is already up-to-date!\n",
      "[nltk_data] Downloading package stopwords to /root/nltk_data...\n",
      "[nltk_data]   Package stopwords is already up-to-date!\n",
      "[nltk_data] Downloading package punkt to /root/nltk_data...\n",
      "[nltk_data]   Package punkt is already up-to-date!\n",
      "[nltk_data] Downloading package stopwords to /root/nltk_data...\n",
      "[nltk_data]   Package stopwords is already up-to-date!\n",
      "[nltk_data] Downloading package punkt to /root/nltk_data...\n",
      "[nltk_data]   Package punkt is already up-to-date!\n",
      "[nltk_data] Downloading package stopwords to /root/nltk_data...\n",
      "[nltk_data]   Package stopwords is already up-to-date!\n",
      "[nltk_data] Downloading package punkt to /root/nltk_data...\n",
      "[nltk_data]   Package punkt is already up-to-date!\n",
      "[nltk_data] Downloading package stopwords to /root/nltk_data...\n",
      "[nltk_data]   Package stopwords is already up-to-date!\n",
      "[nltk_data] Downloading package punkt to /root/nltk_data...\n",
      "[nltk_data]   Package punkt is already up-to-date!\n",
      "[nltk_data] Downloading package stopwords to /root/nltk_data...\n",
      "[nltk_data]   Package stopwords is already up-to-date!\n",
      "[nltk_data] Downloading package punkt to /root/nltk_data...\n",
      "[nltk_data]   Package punkt is already up-to-date!\n",
      "[nltk_data] Downloading package stopwords to /root/nltk_data...\n",
      "[nltk_data]   Package stopwords is already up-to-date!\n",
      "[nltk_data] Downloading package punkt to /root/nltk_data...\n",
      "[nltk_data]   Package punkt is already up-to-date!\n",
      "[nltk_data] Downloading package stopwords to /root/nltk_data...\n",
      "[nltk_data]   Package stopwords is already up-to-date!\n",
      "[nltk_data] Downloading package punkt to /root/nltk_data...\n",
      "[nltk_data]   Package punkt is already up-to-date!\n",
      "[nltk_data] Downloading package stopwords to /root/nltk_data...\n",
      "[nltk_data]   Package stopwords is already up-to-date!\n",
      "[nltk_data] Downloading package punkt to /root/nltk_data...\n",
      "[nltk_data]   Package punkt is already up-to-date!\n",
      "[nltk_data] Downloading package stopwords to /root/nltk_data...\n",
      "[nltk_data]   Package stopwords is already up-to-date!\n",
      "[nltk_data] Downloading package punkt to /root/nltk_data...\n",
      "[nltk_data]   Package punkt is already up-to-date!\n",
      "[nltk_data] Downloading package stopwords to /root/nltk_data...\n",
      "[nltk_data]   Package stopwords is already up-to-date!\n",
      "[nltk_data] Downloading package punkt to /root/nltk_data...\n",
      "[nltk_data]   Package punkt is already up-to-date!\n",
      "[nltk_data] Downloading package stopwords to /root/nltk_data...\n",
      "[nltk_data]   Package stopwords is already up-to-date!\n",
      "[nltk_data] Downloading package punkt to /root/nltk_data...\n",
      "[nltk_data]   Package punkt is already up-to-date!\n",
      "[nltk_data] Downloading package stopwords to /root/nltk_data...\n",
      "[nltk_data]   Package stopwords is already up-to-date!\n",
      "[nltk_data] Downloading package punkt to /root/nltk_data...\n",
      "[nltk_data]   Package punkt is already up-to-date!\n",
      "[nltk_data] Downloading package stopwords to /root/nltk_data...\n",
      "[nltk_data]   Package stopwords is already up-to-date!\n",
      "[nltk_data] Downloading package punkt to /root/nltk_data...\n",
      "[nltk_data]   Package punkt is already up-to-date!\n",
      "[nltk_data] Downloading package stopwords to /root/nltk_data...\n",
      "[nltk_data]   Package stopwords is already up-to-date!\n",
      "[nltk_data] Downloading package punkt to /root/nltk_data...\n",
      "[nltk_data]   Package punkt is already up-to-date!\n",
      "[nltk_data] Downloading package stopwords to /root/nltk_data...\n",
      "[nltk_data]   Package stopwords is already up-to-date!\n",
      "[nltk_data] Downloading package punkt to /root/nltk_data...\n",
      "[nltk_data]   Package punkt is already up-to-date!\n",
      "[nltk_data] Downloading package stopwords to /root/nltk_data...\n",
      "[nltk_data]   Package stopwords is already up-to-date!\n",
      "[nltk_data] Downloading package punkt to /root/nltk_data...\n",
      "[nltk_data]   Package punkt is already up-to-date!\n",
      "[nltk_data] Downloading package stopwords to /root/nltk_data...\n",
      "[nltk_data]   Package stopwords is already up-to-date!\n",
      "[nltk_data] Downloading package punkt to /root/nltk_data...\n",
      "[nltk_data]   Package punkt is already up-to-date!\n",
      "[nltk_data] Downloading package stopwords to /root/nltk_data...\n",
      "[nltk_data]   Package stopwords is already up-to-date!\n",
      "[nltk_data] Downloading package punkt to /root/nltk_data...\n",
      "[nltk_data]   Package punkt is already up-to-date!\n",
      "[nltk_data] Downloading package stopwords to /root/nltk_data...\n",
      "[nltk_data]   Package stopwords is already up-to-date!\n",
      "Running step 2 of 2...\n",
      "job output is in /tmp/top_frequent_bigrams.root.20231129.200145.598508/output\n",
      "Streaming final output from /tmp/top_frequent_bigrams.root.20231129.200145.598508/output...\n",
      "Removing temp directory /tmp/top_frequent_bigrams.root.20231129.200145.598508...\n"
     ]
    }
   ],
   "source": [
    "!python3 top_frequent_bigrams.py $original_e6 > $t3_local_res_e6"
   ]
  },
  {
   "cell_type": "code",
   "execution_count": 242,
   "id": "1a6fc03a-ba87-45fb-97f2-53ac89e37ce3",
   "metadata": {},
   "outputs": [
    {
     "name": "stdout",
     "output_type": "stream",
     "text": [
      "No configs found; falling back on auto-configuration\n",
      "No configs specified for inline runner\n",
      "Creating temp directory /tmp/top_frequent_bigrams.root.20231129.200148.804984\n",
      "Running step 1 of 2...\n",
      "[nltk_data] Downloading package punkt to /root/nltk_data...\n",
      "[nltk_data]   Package punkt is already up-to-date!\n",
      "[nltk_data] Downloading package stopwords to /root/nltk_data...\n",
      "[nltk_data]   Package stopwords is already up-to-date!\n",
      "[nltk_data] Downloading package punkt to /root/nltk_data...\n",
      "[nltk_data]   Package punkt is already up-to-date!\n",
      "[nltk_data] Downloading package stopwords to /root/nltk_data...\n",
      "[nltk_data]   Package stopwords is already up-to-date!\n",
      "[nltk_data] Downloading package punkt to /root/nltk_data...\n",
      "[nltk_data]   Package punkt is already up-to-date!\n",
      "[nltk_data] Downloading package stopwords to /root/nltk_data...\n",
      "[nltk_data]   Package stopwords is already up-to-date!\n",
      "[nltk_data] Downloading package punkt to /root/nltk_data...\n",
      "[nltk_data]   Package punkt is already up-to-date!\n",
      "[nltk_data] Downloading package stopwords to /root/nltk_data...\n",
      "[nltk_data]   Package stopwords is already up-to-date!\n",
      "[nltk_data] Downloading package punkt to /root/nltk_data...\n",
      "[nltk_data]   Package punkt is already up-to-date!\n",
      "[nltk_data] Downloading package stopwords to /root/nltk_data...\n",
      "[nltk_data]   Package stopwords is already up-to-date!\n",
      "[nltk_data] Downloading package punkt to /root/nltk_data...\n",
      "[nltk_data]   Package punkt is already up-to-date!\n",
      "[nltk_data] Downloading package stopwords to /root/nltk_data...\n",
      "[nltk_data]   Package stopwords is already up-to-date!\n",
      "[nltk_data] Downloading package punkt to /root/nltk_data...\n",
      "[nltk_data]   Package punkt is already up-to-date!\n",
      "[nltk_data] Downloading package stopwords to /root/nltk_data...\n",
      "[nltk_data]   Package stopwords is already up-to-date!\n",
      "[nltk_data] Downloading package punkt to /root/nltk_data...\n",
      "[nltk_data]   Package punkt is already up-to-date!\n",
      "[nltk_data] Downloading package stopwords to /root/nltk_data...\n",
      "[nltk_data]   Package stopwords is already up-to-date!\n",
      "[nltk_data] Downloading package punkt to /root/nltk_data...\n",
      "[nltk_data]   Package punkt is already up-to-date!\n",
      "[nltk_data] Downloading package stopwords to /root/nltk_data...\n",
      "[nltk_data]   Package stopwords is already up-to-date!\n",
      "[nltk_data] Downloading package punkt to /root/nltk_data...\n",
      "[nltk_data]   Package punkt is already up-to-date!\n",
      "[nltk_data] Downloading package stopwords to /root/nltk_data...\n",
      "[nltk_data]   Package stopwords is already up-to-date!\n",
      "[nltk_data] Downloading package punkt to /root/nltk_data...\n",
      "[nltk_data]   Package punkt is already up-to-date!\n",
      "[nltk_data] Downloading package stopwords to /root/nltk_data...\n",
      "[nltk_data]   Package stopwords is already up-to-date!\n",
      "[nltk_data] Downloading package punkt to /root/nltk_data...\n",
      "[nltk_data]   Package punkt is already up-to-date!\n",
      "[nltk_data] Downloading package stopwords to /root/nltk_data...\n",
      "[nltk_data]   Package stopwords is already up-to-date!\n",
      "[nltk_data] Downloading package punkt to /root/nltk_data...\n",
      "[nltk_data]   Package punkt is already up-to-date!\n",
      "[nltk_data] Downloading package stopwords to /root/nltk_data...\n",
      "[nltk_data]   Package stopwords is already up-to-date!\n",
      "[nltk_data] Downloading package punkt to /root/nltk_data...\n",
      "[nltk_data]   Package punkt is already up-to-date!\n",
      "[nltk_data] Downloading package stopwords to /root/nltk_data...\n",
      "[nltk_data]   Package stopwords is already up-to-date!\n",
      "[nltk_data] Downloading package punkt to /root/nltk_data...\n",
      "[nltk_data]   Package punkt is already up-to-date!\n",
      "[nltk_data] Downloading package stopwords to /root/nltk_data...\n",
      "[nltk_data]   Package stopwords is already up-to-date!\n",
      "[nltk_data] Downloading package punkt to /root/nltk_data...\n",
      "[nltk_data]   Package punkt is already up-to-date!\n",
      "[nltk_data] Downloading package stopwords to /root/nltk_data...\n",
      "[nltk_data]   Package stopwords is already up-to-date!\n",
      "[nltk_data] Downloading package punkt to /root/nltk_data...\n",
      "[nltk_data]   Package punkt is already up-to-date!\n",
      "[nltk_data] Downloading package stopwords to /root/nltk_data...\n",
      "[nltk_data]   Package stopwords is already up-to-date!\n",
      "[nltk_data] Downloading package punkt to /root/nltk_data...\n",
      "[nltk_data]   Package punkt is already up-to-date!\n",
      "[nltk_data] Downloading package stopwords to /root/nltk_data...\n",
      "[nltk_data]   Package stopwords is already up-to-date!\n",
      "[nltk_data] Downloading package punkt to /root/nltk_data...\n",
      "[nltk_data]   Package punkt is already up-to-date!\n",
      "[nltk_data] Downloading package stopwords to /root/nltk_data...\n",
      "[nltk_data]   Package stopwords is already up-to-date!\n",
      "[nltk_data] Downloading package punkt to /root/nltk_data...\n",
      "[nltk_data]   Package punkt is already up-to-date!\n",
      "[nltk_data] Downloading package stopwords to /root/nltk_data...\n",
      "[nltk_data]   Package stopwords is already up-to-date!\n",
      "[nltk_data] Downloading package punkt to /root/nltk_data...\n",
      "[nltk_data]   Package punkt is already up-to-date!\n",
      "[nltk_data] Downloading package stopwords to /root/nltk_data...\n",
      "[nltk_data]   Package stopwords is already up-to-date!\n",
      "[nltk_data] Downloading package punkt to /root/nltk_data...\n",
      "[nltk_data]   Package punkt is already up-to-date!\n",
      "[nltk_data] Downloading package stopwords to /root/nltk_data...\n",
      "[nltk_data]   Package stopwords is already up-to-date!\n",
      "Running step 2 of 2...\n",
      "job output is in /tmp/top_frequent_bigrams.root.20231129.200148.804984/output\n",
      "Streaming final output from /tmp/top_frequent_bigrams.root.20231129.200148.804984/output...\n",
      "Removing temp directory /tmp/top_frequent_bigrams.root.20231129.200148.804984...\n"
     ]
    }
   ],
   "source": [
    "!python3 top_frequent_bigrams.py $original_e4 $original_e5 $original_e6 > $t3_local_res_all"
   ]
  },
  {
   "cell_type": "markdown",
   "id": "0bffd516-3791-4a0d-8787-205dbd40dd89",
   "metadata": {},
   "source": [
    "## Тестирование на кластере"
   ]
  },
  {
   "cell_type": "code",
   "execution_count": 243,
   "id": "3458d990-fc72-4491-9234-b210e585da5f",
   "metadata": {},
   "outputs": [],
   "source": [
    "# task-3 hdfs results paths\n",
    "t3_hdfs_res_e4 = '/starwars/results/task-3/SW_EpisodeIV_res.txt'\n",
    "t3_hdfs_res_e5 = '/starwars/results/task-3/SW_EpisodeV_res.txt'\n",
    "t3_hdfs_res_e6 = '/starwars/results/task-3/SW_EpisodeVI_res.txt'\n",
    "t3_hdfs_res_all = '/starwars/results/task-3/SW_All_Episodes_res.txt'"
   ]
  },
  {
   "cell_type": "markdown",
   "id": "b61d9e0a-c301-407f-96de-fe53273295ce",
   "metadata": {},
   "source": [
    "По каждому эпизоду. Результаты сохраняем в файловую систему hdfs.\n",
    "\n",
    "На моем ноутбуке в связи с установленной OS не получается выполнить тестирование на кластере (https://stackoverflow.com/questions/52076577/error-java-lang-runtimeexception-pipemapred-waitoutputthreads-subprocess-fa)"
   ]
  },
  {
   "cell_type": "code",
   "execution_count": 244,
   "id": "a95d9622-ed6f-483e-8bc8-4d4c53df8b60",
   "metadata": {},
   "outputs": [
    {
     "name": "stdout",
     "output_type": "stream",
     "text": [
      "Looking for hadoop binary in /opt/hadoop/bin...\n",
      "Found hadoop binary: /opt/hadoop/bin/hadoop\n",
      "Using Hadoop version 3.3.6\n",
      "Looking for Hadoop streaming jar in /opt/hadoop...\n",
      "Found Hadoop streaming jar: /opt/hadoop/share/hadoop/tools/lib/hadoop-streaming-3.3.6.jar\n",
      "Creating temp directory /tmp/top_frequent_bigrams.root.20231129.200230.707788\n",
      "uploading working dir files to hdfs:///user/root/tmp/mrjob/top_frequent_bigrams.root.20231129.200230.707788/files/wd...\n",
      "Copying other local files to hdfs:///user/root/tmp/mrjob/top_frequent_bigrams.root.20231129.200230.707788/files/\n",
      "Running step 1 of 2...\n",
      "  Unable to load native-hadoop library for your platform... using builtin-java classes where applicable\n",
      "  packageJobJar: [/tmp/hadoop-unjar3745679230727019631/] [] /tmp/streamjob813736540415965001.jar tmpDir=null\n",
      "  Connecting to ResourceManager at resourcemanager/172.18.0.3:8032\n",
      "  Connecting to ResourceManager at resourcemanager/172.18.0.3:8032\n",
      "  Disabling Erasure Coding for path: /tmp/hadoop-yarn/staging/root/.staging/job_1701257956340_0044\n",
      "  Total input files to process : 1\n",
      "  number of splits:2\n",
      "  Submitting tokens for job: job_1701257956340_0044\n",
      "  Executing with tokens: []\n",
      "  resource-types.xml not found\n",
      "  Unable to find 'resource-types.xml'.\n",
      "  Submitted application application_1701257956340_0044\n",
      "  The url to track the job: http://resourcemanager:8088/proxy/application_1701257956340_0044/\n",
      "  Running job: job_1701257956340_0044\n",
      "  Job job_1701257956340_0044 running in uber mode : false\n",
      "   map 0% reduce 0%\n",
      "  Task Id : attempt_1701257956340_0044_m_000000_0, Status : FAILED\n",
      "Error: java.lang.RuntimeException: PipeMapRed.waitOutputThreads(): subprocess failed with code 1\n",
      "\tat org.apache.hadoop.streaming.PipeMapRed.waitOutputThreads(PipeMapRed.java:326)\n",
      "\tat org.apache.hadoop.streaming.PipeMapRed.mapRedFinished(PipeMapRed.java:539)\n",
      "\tat org.apache.hadoop.streaming.PipeMapper.close(PipeMapper.java:130)\n",
      "\tat org.apache.hadoop.mapred.MapRunner.run(MapRunner.java:61)\n",
      "\tat org.apache.hadoop.streaming.PipeMapRunner.run(PipeMapRunner.java:34)\n",
      "\tat org.apache.hadoop.mapred.MapTask.runOldMapper(MapTask.java:466)\n",
      "\tat org.apache.hadoop.mapred.MapTask.run(MapTask.java:350)\n",
      "\tat org.apache.hadoop.mapred.YarnChild$2.run(YarnChild.java:178)\n",
      "\tat java.security.AccessController.doPrivileged(Native Method)\n",
      "\tat javax.security.auth.Subject.doAs(Subject.java:422)\n",
      "\tat org.apache.hadoop.security.UserGroupInformation.doAs(UserGroupInformation.java:1899)\n",
      "\tat org.apache.hadoop.mapred.YarnChild.main(YarnChild.java:172)\n",
      "\n",
      "  Task Id : attempt_1701257956340_0044_m_000001_0, Status : FAILED\n",
      "Error: java.lang.RuntimeException: PipeMapRed.waitOutputThreads(): subprocess failed with code 1\n",
      "\tat org.apache.hadoop.streaming.PipeMapRed.waitOutputThreads(PipeMapRed.java:326)\n",
      "\tat org.apache.hadoop.streaming.PipeMapRed.mapRedFinished(PipeMapRed.java:539)\n",
      "\tat org.apache.hadoop.streaming.PipeMapper.close(PipeMapper.java:130)\n",
      "\tat org.apache.hadoop.mapred.MapRunner.run(MapRunner.java:61)\n",
      "\tat org.apache.hadoop.streaming.PipeMapRunner.run(PipeMapRunner.java:34)\n",
      "\tat org.apache.hadoop.mapred.MapTask.runOldMapper(MapTask.java:466)\n",
      "\tat org.apache.hadoop.mapred.MapTask.run(MapTask.java:350)\n",
      "\tat org.apache.hadoop.mapred.YarnChild$2.run(YarnChild.java:178)\n",
      "\tat java.security.AccessController.doPrivileged(Native Method)\n",
      "\tat javax.security.auth.Subject.doAs(Subject.java:422)\n",
      "\tat org.apache.hadoop.security.UserGroupInformation.doAs(UserGroupInformation.java:1899)\n",
      "\tat org.apache.hadoop.mapred.YarnChild.main(YarnChild.java:172)\n",
      "\n",
      "  Task Id : attempt_1701257956340_0044_m_000000_1, Status : FAILED\n",
      "Error: java.lang.RuntimeException: PipeMapRed.waitOutputThreads(): subprocess failed with code 1\n",
      "\tat org.apache.hadoop.streaming.PipeMapRed.waitOutputThreads(PipeMapRed.java:326)\n",
      "\tat org.apache.hadoop.streaming.PipeMapRed.mapRedFinished(PipeMapRed.java:539)\n",
      "\tat org.apache.hadoop.streaming.PipeMapper.close(PipeMapper.java:130)\n",
      "\tat org.apache.hadoop.mapred.MapRunner.run(MapRunner.java:61)\n",
      "\tat org.apache.hadoop.streaming.PipeMapRunner.run(PipeMapRunner.java:34)\n",
      "\tat org.apache.hadoop.mapred.MapTask.runOldMapper(MapTask.java:466)\n",
      "\tat org.apache.hadoop.mapred.MapTask.run(MapTask.java:350)\n",
      "\tat org.apache.hadoop.mapred.YarnChild$2.run(YarnChild.java:178)\n",
      "\tat java.security.AccessController.doPrivileged(Native Method)\n",
      "\tat javax.security.auth.Subject.doAs(Subject.java:422)\n",
      "\tat org.apache.hadoop.security.UserGroupInformation.doAs(UserGroupInformation.java:1899)\n",
      "\tat org.apache.hadoop.mapred.YarnChild.main(YarnChild.java:172)\n",
      "\n",
      "  Task Id : attempt_1701257956340_0044_m_000001_1, Status : FAILED\n",
      "Error: java.lang.RuntimeException: PipeMapRed.waitOutputThreads(): subprocess failed with code 1\n",
      "\tat org.apache.hadoop.streaming.PipeMapRed.waitOutputThreads(PipeMapRed.java:326)\n",
      "\tat org.apache.hadoop.streaming.PipeMapRed.mapRedFinished(PipeMapRed.java:539)\n",
      "\tat org.apache.hadoop.streaming.PipeMapper.close(PipeMapper.java:130)\n",
      "\tat org.apache.hadoop.mapred.MapRunner.run(MapRunner.java:61)\n",
      "\tat org.apache.hadoop.streaming.PipeMapRunner.run(PipeMapRunner.java:34)\n",
      "\tat org.apache.hadoop.mapred.MapTask.runOldMapper(MapTask.java:466)\n",
      "\tat org.apache.hadoop.mapred.MapTask.run(MapTask.java:350)\n",
      "\tat org.apache.hadoop.mapred.YarnChild$2.run(YarnChild.java:178)\n",
      "\tat java.security.AccessController.doPrivileged(Native Method)\n",
      "\tat javax.security.auth.Subject.doAs(Subject.java:422)\n",
      "\tat org.apache.hadoop.security.UserGroupInformation.doAs(UserGroupInformation.java:1899)\n",
      "\tat org.apache.hadoop.mapred.YarnChild.main(YarnChild.java:172)\n",
      "\n",
      "  Task Id : attempt_1701257956340_0044_m_000000_2, Status : FAILED\n",
      "Error: java.lang.RuntimeException: PipeMapRed.waitOutputThreads(): subprocess failed with code 1\n",
      "\tat org.apache.hadoop.streaming.PipeMapRed.waitOutputThreads(PipeMapRed.java:326)\n",
      "\tat org.apache.hadoop.streaming.PipeMapRed.mapRedFinished(PipeMapRed.java:539)\n",
      "\tat org.apache.hadoop.streaming.PipeMapper.close(PipeMapper.java:130)\n",
      "\tat org.apache.hadoop.mapred.MapRunner.run(MapRunner.java:61)\n",
      "\tat org.apache.hadoop.streaming.PipeMapRunner.run(PipeMapRunner.java:34)\n",
      "\tat org.apache.hadoop.mapred.MapTask.runOldMapper(MapTask.java:466)\n",
      "\tat org.apache.hadoop.mapred.MapTask.run(MapTask.java:350)\n",
      "\tat org.apache.hadoop.mapred.YarnChild$2.run(YarnChild.java:178)\n",
      "\tat java.security.AccessController.doPrivileged(Native Method)\n",
      "\tat javax.security.auth.Subject.doAs(Subject.java:422)\n",
      "\tat org.apache.hadoop.security.UserGroupInformation.doAs(UserGroupInformation.java:1899)\n",
      "\tat org.apache.hadoop.mapred.YarnChild.main(YarnChild.java:172)\n",
      "\n",
      "  Task Id : attempt_1701257956340_0044_m_000001_2, Status : FAILED\n",
      "Error: java.lang.RuntimeException: PipeMapRed.waitOutputThreads(): subprocess failed with code 1\n",
      "\tat org.apache.hadoop.streaming.PipeMapRed.waitOutputThreads(PipeMapRed.java:326)\n",
      "\tat org.apache.hadoop.streaming.PipeMapRed.mapRedFinished(PipeMapRed.java:539)\n",
      "\tat org.apache.hadoop.streaming.PipeMapper.close(PipeMapper.java:130)\n",
      "\tat org.apache.hadoop.mapred.MapRunner.run(MapRunner.java:61)\n",
      "\tat org.apache.hadoop.streaming.PipeMapRunner.run(PipeMapRunner.java:34)\n",
      "\tat org.apache.hadoop.mapred.MapTask.runOldMapper(MapTask.java:466)\n",
      "\tat org.apache.hadoop.mapred.MapTask.run(MapTask.java:350)\n",
      "\tat org.apache.hadoop.mapred.YarnChild$2.run(YarnChild.java:178)\n",
      "\tat java.security.AccessController.doPrivileged(Native Method)\n",
      "\tat javax.security.auth.Subject.doAs(Subject.java:422)\n",
      "\tat org.apache.hadoop.security.UserGroupInformation.doAs(UserGroupInformation.java:1899)\n",
      "\tat org.apache.hadoop.mapred.YarnChild.main(YarnChild.java:172)\n",
      "\n",
      "   map 100% reduce 100%\n",
      "  Job job_1701257956340_0044 failed with state FAILED due to: Task failed task_1701257956340_0044_m_000000\n",
      "Job failed as tasks failed. failedMaps:1 failedReduces:0 killedMaps:0 killedReduces: 0\n",
      "\n",
      "  Job not successful!\n",
      "  Streaming Command Failed!\n",
      "Counters: 14\n",
      "\tJob Counters \n",
      "\t\tFailed map tasks=7\n",
      "\t\tKilled map tasks=1\n",
      "\t\tKilled reduce tasks=2\n",
      "\t\tLaunched map tasks=8\n",
      "\t\tOther local map tasks=6\n",
      "\t\tRack-local map tasks=2\n",
      "\t\tTotal megabyte-milliseconds taken by all map tasks=10205184\n",
      "\t\tTotal time spent by all map tasks (ms)=9966\n",
      "\t\tTotal time spent by all maps in occupied slots (ms)=19932\n",
      "\t\tTotal time spent by all reduces in occupied slots (ms)=0\n",
      "\t\tTotal vcore-milliseconds taken by all map tasks=9966\n",
      "\tMap-Reduce Framework\n",
      "\t\tCPU time spent (ms)=0\n",
      "\t\tPhysical memory (bytes) snapshot=0\n",
      "\t\tVirtual memory (bytes) snapshot=0\n",
      "Scanning logs for probable cause of failure...\n",
      "Looking for history log in hdfs:///tmp/hadoop-yarn/staging...\n",
      "couldn't ls() hdfs:///tmp/hadoop-yarn/staging: OSError(\"Could not locate path in string b'2023-11-29 23:02:56 WARN  NativeCodeLoader:60 - Unable to load native-hadoop library for your platform... using builtin-java classes where applicable'\")\n",
      "STDOUT: 2023-11-29 23:02:57 WARN  NativeCodeLoader:60 - Unable to load native-hadoop library for your platform... using builtin-java classes where applicable\n",
      "STDOUT: 2023-11-29 23:02:58 WARN  NativeCodeLoader:60 - Unable to load native-hadoop library for your platform... using builtin-java classes where applicable\n",
      "STDOUT: 2023-11-29 23:02:59 WARN  NativeCodeLoader:60 - Unable to load native-hadoop library for your platform... using builtin-java classes where applicable\n",
      "\n",
      "Probable cause of failure:\n",
      "\n",
      "Error: java.lang.RuntimeException: PipeMapRed.waitOutputThreads(): subprocess failed with code 1\n",
      "\tat org.apache.hadoop.streaming.PipeMapRed.waitOutputThreads(PipeMapRed.java:326)\n",
      "\tat org.apache.hadoop.streaming.PipeMapRed.mapRedFinished(PipeMapRed.java:539)\n",
      "\tat org.apache.hadoop.streaming.PipeMapper.close(PipeMapper.java:130)\n",
      "\tat org.apache.hadoop.mapred.MapRunner.run(MapRunner.java:61)\n",
      "\tat org.apache.hadoop.streaming.PipeMapRunner.run(PipeMapRunner.java:34)\n",
      "\tat org.apache.hadoop.mapred.MapTask.runOldMapper(MapTask.java:466)\n",
      "\tat org.apache.hadoop.mapred.MapTask.run(MapTask.java:350)\n",
      "\tat org.apache.hadoop.mapred.YarnChild$2.run(YarnChild.java:178)\n",
      "\tat java.security.AccessController.doPrivileged(Native Method)\n",
      "\tat javax.security.auth.Subject.doAs(Subject.java:422)\n",
      "\tat org.apache.hadoop.security.UserGroupInformation.doAs(UserGroupInformation.java:1899)\n",
      "\tat org.apache.hadoop.mapred.YarnChild.main(YarnChild.java:172)\n",
      "\n",
      "\n",
      "Step 1 of 2 failed: Command '['/opt/hadoop/bin/hadoop', 'jar', '/opt/hadoop/share/hadoop/tools/lib/hadoop-streaming-3.3.6.jar', '-files', 'hdfs:///user/root/tmp/mrjob/top_frequent_bigrams.root.20231129.200230.707788/files/wd/mrjob.zip#mrjob.zip,hdfs:///user/root/tmp/mrjob/top_frequent_bigrams.root.20231129.200230.707788/files/wd/setup-wrapper.sh#setup-wrapper.sh,hdfs:///user/root/tmp/mrjob/top_frequent_bigrams.root.20231129.200230.707788/files/wd/top_frequent_bigrams.py#top_frequent_bigrams.py', '-D', 'mapreduce.job.maps=2', '-D', 'mapreduce.job.reduces=2', '-input', 'hdfs://namenode:8020/starwars/SW_EpisodeIV.txt', '-output', 'hdfs:///user/root/tmp/mrjob/top_frequent_bigrams.root.20231129.200230.707788/step-output/0000', '-mapper', '/bin/sh -ex setup-wrapper.sh python3 top_frequent_bigrams.py --step-num=0 --mapper', '-combiner', '/bin/sh -ex setup-wrapper.sh python3 top_frequent_bigrams.py --step-num=0 --combiner', '-reducer', '/bin/sh -ex setup-wrapper.sh python3 top_frequent_bigrams.py --step-num=0 --reducer']' returned non-zero exit status 256.\n"
     ]
    }
   ],
   "source": [
    "!python3 top_frequent_bigrams.py -r hadoop $hdfs_e4 --conf-path config-t1.conf --output $t3_hdfs_res_e4"
   ]
  },
  {
   "cell_type": "code",
   "execution_count": null,
   "id": "c40bc425-644f-40bc-9fba-3e49ba046788",
   "metadata": {},
   "outputs": [],
   "source": [
    "!python3 top_frequent_bigrams.py -r hadoop $hdfs_e5 --conf-path config-t1.conf --output $t3_hdfs_res_e5"
   ]
  },
  {
   "cell_type": "code",
   "execution_count": null,
   "id": "33482861-93ee-4f3d-b76d-ee746300051d",
   "metadata": {},
   "outputs": [],
   "source": [
    "!python3 top_frequent_bigrams.py -r hadoop $hdfs_e6 --conf-path config-t1.conf --output $t3_hdfs_res_e6"
   ]
  },
  {
   "cell_type": "markdown",
   "id": "229149e3-25bc-417b-92ef-b615bdc44da7",
   "metadata": {},
   "source": [
    "По всем трем эпизодам"
   ]
  },
  {
   "cell_type": "code",
   "execution_count": null,
   "id": "836f8ba2-d227-472c-ac52-fa141c22eeb8",
   "metadata": {},
   "outputs": [],
   "source": [
    "!python3 top_frequent_bigrams.py -r hadoop $hdfs_e4 $hdfs_e5 $hdfs_e6 --conf-path config-t1.conf --output $t3_hdfs_res_all"
   ]
  },
  {
   "cell_type": "markdown",
   "id": "75a1c5b3-52a7-40ba-aab8-aef58f9d31e9",
   "metadata": {},
   "source": [
    "### Просмотр результатов выполнения"
   ]
  },
  {
   "cell_type": "code",
   "execution_count": null,
   "id": "36277bdf-0ccb-4b57-8de2-eac230274ce9",
   "metadata": {},
   "outputs": [],
   "source": [
    "!hadoop fs -cat /starwars/results/task-2/SW_All_Episodes_res.txt/part-00000"
   ]
  },
  {
   "cell_type": "markdown",
   "id": "ad7c7c86-d7d6-4da7-bc8d-e55578f24c36",
   "metadata": {},
   "source": [
    "### Скачивание файлов"
   ]
  },
  {
   "cell_type": "markdown",
   "id": "1d09ddc2-8966-499c-bd10-32b1095e9f42",
   "metadata": {},
   "source": [
    "Скачаем полученные в результате тестирования файлы локально на компьютер"
   ]
  },
  {
   "cell_type": "code",
   "execution_count": null,
   "id": "126b4e29-effa-408c-8548-b4b514acfb78",
   "metadata": {},
   "outputs": [],
   "source": [
    "!hadoop fs -get hdfs://namenode:8020/starwars/results/task-2/SW_EpisodeIV_res.txt ./results/task-2/hdfs/SW_EpisodeIV_res.txt\n",
    "!hadoop fs -get hdfs://namenode:8020/starwars/results/task-2/SW_EpisodeV_res.txt ./results/task-2/hdfs/SW_EpisodeV_res.txt\n",
    "!hadoop fs -get hdfs://namenode:8020/starwars/results/task-2/SW_EpisodeVI_res.txt ./results/task-2/hdfs/SW_EpisodeVI_res.txt\n",
    "!hadoop fs -get hdfs://namenode:8020/starwars/results/task-2/SW_All_Episodes_res.txt ./results/task-2/hdfs/SW_All_Episodes_res.txt"
   ]
  },
  {
   "cell_type": "markdown",
   "id": "6f53b2e3-40bd-460d-ad9b-99402c355d01",
   "metadata": {},
   "source": [
    "## Построение графиков"
   ]
  },
  {
   "cell_type": "markdown",
   "id": "7f9c63d0-2867-43cc-acd4-97ba7cefd4fd",
   "metadata": {},
   "source": [
    "Тестирование парсинга"
   ]
  },
  {
   "cell_type": "code",
   "execution_count": 251,
   "id": "0d96ae96-c0de-4a64-acb8-bd166a3b430a",
   "metadata": {},
   "outputs": [
    {
     "name": "stdout",
     "output_type": "stream",
     "text": [
      "dont know\n"
     ]
    }
   ],
   "source": [
    "line = '[\"dont\", \"know\"]\t29'\n",
    "line_words = line.split('\\t')\n",
    "bigram = line_words[0].replace('\"', '').replace(',', '').replace(']', '').replace('[', '')\n",
    "print(bigram)"
   ]
  },
  {
   "cell_type": "code",
   "execution_count": 256,
   "id": "5097cf90-0ca0-47a7-95f4-b76fb3c087eb",
   "metadata": {},
   "outputs": [],
   "source": [
    "def bigram_results_parsing(res_file_path: str) -> Tuple[List, List]:\n",
    "    bigrams = []\n",
    "    bigrams_counts = []\n",
    "\n",
    "    with open(res_file_path) as res_file:\n",
    "        for line in res_file:\n",
    "            line_words = line.split('\\t')\n",
    "\n",
    "            bigram = line_words[0].replace('\"', '').replace(',', '').replace(']', '').replace('[', '')\n",
    "            bigrams.append(bigram)\n",
    "            \n",
    "            bigram_count = int(line_words[1].replace('\\n', ''))\n",
    "            bigrams_counts.append(bigram_count)\n",
    "    return bigrams, bigrams_counts"
   ]
  },
  {
   "cell_type": "code",
   "execution_count": 261,
   "id": "74585485-8f0d-485e-9cbf-a07711a2a5c0",
   "metadata": {},
   "outputs": [],
   "source": [
    "from matplotlib import pyplot as plt\n",
    "\n",
    "def build_bigram_graphic(bigrams: List, bigrams_counts: List):\n",
    "    plt.figure(figsize=(20,5))\n",
    "    plt.bar(bigrams, bigrams_counts, width=0.6)\n",
    "    plt.xlabel('Bigrams')\n",
    "    plt. xticks(fontsize=8)\n",
    "    plt.ylabel('Frequency')\n",
    "    plt.title('Top frequent bigrams')\n",
    "    plt.grid()\n",
    "    plt.show()"
   ]
  },
  {
   "cell_type": "code",
   "execution_count": 254,
   "id": "fa44523f-e0fa-455d-b010-356c81929478",
   "metadata": {},
   "outputs": [],
   "source": [
    "def results_bigram_graphic(res_file_path: str):\n",
    "    bigrams, bigrams_counts = bigram_results_parsing(res_file_path)\n",
    "    build_bigram_graphic(bigrams, bigrams_counts)"
   ]
  },
  {
   "cell_type": "markdown",
   "id": "c7781ba3-7796-427e-a93b-a4e13a68cd05",
   "metadata": {},
   "source": [
    "Построим графики для файлов с результатами"
   ]
  },
  {
   "cell_type": "code",
   "execution_count": 262,
   "id": "e06bef51-7028-4bd5-9226-811050bf0d20",
   "metadata": {},
   "outputs": [
    {
     "data": {
      "image/png": "[encoded data removed]",
      "text/plain": [
       "<Figure size 2000x500 with 1 Axes>"
      ]
     },
     "metadata": {},
     "output_type": "display_data"
    }
   ],
   "source": [
    "results_bigram_graphic(t3_local_res_e4)"
   ]
  },
  {
   "cell_type": "code",
   "execution_count": 263,
   "id": "ec3b3608-0b0d-4b80-9982-b6ee6371394f",
   "metadata": {},
   "outputs": [
    {
     "data": {
      "image/png": "[encoded data removed]",
      "text/plain": [
       "<Figure size 2000x500 with 1 Axes>"
      ]
     },
     "metadata": {},
     "output_type": "display_data"
    }
   ],
   "source": [
    "results_bigram_graphic(t3_local_res_e5)"
   ]
  },
  {
   "cell_type": "code",
   "execution_count": 264,
   "id": "c2e78311-ce20-46ea-bf54-c3a5d6351bc6",
   "metadata": {},
   "outputs": [
    {
     "data": {
      "image/png": "[encoded data removed]",
      "text/plain": [
       "<Figure size 2000x500 with 1 Axes>"
      ]
     },
     "metadata": {},
     "output_type": "display_data"
    }
   ],
   "source": [
    "results_bigram_graphic(t3_local_res_e6)"
   ]
  },
  {
   "cell_type": "code",
   "execution_count": 265,
   "id": "3346dcdd-7c7f-48ed-9948-b55521f69aa2",
   "metadata": {},
   "outputs": [
    {
     "data": {
      "image/png": "[encoded data removed]",
      "text/plain": [
       "<Figure size 2000x500 with 1 Axes>"
      ]
     },
     "metadata": {},
     "output_type": "display_data"
    }
   ],
   "source": [
    "results_bigram_graphic(t3_local_res_all)"
   ]
  },
  {
   "cell_type": "code",
   "execution_count": null,
   "id": "1c5d611c-e30c-4eb0-88f3-fa8da2675e66",
   "metadata": {},
   "outputs": [],
   "source": []
  }
 ],
 "metadata": {
  "kernelspec": {
   "display_name": "Python 3 (ipykernel)",
   "language": "python",
   "name": "python3"
  },
  "language_info": {
   "codemirror_mode": {
    "name": "ipython",
    "version": 3
   },
   "file_extension": ".py",
   "mimetype": "text/x-python",
   "name": "python",
   "nbconvert_exporter": "python",
   "pygments_lexer": "ipython3",
   "version": "3.10.12"
  }
 },
 "nbformat": 4,
 "nbformat_minor": 5
}
