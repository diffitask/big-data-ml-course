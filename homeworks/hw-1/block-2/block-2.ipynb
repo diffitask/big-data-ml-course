{
 "cells": [
  {
   "cell_type": "markdown",
   "id": "7d9c0de3-97d2-4ecf-93ba-e5c6eef8c0b8",
   "metadata": {},
   "source": [
    "## Установка библиотек"
   ]
  },
  {
   "cell_type": "code",
   "execution_count": 1,
   "id": "0406a3a1-369a-4094-84ee-1545674fcad1",
   "metadata": {},
   "outputs": [
    {
     "name": "stdout",
     "output_type": "stream",
     "text": [
      "Collecting mrjob\n",
      "  Downloading mrjob-0.7.4-py2.py3-none-any.whl (439 kB)\n",
      "\u001b[2K     \u001b[90m━━━━━━━━━━━━━━━━━━━━━━━━━━━━━━━━━━━━━━━\u001b[0m \u001b[32m439.6/439.6 KB\u001b[0m \u001b[31m1.1 MB/s\u001b[0m eta \u001b[36m0:00:00\u001b[0m00:01\u001b[0m00:01\u001b[0m\n",
      "\u001b[?25hRequirement already satisfied: PyYAML>=3.10 in /usr/local/lib/python3.10/dist-packages (from mrjob) (6.0.1)\n",
      "Installing collected packages: mrjob\n",
      "Successfully installed mrjob-0.7.4\n",
      "\u001b[33mWARNING: Running pip as the 'root' user can result in broken permissions and conflicting behaviour with the system package manager. It is recommended to use a virtual environment instead: https://pip.pypa.io/warnings/venv\u001b[0m\u001b[33m\n",
      "\u001b[0mCollecting pyarrow\n",
      "  Downloading pyarrow-14.0.1-cp310-cp310-manylinux_2_28_aarch64.whl (35.4 MB)\n",
      "\u001b[2K     \u001b[90m━━━━━━━━━━━━━━━━━━━━━━━━━━━━━━━━━━━━━━━━\u001b[0m \u001b[32m35.4/35.4 MB\u001b[0m \u001b[31m1.2 MB/s\u001b[0m eta \u001b[36m0:00:00\u001b[0m00:01\u001b[0m00:01\u001b[0m\n",
      "\u001b[?25hCollecting numpy>=1.16.6\n",
      "  Downloading numpy-1.26.2-cp310-cp310-manylinux_2_17_aarch64.manylinux2014_aarch64.whl (14.2 MB)\n",
      "\u001b[2K     \u001b[90m━━━━━━━━━━━━━━━━━━━━━━━━━━━━━━━━━━━━━━━━\u001b[0m \u001b[32m14.2/14.2 MB\u001b[0m \u001b[31m1.2 MB/s\u001b[0m eta \u001b[36m0:00:00\u001b[0m00:01\u001b[0m00:01\u001b[0m\n",
      "\u001b[?25hInstalling collected packages: numpy, pyarrow\n",
      "Successfully installed numpy-1.26.2 pyarrow-14.0.1\n",
      "\u001b[33mWARNING: Running pip as the 'root' user can result in broken permissions and conflicting behaviour with the system package manager. It is recommended to use a virtual environment instead: https://pip.pypa.io/warnings/venv\u001b[0m\u001b[33m\n",
      "\u001b[0m"
     ]
    }
   ],
   "source": [
    "!pip install mrjob\n",
    "!pip install pyarrow"
   ]
  },
  {
   "cell_type": "markdown",
   "id": "5d0081f0-0256-4573-83be-db3c3ee3282f",
   "metadata": {},
   "source": [
    "## Загрузка данных\n",
    "\n",
    "Создаем папку для будущих данных"
   ]
  },
  {
   "cell_type": "code",
   "execution_count": 2,
   "id": "d533afab-fbd0-46ed-a1ac-bef240208a1c",
   "metadata": {},
   "outputs": [
    {
     "name": "stdout",
     "output_type": "stream",
     "text": [
      "2023-11-29 14:44:13 WARN  NativeCodeLoader:60 - Unable to load native-hadoop library for your platform... using builtin-java classes where applicable\n"
     ]
    }
   ],
   "source": [
    "!hadoop fs -mkdir /starwars"
   ]
  },
  {
   "cell_type": "code",
   "execution_count": 3,
   "id": "4f96e088-2a31-4b5a-81ca-911f5fedde90",
   "metadata": {},
   "outputs": [
    {
     "name": "stdout",
     "output_type": "stream",
     "text": [
      "2023-11-29 14:44:18 WARN  NativeCodeLoader:60 - Unable to load native-hadoop library for your platform... using builtin-java classes where applicable\n",
      "Found 2 items\n",
      "drwxr-xr-x   - root supergroup          0 2023-11-29 14:44 /starwars\n",
      "drwx-wx-wx   - root supergroup          0 2023-11-29 14:17 /tmp\n"
     ]
    }
   ],
   "source": [
    "!hadoop fs -ls /"
   ]
  },
  {
   "cell_type": "markdown",
   "id": "9d62679c-b102-40c7-a916-bdb7a06dc2e4",
   "metadata": {},
   "source": [
    "Загружаем файлы с данными из локальной файловой системы на hdfs"
   ]
  },
  {
   "cell_type": "code",
   "execution_count": 5,
   "id": "226c832f-9bdf-45a6-860f-c0237317f6e2",
   "metadata": {},
   "outputs": [
    {
     "name": "stdout",
     "output_type": "stream",
     "text": [
      "2023-11-29 14:48:35 WARN  NativeCodeLoader:60 - Unable to load native-hadoop library for your platform... using builtin-java classes where applicable\n",
      "2023-11-29 14:48:37 WARN  NativeCodeLoader:60 - Unable to load native-hadoop library for your platform... using builtin-java classes where applicable\n",
      "2023-11-29 14:48:38 WARN  NativeCodeLoader:60 - Unable to load native-hadoop library for your platform... using builtin-java classes where applicable\n"
     ]
    }
   ],
   "source": [
    "!hadoop fs -put ./archive/SW_EpisodeIV.txt /starwars\n",
    "!hadoop fs -put ./archive/SW_EpisodeV.txt /starwars\n",
    "!hadoop fs -put ./archive/SW_EpisodeVI.txt /starwars"
   ]
  },
  {
   "cell_type": "markdown",
   "id": "5ec43a40-78ad-453c-b216-9578cb60a89b",
   "metadata": {},
   "source": [
    "Проверим, что файлики действительно появились в hdfs"
   ]
  },
  {
   "cell_type": "code",
   "execution_count": 6,
   "id": "ff1f3401-a066-4351-bfef-a8a6be0f7c14",
   "metadata": {},
   "outputs": [
    {
     "name": "stdout",
     "output_type": "stream",
     "text": [
      "2023-11-29 14:49:12 WARN  NativeCodeLoader:60 - Unable to load native-hadoop library for your platform... using builtin-java classes where applicable\n",
      "Found 3 items\n",
      "-rw-r--r--   3 root supergroup      78278 2023-11-29 14:48 /starwars/SW_EpisodeIV.txt\n",
      "-rw-r--r--   3 root supergroup      55487 2023-11-29 14:48 /starwars/SW_EpisodeV.txt\n",
      "-rw-r--r--   3 root supergroup      48176 2023-11-29 14:48 /starwars/SW_EpisodeVI.txt\n"
     ]
    }
   ],
   "source": [
    "!hadoop fs -ls /starwars"
   ]
  },
  {
   "cell_type": "markdown",
   "id": "2e55d158-b397-4b46-9415-2db0669016c8",
   "metadata": {},
   "source": [
    "### Пути до файлов"
   ]
  },
  {
   "cell_type": "markdown",
   "id": "8f71e869-80dc-4030-b8a2-6cc0dfae95f1",
   "metadata": {},
   "source": [
    "Для удобства вынесем пути до файлов в переменные"
   ]
  },
  {
   "cell_type": "code",
   "execution_count": 121,
   "id": "afa0abb2-5771-4a76-8316-7a0f42c6ad54",
   "metadata": {},
   "outputs": [],
   "source": [
    "# original data files\n",
    "original_e4 = './archive/SW_EpisodeIV.txt'\n",
    "original_e5 = './archive/SW_EpisodeV.txt'\n",
    "original_e6 = './archive/SW_EpisodeVI.txt'\n",
    "\n",
    "# hdfs data files\n",
    "hdfs_e4 = 'hdfs://namenode:8020/starwars/SW_EpisodeIV.txt'\n",
    "hdfs_e5 = 'hdfs://namenode:8020/starwars/SW_EpisodeV.txt'\n",
    "hdfs_e6 = 'hdfs://namenode:8020/starwars/SW_EpisodeVI.txt'"
   ]
  },
  {
   "cell_type": "markdown",
   "id": "18ca2e18-b3a7-4c1f-84d4-0b15be5b3317",
   "metadata": {},
   "source": [
    "## Задание 1"
   ]
  },
  {
   "cell_type": "markdown",
   "id": "37bb5d8f-2a63-4dc2-8903-821e22bb238b",
   "metadata": {},
   "source": [
    "## Скрипт-решение: топ самых говорливых персонажей"
   ]
  },
  {
   "cell_type": "code",
   "execution_count": 35,
   "id": "50fd6e46-4df8-46b7-bc2c-02d696b5b963",
   "metadata": {},
   "outputs": [
    {
     "name": "stdout",
     "output_type": "stream",
     "text": [
      "Overwriting most_talkative_characters.py\n"
     ]
    }
   ],
   "source": [
    "%%file most_talkative_characters.py\n",
    "# %%file is an Ipython magic function that saves the code cell as a file\n",
    "\n",
    "from mrjob.job import MRJob\n",
    "from mrjob.step import MRStep\n",
    "\n",
    "TOP_N = 20\n",
    "\n",
    "class MRMostTalkativeCharacters(MRJob):\n",
    "    def steps(self):\n",
    "        return [\n",
    "            MRStep(mapper=self.mapper_get_characters,\n",
    "                   combiner=self.combiner_count_phrases,\n",
    "                   reducer=self.reducer_count_phrases),\n",
    "            MRStep(reducer=self.reducer_top_talkative_characters)\n",
    "        ]\n",
    "\n",
    "    def mapper_get_characters(self, _, line):\n",
    "        line_words = line.replace('\"', '').split()\n",
    "        character = line_words[1]\n",
    "        yield (character, 1)\n",
    "\n",
    "    def combiner_count_phrases(self, character, phrases_counts):\n",
    "        # optimization: sum the characters we've seen so far\n",
    "        yield (character, sum(phrases_counts))\n",
    "\n",
    "    def reducer_count_phrases(self, character, phrases_counts):\n",
    "        # send all (character, phrases_counts) pairs to the same reducer.\n",
    "        yield None, (character, sum(phrases_counts))\n",
    "\n",
    "    # discard the key; it is just None\n",
    "    def reducer_top_talkative_characters(self, _, character_phrases_count_pairs):\n",
    "        # each item of character_phrases_count_pairs is (character, total_phrases_count)\n",
    "        # convert to list bc 'generator' object is not subscriptable\n",
    "        character_phrases_count_pairs = list(character_phrases_count_pairs)\n",
    "        \n",
    "        # sort by total phrases count\n",
    "        character_phrases_count_pairs.sort(\n",
    "            key=lambda pair: pair[1],\n",
    "            reverse=True\n",
    "        )\n",
    "\n",
    "        # get top N talkative characters\n",
    "        top_talkative_characters = character_phrases_count_pairs[:TOP_N]\n",
    "        \n",
    "        # return the result\n",
    "        for character_count_pair in top_talkative_characters:\n",
    "            yield character_count_pair\n",
    "\n",
    "\n",
    "if __name__ == '__main__':\n",
    "    MRMostTalkativeCharacters.run()"
   ]
  },
  {
   "cell_type": "markdown",
   "id": "9a22f2d7-e9cb-43fe-b5a7-70834a6c4751",
   "metadata": {},
   "source": [
    "## Локальное тестирование"
   ]
  },
  {
   "cell_type": "markdown",
   "id": "bfaf810c-75e6-4369-a0c9-751fa52fc429",
   "metadata": {},
   "source": [
    "### Запуск скриптов"
   ]
  },
  {
   "cell_type": "code",
   "execution_count": 123,
   "id": "2acf48c4-8cb4-4a5f-92ac-985f5f9e2430",
   "metadata": {},
   "outputs": [],
   "source": [
    "# task1 local results paths\n",
    "t1_local_res_e4 = './results/task-1/local/SW_EpisodeIV_res.txt'\n",
    "t1_local_res_e5 = './results/task-1/local/SW_EpisodeV_res.txt'\n",
    "t1_local_res_e6 = './results/task-1/local/SW_EpisodeVI_res.txt'\n",
    "t1_local_res_all = './results/task-1/local/SW_All_Episodes_res.txt'"
   ]
  },
  {
   "cell_type": "markdown",
   "id": "0515df96-f33c-4d89-a814-9b65cf1716f5",
   "metadata": {},
   "source": [
    "По каждому эпизоду"
   ]
  },
  {
   "cell_type": "code",
   "execution_count": 112,
   "id": "9d12c798-718e-4dda-8798-3aeb44b529ba",
   "metadata": {},
   "outputs": [
    {
     "name": "stdout",
     "output_type": "stream",
     "text": [
      "No configs found; falling back on auto-configuration\n",
      "No configs specified for inline runner\n",
      "Creating temp directory /tmp/most_talkative_characters.root.20231129.163839.694419\n",
      "Running step 1 of 2...\n",
      "Running step 2 of 2...\n",
      "job output is in /tmp/most_talkative_characters.root.20231129.163839.694419/output\n",
      "Streaming final output from /tmp/most_talkative_characters.root.20231129.163839.694419/output...\n",
      "Removing temp directory /tmp/most_talkative_characters.root.20231129.163839.694419...\n"
     ]
    }
   ],
   "source": [
    "!python3 most_talkative_characters.py $original_e4 > $t1_local_res_e4"
   ]
  },
  {
   "cell_type": "code",
   "execution_count": 113,
   "id": "b77e7674-5871-4611-a0fc-72993ee72aa0",
   "metadata": {},
   "outputs": [
    {
     "name": "stdout",
     "output_type": "stream",
     "text": [
      "No configs found; falling back on auto-configuration\n",
      "No configs specified for inline runner\n",
      "Creating temp directory /tmp/most_talkative_characters.root.20231129.163900.568568\n",
      "Running step 1 of 2...\n",
      "Running step 2 of 2...\n",
      "job output is in /tmp/most_talkative_characters.root.20231129.163900.568568/output\n",
      "Streaming final output from /tmp/most_talkative_characters.root.20231129.163900.568568/output...\n",
      "Removing temp directory /tmp/most_talkative_characters.root.20231129.163900.568568...\n"
     ]
    }
   ],
   "source": [
    "!python3 most_talkative_characters.py $original_e5 > $t1_local_res_e5"
   ]
  },
  {
   "cell_type": "code",
   "execution_count": 114,
   "id": "d913828b-4d58-4b0e-b656-f82c1063c04b",
   "metadata": {},
   "outputs": [
    {
     "name": "stdout",
     "output_type": "stream",
     "text": [
      "No configs found; falling back on auto-configuration\n",
      "No configs specified for inline runner\n",
      "Creating temp directory /tmp/most_talkative_characters.root.20231129.163907.890349\n",
      "Running step 1 of 2...\n",
      "Running step 2 of 2...\n",
      "job output is in /tmp/most_talkative_characters.root.20231129.163907.890349/output\n",
      "Streaming final output from /tmp/most_talkative_characters.root.20231129.163907.890349/output...\n",
      "Removing temp directory /tmp/most_talkative_characters.root.20231129.163907.890349...\n"
     ]
    }
   ],
   "source": [
    "!python3 most_talkative_characters.py $original_e6 > $t1_local_res_e6"
   ]
  },
  {
   "cell_type": "markdown",
   "id": "7047bca2-3602-4517-8f92-7be5a7e9b9e0",
   "metadata": {},
   "source": [
    "По всем трем эпизодам"
   ]
  },
  {
   "cell_type": "code",
   "execution_count": 115,
   "id": "b7c77895-e89c-4ba2-8791-b452ee23fb53",
   "metadata": {},
   "outputs": [
    {
     "name": "stdout",
     "output_type": "stream",
     "text": [
      "No configs found; falling back on auto-configuration\n",
      "No configs specified for inline runner\n",
      "Creating temp directory /tmp/most_talkative_characters.root.20231129.163951.091719\n",
      "Running step 1 of 2...\n",
      "Running step 2 of 2...\n",
      "job output is in /tmp/most_talkative_characters.root.20231129.163951.091719/output\n",
      "Streaming final output from /tmp/most_talkative_characters.root.20231129.163951.091719/output...\n",
      "Removing temp directory /tmp/most_talkative_characters.root.20231129.163951.091719...\n"
     ]
    }
   ],
   "source": [
    "!python3 most_talkative_characters.py $original_e4 $original_e5 $original_e6 > $t1_local_res_all"
   ]
  },
  {
   "cell_type": "markdown",
   "id": "6920b34d-bb6d-4bf0-8933-37af81c2a055",
   "metadata": {},
   "source": [
    "## Тестирование на кластере"
   ]
  },
  {
   "cell_type": "markdown",
   "id": "c4197ef7-0ae2-48c4-a5d7-135238f643c0",
   "metadata": {},
   "source": [
    "### Изменение конфигурации"
   ]
  },
  {
   "cell_type": "markdown",
   "id": "92571d53-deea-4f37-acb9-982a30e28c97",
   "metadata": {},
   "source": [
    "Увеличим число mapper'ов и reducer'ов, изменив конфигурацию"
   ]
  },
  {
   "cell_type": "code",
   "execution_count": 87,
   "id": "4e0aff09-7efb-41b2-ac9f-4e1990da6717",
   "metadata": {},
   "outputs": [
    {
     "name": "stdout",
     "output_type": "stream",
     "text": [
      "Writing config-t1.conf\n"
     ]
    }
   ],
   "source": [
    "%%file config-t1.conf\n",
    "\n",
    "runners:\n",
    "  hadoop: # also works for emr runner\n",
    "    jobconf:\n",
    "      mapreduce.job.maps: 2\n",
    "      mapreduce.job.reduces: 2"
   ]
  },
  {
   "cell_type": "markdown",
   "id": "0a8b9b62-2707-49ea-b96c-d5280b0b2440",
   "metadata": {},
   "source": [
    "### Запуск скриптов"
   ]
  },
  {
   "cell_type": "code",
   "execution_count": 122,
   "id": "23db90a0-c167-4997-b0aa-0377b47da3e3",
   "metadata": {},
   "outputs": [],
   "source": [
    "# task1 hdfs results paths\n",
    "t1_hdfs_res_e4 = '/starwars/results/SW_EpisodeIV_res.txt'\n",
    "t1_hdfs_res_e5 = '/starwars/results/SW_EpisodeV_res.txt'\n",
    "t1_hdfs_res_e6 = '/starwars/results/SW_EpisodeVI_res.txt'\n",
    "t1_hdfs_res_all = '/starwars/results/SW_All_Episodes_res.txt'"
   ]
  },
  {
   "cell_type": "markdown",
   "id": "094a0a16-7f7d-448f-9a57-5ca262305876",
   "metadata": {},
   "source": [
    "По каждому эпизоду. Результаты сохраняем в файловую систему hdfs."
   ]
  },
  {
   "cell_type": "code",
   "execution_count": 124,
   "id": "4c1228e2-9ea3-437e-8228-56eb8c203038",
   "metadata": {},
   "outputs": [
    {
     "name": "stdout",
     "output_type": "stream",
     "text": [
      "Looking for hadoop binary in /opt/hadoop/bin...\n",
      "Found hadoop binary: /opt/hadoop/bin/hadoop\n",
      "Using Hadoop version 3.3.6\n",
      "Looking for Hadoop streaming jar in /opt/hadoop...\n",
      "Found Hadoop streaming jar: /opt/hadoop/share/hadoop/tools/lib/hadoop-streaming-3.3.6.jar\n",
      "Creating temp directory /tmp/most_talkative_characters.root.20231129.164817.992037\n",
      "uploading working dir files to hdfs:///user/root/tmp/mrjob/most_talkative_characters.root.20231129.164817.992037/files/wd...\n",
      "Copying other local files to hdfs:///user/root/tmp/mrjob/most_talkative_characters.root.20231129.164817.992037/files/\n",
      "Running step 1 of 2...\n",
      "  Unable to load native-hadoop library for your platform... using builtin-java classes where applicable\n",
      "  packageJobJar: [/tmp/hadoop-unjar1422273847618835929/] [] /tmp/streamjob7853467494765559939.jar tmpDir=null\n",
      "  Connecting to ResourceManager at resourcemanager/172.18.0.3:8032\n",
      "  Connecting to ResourceManager at resourcemanager/172.18.0.3:8032\n",
      "  Disabling Erasure Coding for path: /tmp/hadoop-yarn/staging/root/.staging/job_1701257956340_0012\n",
      "  Total input files to process : 1\n",
      "  number of splits:2\n",
      "  Submitting tokens for job: job_1701257956340_0012\n",
      "  Executing with tokens: []\n",
      "  resource-types.xml not found\n",
      "  Unable to find 'resource-types.xml'.\n",
      "  Submitted application application_1701257956340_0012\n",
      "  The url to track the job: http://resourcemanager:8088/proxy/application_1701257956340_0012/\n",
      "  Running job: job_1701257956340_0012\n",
      "  Job job_1701257956340_0012 running in uber mode : false\n",
      "   map 0% reduce 0%\n",
      "   map 50% reduce 0%\n",
      "   map 100% reduce 0%\n",
      "   map 100% reduce 50%\n",
      "   map 100% reduce 100%\n",
      "  Job job_1701257956340_0012 completed successfully\n",
      "  Output directory: hdfs:///user/root/tmp/mrjob/most_talkative_characters.root.20231129.164817.992037/step-output/0000\n",
      "Counters: 54\n",
      "\tFile Input Format Counters \n",
      "\t\tBytes Read=82374\n",
      "\tFile Output Format Counters \n",
      "\t\tBytes Written=942\n",
      "\tFile System Counters\n",
      "\t\tFILE: Number of bytes read=823\n",
      "\t\tFILE: Number of bytes written=1135372\n",
      "\t\tFILE: Number of large read operations=0\n",
      "\t\tFILE: Number of read operations=0\n",
      "\t\tFILE: Number of write operations=0\n",
      "\t\tHDFS: Number of bytes read=82570\n",
      "\t\tHDFS: Number of bytes read erasure-coded=0\n",
      "\t\tHDFS: Number of bytes written=942\n",
      "\t\tHDFS: Number of large read operations=0\n",
      "\t\tHDFS: Number of read operations=16\n",
      "\t\tHDFS: Number of write operations=4\n",
      "\tJob Counters \n",
      "\t\tLaunched map tasks=2\n",
      "\t\tLaunched reduce tasks=2\n",
      "\t\tRack-local map tasks=2\n",
      "\t\tTotal megabyte-milliseconds taken by all map tasks=3175424\n",
      "\t\tTotal megabyte-milliseconds taken by all reduce tasks=2674688\n",
      "\t\tTotal time spent by all map tasks (ms)=3101\n",
      "\t\tTotal time spent by all maps in occupied slots (ms)=6202\n",
      "\t\tTotal time spent by all reduce tasks (ms)=2612\n",
      "\t\tTotal time spent by all reduces in occupied slots (ms)=5224\n",
      "\t\tTotal vcore-milliseconds taken by all map tasks=3101\n",
      "\t\tTotal vcore-milliseconds taken by all reduce tasks=2612\n",
      "\tMap-Reduce Framework\n",
      "\t\tCPU time spent (ms)=1280\n",
      "\t\tCombine input records=1011\n",
      "\t\tCombine output records=62\n",
      "\t\tFailed Shuffles=0\n",
      "\t\tGC time elapsed (ms)=122\n",
      "\t\tInput split bytes=196\n",
      "\t\tMap input records=1011\n",
      "\t\tMap output bytes=9735\n",
      "\t\tMap output materialized bytes=835\n",
      "\t\tMap output records=1011\n",
      "\t\tMerged Map outputs=4\n",
      "\t\tPeak Map Physical memory (bytes)=264593408\n",
      "\t\tPeak Map Virtual memory (bytes)=2478014464\n",
      "\t\tPeak Reduce Physical memory (bytes)=258826240\n",
      "\t\tPeak Reduce Virtual memory (bytes)=2486538240\n",
      "\t\tPhysical memory (bytes) snapshot=1044635648\n",
      "\t\tReduce input groups=49\n",
      "\t\tReduce input records=62\n",
      "\t\tReduce output records=49\n",
      "\t\tReduce shuffle bytes=835\n",
      "\t\tShuffled Maps =4\n",
      "\t\tSpilled Records=124\n",
      "\t\tTotal committed heap usage (bytes)=886046720\n",
      "\t\tVirtual memory (bytes) snapshot=9925693440\n",
      "\tShuffle Errors\n",
      "\t\tBAD_ID=0\n",
      "\t\tCONNECTION=0\n",
      "\t\tIO_ERROR=0\n",
      "\t\tWRONG_LENGTH=0\n",
      "\t\tWRONG_MAP=0\n",
      "\t\tWRONG_REDUCE=0\n",
      "Running step 2 of 2...\n",
      "  Unable to load native-hadoop library for your platform... using builtin-java classes where applicable\n",
      "  packageJobJar: [/tmp/hadoop-unjar6105035367766286995/] [] /tmp/streamjob5362543684772767942.jar tmpDir=null\n",
      "  Connecting to ResourceManager at resourcemanager/172.18.0.3:8032\n",
      "  Connecting to ResourceManager at resourcemanager/172.18.0.3:8032\n",
      "  Disabling Erasure Coding for path: /tmp/hadoop-yarn/staging/root/.staging/job_1701257956340_0013\n",
      "  Total input files to process : 2\n",
      "  number of splits:2\n",
      "  Submitting tokens for job: job_1701257956340_0013\n",
      "  Executing with tokens: []\n",
      "  resource-types.xml not found\n",
      "  Unable to find 'resource-types.xml'.\n",
      "  Submitted application application_1701257956340_0013\n",
      "  The url to track the job: http://resourcemanager:8088/proxy/application_1701257956340_0013/\n",
      "  Running job: job_1701257956340_0013\n",
      "  Job job_1701257956340_0013 running in uber mode : false\n",
      "   map 0% reduce 0%\n",
      "   map 50% reduce 0%\n",
      "   map 100% reduce 0%\n",
      "   map 100% reduce 50%\n",
      "   map 100% reduce 100%\n",
      "  Job job_1701257956340_0013 completed successfully\n",
      "  Output directory: hdfs:///starwars/results/SW_EpisodeIV_res.txt\n",
      "Counters: 54\n",
      "\tFile Input Format Counters \n",
      "\t\tBytes Read=942\n",
      "\tFile Output Format Counters \n",
      "\t\tBytes Written=221\n",
      "\tFile System Counters\n",
      "\t\tFILE: Number of bytes read=1052\n",
      "\t\tFILE: Number of bytes written=1133682\n",
      "\t\tFILE: Number of large read operations=0\n",
      "\t\tFILE: Number of read operations=0\n",
      "\t\tFILE: Number of write operations=0\n",
      "\t\tHDFS: Number of bytes read=1280\n",
      "\t\tHDFS: Number of bytes read erasure-coded=0\n",
      "\t\tHDFS: Number of bytes written=221\n",
      "\t\tHDFS: Number of large read operations=0\n",
      "\t\tHDFS: Number of read operations=16\n",
      "\t\tHDFS: Number of write operations=4\n",
      "\tJob Counters \n",
      "\t\tLaunched map tasks=2\n",
      "\t\tLaunched reduce tasks=2\n",
      "\t\tRack-local map tasks=2\n",
      "\t\tTotal megabyte-milliseconds taken by all map tasks=2749440\n",
      "\t\tTotal megabyte-milliseconds taken by all reduce tasks=2731008\n",
      "\t\tTotal time spent by all map tasks (ms)=2685\n",
      "\t\tTotal time spent by all maps in occupied slots (ms)=5370\n",
      "\t\tTotal time spent by all reduce tasks (ms)=2667\n",
      "\t\tTotal time spent by all reduces in occupied slots (ms)=5334\n",
      "\t\tTotal vcore-milliseconds taken by all map tasks=2685\n",
      "\t\tTotal vcore-milliseconds taken by all reduce tasks=2667\n",
      "\tMap-Reduce Framework\n",
      "\t\tCPU time spent (ms)=1100\n",
      "\t\tCombine input records=0\n",
      "\t\tCombine output records=0\n",
      "\t\tFailed Shuffles=0\n",
      "\t\tGC time elapsed (ms)=113\n",
      "\t\tInput split bytes=338\n",
      "\t\tMap input records=49\n",
      "\t\tMap output bytes=942\n",
      "\t\tMap output materialized bytes=1064\n",
      "\t\tMap output records=49\n",
      "\t\tMerged Map outputs=4\n",
      "\t\tPeak Map Physical memory (bytes)=308645888\n",
      "\t\tPeak Map Virtual memory (bytes)=2476265472\n",
      "\t\tPeak Reduce Physical memory (bytes)=266575872\n",
      "\t\tPeak Reduce Virtual memory (bytes)=2485633024\n",
      "\t\tPhysical memory (bytes) snapshot=1083686912\n",
      "\t\tReduce input groups=1\n",
      "\t\tReduce input records=49\n",
      "\t\tReduce output records=20\n",
      "\t\tReduce shuffle bytes=1064\n",
      "\t\tShuffled Maps =4\n",
      "\t\tSpilled Records=98\n",
      "\t\tTotal committed heap usage (bytes)=844103680\n",
      "\t\tVirtual memory (bytes) snapshot=9921191936\n",
      "\tShuffle Errors\n",
      "\t\tBAD_ID=0\n",
      "\t\tCONNECTION=0\n",
      "\t\tIO_ERROR=0\n",
      "\t\tWRONG_LENGTH=0\n",
      "\t\tWRONG_MAP=0\n",
      "\t\tWRONG_REDUCE=0\n",
      "job output is in hdfs:///starwars/results/SW_EpisodeIV_res.txt\n",
      "Removing HDFS temp directory hdfs:///user/root/tmp/mrjob/most_talkative_characters.root.20231129.164817.992037...\n",
      "Removing temp directory /tmp/most_talkative_characters.root.20231129.164817.992037...\n"
     ]
    }
   ],
   "source": [
    "!python3 most_talkative_characters.py -r hadoop $hdfs_e4 --conf-path config-t1.conf --output $t1_hdfs_res_e4"
   ]
  },
  {
   "cell_type": "code",
   "execution_count": 125,
   "id": "52dd26d1-8ead-43bb-9fe0-6cb54eb158a9",
   "metadata": {},
   "outputs": [
    {
     "name": "stdout",
     "output_type": "stream",
     "text": [
      "Looking for hadoop binary in /opt/hadoop/bin...\n",
      "Found hadoop binary: /opt/hadoop/bin/hadoop\n",
      "Using Hadoop version 3.3.6\n",
      "Looking for Hadoop streaming jar in /opt/hadoop...\n",
      "Found Hadoop streaming jar: /opt/hadoop/share/hadoop/tools/lib/hadoop-streaming-3.3.6.jar\n",
      "Creating temp directory /tmp/most_talkative_characters.root.20231129.165210.819613\n",
      "uploading working dir files to hdfs:///user/root/tmp/mrjob/most_talkative_characters.root.20231129.165210.819613/files/wd...\n",
      "Copying other local files to hdfs:///user/root/tmp/mrjob/most_talkative_characters.root.20231129.165210.819613/files/\n",
      "Running step 1 of 2...\n",
      "  Unable to load native-hadoop library for your platform... using builtin-java classes where applicable\n",
      "  packageJobJar: [/tmp/hadoop-unjar8130186236309935760/] [] /tmp/streamjob6129611118415792693.jar tmpDir=null\n",
      "  Connecting to ResourceManager at resourcemanager/172.18.0.3:8032\n",
      "  Connecting to ResourceManager at resourcemanager/172.18.0.3:8032\n",
      "  Disabling Erasure Coding for path: /tmp/hadoop-yarn/staging/root/.staging/job_1701257956340_0014\n",
      "  Total input files to process : 1\n",
      "  number of splits:2\n",
      "  Submitting tokens for job: job_1701257956340_0014\n",
      "  Executing with tokens: []\n",
      "  resource-types.xml not found\n",
      "  Unable to find 'resource-types.xml'.\n",
      "  Submitted application application_1701257956340_0014\n",
      "  The url to track the job: http://resourcemanager:8088/proxy/application_1701257956340_0014/\n",
      "  Running job: job_1701257956340_0014\n",
      "  Job job_1701257956340_0014 running in uber mode : false\n",
      "   map 0% reduce 0%\n",
      "   map 50% reduce 0%\n",
      "   map 100% reduce 0%\n",
      "   map 100% reduce 50%\n",
      "   map 100% reduce 100%\n",
      "  Job job_1701257956340_0014 completed successfully\n",
      "  Output directory: hdfs:///user/root/tmp/mrjob/most_talkative_characters.root.20231129.165210.819613/step-output/0000\n",
      "Counters: 54\n",
      "\tFile Input Format Counters \n",
      "\t\tBytes Read=59583\n",
      "\tFile Output Format Counters \n",
      "\t\tBytes Written=891\n",
      "\tFile System Counters\n",
      "\t\tFILE: Number of bytes read=767\n",
      "\t\tFILE: Number of bytes written=1135256\n",
      "\t\tFILE: Number of large read operations=0\n",
      "\t\tFILE: Number of read operations=0\n",
      "\t\tFILE: Number of write operations=0\n",
      "\t\tHDFS: Number of bytes read=59777\n",
      "\t\tHDFS: Number of bytes read erasure-coded=0\n",
      "\t\tHDFS: Number of bytes written=891\n",
      "\t\tHDFS: Number of large read operations=0\n",
      "\t\tHDFS: Number of read operations=16\n",
      "\t\tHDFS: Number of write operations=4\n",
      "\tJob Counters \n",
      "\t\tLaunched map tasks=2\n",
      "\t\tLaunched reduce tasks=2\n",
      "\t\tRack-local map tasks=2\n",
      "\t\tTotal megabyte-milliseconds taken by all map tasks=3198976\n",
      "\t\tTotal megabyte-milliseconds taken by all reduce tasks=2629632\n",
      "\t\tTotal time spent by all map tasks (ms)=3124\n",
      "\t\tTotal time spent by all maps in occupied slots (ms)=6248\n",
      "\t\tTotal time spent by all reduce tasks (ms)=2568\n",
      "\t\tTotal time spent by all reduces in occupied slots (ms)=5136\n",
      "\t\tTotal vcore-milliseconds taken by all map tasks=3124\n",
      "\t\tTotal vcore-milliseconds taken by all reduce tasks=2568\n",
      "\tMap-Reduce Framework\n",
      "\t\tCPU time spent (ms)=1270\n",
      "\t\tCombine input records=840\n",
      "\t\tCombine output records=57\n",
      "\t\tFailed Shuffles=0\n",
      "\t\tGC time elapsed (ms)=125\n",
      "\t\tInput split bytes=194\n",
      "\t\tMap input records=840\n",
      "\t\tMap output bytes=8183\n",
      "\t\tMap output materialized bytes=779\n",
      "\t\tMap output records=840\n",
      "\t\tMerged Map outputs=4\n",
      "\t\tPeak Map Physical memory (bytes)=273952768\n",
      "\t\tPeak Map Virtual memory (bytes)=2477293568\n",
      "\t\tPeak Reduce Physical memory (bytes)=259530752\n",
      "\t\tPeak Reduce Virtual memory (bytes)=2487033856\n",
      "\t\tPhysical memory (bytes) snapshot=1063137280\n",
      "\t\tReduce input groups=46\n",
      "\t\tReduce input records=57\n",
      "\t\tReduce output records=46\n",
      "\t\tReduce shuffle bytes=779\n",
      "\t\tShuffled Maps =4\n",
      "\t\tSpilled Records=114\n",
      "\t\tTotal committed heap usage (bytes)=892862464\n",
      "\t\tVirtual memory (bytes) snapshot=9927606272\n",
      "\tShuffle Errors\n",
      "\t\tBAD_ID=0\n",
      "\t\tCONNECTION=0\n",
      "\t\tIO_ERROR=0\n",
      "\t\tWRONG_LENGTH=0\n",
      "\t\tWRONG_MAP=0\n",
      "\t\tWRONG_REDUCE=0\n",
      "Running step 2 of 2...\n",
      "  Unable to load native-hadoop library for your platform... using builtin-java classes where applicable\n",
      "  packageJobJar: [/tmp/hadoop-unjar1255766394604293013/] [] /tmp/streamjob1557915488343241036.jar tmpDir=null\n",
      "  Connecting to ResourceManager at resourcemanager/172.18.0.3:8032\n",
      "  Connecting to ResourceManager at resourcemanager/172.18.0.3:8032\n",
      "  Disabling Erasure Coding for path: /tmp/hadoop-yarn/staging/root/.staging/job_1701257956340_0015\n",
      "  Total input files to process : 2\n",
      "  number of splits:2\n",
      "  Submitting tokens for job: job_1701257956340_0015\n",
      "  Executing with tokens: []\n",
      "  resource-types.xml not found\n",
      "  Unable to find 'resource-types.xml'.\n",
      "  Submitted application application_1701257956340_0015\n",
      "  The url to track the job: http://resourcemanager:8088/proxy/application_1701257956340_0015/\n",
      "  Running job: job_1701257956340_0015\n",
      "  Job job_1701257956340_0015 running in uber mode : false\n",
      "   map 0% reduce 0%\n",
      "   map 50% reduce 0%\n",
      "   map 100% reduce 0%\n",
      "   map 100% reduce 50%\n",
      "   map 100% reduce 100%\n",
      "  Job job_1701257956340_0015 completed successfully\n",
      "  Output directory: hdfs:///starwars/results/SW_EpisodeV_res.txt\n",
      "Counters: 54\n",
      "\tFile Input Format Counters \n",
      "\t\tBytes Read=891\n",
      "\tFile Output Format Counters \n",
      "\t\tBytes Written=214\n",
      "\tFile System Counters\n",
      "\t\tFILE: Number of bytes read=995\n",
      "\t\tFILE: Number of bytes written=1133564\n",
      "\t\tFILE: Number of large read operations=0\n",
      "\t\tFILE: Number of read operations=0\n",
      "\t\tFILE: Number of write operations=0\n",
      "\t\tHDFS: Number of bytes read=1229\n",
      "\t\tHDFS: Number of bytes read erasure-coded=0\n",
      "\t\tHDFS: Number of bytes written=214\n",
      "\t\tHDFS: Number of large read operations=0\n",
      "\t\tHDFS: Number of read operations=16\n",
      "\t\tHDFS: Number of write operations=4\n",
      "\tJob Counters \n",
      "\t\tLaunched map tasks=2\n",
      "\t\tLaunched reduce tasks=2\n",
      "\t\tRack-local map tasks=2\n",
      "\t\tTotal megabyte-milliseconds taken by all map tasks=2795520\n",
      "\t\tTotal megabyte-milliseconds taken by all reduce tasks=2688000\n",
      "\t\tTotal time spent by all map tasks (ms)=2730\n",
      "\t\tTotal time spent by all maps in occupied slots (ms)=5460\n",
      "\t\tTotal time spent by all reduce tasks (ms)=2625\n",
      "\t\tTotal time spent by all reduces in occupied slots (ms)=5250\n",
      "\t\tTotal vcore-milliseconds taken by all map tasks=2730\n",
      "\t\tTotal vcore-milliseconds taken by all reduce tasks=2625\n",
      "\tMap-Reduce Framework\n",
      "\t\tCPU time spent (ms)=1050\n",
      "\t\tCombine input records=0\n",
      "\t\tCombine output records=0\n",
      "\t\tFailed Shuffles=0\n",
      "\t\tGC time elapsed (ms)=119\n",
      "\t\tInput split bytes=338\n",
      "\t\tMap input records=46\n",
      "\t\tMap output bytes=891\n",
      "\t\tMap output materialized bytes=1007\n",
      "\t\tMap output records=46\n",
      "\t\tMerged Map outputs=4\n",
      "\t\tPeak Map Physical memory (bytes)=258183168\n",
      "\t\tPeak Map Virtual memory (bytes)=2478600192\n",
      "\t\tPeak Reduce Physical memory (bytes)=263450624\n",
      "\t\tPeak Reduce Virtual memory (bytes)=2487603200\n",
      "\t\tPhysical memory (bytes) snapshot=1035153408\n",
      "\t\tReduce input groups=1\n",
      "\t\tReduce input records=46\n",
      "\t\tReduce output records=20\n",
      "\t\tReduce shuffle bytes=1007\n",
      "\t\tShuffled Maps =4\n",
      "\t\tSpilled Records=92\n",
      "\t\tTotal committed heap usage (bytes)=772800512\n",
      "\t\tVirtual memory (bytes) snapshot=9927344128\n",
      "\tShuffle Errors\n",
      "\t\tBAD_ID=0\n",
      "\t\tCONNECTION=0\n",
      "\t\tIO_ERROR=0\n",
      "\t\tWRONG_LENGTH=0\n",
      "\t\tWRONG_MAP=0\n",
      "\t\tWRONG_REDUCE=0\n",
      "job output is in hdfs:///starwars/results/SW_EpisodeV_res.txt\n",
      "Removing HDFS temp directory hdfs:///user/root/tmp/mrjob/most_talkative_characters.root.20231129.165210.819613...\n",
      "Removing temp directory /tmp/most_talkative_characters.root.20231129.165210.819613...\n"
     ]
    }
   ],
   "source": [
    "!python3 most_talkative_characters.py -r hadoop $hdfs_e5 --conf-path config-t1.conf --output $t1_hdfs_res_e5"
   ]
  },
  {
   "cell_type": "code",
   "execution_count": 126,
   "id": "b0bf7acc-1166-498c-ae48-46f60ceb004a",
   "metadata": {},
   "outputs": [
    {
     "name": "stdout",
     "output_type": "stream",
     "text": [
      "Looking for hadoop binary in /opt/hadoop/bin...\n",
      "Found hadoop binary: /opt/hadoop/bin/hadoop\n",
      "Using Hadoop version 3.3.6\n",
      "Looking for Hadoop streaming jar in /opt/hadoop...\n",
      "Found Hadoop streaming jar: /opt/hadoop/share/hadoop/tools/lib/hadoop-streaming-3.3.6.jar\n",
      "Creating temp directory /tmp/most_talkative_characters.root.20231129.165436.581167\n",
      "uploading working dir files to hdfs:///user/root/tmp/mrjob/most_talkative_characters.root.20231129.165436.581167/files/wd...\n",
      "Copying other local files to hdfs:///user/root/tmp/mrjob/most_talkative_characters.root.20231129.165436.581167/files/\n",
      "Running step 1 of 2...\n",
      "  Unable to load native-hadoop library for your platform... using builtin-java classes where applicable\n",
      "  packageJobJar: [/tmp/hadoop-unjar2897489328345726880/] [] /tmp/streamjob2869886251340831156.jar tmpDir=null\n",
      "  Connecting to ResourceManager at resourcemanager/172.18.0.3:8032\n",
      "  Connecting to ResourceManager at resourcemanager/172.18.0.3:8032\n",
      "  Disabling Erasure Coding for path: /tmp/hadoop-yarn/staging/root/.staging/job_1701257956340_0016\n",
      "  Total input files to process : 1\n",
      "  number of splits:2\n",
      "  Submitting tokens for job: job_1701257956340_0016\n",
      "  Executing with tokens: []\n",
      "  resource-types.xml not found\n",
      "  Unable to find 'resource-types.xml'.\n",
      "  Submitted application application_1701257956340_0016\n",
      "  The url to track the job: http://resourcemanager:8088/proxy/application_1701257956340_0016/\n",
      "  Running job: job_1701257956340_0016\n",
      "  Job job_1701257956340_0016 running in uber mode : false\n",
      "   map 0% reduce 0%\n",
      "   map 50% reduce 0%\n",
      "   map 100% reduce 0%\n",
      "   map 100% reduce 50%\n",
      "   map 100% reduce 100%\n",
      "  Job job_1701257956340_0016 completed successfully\n",
      "  Output directory: hdfs:///user/root/tmp/mrjob/most_talkative_characters.root.20231129.165436.581167/step-output/0000\n",
      "Counters: 54\n",
      "\tFile Input Format Counters \n",
      "\t\tBytes Read=52272\n",
      "\tFile Output Format Counters \n",
      "\t\tBytes Written=887\n",
      "\tFile System Counters\n",
      "\t\tFILE: Number of bytes read=741\n",
      "\t\tFILE: Number of bytes written=1135208\n",
      "\t\tFILE: Number of large read operations=0\n",
      "\t\tFILE: Number of read operations=0\n",
      "\t\tFILE: Number of write operations=0\n",
      "\t\tHDFS: Number of bytes read=52468\n",
      "\t\tHDFS: Number of bytes read erasure-coded=0\n",
      "\t\tHDFS: Number of bytes written=887\n",
      "\t\tHDFS: Number of large read operations=0\n",
      "\t\tHDFS: Number of read operations=16\n",
      "\t\tHDFS: Number of write operations=4\n",
      "\tJob Counters \n",
      "\t\tLaunched map tasks=2\n",
      "\t\tLaunched reduce tasks=2\n",
      "\t\tRack-local map tasks=2\n",
      "\t\tTotal megabyte-milliseconds taken by all map tasks=3416064\n",
      "\t\tTotal megabyte-milliseconds taken by all reduce tasks=2684928\n",
      "\t\tTotal time spent by all map tasks (ms)=3336\n",
      "\t\tTotal time spent by all maps in occupied slots (ms)=6672\n",
      "\t\tTotal time spent by all reduce tasks (ms)=2622\n",
      "\t\tTotal time spent by all reduces in occupied slots (ms)=5244\n",
      "\t\tTotal vcore-milliseconds taken by all map tasks=3336\n",
      "\t\tTotal vcore-milliseconds taken by all reduce tasks=2622\n",
      "\tMap-Reduce Framework\n",
      "\t\tCPU time spent (ms)=1330\n",
      "\t\tCombine input records=675\n",
      "\t\tCombine output records=55\n",
      "\t\tFailed Shuffles=0\n",
      "\t\tGC time elapsed (ms)=125\n",
      "\t\tInput split bytes=196\n",
      "\t\tMap input records=675\n",
      "\t\tMap output bytes=6812\n",
      "\t\tMap output materialized bytes=753\n",
      "\t\tMap output records=675\n",
      "\t\tMerged Map outputs=4\n",
      "\t\tPeak Map Physical memory (bytes)=328884224\n",
      "\t\tPeak Map Virtual memory (bytes)=2478313472\n",
      "\t\tPeak Reduce Physical memory (bytes)=257007616\n",
      "\t\tPeak Reduce Virtual memory (bytes)=2486484992\n",
      "\t\tPhysical memory (bytes) snapshot=1082224640\n",
      "\t\tReduce input groups=46\n",
      "\t\tReduce input records=55\n",
      "\t\tReduce output records=46\n",
      "\t\tReduce shuffle bytes=753\n",
      "\t\tShuffled Maps =4\n",
      "\t\tSpilled Records=110\n",
      "\t\tTotal committed heap usage (bytes)=913833984\n",
      "\t\tVirtual memory (bytes) snapshot=9928876032\n",
      "\tShuffle Errors\n",
      "\t\tBAD_ID=0\n",
      "\t\tCONNECTION=0\n",
      "\t\tIO_ERROR=0\n",
      "\t\tWRONG_LENGTH=0\n",
      "\t\tWRONG_MAP=0\n",
      "\t\tWRONG_REDUCE=0\n",
      "Running step 2 of 2...\n",
      "  Unable to load native-hadoop library for your platform... using builtin-java classes where applicable\n",
      "  packageJobJar: [/tmp/hadoop-unjar4798626828055810525/] [] /tmp/streamjob6834076360988841982.jar tmpDir=null\n",
      "  Connecting to ResourceManager at resourcemanager/172.18.0.3:8032\n",
      "  Connecting to ResourceManager at resourcemanager/172.18.0.3:8032\n",
      "  Disabling Erasure Coding for path: /tmp/hadoop-yarn/staging/root/.staging/job_1701257956340_0017\n",
      "  Total input files to process : 2\n",
      "  number of splits:3\n",
      "  Submitting tokens for job: job_1701257956340_0017\n",
      "  Executing with tokens: []\n",
      "  resource-types.xml not found\n",
      "  Unable to find 'resource-types.xml'.\n",
      "  Submitted application application_1701257956340_0017\n",
      "  The url to track the job: http://resourcemanager:8088/proxy/application_1701257956340_0017/\n",
      "  Running job: job_1701257956340_0017\n",
      "  Job job_1701257956340_0017 running in uber mode : false\n",
      "   map 0% reduce 0%\n",
      "   map 33% reduce 0%\n",
      "   map 67% reduce 0%\n",
      "   map 100% reduce 0%\n",
      "   map 100% reduce 50%\n",
      "   map 100% reduce 100%\n",
      "  Job job_1701257956340_0017 completed successfully\n",
      "  Output directory: hdfs:///starwars/results/SW_EpisodeVI_res.txt\n",
      "Counters: 54\n",
      "\tFile Input Format Counters \n",
      "\t\tBytes Read=975\n",
      "\tFile Output Format Counters \n",
      "\t\tBytes Written=232\n",
      "\tFile System Counters\n",
      "\t\tFILE: Number of bytes read=991\n",
      "\t\tFILE: Number of bytes written=1416503\n",
      "\t\tFILE: Number of large read operations=0\n",
      "\t\tFILE: Number of read operations=0\n",
      "\t\tFILE: Number of write operations=0\n",
      "\t\tHDFS: Number of bytes read=1482\n",
      "\t\tHDFS: Number of bytes read erasure-coded=0\n",
      "\t\tHDFS: Number of bytes written=232\n",
      "\t\tHDFS: Number of large read operations=0\n",
      "\t\tHDFS: Number of read operations=19\n",
      "\t\tHDFS: Number of write operations=4\n",
      "\tJob Counters \n",
      "\t\tLaunched map tasks=3\n",
      "\t\tLaunched reduce tasks=2\n",
      "\t\tRack-local map tasks=3\n",
      "\t\tTotal megabyte-milliseconds taken by all map tasks=4056064\n",
      "\t\tTotal megabyte-milliseconds taken by all reduce tasks=2900992\n",
      "\t\tTotal time spent by all map tasks (ms)=3961\n",
      "\t\tTotal time spent by all maps in occupied slots (ms)=7922\n",
      "\t\tTotal time spent by all reduce tasks (ms)=2833\n",
      "\t\tTotal time spent by all reduces in occupied slots (ms)=5666\n",
      "\t\tTotal vcore-milliseconds taken by all map tasks=3961\n",
      "\t\tTotal vcore-milliseconds taken by all reduce tasks=2833\n",
      "\tMap-Reduce Framework\n",
      "\t\tCPU time spent (ms)=1220\n",
      "\t\tCombine input records=0\n",
      "\t\tCombine output records=0\n",
      "\t\tFailed Shuffles=0\n",
      "\t\tGC time elapsed (ms)=159\n",
      "\t\tInput split bytes=507\n",
      "\t\tMap input records=46\n",
      "\t\tMap output bytes=887\n",
      "\t\tMap output materialized bytes=1015\n",
      "\t\tMap output records=46\n",
      "\t\tMerged Map outputs=6\n",
      "\t\tPeak Map Physical memory (bytes)=322760704\n",
      "\t\tPeak Map Virtual memory (bytes)=2478526464\n",
      "\t\tPeak Reduce Physical memory (bytes)=260292608\n",
      "\t\tPeak Reduce Virtual memory (bytes)=2486132736\n",
      "\t\tPhysical memory (bytes) snapshot=1416740864\n",
      "\t\tReduce input groups=1\n",
      "\t\tReduce input records=46\n",
      "\t\tReduce output records=20\n",
      "\t\tReduce shuffle bytes=1015\n",
      "\t\tShuffled Maps =6\n",
      "\t\tSpilled Records=92\n",
      "\t\tTotal committed heap usage (bytes)=1173356544\n",
      "\t\tVirtual memory (bytes) snapshot=12402016256\n",
      "\tShuffle Errors\n",
      "\t\tBAD_ID=0\n",
      "\t\tCONNECTION=0\n",
      "\t\tIO_ERROR=0\n",
      "\t\tWRONG_LENGTH=0\n",
      "\t\tWRONG_MAP=0\n",
      "\t\tWRONG_REDUCE=0\n",
      "job output is in hdfs:///starwars/results/SW_EpisodeVI_res.txt\n",
      "Removing HDFS temp directory hdfs:///user/root/tmp/mrjob/most_talkative_characters.root.20231129.165436.581167...\n",
      "Removing temp directory /tmp/most_talkative_characters.root.20231129.165436.581167...\n"
     ]
    }
   ],
   "source": [
    "!python3 most_talkative_characters.py -r hadoop $hdfs_e6 --conf-path config-t1.conf --output $t1_hdfs_res_e6"
   ]
  },
  {
   "cell_type": "markdown",
   "id": "59320201-ad91-4a07-a6e6-6306af113f43",
   "metadata": {},
   "source": [
    "По всем эпизодам"
   ]
  },
  {
   "cell_type": "code",
   "execution_count": 131,
   "id": "5207d282-8aaa-48ab-9821-97192b7bb6f2",
   "metadata": {},
   "outputs": [
    {
     "name": "stdout",
     "output_type": "stream",
     "text": [
      "Looking for hadoop binary in /opt/hadoop/bin...\n",
      "Found hadoop binary: /opt/hadoop/bin/hadoop\n",
      "Using Hadoop version 3.3.6\n",
      "Looking for Hadoop streaming jar in /opt/hadoop...\n",
      "Found Hadoop streaming jar: /opt/hadoop/share/hadoop/tools/lib/hadoop-streaming-3.3.6.jar\n",
      "Creating temp directory /tmp/most_talkative_characters.root.20231129.165525.996105\n",
      "uploading working dir files to hdfs:///user/root/tmp/mrjob/most_talkative_characters.root.20231129.165525.996105/files/wd...\n",
      "Copying other local files to hdfs:///user/root/tmp/mrjob/most_talkative_characters.root.20231129.165525.996105/files/\n",
      "Running step 1 of 2...\n",
      "  Unable to load native-hadoop library for your platform... using builtin-java classes where applicable\n",
      "  packageJobJar: [/tmp/hadoop-unjar3264290454754937876/] [] /tmp/streamjob5419003149763314898.jar tmpDir=null\n",
      "  Connecting to ResourceManager at resourcemanager/172.18.0.3:8032\n",
      "  Connecting to ResourceManager at resourcemanager/172.18.0.3:8032\n",
      "  Disabling Erasure Coding for path: /tmp/hadoop-yarn/staging/root/.staging/job_1701257956340_0018\n",
      "  Total input files to process : 3\n",
      "  number of splits:3\n",
      "  Submitting tokens for job: job_1701257956340_0018\n",
      "  Executing with tokens: []\n",
      "  resource-types.xml not found\n",
      "  Unable to find 'resource-types.xml'.\n",
      "  Submitted application application_1701257956340_0018\n",
      "  The url to track the job: http://resourcemanager:8088/proxy/application_1701257956340_0018/\n",
      "  Running job: job_1701257956340_0018\n",
      "  Job job_1701257956340_0018 running in uber mode : false\n",
      "   map 0% reduce 0%\n",
      "   map 33% reduce 0%\n",
      "   map 67% reduce 0%\n",
      "   map 100% reduce 0%\n",
      "   map 100% reduce 50%\n",
      "   map 100% reduce 100%\n",
      "  Job job_1701257956340_0018 completed successfully\n",
      "  Output directory: hdfs:///user/root/tmp/mrjob/most_talkative_characters.root.20231129.165525.996105/step-output/0000\n",
      "Counters: 54\n",
      "\tFile Input Format Counters \n",
      "\t\tBytes Read=181941\n",
      "\tFile Output Format Counters \n",
      "\t\tBytes Written=1922\n",
      "\tFile System Counters\n",
      "\t\tFILE: Number of bytes read=1886\n",
      "\t\tFILE: Number of bytes written=1421443\n",
      "\t\tFILE: Number of large read operations=0\n",
      "\t\tFILE: Number of read operations=0\n",
      "\t\tFILE: Number of write operations=0\n",
      "\t\tHDFS: Number of bytes read=182234\n",
      "\t\tHDFS: Number of bytes read erasure-coded=0\n",
      "\t\tHDFS: Number of bytes written=1922\n",
      "\t\tHDFS: Number of large read operations=0\n",
      "\t\tHDFS: Number of read operations=19\n",
      "\t\tHDFS: Number of write operations=4\n",
      "\tJob Counters \n",
      "\t\tLaunched map tasks=3\n",
      "\t\tLaunched reduce tasks=2\n",
      "\t\tRack-local map tasks=3\n",
      "\t\tTotal megabyte-milliseconds taken by all map tasks=4793344\n",
      "\t\tTotal megabyte-milliseconds taken by all reduce tasks=2692096\n",
      "\t\tTotal time spent by all map tasks (ms)=4681\n",
      "\t\tTotal time spent by all maps in occupied slots (ms)=9362\n",
      "\t\tTotal time spent by all reduce tasks (ms)=2629\n",
      "\t\tTotal time spent by all reduces in occupied slots (ms)=5258\n",
      "\t\tTotal vcore-milliseconds taken by all map tasks=4681\n",
      "\t\tTotal vcore-milliseconds taken by all reduce tasks=2629\n",
      "\tMap-Reduce Framework\n",
      "\t\tCPU time spent (ms)=1650\n",
      "\t\tCombine input records=2526\n",
      "\t\tCombine output records=141\n",
      "\t\tFailed Shuffles=0\n",
      "\t\tGC time elapsed (ms)=151\n",
      "\t\tInput split bytes=293\n",
      "\t\tMap input records=2526\n",
      "\t\tMap output bytes=24730\n",
      "\t\tMap output materialized bytes=1910\n",
      "\t\tMap output records=2526\n",
      "\t\tMerged Map outputs=6\n",
      "\t\tPeak Map Physical memory (bytes)=278007808\n",
      "\t\tPeak Map Virtual memory (bytes)=2478841856\n",
      "\t\tPeak Reduce Physical memory (bytes)=258957312\n",
      "\t\tPeak Reduce Virtual memory (bytes)=2486616064\n",
      "\t\tPhysical memory (bytes) snapshot=1316548608\n",
      "\t\tReduce input groups=99\n",
      "\t\tReduce input records=141\n",
      "\t\tReduce output records=99\n",
      "\t\tReduce shuffle bytes=1910\n",
      "\t\tShuffled Maps =6\n",
      "\t\tSpilled Records=282\n",
      "\t\tTotal committed heap usage (bytes)=1082130432\n",
      "\t\tVirtual memory (bytes) snapshot=12405817344\n",
      "\tShuffle Errors\n",
      "\t\tBAD_ID=0\n",
      "\t\tCONNECTION=0\n",
      "\t\tIO_ERROR=0\n",
      "\t\tWRONG_LENGTH=0\n",
      "\t\tWRONG_MAP=0\n",
      "\t\tWRONG_REDUCE=0\n",
      "Running step 2 of 2...\n",
      "  Unable to load native-hadoop library for your platform... using builtin-java classes where applicable\n",
      "  packageJobJar: [/tmp/hadoop-unjar4536380596255176333/] [] /tmp/streamjob2209739569487811494.jar tmpDir=null\n",
      "  Connecting to ResourceManager at resourcemanager/172.18.0.3:8032\n",
      "  Connecting to ResourceManager at resourcemanager/172.18.0.3:8032\n",
      "  Disabling Erasure Coding for path: /tmp/hadoop-yarn/staging/root/.staging/job_1701257956340_0019\n",
      "  Total input files to process : 2\n",
      "  number of splits:2\n",
      "  Submitting tokens for job: job_1701257956340_0019\n",
      "  Executing with tokens: []\n",
      "  resource-types.xml not found\n",
      "  Unable to find 'resource-types.xml'.\n",
      "  Submitted application application_1701257956340_0019\n",
      "  The url to track the job: http://resourcemanager:8088/proxy/application_1701257956340_0019/\n",
      "  Running job: job_1701257956340_0019\n",
      "  Job job_1701257956340_0019 running in uber mode : false\n",
      "   map 0% reduce 0%\n",
      "   map 50% reduce 0%\n",
      "   map 100% reduce 0%\n",
      "   map 100% reduce 50%\n",
      "   map 100% reduce 100%\n",
      "  Job job_1701257956340_0019 completed successfully\n",
      "  Output directory: hdfs:///starwars/results/SW_All_Episodes_res.txt\n",
      "Counters: 54\n",
      "\tFile Input Format Counters \n",
      "\t\tBytes Read=1922\n",
      "\tFile Output Format Counters \n",
      "\t\tBytes Written=229\n",
      "\tFile System Counters\n",
      "\t\tFILE: Number of bytes read=2132\n",
      "\t\tFILE: Number of bytes written=1135854\n",
      "\t\tFILE: Number of large read operations=0\n",
      "\t\tFILE: Number of read operations=0\n",
      "\t\tFILE: Number of write operations=0\n",
      "\t\tHDFS: Number of bytes read=2260\n",
      "\t\tHDFS: Number of bytes read erasure-coded=0\n",
      "\t\tHDFS: Number of bytes written=229\n",
      "\t\tHDFS: Number of large read operations=0\n",
      "\t\tHDFS: Number of read operations=16\n",
      "\t\tHDFS: Number of write operations=4\n",
      "\tJob Counters \n",
      "\t\tLaunched map tasks=2\n",
      "\t\tLaunched reduce tasks=2\n",
      "\t\tRack-local map tasks=2\n",
      "\t\tTotal megabyte-milliseconds taken by all map tasks=2863104\n",
      "\t\tTotal megabyte-milliseconds taken by all reduce tasks=2857984\n",
      "\t\tTotal time spent by all map tasks (ms)=2796\n",
      "\t\tTotal time spent by all maps in occupied slots (ms)=5592\n",
      "\t\tTotal time spent by all reduce tasks (ms)=2791\n",
      "\t\tTotal time spent by all reduces in occupied slots (ms)=5582\n",
      "\t\tTotal vcore-milliseconds taken by all map tasks=2796\n",
      "\t\tTotal vcore-milliseconds taken by all reduce tasks=2791\n",
      "\tMap-Reduce Framework\n",
      "\t\tCPU time spent (ms)=1090\n",
      "\t\tCombine input records=0\n",
      "\t\tCombine output records=0\n",
      "\t\tFailed Shuffles=0\n",
      "\t\tGC time elapsed (ms)=117\n",
      "\t\tInput split bytes=338\n",
      "\t\tMap input records=99\n",
      "\t\tMap output bytes=1922\n",
      "\t\tMap output materialized bytes=2144\n",
      "\t\tMap output records=99\n",
      "\t\tMerged Map outputs=4\n",
      "\t\tPeak Map Physical memory (bytes)=272060416\n",
      "\t\tPeak Map Virtual memory (bytes)=2478706688\n",
      "\t\tPeak Reduce Physical memory (bytes)=258842624\n",
      "\t\tPeak Reduce Virtual memory (bytes)=2487869440\n",
      "\t\tPhysical memory (bytes) snapshot=995299328\n",
      "\t\tReduce input groups=1\n",
      "\t\tReduce input records=99\n",
      "\t\tReduce output records=20\n",
      "\t\tReduce shuffle bytes=2144\n",
      "\t\tShuffled Maps =4\n",
      "\t\tSpilled Records=198\n",
      "\t\tTotal committed heap usage (bytes)=744488960\n",
      "\t\tVirtual memory (bytes) snapshot=9930473472\n",
      "\tShuffle Errors\n",
      "\t\tBAD_ID=0\n",
      "\t\tCONNECTION=0\n",
      "\t\tIO_ERROR=0\n",
      "\t\tWRONG_LENGTH=0\n",
      "\t\tWRONG_MAP=0\n",
      "\t\tWRONG_REDUCE=0\n",
      "job output is in hdfs:///starwars/results/SW_All_Episodes_res.txt\n",
      "Removing HDFS temp directory hdfs:///user/root/tmp/mrjob/most_talkative_characters.root.20231129.165525.996105...\n",
      "Removing temp directory /tmp/most_talkative_characters.root.20231129.165525.996105...\n"
     ]
    }
   ],
   "source": [
    "!python3 most_talkative_characters.py -r hadoop $hdfs_e4 $hdfs_e5 $hdfs_e6 --conf-path config-t1.conf --output $t1_hdfs_res_all"
   ]
  },
  {
   "cell_type": "markdown",
   "id": "ca6c19c1-a325-400e-87df-5d6e88cfa49c",
   "metadata": {},
   "source": [
    "### Просмотр результатов выполнения"
   ]
  },
  {
   "cell_type": "code",
   "execution_count": 98,
   "id": "c21765ae-4874-43a3-b617-be0df5a64d09",
   "metadata": {},
   "outputs": [
    {
     "name": "stdout",
     "output_type": "stream",
     "text": [
      "2023-11-29 19:24:21 WARN  NativeCodeLoader:60 - Unable to load native-hadoop library for your platform... using builtin-java classes where applicable\n",
      "\"LUKE\"\t494\n",
      "\"HAN\"\t460\n",
      "\"THREEPIO\"\t301\n",
      "\"LEIA\"\t227\n",
      "\"VADER\"\t140\n",
      "\"BEN\"\t115\n",
      "\"LANDO\"\t101\n",
      "\"RED\"\t52\n",
      "\"YODA\"\t49\n",
      "\"EMPEROR\"\t44\n",
      "\"BIGGS\"\t34\n",
      "\"WEDGE\"\t33\n",
      "\"PIETT\"\t31\n",
      "\"TARKIN\"\t28\n",
      "\"JABBA\"\t26\n",
      "\"OWEN\"\t25\n",
      "\"GOLD\"\t23\n",
      "\"CREATURE\"\t22\n",
      "\"TROOPER\"\t20\n",
      "\"OFFICER\"\t14\n"
     ]
    }
   ],
   "source": [
    "!hadoop fs -cat /starwars/results/SW_All_Episodes_res.txt/part-00000"
   ]
  },
  {
   "cell_type": "code",
   "execution_count": 100,
   "id": "06b72568-e174-4d43-ae0e-03fda15e17d4",
   "metadata": {},
   "outputs": [
    {
     "name": "stdout",
     "output_type": "stream",
     "text": [
      "2023-11-29 19:25:00 WARN  NativeCodeLoader:60 - Unable to load native-hadoop library for your platform... using builtin-java classes where applicable\n"
     ]
    }
   ],
   "source": [
    "!hadoop fs -cat /starwars/results/SW_All_Episodes_res.txt/part-00001"
   ]
  },
  {
   "cell_type": "markdown",
   "id": "f1b04504-9a36-421b-a089-c718c91b23cc",
   "metadata": {},
   "source": [
    "Все успешно. Результаты попали в одну часть."
   ]
  },
  {
   "cell_type": "markdown",
   "id": "a5cc9e22-8480-4b04-9d50-87e12ee4f789",
   "metadata": {},
   "source": [
    "### Скачивание файлов"
   ]
  },
  {
   "cell_type": "markdown",
   "id": "c5d3829c-7784-4f14-96a1-783c38fdbc83",
   "metadata": {},
   "source": [
    "Скачаем полученные в результате тестирования файлы в локально на компьютер"
   ]
  },
  {
   "cell_type": "code",
   "execution_count": 103,
   "id": "a8d07593-314b-45b5-882d-72c92319017a",
   "metadata": {},
   "outputs": [
    {
     "name": "stdout",
     "output_type": "stream",
     "text": [
      "2023-11-29 19:27:37 WARN  NativeCodeLoader:60 - Unable to load native-hadoop library for your platform... using builtin-java classes where applicable\n",
      "2023-11-29 19:27:38 WARN  NativeCodeLoader:60 - Unable to load native-hadoop library for your platform... using builtin-java classes where applicable\n",
      "2023-11-29 19:27:39 WARN  NativeCodeLoader:60 - Unable to load native-hadoop library for your platform... using builtin-java classes where applicable\n",
      "2023-11-29 19:27:40 WARN  NativeCodeLoader:60 - Unable to load native-hadoop library for your platform... using builtin-java classes where applicable\n"
     ]
    }
   ],
   "source": [
    "!hadoop fs -get hdfs://namenode:8020/starwars/results/SW_EpisodeIV_res.txt ./results/hdfs/SW_EpisodeIV_res.txt\n",
    "!hadoop fs -get hdfs://namenode:8020/starwars/results/SW_EpisodeV_res.txt ./results/hdfs/SW_EpisodeV_res.txt\n",
    "!hadoop fs -get hdfs://namenode:8020/starwars/results/SW_EpisodeVI_res.txt ./results/hdfs/SW_EpisodeVI_res.txt\n",
    "!hadoop fs -get hdfs://namenode:8020/starwars/results/SW_All_Episodes_res.txt ./results/hdfs/SW_All_Episodes_res.txt"
   ]
  },
  {
   "cell_type": "markdown",
   "id": "738dc711-e23a-444d-8203-c2605c038189",
   "metadata": {},
   "source": [
    "## Построение графиков"
   ]
  },
  {
   "cell_type": "code",
   "execution_count": 41,
   "id": "47c64207-0347-406e-a7e9-3fcb55c801ac",
   "metadata": {},
   "outputs": [],
   "source": [
    "from typing import Tuple, List"
   ]
  },
  {
   "cell_type": "code",
   "execution_count": 55,
   "id": "03c0fc96-04e7-4694-bab2-99f67eba54c1",
   "metadata": {},
   "outputs": [],
   "source": [
    "def results_parsing(res_file_path: str) -> Tuple[List, List]:\n",
    "    characters = []\n",
    "    phrases_counts = []\n",
    "\n",
    "    with open(res_file_path) as res_file:\n",
    "        for line in res_file:\n",
    "            line_words = line.split('\\t')\n",
    "\n",
    "            character = line_words[0].replace('\"', '')\n",
    "            characters.append(character)\n",
    "            \n",
    "            phrases_count = int(line_words[1].replace('\\n', ''))\n",
    "            phrases_counts.append(phrases_count)\n",
    "    return characters, phrases_counts"
   ]
  },
  {
   "cell_type": "code",
   "execution_count": 32,
   "id": "c539cbf9-b5fc-4b64-af4c-11039adee15d",
   "metadata": {},
   "outputs": [
    {
     "name": "stdout",
     "output_type": "stream",
     "text": [
      "Collecting matplotlib\n",
      "  Downloading matplotlib-3.8.2-cp310-cp310-manylinux_2_17_aarch64.manylinux2014_aarch64.whl (11.4 MB)\n",
      "\u001b[2K     \u001b[90m━━━━━━━━━━━━━━━━━━━━━━━━━━━━━━━━━━━━━━━━\u001b[0m \u001b[32m11.4/11.4 MB\u001b[0m \u001b[31m1.2 MB/s\u001b[0m eta \u001b[36m0:00:00\u001b[0m00:01\u001b[0m00:01\u001b[0m\n",
      "\u001b[?25hCollecting pyparsing>=2.3.1\n",
      "  Downloading pyparsing-3.1.1-py3-none-any.whl (103 kB)\n",
      "\u001b[2K     \u001b[90m━━━━━━━━━━━━━━━━━━━━━━━━━━━━━━━━━━━━━━━\u001b[0m \u001b[32m103.1/103.1 KB\u001b[0m \u001b[31m1.2 MB/s\u001b[0m eta \u001b[36m0:00:00\u001b[0ma \u001b[36m0:00:01\u001b[0m\n",
      "\u001b[?25hRequirement already satisfied: python-dateutil>=2.7 in /usr/local/lib/python3.10/dist-packages (from matplotlib) (2.8.2)\n",
      "Collecting fonttools>=4.22.0\n",
      "  Downloading fonttools-4.45.1-cp310-cp310-manylinux_2_17_aarch64.manylinux2014_aarch64.whl (4.5 MB)\n",
      "\u001b[2K     \u001b[90m━━━━━━━━━━━━━━━━━━━━━━━━━━━━━━━━━━━━━━━━\u001b[0m \u001b[32m4.5/4.5 MB\u001b[0m \u001b[31m876.6 kB/s\u001b[0m eta \u001b[36m0:00:00\u001b[0m00:01\u001b[0m00:01\u001b[0m\n",
      "\u001b[?25hCollecting contourpy>=1.0.1\n",
      "  Downloading contourpy-1.2.0-cp310-cp310-manylinux_2_17_aarch64.manylinux2014_aarch64.whl (293 kB)\n",
      "\u001b[2K     \u001b[90m━━━━━━━━━━━━━━━━━━━━━━━━━━━━━━━━━━━━━━━\u001b[0m \u001b[32m293.2/293.2 KB\u001b[0m \u001b[31m1.1 MB/s\u001b[0m eta \u001b[36m0:00:00\u001b[0ma \u001b[36m0:00:01\u001b[0m\n",
      "\u001b[?25hRequirement already satisfied: numpy<2,>=1.21 in /usr/local/lib/python3.10/dist-packages (from matplotlib) (1.26.2)\n",
      "Requirement already satisfied: packaging>=20.0 in /usr/local/lib/python3.10/dist-packages (from matplotlib) (23.2)\n",
      "Collecting kiwisolver>=1.3.1\n",
      "  Downloading kiwisolver-1.4.5-cp310-cp310-manylinux_2_17_aarch64.manylinux2014_aarch64.whl (1.4 MB)\n",
      "\u001b[2K     \u001b[90m━━━━━━━━━━━━━━━━━━━━━━━━━━━━━━━━━━━━━━━━\u001b[0m \u001b[32m1.4/1.4 MB\u001b[0m \u001b[31m1.2 MB/s\u001b[0m eta \u001b[36m0:00:00\u001b[0m00:01\u001b[0m00:01\u001b[0m\n",
      "\u001b[?25hCollecting cycler>=0.10\n",
      "  Downloading cycler-0.12.1-py3-none-any.whl (8.3 kB)\n",
      "Collecting pillow>=8\n",
      "  Downloading Pillow-10.1.0-cp310-cp310-manylinux_2_28_aarch64.whl (3.5 MB)\n",
      "\u001b[2K     \u001b[90m━━━━━━━━━━━━━━━━━━━━━━━━━━━━━━━━━━━━━━━━\u001b[0m \u001b[32m3.5/3.5 MB\u001b[0m \u001b[31m1.2 MB/s\u001b[0m eta \u001b[36m0:00:00\u001b[0m00:01\u001b[0m00:01\u001b[0m\n",
      "\u001b[?25hRequirement already satisfied: six>=1.5 in /usr/local/lib/python3.10/dist-packages (from python-dateutil>=2.7->matplotlib) (1.16.0)\n",
      "Installing collected packages: pyparsing, pillow, kiwisolver, fonttools, cycler, contourpy, matplotlib\n",
      "Successfully installed contourpy-1.2.0 cycler-0.12.1 fonttools-4.45.1 kiwisolver-1.4.5 matplotlib-3.8.2 pillow-10.1.0 pyparsing-3.1.1\n",
      "\u001b[33mWARNING: Running pip as the 'root' user can result in broken permissions and conflicting behaviour with the system package manager. It is recommended to use a virtual environment instead: https://pip.pypa.io/warnings/venv\u001b[0m\u001b[33m\n",
      "\u001b[0m"
     ]
    }
   ],
   "source": [
    "!pip install matplotlib"
   ]
  },
  {
   "cell_type": "code",
   "execution_count": 82,
   "id": "f88ea049-fbce-45a3-9434-a2fd53974a44",
   "metadata": {},
   "outputs": [],
   "source": [
    "from matplotlib import pyplot as plt\n",
    "\n",
    "def build_graphic(characters: List, phrases_counts: List):\n",
    "    plt.figure(figsize=(20,5))\n",
    "    plt.bar(characters, phrases_counts, width=0.6)\n",
    "    plt.xlabel('Character')\n",
    "    plt.ylabel('Number of phrases')\n",
    "    plt.title('Characters phrases counts')\n",
    "    plt.show()"
   ]
  },
  {
   "cell_type": "code",
   "execution_count": 46,
   "id": "b6b14397-50e1-4b85-b5ad-6e988bc6c5db",
   "metadata": {},
   "outputs": [],
   "source": [
    "def results_graphic(res_file_path: str):\n",
    "    characters, phrases_counts = results_parsing(res_file_path)\n",
    "    build_graphic(characters, phrases_counts)"
   ]
  },
  {
   "cell_type": "markdown",
   "id": "86f7dcfd-4657-43d7-ace8-cfa54cf6507c",
   "metadata": {},
   "source": [
    "Построим графики для каждого файла с результатами. Для каждого эпизода выведем график с результатами локального тестирования и график с результатами тестирования на кластере. Убедимся, что результаты совпадают."
   ]
  },
  {
   "cell_type": "code",
   "execution_count": 127,
   "id": "6dfb329a-0897-48ef-9191-4019d6409ba1",
   "metadata": {},
   "outputs": [
    {
     "data": {
      "image/png": "[encoded data removed]",
      "text/plain": [
       "<Figure size 1800x500 with 1 Axes>"
      ]
     },
     "metadata": {},
     "output_type": "display_data"
    }
   ],
   "source": [
    "results_graphic(t1_local_res_e4)"
   ]
  },
  {
   "cell_type": "code",
   "execution_count": 128,
   "id": "2e538101-0b63-46ee-89ad-28365fa98a99",
   "metadata": {},
   "outputs": [
    {
     "data": {
      "image/png": "[encoded data removed]",
      "text/plain": [
       "<Figure size 1800x500 with 1 Axes>"
      ]
     },
     "metadata": {},
     "output_type": "display_data"
    }
   ],
   "source": [
    "results_graphic(t1_local_res_e5)"
   ]
  },
  {
   "cell_type": "code",
   "execution_count": 129,
   "id": "568b2689-9c46-49d0-9a06-122569b640d8",
   "metadata": {},
   "outputs": [
    {
     "data": {
      "image/png": "[encoded data removed]",
      "text/plain": [
       "<Figure size 1800x500 with 1 Axes>"
      ]
     },
     "metadata": {},
     "output_type": "display_data"
    }
   ],
   "source": [
    "results_graphic(t1_local_res_e6)"
   ]
  },
  {
   "cell_type": "code",
   "execution_count": 130,
   "id": "eca7aba6-a3f8-4d20-b390-38a1c73bc0ef",
   "metadata": {},
   "outputs": [
    {
     "data": {
      "image/png": "[encoded data removed]",
      "text/plain": [
       "<Figure size 1800x500 with 1 Axes>"
      ]
     },
     "metadata": {},
     "output_type": "display_data"
    }
   ],
   "source": [
    "results_graphic(t1_local_res_all)"
   ]
  },
  {
   "cell_type": "markdown",
   "id": "5564670f-d5df-4d99-a4e1-a2f0a595e08f",
   "metadata": {},
   "source": [
    "## Задание 2"
   ]
  },
  {
   "cell_type": "markdown",
   "id": "51203cc2-3f35-4e0e-a322-2640af91d91c",
   "metadata": {},
   "source": [
    "## Скрипт-решение: самая длинная фраза каждого персонажа"
   ]
  },
  {
   "cell_type": "code",
   "execution_count": null,
   "id": "b31d0a1b-3a8c-4d15-9e28-6772680cb08c",
   "metadata": {},
   "outputs": [],
   "source": [
    "%%file most_talkative_characters.py\n",
    "# %%file is an Ipython magic function that saves the code cell as a file\n",
    "\n",
    "from mrjob.job import MRJob\n",
    "from mrjob.step import MRStep\n",
    "\n",
    "class MRLongestCharacterPhrase(MRJob):\n",
    "    def steps(self):\n",
    "        return [\n",
    "            MRStep(mapper=self.mapper_get_character_phrase,\n",
    "                   combiner=self.combiner_count_phrases,\n",
    "                   reducer=self.reducer_count_phrases),\n",
    "            MRStep(reducer=self.reducer_top_talkative_characters)\n",
    "        ]\n",
    "\n",
    "    def mapper_get_character_phrase(self, _, line):\n",
    "        line_words = line.replace('\"', '').split()\n",
    "        character = line_words[1]\n",
    "        phrase = ' '.join(line_words[2:])\n",
    "        yield (character, phrase)\n",
    "\n",
    "    def combiner_longest_phrase(self, character, phrases):\n",
    "        # optimization: longest character phrase we've seen so far\n",
    "        longest_character_phrase = max(phrases, key=len)\n",
    "        yield (character, longest_character_phrase)\n",
    "\n",
    "    def reducer_longest_phrase(self, character, longest_phrases):\n",
    "        # the longest character phrase among all data\n",
    "        longest_character_phrase = max(phrases, key=len)\n",
    "        yield None, (character, longest_character_phrase)\n",
    "\n",
    "    # discard the key; it is just None\n",
    "    def reducer_top_talkative_characters(self, _, character_phrases_count_pairs):\n",
    "        # each item of character_phrases_count_pairs is (character, total_phrases_count)\n",
    "        # convert to list bc 'generator' object is not subscriptable\n",
    "        character_phrases_count_pairs = list(character_phrases_count_pairs)\n",
    "        \n",
    "        # sort by total phrases count\n",
    "        character_phrases_count_pairs.sort(\n",
    "            key=lambda pair: pair[1],\n",
    "            reverse=True\n",
    "        )\n",
    "\n",
    "        # get top N talkative characters\n",
    "        top_talkative_characters = character_phrases_count_pairs[:TOP_N]\n",
    "        \n",
    "        # return the result\n",
    "        for character_count_pair in top_talkative_characters:\n",
    "            yield character_count_pair\n",
    "\n",
    "\n",
    "if __name__ == '__main__':\n",
    "    MRLongestCharacterPhrase.run()"
   ]
  }
 ],
 "metadata": {
  "kernelspec": {
   "display_name": "Python 3 (ipykernel)",
   "language": "python",
   "name": "python3"
  },
  "language_info": {
   "codemirror_mode": {
    "name": "ipython",
    "version": 3
   },
   "file_extension": ".py",
   "mimetype": "text/x-python",
   "name": "python",
   "nbconvert_exporter": "python",
   "pygments_lexer": "ipython3",
   "version": "3.10.12"
  }
 },
 "nbformat": 4,
 "nbformat_minor": 5
}
